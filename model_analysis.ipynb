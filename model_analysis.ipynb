{
 "cells": [
  {
   "cell_type": "code",
   "execution_count": 17,
   "metadata": {},
   "outputs": [],
   "source": [
    "import json\n",
    "\n",
    "from catalyst.dl import utils\n",
    "import numpy as np\n",
    "import pandas as pd\n",
    "from pathlib import Path\n",
    "from sklearn.model_selection import StratifiedKFold\n",
    "import torch\n",
    "from torch.utils.data import DataLoader\n",
    "from tqdm import tqdm\n",
    "# from torchcontrib.optim import SWA\n",
    "\n",
    "from constants import FilePaths, TGT_COLS\n",
    "from datasets import RNAAugDatav2\n",
    "from modellib import RNNmodels\n",
    "from nn_trainer import get_predictions, validation_metrics\n"
   ]
  },
  {
   "cell_type": "code",
   "execution_count": 2,
   "metadata": {},
   "outputs": [],
   "source": [
    "NUM_WORKERS = 8\n",
    "BATCH_SIZE = 32  # hparams.get(\"batch_size\", 32)\n",
    "FP = FilePaths(\"data\")\n",
    "\n",
    "model_path = Path(\"logs/filter__cnnlstm__posembv3\")\n",
    "# folds = model_path.glob(\"fold_*\")\n",
    "# folds = [int(fold.stem.split(\"_\")[1]) for fold in folds]\n",
    "folds = [0, 1, 2, 3, 4]\n",
    "with open(str(model_path / \"hparams.json\"), \"r\") as fp:\n",
    "    hparams = json.load(fp)\n",
    "\n",
    "train = pd.read_json(FP.train_json, lines=True)\n",
    "cvlist = list(\n",
    "    StratifiedKFold(5, shuffle=True, random_state=hparams.get(\"seed\")).split(\n",
    "        train, train[\"SN_filter\"]\n",
    "    )\n",
    ")\n",
    "\n",
    "device = utils.get_device()\n"
   ]
  },
  {
   "cell_type": "code",
   "execution_count": 4,
   "metadata": {},
   "outputs": [
    {
     "data": {
      "text/plain": [
       "(array([[1., 2.],\n",
       "        [1., 2.],\n",
       "        [1., 2.],\n",
       "        [1., 2.]]),\n",
       " array([[2., 1.],\n",
       "        [2., 1.],\n",
       "        [2., 1.],\n",
       "        [2., 1.]]))"
      ]
     },
     "execution_count": 4,
     "metadata": {},
     "output_type": "execute_result"
    }
   ],
   "source": [
    "a = np.ones(shape=(4, 2))\n",
    "a[:, 1] = 2\n",
    "a, a[:, [1, 0]]"
   ]
  },
  {
   "cell_type": "code",
   "execution_count": 33,
   "metadata": {},
   "outputs": [],
   "source": [
    "from pytorch_geometric_dataset import prepare_dataset\n",
    "from torch_geometric.data import DataLoader as GDataLoader\n",
    "from gnn_trainer import add_y_cat\n",
    "from modellib.graphmodel import MyDeeperGCN\n",
    "\n",
    "add_y_cat(train)\n",
    "cvlist2 = list(StratifiedKFold(5, shuffle=True, random_state=122345786).split(train, train[\"y_cat\"]))\n",
    "\n",
    "\n",
    "def get_predictions_gcn(model, loader, device):\n",
    "    model.eval()\n",
    "    model.to(device)\n",
    "    preds = []\n",
    "    with torch.no_grad():\n",
    "        for data in tqdm(loader):\n",
    "            data.to(device)\n",
    "            bs = data.batch[-1] + 1\n",
    "            b_preds = model(data)[data.test_mask]\n",
    "            b_preds = b_preds.reshape(bs, -1, 3)\n",
    "            b_preds = b_preds.cpu()\n",
    "            b_preds = b_preds.numpy()\n",
    "            preds.extend(b_preds)\n",
    "        preds = np.array(preds)[:, :, [0, 2, 1]]\n",
    "    return np.array(preds)\n",
    "\n",
    "\n",
    "def get_gcn_preds(folds, cvlist, HPARAMS, train):\n",
    "    val_preds = []\n",
    "    true_preds = []\n",
    "    sn_flags = []\n",
    "    for fold in folds:\n",
    "        val_idx = cvlist[fold][1]\n",
    "        vl = train.iloc[val_idx]\n",
    "        vl_ds = prepare_dataset(vl, False)\n",
    "        vl_dl = GDataLoader(vl_ds, shuffle=False, batch_size=8, num_workers=4)\n",
    "        model = MyDeeperGCN(\n",
    "            vl_ds[0].num_node_features,\n",
    "            vl_ds[0].num_edge_features,\n",
    "            node_hidden_channels=HPARAMS[\"node_hidden_channels\"],\n",
    "            edge_hidden_channels=HPARAMS[\"edge_hidden_channels\"],\n",
    "            num_layers=HPARAMS[\"num_layers\"],\n",
    "            dropout1=HPARAMS[\"dropout1\"],\n",
    "            dropout2=HPARAMS[\"dropout2\"],\n",
    "            dropout3=HPARAMS[\"dropout3\"],\n",
    "            T=HPARAMS[\"T\"],\n",
    "            hidden_channels3=HPARAMS[\"hidden_channels3\"],\n",
    "            num_classes=3,\n",
    "        )\n",
    "        model.load_state_dict(torch.load(f\"logs/gcn_model/model_state_{fold}.pt\", map_location=\"cpu\"))\n",
    "        preds = get_predictions_gcn(model, vl_dl, \"gpu\")\n",
    "        val_preds.extend(preds)\n",
    "        true_preds.extend(np.dstack((np.vstack(vl[col].values) for col in TGT_COLS)))\n",
    "        sn_flags.extend(vl[\"SN_filter\"].values.astype(bool))\n",
    "    return np.array(val_preds), np.array(true_preds), np.array(sn_flags)\n"
   ]
  },
  {
   "cell_type": "code",
   "execution_count": 29,
   "metadata": {},
   "outputs": [
    {
     "name": "stderr",
     "output_type": "stream",
     "text": [
      "100%|██████████| 60/60 [01:59<00:00,  1.99s/it]\n",
      "<ipython-input-24-0d2c2a4657b8>:52: FutureWarning:\n",
      "\n",
      "arrays to stack must be passed as a \"sequence\" type such as list or tuple. Support for non-sequence iterables such as generators is deprecated as of NumPy 1.16 and will raise an error in the future.\n",
      "\n",
      "100%|██████████| 60/60 [03:33<00:00,  3.55s/it]\n",
      "100%|██████████| 60/60 [01:51<00:00,  1.87s/it]\n"
     ]
    }
   ],
   "source": [
    "HPARAMS = {\n",
    "    \"nb_fold\": 5,\n",
    "    \"filter_noise\": True,\n",
    "    \"signal_to_noise_ratio\": 0.5,\n",
    "    \"num_epochs\": 100,\n",
    "    \"batch_size\": 8,\n",
    "    \"lr\": 5e-4,\n",
    "    \"wd\": 0,\n",
    "    \"num_layers\": 10,\n",
    "    \"node_hidden_channels\": 128,\n",
    "    \"edge_hidden_channels\": 32,\n",
    "    \"dropout1\": 0.1,\n",
    "    \"dropout2\": 0.1,\n",
    "    \"dropout3\": 0.1,\n",
    "    \"num_layers\": 10,\n",
    "    \"hidden_channels3\": 64,\n",
    "    \"T\": 3,\n",
    "    \"add_bp_master\": True,\n",
    "    \"add_pl_master\": True,\n",
    "    \"add_pl_pl\": True\n",
    "}\n",
    "val_preds5, true_preds5, sn_flags5 = get_gcn_preds([1, 2, 3, 4], cvlist2, HPARAMS, train)"
   ]
  },
  {
   "cell_type": "code",
   "execution_count": 30,
   "metadata": {},
   "outputs": [
    {
     "data": {
      "text/plain": [
       "((1440, 107, 3), (1440, 68, 3))"
      ]
     },
     "execution_count": 30,
     "metadata": {},
     "output_type": "execute_result"
    }
   ],
   "source": [
    "val_preds5.shape, true_preds5.shape"
   ]
  },
  {
   "cell_type": "code",
   "execution_count": 31,
   "metadata": {},
   "outputs": [
    {
     "name": "stdout",
     "output_type": "stream",
     "text": [
      "{'high_snr_reactivity': 0.20360028690908238, 'high_snr_deg_Mg_pH10': 0.2566712645880872, 'high_snr_deg_Mg_50C': 0.21570894345954442, 'low_snr_reactivity': 1.0277286331563482, 'low_snr_deg_Mg_pH10': 0.8857851814275922, 'low_snr_deg_Mg_50C': 1.2851696655739369, 'reactivity': 0.6218985454831267, 'deg_Mg_pH10': 0.5571801967047846, 'deg_Mg_50C': 0.7698835386478782, 'total_mcrmse': 0.6496540936119298, 'high_snr_mcrmse': 0.225326831652238, 'low_snr_mcrmse': 1.0662278267192924}\n"
     ]
    }
   ],
   "source": [
    "eval_results = validation_metrics(true_preds5, val_preds5[:, :68, :], sn_flags5)\n",
    "print(eval_results)"
   ]
  },
  {
   "cell_type": "code",
   "execution_count": 32,
   "metadata": {},
   "outputs": [
    {
     "name": "stderr",
     "output_type": "stream",
     "text": [
      "/home/mohsin_okcredit_in/projects/standford-covid-vaccine-kaggle/datasets.py:149: SettingWithCopyWarning:\n",
      "\n",
      "\n",
      "A value is trying to be set on a copy of a slice from a DataFrame.\n",
      "Try using .loc[row_indexer,col_indexer] = value instead\n",
      "\n",
      "See the caveats in the documentation: https://pandas.pydata.org/pandas-docs/stable/user_guide/indexing.html#returning-a-view-versus-a-copy\n",
      "\n",
      "/home/mohsin_okcredit_in/projects/standford-covid-vaccine-kaggle/datasets.py:181: FutureWarning:\n",
      "\n",
      "arrays to stack must be passed as a \"sequence\" type such as list or tuple. Support for non-sequence iterables such as generators is deprecated as of NumPy 1.16 and will raise an error in the future.\n",
      "\n",
      "100%|██████████| 15/15 [00:03<00:00,  4.47it/s]\n",
      "<ipython-input-32-d999efb7d0b2>:14: FutureWarning:\n",
      "\n",
      "arrays to stack must be passed as a \"sequence\" type such as list or tuple. Support for non-sequence iterables such as generators is deprecated as of NumPy 1.16 and will raise an error in the future.\n",
      "\n",
      "100%|██████████| 15/15 [00:03<00:00,  4.51it/s]\n",
      "100%|██████████| 15/15 [00:03<00:00,  4.54it/s]\n",
      "100%|██████████| 15/15 [00:03<00:00,  4.50it/s]\n",
      "100%|██████████| 15/15 [00:03<00:00,  4.51it/s]"
     ]
    },
    {
     "name": "stdout",
     "output_type": "stream",
     "text": [
      "{'high_snr_reactivity': 0.1905833862504503, 'high_snr_deg_Mg_pH10': 0.24332790586205372, 'high_snr_deg_Mg_50C': 0.20113309796245302, 'low_snr_reactivity': 1.0199495174715623, 'low_snr_deg_Mg_pH10': 0.8908970259160407, 'low_snr_deg_Mg_50C': 1.2654792706502962, 'reactivity': 0.612847378647991, 'deg_Mg_pH10': 0.5544407616816625, 'deg_Mg_50C': 0.7536158062923733, 'total_mcrmse': 0.6403013155406755, 'high_snr_mcrmse': 0.21168146335831903, 'low_snr_mcrmse': 1.0587752713459664}\n"
     ]
    },
    {
     "name": "stderr",
     "output_type": "stream",
     "text": [
      "\n"
     ]
    }
   ],
   "source": [
    "def get_val_preds(folds, cvlist, hparams, train):\n",
    "    val_preds = []\n",
    "    true_preds = []\n",
    "    sn_flags = []\n",
    "    for fold in folds:\n",
    "        val_idx = cvlist[fold][1]\n",
    "        vl = train.iloc[val_idx]\n",
    "        vl_ds = RNAAugDatav2(vl, targets=TGT_COLS, augment_strucures=False)\n",
    "        vl_dl = DataLoader(vl_ds, shuffle=False, drop_last=False, batch_size=BATCH_SIZE, num_workers=NUM_WORKERS)\n",
    "        model = getattr(RNNmodels, hparams.get(\"model_name\", \"RNAGRUModelv3\"))(hparams)\n",
    "        model.load_state_dict(torch.load(model_path / f\"fold_{fold}\" / \"checkpoints/best.pth\")[\"model_state_dict\"])\n",
    "        preds = get_predictions(model, vl_dl, device)\n",
    "        val_preds.extend(preds[:, :, : hparams[\"num_features\"]])\n",
    "        true_preds.extend(np.dstack((np.vstack(vl[col].values) for col in TGT_COLS)))\n",
    "        sn_flags.extend(vl[\"SN_filter\"].values.astype(bool))\n",
    "    return np.array(val_preds), np.array(true_preds), np.array(sn_flags)\n",
    "\n",
    "val_preds1, true_preds, sn_flags = get_val_preds(folds, cvlist, hparams, train)\n",
    "eval_results = validation_metrics(true_preds, val_preds1, sn_flags)\n",
    "print(eval_results)"
   ]
  },
  {
   "cell_type": "code",
   "execution_count": 5,
   "metadata": {},
   "outputs": [
    {
     "name": "stderr",
     "output_type": "stream",
     "text": [
      "100%|██████████| 15/15 [00:03<00:00,  4.64it/s]\n",
      "<ipython-input-3-e9acce519ff4>:13: FutureWarning:\n",
      "\n",
      "arrays to stack must be passed as a \"sequence\" type such as list or tuple. Support for non-sequence iterables such as generators is deprecated as of NumPy 1.16 and will raise an error in the future.\n",
      "\n",
      "100%|██████████| 15/15 [00:02<00:00,  5.20it/s]\n",
      "100%|██████████| 15/15 [00:03<00:00,  4.10it/s]\n",
      "100%|██████████| 15/15 [00:03<00:00,  4.42it/s]\n",
      "100%|██████████| 15/15 [00:03<00:00,  4.93it/s]\n"
     ]
    }
   ],
   "source": [
    "model_path = Path(\"logs/filter__cnnlstm__posembv5\")\n",
    "# folds = model_path.glob(\"fold_*\")\n",
    "# folds = [int(fold.stem.split(\"_\")[1]) for fold in folds]\n",
    "folds = [0, 1, 2, 3, 4]\n",
    "with open(str(model_path / \"hparams.json\"), \"r\") as fp:\n",
    "    hparams = json.load(fp)\n",
    "\n",
    "val_preds2, true_preds, sn_flags = get_val_preds(folds, cvlist, hparams, train)"
   ]
  },
  {
   "cell_type": "code",
   "execution_count": 6,
   "metadata": {},
   "outputs": [
    {
     "name": "stderr",
     "output_type": "stream",
     "text": [
      "100%|██████████| 15/15 [00:03<00:00,  4.54it/s]\n",
      "<ipython-input-3-e9acce519ff4>:13: FutureWarning:\n",
      "\n",
      "arrays to stack must be passed as a \"sequence\" type such as list or tuple. Support for non-sequence iterables such as generators is deprecated as of NumPy 1.16 and will raise an error in the future.\n",
      "\n",
      "100%|██████████| 15/15 [00:03<00:00,  3.84it/s]\n",
      "100%|██████████| 15/15 [00:03<00:00,  4.32it/s]\n",
      "100%|██████████| 15/15 [00:03<00:00,  4.90it/s]\n",
      "100%|██████████| 15/15 [00:03<00:00,  4.42it/s]\n"
     ]
    }
   ],
   "source": [
    "model_path = Path(\"logs/filter__cnnlstm__combinedconv6/\")\n",
    "# folds = model_path.glob(\"fold_*\")\n",
    "# folds = [int(fold.stem.split(\"_\")[1]) for fold in folds]\n",
    "folds = [0, 1, 2, 3, 4]\n",
    "with open(str(model_path / \"hparams.json\"), \"r\") as fp:\n",
    "    hparams = json.load(fp)\n",
    "\n",
    "val_preds3, true_preds, sn_flags = get_val_preds(folds, cvlist, hparams, train)"
   ]
  },
  {
   "cell_type": "code",
   "execution_count": 7,
   "metadata": {},
   "outputs": [
    {
     "name": "stderr",
     "output_type": "stream",
     "text": [
      "100%|██████████| 15/15 [00:03<00:00,  4.03it/s]\n",
      "<ipython-input-3-e9acce519ff4>:13: FutureWarning:\n",
      "\n",
      "arrays to stack must be passed as a \"sequence\" type such as list or tuple. Support for non-sequence iterables such as generators is deprecated as of NumPy 1.16 and will raise an error in the future.\n",
      "\n",
      "100%|██████████| 15/15 [00:02<00:00,  5.11it/s]\n",
      "100%|██████████| 15/15 [00:03<00:00,  4.32it/s]\n",
      "100%|██████████| 15/15 [00:03<00:00,  4.27it/s]\n",
      "100%|██████████| 15/15 [00:03<00:00,  4.61it/s]\n"
     ]
    },
    {
     "name": "stdout",
     "output_type": "stream",
     "text": [
      "{'high_snr_reactivity': 0.19289308529643573, 'high_snr_deg_Mg_pH10': 0.24367255303217233, 'high_snr_deg_Mg_50C': 0.2023337190441839, 'low_snr_reactivity': 1.0204350097836692, 'low_snr_deg_Mg_pH10': 0.8903349320299623, 'low_snr_deg_Mg_50C': 1.2624099655646859, 'reactivity': 0.6135984550370494, 'deg_Mg_pH10': 0.5542358303989348, 'deg_Mg_50C': 0.7520875311883221, 'total_mcrmse': 0.6399739388747688, 'high_snr_mcrmse': 0.2129664524575973, 'low_snr_mcrmse': 1.0577266357927726}\n"
     ]
    }
   ],
   "source": [
    "model_path = Path(\"logs/filter__cnnlstm__mcmsre/\")\n",
    "# folds = model_path.glob(\"fold_*\")\n",
    "# folds = [int(fold.stem.split(\"_\")[1]) for fold in folds]\n",
    "folds = [0, 1, 2, 3, 4]\n",
    "with open(str(model_path / \"hparams.json\"), \"r\") as fp:\n",
    "    hparams = json.load(fp)\n",
    "\n",
    "val_preds4, true_preds, sn_flags = get_val_preds(folds, cvlist, hparams, train)\n",
    "eval_results = validation_metrics(true_preds, val_preds4, sn_flags)\n",
    "print(eval_results)"
   ]
  },
  {
   "cell_type": "code",
   "execution_count": 8,
   "metadata": {},
   "outputs": [
    {
     "data": {
      "text/plain": [
       "<matplotlib.axes._subplots.AxesSubplot at 0x7f33bd3d1a90>"
      ]
     },
     "execution_count": 8,
     "metadata": {},
     "output_type": "execute_result"
    },
    {
     "data": {
      "image/png": "[encoded data removed]",
      "text/plain": [
       "<Figure size 720x576 with 1 Axes>"
      ]
     },
     "metadata": {
      "needs_background": "light"
     },
     "output_type": "display_data"
    }
   ],
   "source": [
    "import matplotlib.pyplot as plt\n",
    "import seaborn as sns\n",
    "plt.figure(figsize=(10, 8))\n",
    "sns.distplot(val_preds2.clip(-1, 3))\n",
    "sns.distplot(val_preds4.clip(-1, 3))"
   ]
  },
  {
   "cell_type": "code",
   "execution_count": 9,
   "metadata": {},
   "outputs": [
    {
     "data": {
      "text/plain": [
       "{'high_snr_reactivity': 0.1831247533832897,\n",
       " 'high_snr_deg_Mg_pH10': 0.2337602558744007,\n",
       " 'high_snr_deg_Mg_50C': 0.19268964715639253,\n",
       " 'low_snr_reactivity': 1.0185070035841162,\n",
       " 'low_snr_deg_Mg_pH10': 0.887784155381371,\n",
       " 'low_snr_deg_Mg_50C': 1.261579793855002,\n",
       " 'reactivity': 0.6105266626085191,\n",
       " 'deg_Mg_pH10': 0.5500103870768538,\n",
       " 'deg_Mg_50C': 0.7499368690769224,\n",
       " 'total_mcrmse': 0.6368246395874317,\n",
       " 'high_snr_mcrmse': 0.20319155213802764,\n",
       " 'low_snr_mcrmse': 1.0559569842734964}"
      ]
     },
     "execution_count": 9,
     "metadata": {},
     "output_type": "execute_result"
    }
   ],
   "source": [
    "eval_results = validation_metrics(true_preds, 0.25*val_preds1 + 0.25*val_preds2 + 0.25*val_preds3 + 0.25*val_preds4, sn_flags)\n",
    "eval_results"
   ]
  },
  {
   "cell_type": "code",
   "execution_count": 10,
   "metadata": {},
   "outputs": [
    {
     "name": "stdout",
     "output_type": "stream",
     "text": [
      "{'high_snr_reactivity': 0.19058338623653248, 'high_snr_deg_Mg_pH10': 0.24332790586632091, 'high_snr_deg_Mg_50C': 0.20113309799750037, 'low_snr_reactivity': 1.019949517488303, 'low_snr_deg_Mg_pH10': 0.8908970259113832, 'low_snr_deg_Mg_50C': 1.2654792706490383, 'reactivity': 0.6128473786545402, 'deg_Mg_pH10': 0.5544407616803733, 'deg_Mg_50C': 0.7536158062978524, 'total_mcrmse': 0.6403013155442553, 'high_snr_mcrmse': 0.2116814633667846, 'low_snr_mcrmse': 1.0587752713495748}\n"
     ]
    }
   ],
   "source": [
    "eval_results = validation_metrics(true_preds, val_preds1, sn_flags)\n",
    "print(eval_results)"
   ]
  },
  {
   "cell_type": "code",
   "execution_count": 11,
   "metadata": {},
   "outputs": [
    {
     "name": "stdout",
     "output_type": "stream",
     "text": [
      "{'high_snr_reactivity': 0.19085139931998235, 'high_snr_deg_Mg_pH10': 0.24121200399365753, 'high_snr_deg_Mg_50C': 0.20052853351058975, 'low_snr_reactivity': 1.0194442935615515, 'low_snr_deg_Mg_pH10': 0.8924958603671034, 'low_snr_deg_Mg_50C': 1.2622400497590156, 'reactivity': 0.6126184957682276, 'deg_Mg_pH10': 0.5546974700756073, 'deg_Mg_50C': 0.7516709396766943, 'total_mcrmse': 0.6396623018401765, 'high_snr_mcrmse': 0.21086397894140987, 'low_snr_mcrmse': 1.0580600678958902}\n"
     ]
    }
   ],
   "source": [
    "eval_results = validation_metrics(true_preds, val_preds2, sn_flags)\n",
    "print(eval_results)"
   ]
  },
  {
   "cell_type": "code",
   "execution_count": 12,
   "metadata": {},
   "outputs": [
    {
     "name": "stdout",
     "output_type": "stream",
     "text": [
      "{'high_snr_reactivity': 0.19254418445697627, 'high_snr_deg_Mg_pH10': 0.24387179709248244, 'high_snr_deg_Mg_50C': 0.20112398089808387, 'low_snr_reactivity': 1.0228021932831923, 'low_snr_deg_Mg_pH10': 0.8892629943747263, 'low_snr_deg_Mg_50C': 1.2651929812628646, 'reactivity': 0.6148564343666042, 'deg_Mg_pH10': 0.5537120684585873, 'deg_Mg_50C': 0.7534517457571273, 'total_mcrmse': 0.6406734161941062, 'high_snr_mcrmse': 0.21251332081584753, 'low_snr_mcrmse': 1.0590860563069278}\n"
     ]
    }
   ],
   "source": [
    "eval_results = validation_metrics(true_preds, val_preds3, sn_flags)\n",
    "print(eval_results)"
   ]
  },
  {
   "cell_type": "code",
   "execution_count": 13,
   "metadata": {},
   "outputs": [
    {
     "name": "stdout",
     "output_type": "stream",
     "text": [
      "{'high_snr_reactivity': 0.18452470617026645, 'high_snr_deg_Mg_pH10': 0.235435825061864, 'high_snr_deg_Mg_50C': 0.19402843622769822, 'low_snr_reactivity': 1.0188871958676524, 'low_snr_deg_Mg_pH10': 0.8884350400404724, 'low_snr_deg_Mg_50C': 1.2625850282152404, 'reactivity': 0.6110199059359241, 'deg_Mg_pH10': 0.5508380945479845, 'deg_Mg_50C': 0.7507366466777983, 'total_mcrmse': 0.6375315490539023, 'high_snr_mcrmse': 0.20466298915327621, 'low_snr_mcrmse': 1.0566357547077885}\n"
     ]
    }
   ],
   "source": [
    "val_preds = 0.33*val_preds1 + 0.34*val_preds2 + 0.33*val_preds3\n",
    "eval_results = validation_metrics(true_preds, val_preds, sn_flags)\n",
    "print(eval_results)"
   ]
  },
  {
   "cell_type": "code",
   "execution_count": 19,
   "metadata": {},
   "outputs": [],
   "source": [
    "test = pd.read_csv(\"data/submission_filter__cnnlstm__posembv3.csv\")"
   ]
  },
  {
   "cell_type": "code",
   "execution_count": 20,
   "metadata": {},
   "outputs": [
    {
     "data": {
      "text/html": [
       "<div>\n",
       "<style scoped>\n",
       "    .dataframe tbody tr th:only-of-type {\n",
       "        vertical-align: middle;\n",
       "    }\n",
       "\n",
       "    .dataframe tbody tr th {\n",
       "        vertical-align: top;\n",
       "    }\n",
       "\n",
       "    .dataframe thead th {\n",
       "        text-align: right;\n",
       "    }\n",
       "</style>\n",
       "<table border=\"1\" class=\"dataframe\">\n",
       "  <thead>\n",
       "    <tr style=\"text-align: right;\">\n",
       "      <th></th>\n",
       "      <th>id_seqpos</th>\n",
       "      <th>reactivity</th>\n",
       "      <th>deg_Mg_pH10</th>\n",
       "      <th>deg_Mg_50C</th>\n",
       "      <th>deg_pH10</th>\n",
       "      <th>deg_50C</th>\n",
       "    </tr>\n",
       "  </thead>\n",
       "  <tbody>\n",
       "    <tr>\n",
       "      <th>0</th>\n",
       "      <td>id_00073f8be_0</td>\n",
       "      <td>0.683116</td>\n",
       "      <td>0.616631</td>\n",
       "      <td>0.520960</td>\n",
       "      <td>-0.034667</td>\n",
       "      <td>0.004661</td>\n",
       "    </tr>\n",
       "    <tr>\n",
       "      <th>1</th>\n",
       "      <td>id_00073f8be_1</td>\n",
       "      <td>2.363307</td>\n",
       "      <td>2.824034</td>\n",
       "      <td>2.972511</td>\n",
       "      <td>-0.030310</td>\n",
       "      <td>0.058409</td>\n",
       "    </tr>\n",
       "    <tr>\n",
       "      <th>2</th>\n",
       "      <td>id_00073f8be_2</td>\n",
       "      <td>1.549000</td>\n",
       "      <td>0.496830</td>\n",
       "      <td>0.633059</td>\n",
       "      <td>-0.036957</td>\n",
       "      <td>0.056669</td>\n",
       "    </tr>\n",
       "    <tr>\n",
       "      <th>3</th>\n",
       "      <td>id_00073f8be_3</td>\n",
       "      <td>1.179283</td>\n",
       "      <td>0.943883</td>\n",
       "      <td>1.441261</td>\n",
       "      <td>-0.028975</td>\n",
       "      <td>0.065697</td>\n",
       "    </tr>\n",
       "    <tr>\n",
       "      <th>4</th>\n",
       "      <td>id_00073f8be_4</td>\n",
       "      <td>0.726645</td>\n",
       "      <td>0.511703</td>\n",
       "      <td>0.771562</td>\n",
       "      <td>-0.022503</td>\n",
       "      <td>0.053199</td>\n",
       "    </tr>\n",
       "  </tbody>\n",
       "</table>\n",
       "</div>"
      ],
      "text/plain": [
       "        id_seqpos  reactivity  deg_Mg_pH10  deg_Mg_50C  deg_pH10   deg_50C\n",
       "0  id_00073f8be_0    0.683116     0.616631    0.520960 -0.034667  0.004661\n",
       "1  id_00073f8be_1    2.363307     2.824034    2.972511 -0.030310  0.058409\n",
       "2  id_00073f8be_2    1.549000     0.496830    0.633059 -0.036957  0.056669\n",
       "3  id_00073f8be_3    1.179283     0.943883    1.441261 -0.028975  0.065697\n",
       "4  id_00073f8be_4    0.726645     0.511703    0.771562 -0.022503  0.053199"
      ]
     },
     "execution_count": 20,
     "metadata": {},
     "output_type": "execute_result"
    }
   ],
   "source": [
    "test.head()"
   ]
  },
  {
   "cell_type": "code",
   "execution_count": 12,
   "metadata": {},
   "outputs": [],
   "source": [
    "import matplotlib.pyplot as plt\n",
    "import seaborn as sns"
   ]
  },
  {
   "cell_type": "code",
   "execution_count": 13,
   "metadata": {},
   "outputs": [
    {
     "data": {
      "text/plain": [
       "<matplotlib.axes._subplots.AxesSubplot at 0x7fea08218100>"
      ]
     },
     "execution_count": 13,
     "metadata": {},
     "output_type": "execute_result"
    },
    {
     "data": {
      "image/png": "[encoded data removed]",
      "text/plain": [
       "<Figure size 720x720 with 1 Axes>"
      ]
     },
     "metadata": {
      "needs_background": "light"
     },
     "output_type": "display_data"
    }
   ],
   "source": [
    "plt.figure(figsize=(10, 10))\n",
    "sns.distplot(val_preds[:, :, 0].clip(-0.5, 4))\n",
    "sns.distplot(true_preds[:, :, 0].clip(-0.5, 4))\n",
    "sns.distplot(test.reactivity.values.clip(-0.5, 4))"
   ]
  },
  {
   "cell_type": "code",
   "execution_count": 13,
   "metadata": {},
   "outputs": [
    {
     "data": {
      "text/html": [
       "<div>\n",
       "<style scoped>\n",
       "    .dataframe tbody tr th:only-of-type {\n",
       "        vertical-align: middle;\n",
       "    }\n",
       "\n",
       "    .dataframe tbody tr th {\n",
       "        vertical-align: top;\n",
       "    }\n",
       "\n",
       "    .dataframe thead th {\n",
       "        text-align: right;\n",
       "    }\n",
       "</style>\n",
       "<table border=\"1\" class=\"dataframe\">\n",
       "  <thead>\n",
       "    <tr style=\"text-align: right;\">\n",
       "      <th></th>\n",
       "      <th>id_seqpos</th>\n",
       "      <th>reactivity</th>\n",
       "      <th>deg_Mg_pH10</th>\n",
       "      <th>deg_Mg_50C</th>\n",
       "      <th>deg_pH10</th>\n",
       "      <th>deg_50C</th>\n",
       "    </tr>\n",
       "  </thead>\n",
       "  <tbody>\n",
       "    <tr>\n",
       "      <th>0</th>\n",
       "      <td>id_00073f8be_0</td>\n",
       "      <td>0.683116</td>\n",
       "      <td>0.616631</td>\n",
       "      <td>0.520960</td>\n",
       "      <td>-0.034667</td>\n",
       "      <td>0.004661</td>\n",
       "    </tr>\n",
       "    <tr>\n",
       "      <th>4</th>\n",
       "      <td>id_00073f8be_4</td>\n",
       "      <td>0.726645</td>\n",
       "      <td>0.511703</td>\n",
       "      <td>0.771562</td>\n",
       "      <td>-0.022503</td>\n",
       "      <td>0.053199</td>\n",
       "    </tr>\n",
       "    <tr>\n",
       "      <th>5</th>\n",
       "      <td>id_00073f8be_5</td>\n",
       "      <td>0.607097</td>\n",
       "      <td>0.495142</td>\n",
       "      <td>0.664396</td>\n",
       "      <td>-0.026971</td>\n",
       "      <td>0.044734</td>\n",
       "    </tr>\n",
       "    <tr>\n",
       "      <th>6</th>\n",
       "      <td>id_00073f8be_6</td>\n",
       "      <td>0.797827</td>\n",
       "      <td>0.941696</td>\n",
       "      <td>1.083660</td>\n",
       "      <td>-0.025002</td>\n",
       "      <td>0.048043</td>\n",
       "    </tr>\n",
       "    <tr>\n",
       "      <th>7</th>\n",
       "      <td>id_00073f8be_7</td>\n",
       "      <td>0.768930</td>\n",
       "      <td>0.907591</td>\n",
       "      <td>0.958304</td>\n",
       "      <td>-0.023656</td>\n",
       "      <td>0.047586</td>\n",
       "    </tr>\n",
       "    <tr>\n",
       "      <th>15</th>\n",
       "      <td>id_00073f8be_15</td>\n",
       "      <td>0.683961</td>\n",
       "      <td>0.444687</td>\n",
       "      <td>0.382860</td>\n",
       "      <td>-0.021074</td>\n",
       "      <td>0.038887</td>\n",
       "    </tr>\n",
       "    <tr>\n",
       "      <th>16</th>\n",
       "      <td>id_00073f8be_16</td>\n",
       "      <td>0.775914</td>\n",
       "      <td>0.594282</td>\n",
       "      <td>0.477709</td>\n",
       "      <td>-0.019180</td>\n",
       "      <td>0.045744</td>\n",
       "    </tr>\n",
       "    <tr>\n",
       "      <th>22</th>\n",
       "      <td>id_00073f8be_22</td>\n",
       "      <td>0.795498</td>\n",
       "      <td>0.670959</td>\n",
       "      <td>0.282275</td>\n",
       "      <td>-0.019561</td>\n",
       "      <td>0.025371</td>\n",
       "    </tr>\n",
       "    <tr>\n",
       "      <th>23</th>\n",
       "      <td>id_00073f8be_23</td>\n",
       "      <td>0.729013</td>\n",
       "      <td>0.294134</td>\n",
       "      <td>0.268629</td>\n",
       "      <td>-0.029782</td>\n",
       "      <td>0.036259</td>\n",
       "    </tr>\n",
       "    <tr>\n",
       "      <th>33</th>\n",
       "      <td>id_00073f8be_33</td>\n",
       "      <td>0.568767</td>\n",
       "      <td>0.200895</td>\n",
       "      <td>0.153787</td>\n",
       "      <td>-0.038339</td>\n",
       "      <td>0.036955</td>\n",
       "    </tr>\n",
       "    <tr>\n",
       "      <th>35</th>\n",
       "      <td>id_00073f8be_35</td>\n",
       "      <td>0.517831</td>\n",
       "      <td>0.615464</td>\n",
       "      <td>0.499138</td>\n",
       "      <td>-0.033933</td>\n",
       "      <td>0.036613</td>\n",
       "    </tr>\n",
       "    <tr>\n",
       "      <th>39</th>\n",
       "      <td>id_00073f8be_39</td>\n",
       "      <td>0.761105</td>\n",
       "      <td>0.934599</td>\n",
       "      <td>0.919572</td>\n",
       "      <td>-0.036361</td>\n",
       "      <td>0.033986</td>\n",
       "    </tr>\n",
       "    <tr>\n",
       "      <th>40</th>\n",
       "      <td>id_00073f8be_40</td>\n",
       "      <td>0.731536</td>\n",
       "      <td>0.933726</td>\n",
       "      <td>0.868911</td>\n",
       "      <td>-0.030847</td>\n",
       "      <td>0.042337</td>\n",
       "    </tr>\n",
       "    <tr>\n",
       "      <th>44</th>\n",
       "      <td>id_00073f8be_44</td>\n",
       "      <td>0.563619</td>\n",
       "      <td>0.400090</td>\n",
       "      <td>0.576949</td>\n",
       "      <td>-0.035911</td>\n",
       "      <td>0.052505</td>\n",
       "    </tr>\n",
       "    <tr>\n",
       "      <th>45</th>\n",
       "      <td>id_00073f8be_45</td>\n",
       "      <td>0.527252</td>\n",
       "      <td>0.942680</td>\n",
       "      <td>1.046740</td>\n",
       "      <td>-0.023037</td>\n",
       "      <td>0.054308</td>\n",
       "    </tr>\n",
       "    <tr>\n",
       "      <th>48</th>\n",
       "      <td>id_00073f8be_48</td>\n",
       "      <td>0.624352</td>\n",
       "      <td>0.978466</td>\n",
       "      <td>0.980470</td>\n",
       "      <td>-0.027116</td>\n",
       "      <td>0.050967</td>\n",
       "    </tr>\n",
       "    <tr>\n",
       "      <th>51</th>\n",
       "      <td>id_00073f8be_51</td>\n",
       "      <td>0.736302</td>\n",
       "      <td>0.589855</td>\n",
       "      <td>0.757576</td>\n",
       "      <td>-0.034725</td>\n",
       "      <td>0.053782</td>\n",
       "    </tr>\n",
       "    <tr>\n",
       "      <th>52</th>\n",
       "      <td>id_00073f8be_52</td>\n",
       "      <td>0.534454</td>\n",
       "      <td>0.424137</td>\n",
       "      <td>0.557157</td>\n",
       "      <td>-0.034730</td>\n",
       "      <td>0.049982</td>\n",
       "    </tr>\n",
       "    <tr>\n",
       "      <th>60</th>\n",
       "      <td>id_00073f8be_60</td>\n",
       "      <td>0.579677</td>\n",
       "      <td>0.988208</td>\n",
       "      <td>1.149464</td>\n",
       "      <td>-0.034343</td>\n",
       "      <td>0.052895</td>\n",
       "    </tr>\n",
       "    <tr>\n",
       "      <th>61</th>\n",
       "      <td>id_00073f8be_61</td>\n",
       "      <td>0.667521</td>\n",
       "      <td>0.259874</td>\n",
       "      <td>0.326665</td>\n",
       "      <td>-0.030911</td>\n",
       "      <td>0.053604</td>\n",
       "    </tr>\n",
       "  </tbody>\n",
       "</table>\n",
       "</div>"
      ],
      "text/plain": [
       "          id_seqpos  reactivity  deg_Mg_pH10  deg_Mg_50C  deg_pH10   deg_50C\n",
       "0    id_00073f8be_0    0.683116     0.616631    0.520960 -0.034667  0.004661\n",
       "4    id_00073f8be_4    0.726645     0.511703    0.771562 -0.022503  0.053199\n",
       "5    id_00073f8be_5    0.607097     0.495142    0.664396 -0.026971  0.044734\n",
       "6    id_00073f8be_6    0.797827     0.941696    1.083660 -0.025002  0.048043\n",
       "7    id_00073f8be_7    0.768930     0.907591    0.958304 -0.023656  0.047586\n",
       "15  id_00073f8be_15    0.683961     0.444687    0.382860 -0.021074  0.038887\n",
       "16  id_00073f8be_16    0.775914     0.594282    0.477709 -0.019180  0.045744\n",
       "22  id_00073f8be_22    0.795498     0.670959    0.282275 -0.019561  0.025371\n",
       "23  id_00073f8be_23    0.729013     0.294134    0.268629 -0.029782  0.036259\n",
       "33  id_00073f8be_33    0.568767     0.200895    0.153787 -0.038339  0.036955\n",
       "35  id_00073f8be_35    0.517831     0.615464    0.499138 -0.033933  0.036613\n",
       "39  id_00073f8be_39    0.761105     0.934599    0.919572 -0.036361  0.033986\n",
       "40  id_00073f8be_40    0.731536     0.933726    0.868911 -0.030847  0.042337\n",
       "44  id_00073f8be_44    0.563619     0.400090    0.576949 -0.035911  0.052505\n",
       "45  id_00073f8be_45    0.527252     0.942680    1.046740 -0.023037  0.054308\n",
       "48  id_00073f8be_48    0.624352     0.978466    0.980470 -0.027116  0.050967\n",
       "51  id_00073f8be_51    0.736302     0.589855    0.757576 -0.034725  0.053782\n",
       "52  id_00073f8be_52    0.534454     0.424137    0.557157 -0.034730  0.049982\n",
       "60  id_00073f8be_60    0.579677     0.988208    1.149464 -0.034343  0.052895\n",
       "61  id_00073f8be_61    0.667521     0.259874    0.326665 -0.030911  0.053604"
      ]
     },
     "execution_count": 13,
     "metadata": {},
     "output_type": "execute_result"
    }
   ],
   "source": [
    "test.loc[(test.reactivity > 0.5) & (test.reactivity < 0.8)].head(20)"
   ]
  },
  {
   "cell_type": "code",
   "execution_count": 16,
   "metadata": {},
   "outputs": [
    {
     "data": {
      "text/plain": [
       "<matplotlib.axes._subplots.AxesSubplot at 0x7fe9726e7c10>"
      ]
     },
     "execution_count": 16,
     "metadata": {},
     "output_type": "execute_result"
    },
    {
     "data": {
      "image/png": "[encoded data removed]",
      "text/plain": [
       "<Figure size 432x288 with 1 Axes>"
      ]
     },
     "metadata": {
      "needs_background": "light"
     },
     "output_type": "display_data"
    }
   ],
   "source": [
    "sns.distplot((val_preds - true_preds).clip(-1, 1))"
   ]
  },
  {
   "cell_type": "code",
   "execution_count": 17,
   "metadata": {},
   "outputs": [
    {
     "data": {
      "text/plain": [
       "<matplotlib.axes._subplots.AxesSubplot at 0x7fe97296c460>"
      ]
     },
     "execution_count": 17,
     "metadata": {},
     "output_type": "execute_result"
    },
    {
     "data": {
      "image/png": "[encoded data removed]",
      "text/plain": [
       "<Figure size 432x288 with 1 Axes>"
      ]
     },
     "metadata": {
      "needs_background": "light"
     },
     "output_type": "display_data"
    }
   ],
   "source": [
    "sns.distplot(np.sqrt(true_preds.clip(0, 20)))"
   ]
  },
  {
   "cell_type": "code",
   "execution_count": 25,
   "metadata": {},
   "outputs": [
    {
     "data": {
      "text/plain": [
       "<matplotlib.axes._subplots.AxesSubplot at 0x7fe972ca6d30>"
      ]
     },
     "execution_count": 25,
     "metadata": {},
     "output_type": "execute_result"
    },
    {
     "data": {
      "image/png": "[encoded data removed]",
      "text/plain": [
       "<Figure size 432x288 with 1 Axes>"
      ]
     },
     "metadata": {
      "needs_background": "light"
     },
     "output_type": "display_data"
    }
   ],
   "source": [
    "y_sqrt = np.sign(true_preds) * np.sqrt(np.abs(true_preds))\n",
    "sns.distplot(y_sqrt.clip(-1, 3))"
   ]
  },
  {
   "cell_type": "code",
   "execution_count": 21,
   "metadata": {},
   "outputs": [
    {
     "data": {
      "text/plain": [
       "tensor(-1)"
      ]
     },
     "execution_count": 21,
     "metadata": {},
     "output_type": "execute_result"
    }
   ],
   "source": [
    "import torch\n",
    "torch.sign(torch.tensor(-2))"
   ]
  },
  {
   "cell_type": "code",
   "execution_count": 22,
   "metadata": {},
   "outputs": [],
   "source": [
    "a=np.array([1.222222222222223456, 2.3678999999999999877765])"
   ]
  },
  {
   "cell_type": "code",
   "execution_count": 23,
   "metadata": {},
   "outputs": [
    {
     "data": {
      "text/plain": [
       "array([1.2222222, 2.3679   ], dtype=float32)"
      ]
     },
     "execution_count": 23,
     "metadata": {},
     "output_type": "execute_result"
    }
   ],
   "source": [
    "a.astype('float32')"
   ]
  },
  {
   "cell_type": "code",
   "execution_count": 24,
   "metadata": {},
   "outputs": [
    {
     "data": {
      "text/plain": [
       "1.2222222222222234"
      ]
     },
     "execution_count": 24,
     "metadata": {},
     "output_type": "execute_result"
    }
   ],
   "source": [
    "a[0]"
   ]
  },
  {
   "cell_type": "code",
   "execution_count": null,
   "metadata": {},
   "outputs": [],
   "source": []
  }
 ],
 "metadata": {
  "kernelspec": {
   "display_name": "Python 3",
   "language": "python",
   "name": "python3"
  },
  "language_info": {
   "codemirror_mode": {
    "name": "ipython",
    "version": 3
   },
   "file_extension": ".py",
   "mimetype": "text/x-python",
   "name": "python",
   "nbconvert_exporter": "python",
   "pygments_lexer": "ipython3",
   "version": "3.8.3"
  }
 },
 "nbformat": 4,
 "nbformat_minor": 4
}
