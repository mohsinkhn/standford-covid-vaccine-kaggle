{
 "cells": [
  {
   "cell_type": "code",
   "execution_count": 2,
   "metadata": {},
   "outputs": [],
   "source": [
    "import argparse\n",
    "import json\n",
    "import os\n",
    "\n",
    "from catalyst import dl\n",
    "from catalyst.dl import utils\n",
    "import numpy as np\n",
    "import pandas as pd\n",
    "from pathlib import Path\n",
    "from sklearn.metrics import mean_squared_error\n",
    "from sklearn.model_selection import StratifiedKFold\n",
    "import torch\n",
    "from torch import nn\n",
    "from torch.utils.data import DataLoader\n",
    "\n",
    "# from torchcontrib.optim import SWA\n",
    "\n",
    "from constants import FilePaths, TGT_COLS\n",
    "from datasets import RNAAugDatav2\n",
    "from modellib import RNNmodels\n",
    "from nn_trainer import get_predictions, validation_metrics"
   ]
  },
  {
   "cell_type": "code",
   "execution_count": 3,
   "metadata": {},
   "outputs": [],
   "source": [
    "NUM_WORKERS = 8\n",
    "BATCH_SIZE = 96\n",
    "FP = FilePaths(\"data\")\n",
    "test = pd.read_json(FP.test_json, lines=True)\n",
    "public_test = test.loc[test.seq_length == 107]\n",
    "private_test = test.loc[test.seq_length == 130]"
   ]
  },
  {
   "cell_type": "code",
   "execution_count": 9,
   "metadata": {},
   "outputs": [],
   "source": [
    "mk_sub = pd.read_csv(\"data/submission_filter__cnnlstm__posembv5.csv\")\n",
    "mk_sub2 = pd.read_csv(\"data/submission_filter__cnnlstm__posembv3.csv\")\n",
    "mk_sub3 = pd.read_csv(\"data/submission_filter__cnnlstm__combinedconv6.csv\")\n",
    "mk_sub4 = pd.read_csv(\"data/submission_filter__cnnlstm__mcmsre.csv\")\n",
    "mk_sub5 = pd.read_csv(\"data/submission_gcn_draftv2.csv\")\n",
    "mk_sub6 = pd.read_csv(\"data/submission_gcn__transformer__hypernode__nobackedge.csv\")\n",
    "mk_sub7 = pd.read_csv(\"data/submission_gcn__transformer__hypernode__v2.csv\")"
   ]
  },
  {
   "cell_type": "code",
   "execution_count": 5,
   "metadata": {},
   "outputs": [
    {
     "data": {
      "text/html": [
       "<div>\n",
       "<style scoped>\n",
       "    .dataframe tbody tr th:only-of-type {\n",
       "        vertical-align: middle;\n",
       "    }\n",
       "\n",
       "    .dataframe tbody tr th {\n",
       "        vertical-align: top;\n",
       "    }\n",
       "\n",
       "    .dataframe thead th {\n",
       "        text-align: right;\n",
       "    }\n",
       "</style>\n",
       "<table border=\"1\" class=\"dataframe\">\n",
       "  <thead>\n",
       "    <tr style=\"text-align: right;\">\n",
       "      <th></th>\n",
       "      <th>id_seqpos</th>\n",
       "      <th>reactivity</th>\n",
       "      <th>deg_Mg_pH10</th>\n",
       "      <th>deg_pH10</th>\n",
       "      <th>deg_Mg_50C</th>\n",
       "      <th>deg_50C</th>\n",
       "    </tr>\n",
       "  </thead>\n",
       "  <tbody>\n",
       "    <tr>\n",
       "      <th>0</th>\n",
       "      <td>id_00073f8be_0</td>\n",
       "      <td>0.665048</td>\n",
       "      <td>0.667753</td>\n",
       "      <td>0</td>\n",
       "      <td>0.564560</td>\n",
       "      <td>0</td>\n",
       "    </tr>\n",
       "    <tr>\n",
       "      <th>1</th>\n",
       "      <td>id_00073f8be_1</td>\n",
       "      <td>2.395651</td>\n",
       "      <td>3.417017</td>\n",
       "      <td>0</td>\n",
       "      <td>3.297220</td>\n",
       "      <td>0</td>\n",
       "    </tr>\n",
       "    <tr>\n",
       "      <th>2</th>\n",
       "      <td>id_00073f8be_2</td>\n",
       "      <td>1.692726</td>\n",
       "      <td>0.727701</td>\n",
       "      <td>0</td>\n",
       "      <td>0.848402</td>\n",
       "      <td>0</td>\n",
       "    </tr>\n",
       "    <tr>\n",
       "      <th>3</th>\n",
       "      <td>id_00073f8be_3</td>\n",
       "      <td>1.339310</td>\n",
       "      <td>1.170051</td>\n",
       "      <td>0</td>\n",
       "      <td>1.674303</td>\n",
       "      <td>0</td>\n",
       "    </tr>\n",
       "    <tr>\n",
       "      <th>4</th>\n",
       "      <td>id_00073f8be_4</td>\n",
       "      <td>0.846256</td>\n",
       "      <td>0.605372</td>\n",
       "      <td>0</td>\n",
       "      <td>0.833034</td>\n",
       "      <td>0</td>\n",
       "    </tr>\n",
       "  </tbody>\n",
       "</table>\n",
       "</div>"
      ],
      "text/plain": [
       "        id_seqpos  reactivity  deg_Mg_pH10  deg_pH10  deg_Mg_50C  deg_50C\n",
       "0  id_00073f8be_0    0.665048     0.667753         0    0.564560        0\n",
       "1  id_00073f8be_1    2.395651     3.417017         0    3.297220        0\n",
       "2  id_00073f8be_2    1.692726     0.727701         0    0.848402        0\n",
       "3  id_00073f8be_3    1.339310     1.170051         0    1.674303        0\n",
       "4  id_00073f8be_4    0.846256     0.605372         0    0.833034        0"
      ]
     },
     "execution_count": 5,
     "metadata": {},
     "output_type": "execute_result"
    }
   ],
   "source": [
    "mk_sub5.head()"
   ]
  },
  {
   "cell_type": "code",
   "execution_count": 6,
   "metadata": {},
   "outputs": [],
   "source": [
    "pub_sub11 = pd.read_csv(\"data/submission_sahil_nikhil_lightgbm_241.csv\")\n",
    "pub_sub12 = pd.read_csv(\"data/GRU_CNN_v13_ensemble (1).csv\")\n",
    "pub_sub1 = pub_sub12.copy()\n",
    "for col in [\"reactivity\", \"deg_Mg_pH10\", \"deg_Mg_50C\"]:\n",
    "    pub_sub1[col] = pub_sub11[col] * 0.0 + pub_sub12[col] * 1.0\n",
    "\n",
    "pub_sub2 = pd.read_csv(\"data/submission_public_247.csv\")\n",
    "pub_sub3 = pd.read_csv(\"data/transformer_v2_sub (2).csv\")\n",
    "pub_sub4 = pd.read_csv(\"data/submission_deepergcn.csv\")"
   ]
  },
  {
   "cell_type": "code",
   "execution_count": 10,
   "metadata": {},
   "outputs": [],
   "source": [
    "pub_sub1 = pub_sub1.sort_values(by=\"id_seqpos\").reset_index(drop=True)\n",
    "pub_sub2 = pub_sub2.sort_values(by=\"id_seqpos\").reset_index(drop=True)\n",
    "pub_sub3 = pub_sub3.sort_values(by=\"id_seqpos\").reset_index(drop=True)\n",
    "pub_sub4 = pub_sub4.sort_values(by=\"id_seqpos\").reset_index(drop=True)\n",
    "mk_sub = mk_sub.sort_values(by=\"id_seqpos\").reset_index(drop=True)\n",
    "mk_sub2 = mk_sub2.sort_values(by=\"id_seqpos\").reset_index(drop=True)\n",
    "mk_sub3 = mk_sub3.sort_values(by=\"id_seqpos\").reset_index(drop=True)\n",
    "mk_sub4 = mk_sub4.sort_values(by=\"id_seqpos\").reset_index(drop=True)\n",
    "mk_sub5 = mk_sub5.sort_values(by=\"id_seqpos\").reset_index(drop=True)\n",
    "mk_sub6 = mk_sub6.sort_values(by=\"id_seqpos\").reset_index(drop=True)\n",
    "mk_sub7 = mk_sub7.sort_values(by=\"id_seqpos\").reset_index(drop=True)\n"
   ]
  },
  {
   "cell_type": "code",
   "execution_count": 14,
   "metadata": {},
   "outputs": [
    {
     "name": "stdout",
     "output_type": "stream",
     "text": [
      "SpearmanrResult(correlation=0.9811658284721952, pvalue=0.0)\n",
      "SpearmanrResult(correlation=0.9786554315469431, pvalue=0.0)\n",
      "SpearmanrResult(correlation=0.9826858612077535, pvalue=0.0)\n"
     ]
    }
   ],
   "source": [
    "from scipy.stats import spearmanr\n",
    "cond = np.array(pub_sub1.id_seqpos.str.split(\"_\").str.get(2)).astype(int)\n",
    "cond = cond < 81\n",
    "print(spearmanr(mk_sub6.loc[cond].reactivity.values, mk_sub5.loc[cond].reactivity.values))\n",
    "print(spearmanr(mk_sub7.loc[cond].reactivity.values, mk_sub5.loc[cond].reactivity.values))\n",
    "print(spearmanr(mk_sub7.loc[cond].reactivity.values, mk_sub6.loc[cond].reactivity.values))"
   ]
  },
  {
   "cell_type": "code",
   "execution_count": 16,
   "metadata": {},
   "outputs": [
    {
     "name": "stdout",
     "output_type": "stream",
     "text": [
      "SpearmanrResult(correlation=0.9946113461174219, pvalue=0.0)\n"
     ]
    },
    {
     "data": {
      "text/html": [
       "<div>\n",
       "<style scoped>\n",
       "    .dataframe tbody tr th:only-of-type {\n",
       "        vertical-align: middle;\n",
       "    }\n",
       "\n",
       "    .dataframe tbody tr th {\n",
       "        vertical-align: top;\n",
       "    }\n",
       "\n",
       "    .dataframe thead th {\n",
       "        text-align: right;\n",
       "    }\n",
       "</style>\n",
       "<table border=\"1\" class=\"dataframe\">\n",
       "  <thead>\n",
       "    <tr style=\"text-align: right;\">\n",
       "      <th></th>\n",
       "      <th>id_seqpos</th>\n",
       "      <th>reactivity</th>\n",
       "      <th>deg_Mg_pH10</th>\n",
       "      <th>deg_pH10</th>\n",
       "      <th>deg_Mg_50C</th>\n",
       "      <th>deg_50C</th>\n",
       "    </tr>\n",
       "  </thead>\n",
       "  <tbody>\n",
       "    <tr>\n",
       "      <th>0</th>\n",
       "      <td>id_00073f8be_0</td>\n",
       "      <td>0.664420</td>\n",
       "      <td>0.645763</td>\n",
       "      <td>0</td>\n",
       "      <td>0.549395</td>\n",
       "      <td>0</td>\n",
       "    </tr>\n",
       "    <tr>\n",
       "      <th>1</th>\n",
       "      <td>id_00073f8be_1</td>\n",
       "      <td>2.271343</td>\n",
       "      <td>3.208678</td>\n",
       "      <td>0</td>\n",
       "      <td>3.180809</td>\n",
       "      <td>0</td>\n",
       "    </tr>\n",
       "    <tr>\n",
       "      <th>2</th>\n",
       "      <td>id_00073f8be_10</td>\n",
       "      <td>0.272651</td>\n",
       "      <td>0.449055</td>\n",
       "      <td>0</td>\n",
       "      <td>0.288794</td>\n",
       "      <td>0</td>\n",
       "    </tr>\n",
       "    <tr>\n",
       "      <th>3</th>\n",
       "      <td>id_00073f8be_100</td>\n",
       "      <td>0.303941</td>\n",
       "      <td>0.492861</td>\n",
       "      <td>0</td>\n",
       "      <td>0.580561</td>\n",
       "      <td>0</td>\n",
       "    </tr>\n",
       "    <tr>\n",
       "      <th>4</th>\n",
       "      <td>id_00073f8be_101</td>\n",
       "      <td>0.534761</td>\n",
       "      <td>0.301490</td>\n",
       "      <td>0</td>\n",
       "      <td>0.354480</td>\n",
       "      <td>0</td>\n",
       "    </tr>\n",
       "  </tbody>\n",
       "</table>\n",
       "</div>"
      ],
      "text/plain": [
       "          id_seqpos  reactivity  deg_Mg_pH10  deg_pH10  deg_Mg_50C  deg_50C\n",
       "0    id_00073f8be_0    0.664420     0.645763         0    0.549395        0\n",
       "1    id_00073f8be_1    2.271343     3.208678         0    3.180809        0\n",
       "2   id_00073f8be_10    0.272651     0.449055         0    0.288794        0\n",
       "3  id_00073f8be_100    0.303941     0.492861         0    0.580561        0\n",
       "4  id_00073f8be_101    0.534761     0.301490         0    0.354480        0"
      ]
     },
     "execution_count": 16,
     "metadata": {},
     "output_type": "execute_result"
    }
   ],
   "source": [
    "mk_gcn = mk_sub5.copy()\n",
    "for col in [\"reactivity\", \"deg_Mg_pH10\", \"deg_Mg_50C\"]:\n",
    "    mk_gcn[col] = np.mean([mk_sub5[col], mk_sub6[col], mk_sub7[col]], 0)\n",
    "mk_gcn.to_csv(\"data/submission_mk_gcn_v2_3runs.csv\", index=False)\n",
    "print(spearmanr(mk_gcn.loc[cond].reactivity.values, mk_sub6.loc[cond].reactivity.values))\n",
    "mk_gcn.head()\n"
   ]
  },
  {
   "cell_type": "code",
   "execution_count": null,
   "metadata": {},
   "outputs": [],
   "source": [
    "mksub_gcn = np.mean([mk_sub5, mk_sub6])"
   ]
  },
  {
   "cell_type": "code",
   "execution_count": 77,
   "metadata": {},
   "outputs": [
    {
     "data": {
      "text/plain": [
       "['id', '00073f8be']"
      ]
     },
     "execution_count": 77,
     "metadata": {},
     "output_type": "execute_result"
    }
   ],
   "source": [
    "mk_sub.id_seqpos.iloc[0].split(\"_\")[:2]"
   ]
  },
  {
   "cell_type": "code",
   "execution_count": 78,
   "metadata": {},
   "outputs": [
    {
     "data": {
      "text/html": [
       "<div>\n",
       "<style scoped>\n",
       "    .dataframe tbody tr th:only-of-type {\n",
       "        vertical-align: middle;\n",
       "    }\n",
       "\n",
       "    .dataframe tbody tr th {\n",
       "        vertical-align: top;\n",
       "    }\n",
       "\n",
       "    .dataframe thead th {\n",
       "        text-align: right;\n",
       "    }\n",
       "</style>\n",
       "<table border=\"1\" class=\"dataframe\">\n",
       "  <thead>\n",
       "    <tr style=\"text-align: right;\">\n",
       "      <th></th>\n",
       "      <th>id_seqpos</th>\n",
       "      <th>reactivity</th>\n",
       "      <th>deg_Mg_pH10</th>\n",
       "      <th>deg_Mg_50C</th>\n",
       "      <th>deg_pH10</th>\n",
       "      <th>deg_50C</th>\n",
       "    </tr>\n",
       "  </thead>\n",
       "  <tbody>\n",
       "    <tr>\n",
       "      <th>0</th>\n",
       "      <td>id_00073f8be_0</td>\n",
       "      <td>0.688990</td>\n",
       "      <td>0.618457</td>\n",
       "      <td>0.528022</td>\n",
       "      <td>-0.034667</td>\n",
       "      <td>0.004661</td>\n",
       "    </tr>\n",
       "    <tr>\n",
       "      <th>1</th>\n",
       "      <td>id_00073f8be_1</td>\n",
       "      <td>2.216449</td>\n",
       "      <td>2.940250</td>\n",
       "      <td>3.083908</td>\n",
       "      <td>-0.030310</td>\n",
       "      <td>0.058409</td>\n",
       "    </tr>\n",
       "    <tr>\n",
       "      <th>2</th>\n",
       "      <td>id_00073f8be_10</td>\n",
       "      <td>0.467700</td>\n",
       "      <td>0.557841</td>\n",
       "      <td>0.528128</td>\n",
       "      <td>-0.024280</td>\n",
       "      <td>0.041675</td>\n",
       "    </tr>\n",
       "    <tr>\n",
       "      <th>3</th>\n",
       "      <td>id_00073f8be_100</td>\n",
       "      <td>0.267033</td>\n",
       "      <td>0.380665</td>\n",
       "      <td>0.471629</td>\n",
       "      <td>-0.036803</td>\n",
       "      <td>0.040534</td>\n",
       "    </tr>\n",
       "    <tr>\n",
       "      <th>4</th>\n",
       "      <td>id_00073f8be_101</td>\n",
       "      <td>0.449756</td>\n",
       "      <td>0.223306</td>\n",
       "      <td>0.279474</td>\n",
       "      <td>-0.036154</td>\n",
       "      <td>0.046067</td>\n",
       "    </tr>\n",
       "  </tbody>\n",
       "</table>\n",
       "</div>"
      ],
      "text/plain": [
       "          id_seqpos  reactivity  deg_Mg_pH10  deg_Mg_50C  deg_pH10   deg_50C\n",
       "0    id_00073f8be_0    0.688990     0.618457    0.528022 -0.034667  0.004661\n",
       "1    id_00073f8be_1    2.216449     2.940250    3.083908 -0.030310  0.058409\n",
       "2   id_00073f8be_10    0.467700     0.557841    0.528128 -0.024280  0.041675\n",
       "3  id_00073f8be_100    0.267033     0.380665    0.471629 -0.036803  0.040534\n",
       "4  id_00073f8be_101    0.449756     0.223306    0.279474 -0.036154  0.046067"
      ]
     },
     "execution_count": 78,
     "metadata": {},
     "output_type": "execute_result"
    }
   ],
   "source": [
    "mk_subv1v2 = mk_sub2.copy()\n",
    "for col in [\"reactivity\", \"deg_Mg_pH10\", \"deg_Mg_50C\"]:\n",
    "    mk_subv1v2[col] = mk_sub[col] * 0.25 + mk_sub2[col] * 0.25 + mk_sub3[col] * 0.25 + mk_sub4[col] * 0.25\n",
    "    \n",
    "mk_subv1v2.to_csv(\"data/submission_mk_blend_2032cv.csv\", index=False)\n",
    "mk_subv1v2.head()"
   ]
  },
  {
   "cell_type": "code",
   "execution_count": 79,
   "metadata": {},
   "outputs": [],
   "source": [
    "private_ids = set(private_test.id.tolist())\n",
    "mk_sub[\"is_private\"] = mk_sub.id_seqpos.apply(lambda x: \"_\".join(x.split(\"_\")[:2]) in private_ids)"
   ]
  },
  {
   "cell_type": "code",
   "execution_count": 80,
   "metadata": {},
   "outputs": [],
   "source": [
    "cond = np.array(pub_sub1.id_seqpos.str.split(\"_\").str.get(2)).astype(int)\n",
    "cond = cond < 68"
   ]
  },
  {
   "cell_type": "code",
   "execution_count": 81,
   "metadata": {},
   "outputs": [
    {
     "data": {
      "text/plain": [
       "SpearmanrResult(correlation=0.9752967498455463, pvalue=0.0)"
      ]
     },
     "execution_count": 81,
     "metadata": {},
     "output_type": "execute_result"
    }
   ],
   "source": [
    "from scipy.stats import spearmanr\n",
    "spearmanr(pub_sub1.loc[cond].reactivity.values, mk_subv1v2.loc[cond].reactivity.values)"
   ]
  },
  {
   "cell_type": "code",
   "execution_count": 82,
   "metadata": {},
   "outputs": [
    {
     "data": {
      "text/plain": [
       "SpearmanrResult(correlation=0.9624134553247614, pvalue=0.0)"
      ]
     },
     "execution_count": 82,
     "metadata": {},
     "output_type": "execute_result"
    }
   ],
   "source": [
    "spearmanr(pub_sub1.loc[cond].reactivity.values, mk_sub5.loc[cond].reactivity.values)"
   ]
  },
  {
   "cell_type": "code",
   "execution_count": 83,
   "metadata": {},
   "outputs": [
    {
     "data": {
      "text/plain": [
       "SpearmanrResult(correlation=0.9709288523827808, pvalue=0.0)"
      ]
     },
     "execution_count": 83,
     "metadata": {},
     "output_type": "execute_result"
    }
   ],
   "source": [
    "spearmanr(pub_sub3.loc[cond].reactivity, pub_sub1.loc[cond].reactivity)"
   ]
  },
  {
   "cell_type": "code",
   "execution_count": 84,
   "metadata": {},
   "outputs": [
    {
     "data": {
      "text/plain": [
       "SpearmanrResult(correlation=0.9620641726498925, pvalue=0.0)"
      ]
     },
     "execution_count": 84,
     "metadata": {},
     "output_type": "execute_result"
    }
   ],
   "source": [
    "spearmanr(pub_sub3.loc[cond].reactivity, mk_subv1v2.loc[cond].reactivity)"
   ]
  },
  {
   "cell_type": "code",
   "execution_count": 85,
   "metadata": {},
   "outputs": [
    {
     "data": {
      "text/plain": [
       "<matplotlib.legend.Legend at 0x7f4845155b20>"
      ]
     },
     "execution_count": 85,
     "metadata": {},
     "output_type": "execute_result"
    },
    {
     "data": {
      "image/png": "[encoded data removed]",
      "text/plain": [
       "<Figure size 720x720 with 1 Axes>"
      ]
     },
     "metadata": {
      "needs_background": "light"
     },
     "output_type": "display_data"
    }
   ],
   "source": [
    "import seaborn as sns\n",
    "import matplotlib.pyplot as plt\n",
    "plt.figure(figsize=(10, 10))\n",
    "sns.distplot(pub_sub1.loc[(mk_sub.is_private == 0) & cond, \"reactivity\"])\n",
    "sns.distplot(mk_sub5.loc[(mk_sub.is_private == 0) & cond, \"reactivity\"])\n",
    "sns.distplot(pub_sub3.loc[(mk_sub.is_private == 0) & cond, \"reactivity\"])\n",
    "sns.distplot(pub_sub2.loc[(mk_sub.is_private == 0) & cond, \"reactivity\"])\n",
    "\n",
    "plt.legend([\"sahil\", \"mohsin\", \"nikhil\", \"public247\"])"
   ]
  },
  {
   "cell_type": "code",
   "execution_count": 86,
   "metadata": {},
   "outputs": [
    {
     "data": {
      "text/plain": [
       "<matplotlib.legend.Legend at 0x7f4858483610>"
      ]
     },
     "execution_count": 86,
     "metadata": {},
     "output_type": "execute_result"
    },
    {
     "data": {
      "image/png": "[encoded data removed]",
      "text/plain": [
       "<Figure size 720x720 with 1 Axes>"
      ]
     },
     "metadata": {
      "needs_background": "light"
     },
     "output_type": "display_data"
    }
   ],
   "source": [
    "plt.figure(figsize=(10, 10))\n",
    "sns.distplot(pub_sub1.loc[(mk_sub.is_private == 1) & cond, \"reactivity\"])\n",
    "sns.distplot(mk_sub5.loc[(mk_sub.is_private == 1) & cond, \"reactivity\"])\n",
    "sns.distplot(pub_sub3.loc[(mk_sub.is_private == 1) & cond, \"reactivity\"])\n",
    "sns.distplot(pub_sub2.loc[(mk_sub.is_private == 1) & cond, \"reactivity\"])\n",
    "plt.legend([\"sahil\", \"mohsin\", \"nikhil\"])\n",
    "\n",
    "#submission = submission.sort_values(by=\"id_seqpos\").reset_index(drop=True)"
   ]
  },
  {
   "cell_type": "code",
   "execution_count": 87,
   "metadata": {},
   "outputs": [
    {
     "data": {
      "text/plain": [
       "SpearmanrResult(correlation=0.8456848716744891, pvalue=0.0)"
      ]
     },
     "execution_count": 87,
     "metadata": {},
     "output_type": "execute_result"
    }
   ],
   "source": [
    "spearmanr(pub_sub1.reactivity, pub_sub2.reactivity)"
   ]
  },
  {
   "cell_type": "code",
   "execution_count": 66,
   "metadata": {},
   "outputs": [
    {
     "data": {
      "text/plain": [
       "SpearmanrResult(correlation=0.002266042507045991, pvalue=0.1251578374019933)"
      ]
     },
     "execution_count": 66,
     "metadata": {},
     "output_type": "execute_result"
    }
   ],
   "source": [
    "spearmanr(pub_sub1.reactivity, pub_sub3.reactivity)"
   ]
  },
  {
   "cell_type": "code",
   "execution_count": 67,
   "metadata": {},
   "outputs": [
    {
     "data": {
      "text/plain": [
       "SpearmanrResult(correlation=-0.000481045886338678, pvalue=0.7447772695439483)"
      ]
     },
     "execution_count": 67,
     "metadata": {},
     "output_type": "execute_result"
    }
   ],
   "source": [
    "spearmanr(pub_sub1.reactivity, pub_sub4.reactivity)"
   ]
  },
  {
   "cell_type": "code",
   "execution_count": 68,
   "metadata": {},
   "outputs": [
    {
     "data": {
      "text/plain": [
       "SpearmanrResult(correlation=0.952907447196674, pvalue=0.0)"
      ]
     },
     "execution_count": 68,
     "metadata": {},
     "output_type": "execute_result"
    }
   ],
   "source": [
    "spearmanr(pub_sub2.reactivity, pub_sub4.reactivity)"
   ]
  },
  {
   "cell_type": "code",
   "execution_count": 69,
   "metadata": {},
   "outputs": [
    {
     "data": {
      "text/plain": [
       "428"
      ]
     },
     "execution_count": 69,
     "metadata": {},
     "output_type": "execute_result"
    }
   ],
   "source": [
    "sum(mk_subv1v2[\"reactivity\"] < 0.0)"
   ]
  },
  {
   "cell_type": "code",
   "execution_count": 88,
   "metadata": {},
   "outputs": [
    {
     "data": {
      "text/html": [
       "<div>\n",
       "<style scoped>\n",
       "    .dataframe tbody tr th:only-of-type {\n",
       "        vertical-align: middle;\n",
       "    }\n",
       "\n",
       "    .dataframe tbody tr th {\n",
       "        vertical-align: top;\n",
       "    }\n",
       "\n",
       "    .dataframe thead th {\n",
       "        text-align: right;\n",
       "    }\n",
       "</style>\n",
       "<table border=\"1\" class=\"dataframe\">\n",
       "  <thead>\n",
       "    <tr style=\"text-align: right;\">\n",
       "      <th></th>\n",
       "      <th>reactivity</th>\n",
       "      <th>deg_Mg_pH10</th>\n",
       "      <th>deg_Mg_50C</th>\n",
       "      <th>deg_50C</th>\n",
       "      <th>deg_pH10</th>\n",
       "      <th>id_seqpos</th>\n",
       "    </tr>\n",
       "  </thead>\n",
       "  <tbody>\n",
       "    <tr>\n",
       "      <th>0</th>\n",
       "      <td>0.683339</td>\n",
       "      <td>0.616022</td>\n",
       "      <td>0.529215</td>\n",
       "      <td>0.0</td>\n",
       "      <td>0.0</td>\n",
       "      <td>id_00073f8be_0</td>\n",
       "    </tr>\n",
       "    <tr>\n",
       "      <th>1</th>\n",
       "      <td>2.158210</td>\n",
       "      <td>3.018706</td>\n",
       "      <td>3.061719</td>\n",
       "      <td>0.0</td>\n",
       "      <td>0.0</td>\n",
       "      <td>id_00073f8be_1</td>\n",
       "    </tr>\n",
       "    <tr>\n",
       "      <th>2</th>\n",
       "      <td>0.349259</td>\n",
       "      <td>0.511643</td>\n",
       "      <td>0.418451</td>\n",
       "      <td>0.0</td>\n",
       "      <td>0.0</td>\n",
       "      <td>id_00073f8be_10</td>\n",
       "    </tr>\n",
       "    <tr>\n",
       "      <th>3</th>\n",
       "      <td>0.434994</td>\n",
       "      <td>0.572055</td>\n",
       "      <td>0.648264</td>\n",
       "      <td>0.0</td>\n",
       "      <td>0.0</td>\n",
       "      <td>id_00073f8be_100</td>\n",
       "    </tr>\n",
       "    <tr>\n",
       "      <th>4</th>\n",
       "      <td>0.635908</td>\n",
       "      <td>0.376267</td>\n",
       "      <td>0.459185</td>\n",
       "      <td>0.0</td>\n",
       "      <td>0.0</td>\n",
       "      <td>id_00073f8be_101</td>\n",
       "    </tr>\n",
       "  </tbody>\n",
       "</table>\n",
       "</div>"
      ],
      "text/plain": [
       "   reactivity  deg_Mg_pH10  deg_Mg_50C  deg_50C  deg_pH10         id_seqpos\n",
       "0    0.683339     0.616022    0.529215      0.0       0.0    id_00073f8be_0\n",
       "1    2.158210     3.018706    3.061719      0.0       0.0    id_00073f8be_1\n",
       "2    0.349259     0.511643    0.418451      0.0       0.0   id_00073f8be_10\n",
       "3    0.434994     0.572055    0.648264      0.0       0.0  id_00073f8be_100\n",
       "4    0.635908     0.376267    0.459185      0.0       0.0  id_00073f8be_101"
      ]
     },
     "execution_count": 88,
     "metadata": {},
     "output_type": "execute_result"
    }
   ],
   "source": [
    "submission = pub_sub1.copy()\n",
    "for col in [\"reactivity\", \"deg_Mg_pH10\", \"deg_Mg_50C\"]:\n",
    "     submission[col] = 0.3*pub_sub1[col] + 0.2*pub_sub3[col] + 0.3*mk_subv1v2[col] + 0.2*mk_sub5[col]\n",
    "submission.head()"
   ]
  },
  {
   "cell_type": "code",
   "execution_count": 89,
   "metadata": {},
   "outputs": [],
   "source": [
    "submission.to_csv('data/submission_30svv13_30mkv3_20svtfm_20mkgcn.csv', index=False)"
   ]
  },
  {
   "cell_type": "code",
   "execution_count": 31,
   "metadata": {},
   "outputs": [
    {
     "data": {
      "text/html": [
       "<div>\n",
       "<style scoped>\n",
       "    .dataframe tbody tr th:only-of-type {\n",
       "        vertical-align: middle;\n",
       "    }\n",
       "\n",
       "    .dataframe tbody tr th {\n",
       "        vertical-align: top;\n",
       "    }\n",
       "\n",
       "    .dataframe thead th {\n",
       "        text-align: right;\n",
       "    }\n",
       "</style>\n",
       "<table border=\"1\" class=\"dataframe\">\n",
       "  <thead>\n",
       "    <tr style=\"text-align: right;\">\n",
       "      <th></th>\n",
       "      <th>reactivity</th>\n",
       "      <th>deg_Mg_pH10</th>\n",
       "      <th>deg_Mg_50C</th>\n",
       "      <th>id_seqpos</th>\n",
       "      <th>deg_50C</th>\n",
       "      <th>deg_pH10</th>\n",
       "    </tr>\n",
       "  </thead>\n",
       "  <tbody>\n",
       "    <tr>\n",
       "      <th>0</th>\n",
       "      <td>0.751547</td>\n",
       "      <td>0.623109</td>\n",
       "      <td>0.534492</td>\n",
       "      <td>id_00073f8be_0</td>\n",
       "      <td>0</td>\n",
       "      <td>0</td>\n",
       "    </tr>\n",
       "    <tr>\n",
       "      <th>1</th>\n",
       "      <td>2.262539</td>\n",
       "      <td>3.046963</td>\n",
       "      <td>3.046512</td>\n",
       "      <td>id_00073f8be_1</td>\n",
       "      <td>0</td>\n",
       "      <td>0</td>\n",
       "    </tr>\n",
       "    <tr>\n",
       "      <th>2</th>\n",
       "      <td>0.356475</td>\n",
       "      <td>0.522828</td>\n",
       "      <td>0.440698</td>\n",
       "      <td>id_00073f8be_10</td>\n",
       "      <td>0</td>\n",
       "      <td>0</td>\n",
       "    </tr>\n",
       "    <tr>\n",
       "      <th>3</th>\n",
       "      <td>0.157809</td>\n",
       "      <td>0.181375</td>\n",
       "      <td>0.234997</td>\n",
       "      <td>id_00073f8be_100</td>\n",
       "      <td>0</td>\n",
       "      <td>0</td>\n",
       "    </tr>\n",
       "    <tr>\n",
       "      <th>4</th>\n",
       "      <td>0.361655</td>\n",
       "      <td>0.063647</td>\n",
       "      <td>0.109497</td>\n",
       "      <td>id_00073f8be_101</td>\n",
       "      <td>0</td>\n",
       "      <td>0</td>\n",
       "    </tr>\n",
       "  </tbody>\n",
       "</table>\n",
       "</div>"
      ],
      "text/plain": [
       "   reactivity  deg_Mg_pH10  deg_Mg_50C         id_seqpos  deg_50C  deg_pH10\n",
       "0    0.751547     0.623109    0.534492    id_00073f8be_0        0         0\n",
       "1    2.262539     3.046963    3.046512    id_00073f8be_1        0         0\n",
       "2    0.356475     0.522828    0.440698   id_00073f8be_10        0         0\n",
       "3    0.157809     0.181375    0.234997  id_00073f8be_100        0         0\n",
       "4    0.361655     0.063647    0.109497  id_00073f8be_101        0         0"
      ]
     },
     "execution_count": 31,
     "metadata": {},
     "output_type": "execute_result"
    }
   ],
   "source": [
    "submission = pub_sub1.copy()\n",
    "for col in [\"reactivity\", \"deg_Mg_pH10\", \"deg_Mg_50C\"]:\n",
    "     submission[col] = 0.25*pub_sub1[col] + 0.25*pub_sub2[col] + 0.3*mk_subv1v2[col] + 0.1*pub_sub3[col] + 0.1*pub_sub4[col]\n",
    "submission.head()"
   ]
  },
  {
   "cell_type": "code",
   "execution_count": 33,
   "metadata": {},
   "outputs": [],
   "source": [
    "submission.to_csv('data/submission_25sv_30mk_25pub_10nnm_10gcn.csv', index=False)"
   ]
  },
  {
   "cell_type": "code",
   "execution_count": 48,
   "metadata": {},
   "outputs": [
    {
     "data": {
      "text/html": [
       "<div>\n",
       "<style scoped>\n",
       "    .dataframe tbody tr th:only-of-type {\n",
       "        vertical-align: middle;\n",
       "    }\n",
       "\n",
       "    .dataframe tbody tr th {\n",
       "        vertical-align: top;\n",
       "    }\n",
       "\n",
       "    .dataframe thead th {\n",
       "        text-align: right;\n",
       "    }\n",
       "</style>\n",
       "<table border=\"1\" class=\"dataframe\">\n",
       "  <thead>\n",
       "    <tr style=\"text-align: right;\">\n",
       "      <th></th>\n",
       "      <th>reactivity</th>\n",
       "      <th>deg_Mg_pH10</th>\n",
       "      <th>deg_Mg_50C</th>\n",
       "      <th>id_seqpos</th>\n",
       "      <th>deg_50C</th>\n",
       "      <th>deg_pH10</th>\n",
       "    </tr>\n",
       "  </thead>\n",
       "  <tbody>\n",
       "    <tr>\n",
       "      <th>0</th>\n",
       "      <td>0.768850</td>\n",
       "      <td>0.620635</td>\n",
       "      <td>0.538276</td>\n",
       "      <td>id_00073f8be_0</td>\n",
       "      <td>0</td>\n",
       "      <td>0</td>\n",
       "    </tr>\n",
       "    <tr>\n",
       "      <th>1</th>\n",
       "      <td>2.329552</td>\n",
       "      <td>3.113950</td>\n",
       "      <td>3.088774</td>\n",
       "      <td>id_00073f8be_1</td>\n",
       "      <td>0</td>\n",
       "      <td>0</td>\n",
       "    </tr>\n",
       "    <tr>\n",
       "      <th>2</th>\n",
       "      <td>0.354250</td>\n",
       "      <td>0.530385</td>\n",
       "      <td>0.439045</td>\n",
       "      <td>id_00073f8be_10</td>\n",
       "      <td>0</td>\n",
       "      <td>0</td>\n",
       "    </tr>\n",
       "    <tr>\n",
       "      <th>3</th>\n",
       "      <td>0.166879</td>\n",
       "      <td>0.188463</td>\n",
       "      <td>0.240570</td>\n",
       "      <td>id_00073f8be_100</td>\n",
       "      <td>0</td>\n",
       "      <td>0</td>\n",
       "    </tr>\n",
       "    <tr>\n",
       "      <th>4</th>\n",
       "      <td>0.387305</td>\n",
       "      <td>0.068990</td>\n",
       "      <td>0.108982</td>\n",
       "      <td>id_00073f8be_101</td>\n",
       "      <td>0</td>\n",
       "      <td>0</td>\n",
       "    </tr>\n",
       "  </tbody>\n",
       "</table>\n",
       "</div>"
      ],
      "text/plain": [
       "   reactivity  deg_Mg_pH10  deg_Mg_50C         id_seqpos  deg_50C  deg_pH10\n",
       "0    0.768850     0.620635    0.538276    id_00073f8be_0        0         0\n",
       "1    2.329552     3.113950    3.088774    id_00073f8be_1        0         0\n",
       "2    0.354250     0.530385    0.439045   id_00073f8be_10        0         0\n",
       "3    0.166879     0.188463    0.240570  id_00073f8be_100        0         0\n",
       "4    0.387305     0.068990    0.108982  id_00073f8be_101        0         0"
      ]
     },
     "execution_count": 48,
     "metadata": {},
     "output_type": "execute_result"
    }
   ],
   "source": [
    "for col in [\"reactivity\", \"deg_Mg_pH10\", \"deg_Mg_50C\"]:\n",
    "     submission[col] = 0.3*pub_sub1[col] + 0.2*pub_sub2[col] + 0.3*mk_subv1v2[col] + 0.05*pub_sub3[col] + 0.05*pub_sub4[col]\n",
    "submission.head()"
   ]
  },
  {
   "cell_type": "code",
   "execution_count": 49,
   "metadata": {},
   "outputs": [],
   "source": [
    "submission.to_csv('data/submission_30sv1113_30mk_30pub_5nm_5gcn.csv', index=False)"
   ]
  },
  {
   "cell_type": "code",
   "execution_count": 50,
   "metadata": {},
   "outputs": [
    {
     "data": {
      "text/html": [
       "<div>\n",
       "<style scoped>\n",
       "    .dataframe tbody tr th:only-of-type {\n",
       "        vertical-align: middle;\n",
       "    }\n",
       "\n",
       "    .dataframe tbody tr th {\n",
       "        vertical-align: top;\n",
       "    }\n",
       "\n",
       "    .dataframe thead th {\n",
       "        text-align: right;\n",
       "    }\n",
       "</style>\n",
       "<table border=\"1\" class=\"dataframe\">\n",
       "  <thead>\n",
       "    <tr style=\"text-align: right;\">\n",
       "      <th></th>\n",
       "      <th>reactivity</th>\n",
       "      <th>deg_Mg_pH10</th>\n",
       "      <th>deg_Mg_50C</th>\n",
       "      <th>id_seqpos</th>\n",
       "      <th>deg_50C</th>\n",
       "      <th>deg_pH10</th>\n",
       "    </tr>\n",
       "  </thead>\n",
       "  <tbody>\n",
       "    <tr>\n",
       "      <th>0</th>\n",
       "      <td>0.759482</td>\n",
       "      <td>0.609955</td>\n",
       "      <td>0.535987</td>\n",
       "      <td>id_00073f8be_0</td>\n",
       "      <td>0</td>\n",
       "      <td>0</td>\n",
       "    </tr>\n",
       "    <tr>\n",
       "      <th>1</th>\n",
       "      <td>2.332129</td>\n",
       "      <td>3.086480</td>\n",
       "      <td>3.073632</td>\n",
       "      <td>id_00073f8be_1</td>\n",
       "      <td>0</td>\n",
       "      <td>0</td>\n",
       "    </tr>\n",
       "    <tr>\n",
       "      <th>2</th>\n",
       "      <td>0.382573</td>\n",
       "      <td>0.547632</td>\n",
       "      <td>0.474250</td>\n",
       "      <td>id_00073f8be_10</td>\n",
       "      <td>0</td>\n",
       "      <td>0</td>\n",
       "    </tr>\n",
       "    <tr>\n",
       "      <th>3</th>\n",
       "      <td>0.107729</td>\n",
       "      <td>0.106234</td>\n",
       "      <td>0.121008</td>\n",
       "      <td>id_00073f8be_100</td>\n",
       "      <td>0</td>\n",
       "      <td>0</td>\n",
       "    </tr>\n",
       "    <tr>\n",
       "      <th>4</th>\n",
       "      <td>0.322918</td>\n",
       "      <td>0.017842</td>\n",
       "      <td>0.040296</td>\n",
       "      <td>id_00073f8be_101</td>\n",
       "      <td>0</td>\n",
       "      <td>0</td>\n",
       "    </tr>\n",
       "  </tbody>\n",
       "</table>\n",
       "</div>"
      ],
      "text/plain": [
       "   reactivity  deg_Mg_pH10  deg_Mg_50C         id_seqpos  deg_50C  deg_pH10\n",
       "0    0.759482     0.609955    0.535987    id_00073f8be_0        0         0\n",
       "1    2.332129     3.086480    3.073632    id_00073f8be_1        0         0\n",
       "2    0.382573     0.547632    0.474250   id_00073f8be_10        0         0\n",
       "3    0.107729     0.106234    0.121008  id_00073f8be_100        0         0\n",
       "4    0.322918     0.017842    0.040296  id_00073f8be_101        0         0"
      ]
     },
     "execution_count": 50,
     "metadata": {},
     "output_type": "execute_result"
    }
   ],
   "source": [
    "for col in [\"reactivity\", \"deg_Mg_pH10\", \"deg_Mg_50C\"]:\n",
    "     submission[col] = 0.4*pub_sub1[col] + 0.2*pub_sub2[col] + 0.4*mk_subv1v2[col] + 0.0*pub_sub3[col] + 0.0*pub_sub4[col]\n",
    "submission.head()"
   ]
  },
  {
   "cell_type": "code",
   "execution_count": 2,
   "metadata": {},
   "outputs": [
    {
     "ename": "NameError",
     "evalue": "name 'submission' is not defined",
     "output_type": "error",
     "traceback": [
      "\u001b[0;31m---------------------------------------------------------------------------\u001b[0m",
      "\u001b[0;31mNameError\u001b[0m                                 Traceback (most recent call last)",
      "\u001b[0;32m<ipython-input-2-96e2147981e0>\u001b[0m in \u001b[0;36m<module>\u001b[0;34m\u001b[0m\n\u001b[0;32m----> 1\u001b[0;31m \u001b[0msubmission\u001b[0m\u001b[0;34m[\u001b[0m\u001b[0;34m\"reactivity\"\u001b[0m\u001b[0;34m]\u001b[0m \u001b[0;34m<\u001b[0m \u001b[0;36m0.5\u001b[0m\u001b[0;34m\u001b[0m\u001b[0;34m\u001b[0m\u001b[0m\n\u001b[0m",
      "\u001b[0;31mNameError\u001b[0m: name 'submission' is not defined"
     ]
    }
   ],
   "source": [
    "submission[\"reactivity\"] < 0.5"
   ]
  },
  {
   "cell_type": "code",
   "execution_count": 1,
   "metadata": {},
   "outputs": [
    {
     "ename": "NameError",
     "evalue": "name 'sns' is not defined",
     "output_type": "error",
     "traceback": [
      "\u001b[0;31m---------------------------------------------------------------------------\u001b[0m",
      "\u001b[0;31mNameError\u001b[0m                                 Traceback (most recent call last)",
      "\u001b[0;32m<ipython-input-1-e489ce2f5e3f>\u001b[0m in \u001b[0;36m<module>\u001b[0;34m\u001b[0m\n\u001b[0;32m----> 1\u001b[0;31m \u001b[0msns\u001b[0m\u001b[0;34m.\u001b[0m\u001b[0mdistplot\u001b[0m\u001b[0;34m(\u001b[0m\u001b[0msubmission\u001b[0m\u001b[0;34m[\u001b[0m\u001b[0;34m\"reactivity\"\u001b[0m\u001b[0;34m]\u001b[0m\u001b[0;34m)\u001b[0m\u001b[0;34m\u001b[0m\u001b[0;34m\u001b[0m\u001b[0m\n\u001b[0m",
      "\u001b[0;31mNameError\u001b[0m: name 'sns' is not defined"
     ]
    }
   ],
   "source": [
    "sns.distplot(submission[\"reactivity\"])"
   ]
  },
  {
   "cell_type": "code",
   "execution_count": 51,
   "metadata": {},
   "outputs": [],
   "source": [
    "submission.to_csv('data/submission_40sv1113_40mkv3v4_20pub.csv', index=False)"
   ]
  },
  {
   "cell_type": "code",
   "execution_count": 29,
   "metadata": {},
   "outputs": [],
   "source": [
    "df = pd.read_pickle(\"data/augmentation_data.pkl\")"
   ]
  },
  {
   "cell_type": "code",
   "execution_count": 40,
   "metadata": {},
   "outputs": [
    {
     "ename": "AttributeError",
     "evalue": "'Series' object has no attribute 'join'",
     "output_type": "error",
     "traceback": [
      "\u001b[0;31m---------------------------------------------------------------------------\u001b[0m",
      "\u001b[0;31mAttributeError\u001b[0m                            Traceback (most recent call last)",
      "\u001b[0;32m<ipython-input-40-0eb0bf6dbbef>\u001b[0m in \u001b[0;36m<module>\u001b[0;34m\u001b[0m\n\u001b[0;32m----> 1\u001b[0;31m \u001b[0msubmission\u001b[0m\u001b[0;34m.\u001b[0m\u001b[0mid_seqpos\u001b[0m\u001b[0;34m.\u001b[0m\u001b[0mjoin\u001b[0m\u001b[0;34m(\u001b[0m\u001b[0mdf\u001b[0m\u001b[0;34m.\u001b[0m\u001b[0mgroupby\u001b[0m\u001b[0;34m(\u001b[0m\u001b[0;34m\"id\"\u001b[0m\u001b[0;34m)\u001b[0m\u001b[0;34m[\u001b[0m\u001b[0;34m\"feat\"\u001b[0m\u001b[0;34m]\u001b[0m\u001b[0;34m.\u001b[0m\u001b[0mapply\u001b[0m\u001b[0;34m(\u001b[0m\u001b[0mlist\u001b[0m\u001b[0;34m)\u001b[0m\u001b[0;34m)\u001b[0m\u001b[0;34m\u001b[0m\u001b[0;34m\u001b[0m\u001b[0m\n\u001b[0m",
      "\u001b[0;32m~/anaconda3/lib/python3.8/site-packages/pandas/core/generic.py\u001b[0m in \u001b[0;36m__getattr__\u001b[0;34m(self, name)\u001b[0m\n\u001b[1;32m   5272\u001b[0m             \u001b[0;32mif\u001b[0m \u001b[0mself\u001b[0m\u001b[0;34m.\u001b[0m\u001b[0m_info_axis\u001b[0m\u001b[0;34m.\u001b[0m\u001b[0m_can_hold_identifiers_and_holds_name\u001b[0m\u001b[0;34m(\u001b[0m\u001b[0mname\u001b[0m\u001b[0;34m)\u001b[0m\u001b[0;34m:\u001b[0m\u001b[0;34m\u001b[0m\u001b[0;34m\u001b[0m\u001b[0m\n\u001b[1;32m   5273\u001b[0m                 \u001b[0;32mreturn\u001b[0m \u001b[0mself\u001b[0m\u001b[0;34m[\u001b[0m\u001b[0mname\u001b[0m\u001b[0;34m]\u001b[0m\u001b[0;34m\u001b[0m\u001b[0;34m\u001b[0m\u001b[0m\n\u001b[0;32m-> 5274\u001b[0;31m             \u001b[0;32mreturn\u001b[0m \u001b[0mobject\u001b[0m\u001b[0;34m.\u001b[0m\u001b[0m__getattribute__\u001b[0m\u001b[0;34m(\u001b[0m\u001b[0mself\u001b[0m\u001b[0;34m,\u001b[0m \u001b[0mname\u001b[0m\u001b[0;34m)\u001b[0m\u001b[0;34m\u001b[0m\u001b[0;34m\u001b[0m\u001b[0m\n\u001b[0m\u001b[1;32m   5275\u001b[0m \u001b[0;34m\u001b[0m\u001b[0m\n\u001b[1;32m   5276\u001b[0m     \u001b[0;32mdef\u001b[0m \u001b[0m__setattr__\u001b[0m\u001b[0;34m(\u001b[0m\u001b[0mself\u001b[0m\u001b[0;34m,\u001b[0m \u001b[0mname\u001b[0m\u001b[0;34m:\u001b[0m \u001b[0mstr\u001b[0m\u001b[0;34m,\u001b[0m \u001b[0mvalue\u001b[0m\u001b[0;34m)\u001b[0m \u001b[0;34m->\u001b[0m \u001b[0;32mNone\u001b[0m\u001b[0;34m:\u001b[0m\u001b[0;34m\u001b[0m\u001b[0;34m\u001b[0m\u001b[0m\n",
      "\u001b[0;31mAttributeError\u001b[0m: 'Series' object has no attribute 'join'"
     ]
    }
   ],
   "source": [
    "submission.join(df.groupby(\"id\")[\"feat\"].apply(list), on=\"id_se\")"
   ]
  },
  {
   "cell_type": "code",
   "execution_count": 31,
   "metadata": {},
   "outputs": [
    {
     "data": {
      "text/plain": [
       "'f0 f0 f0 f0 f0 f0 s0 s0 s0 i0 i0 i0 s1 s1 s1 s1 s2 s2 s2 s2 s2 i1 i1 i1 s3 s3 s3 s3 i2 i2 s4 s4 s4 s4 s4 h0 h0 h0 h0 h0 s4 s4 s4 s4 s4 s3 s3 s3 s3 s2 s2 s2 s2 s2 i3 i3 i3 s1 s1 s1 s1 s0 s0 s0 m0 m0 m0 m0 s5 s5 s5 s5 s5 s5 s5 h1 h1 h1 h1 s5 s5 s5 s5 s5 s5 s5 t0 t0 t0 t0 t0 t0 t0 t0 t0 t0 t0 t0 t0 t0 t0 t0 t0 t0 t0 t0 t0'"
      ]
     },
     "execution_count": 31,
     "metadata": {},
     "output_type": "execute_result"
    }
   ],
   "source": [
    "df.feat.iloc[100]"
   ]
  },
  {
   "cell_type": "code",
   "execution_count": 33,
   "metadata": {},
   "outputs": [],
   "source": [
    "import itertools\n",
    "\n",
    "all_loops = df.feat.str.split(' ').tolist()"
   ]
  },
  {
   "cell_type": "code",
   "execution_count": 41,
   "metadata": {},
   "outputs": [],
   "source": [
    "def match_pair(structure):\n",
    "    pair = [-1] * len(structure)\n",
    "    pair_no = -1\n",
    "\n",
    "    pair_no_stack = []\n",
    "    for i, c in enumerate(structure):\n",
    "        if c == '(':\n",
    "            pair_no += 1\n",
    "            pair[i] = pair_no\n",
    "            pair_no_stack.append(pair_no)\n",
    "        elif c == ')':\n",
    "            pair[i] = pair_no_stack.pop()\n",
    "    return pair"
   ]
  },
  {
   "cell_type": "code",
   "execution_count": 44,
   "metadata": {},
   "outputs": [
    {
     "data": {
      "text/plain": [
       "[-1,\n",
       " -1,\n",
       " -1,\n",
       " -1,\n",
       " -1,\n",
       " -1,\n",
       " -1,\n",
       " -1,\n",
       " -1,\n",
       " -1,\n",
       " -1,\n",
       " -1,\n",
       " -1,\n",
       " -1,\n",
       " -1,\n",
       " -1,\n",
       " -1,\n",
       " -1,\n",
       " -1,\n",
       " -1,\n",
       " -1,\n",
       " -1,\n",
       " -1,\n",
       " -1,\n",
       " -1,\n",
       " -1,\n",
       " -1,\n",
       " -1,\n",
       " -1,\n",
       " -1,\n",
       " -1,\n",
       " -1,\n",
       " -1,\n",
       " -1,\n",
       " -1,\n",
       " -1,\n",
       " -1,\n",
       " -1,\n",
       " -1,\n",
       " -1,\n",
       " -1,\n",
       " -1,\n",
       " -1,\n",
       " -1,\n",
       " -1,\n",
       " -1,\n",
       " -1,\n",
       " -1,\n",
       " -1,\n",
       " -1,\n",
       " -1,\n",
       " -1,\n",
       " -1,\n",
       " -1,\n",
       " -1,\n",
       " -1,\n",
       " -1,\n",
       " -1,\n",
       " -1,\n",
       " -1,\n",
       " -1,\n",
       " -1,\n",
       " -1,\n",
       " -1,\n",
       " -1,\n",
       " -1,\n",
       " -1,\n",
       " -1,\n",
       " 0,\n",
       " 1,\n",
       " 2,\n",
       " 3,\n",
       " 4,\n",
       " 5,\n",
       " 6,\n",
       " -1,\n",
       " -1,\n",
       " -1,\n",
       " -1,\n",
       " 6,\n",
       " 5,\n",
       " 4,\n",
       " 3,\n",
       " 2,\n",
       " 1,\n",
       " 0,\n",
       " -1,\n",
       " -1,\n",
       " -1,\n",
       " -1,\n",
       " -1,\n",
       " -1,\n",
       " -1,\n",
       " -1,\n",
       " -1,\n",
       " -1,\n",
       " -1,\n",
       " -1,\n",
       " -1,\n",
       " -1,\n",
       " -1,\n",
       " -1,\n",
       " -1,\n",
       " -1,\n",
       " -1,\n",
       " -1,\n",
       " -1]"
      ]
     },
     "execution_count": 44,
     "metadata": {},
     "output_type": "execute_result"
    }
   ],
   "source": [
    "match_pair(df.structure.iloc[888])"
   ]
  },
  {
   "cell_type": "code",
   "execution_count": 3,
   "metadata": {},
   "outputs": [],
   "source": [
    "import pandas as pd\n",
    "train = pd.read_json(\"data/train.json\", lines=True)\n",
    "sequence = train.sequence.iloc[0]\n",
    "structure = train.structure.iloc[0]"
   ]
  },
  {
   "cell_type": "code",
   "execution_count": 20,
   "metadata": {},
   "outputs": [],
   "source": [
    "def predict_loop(sequence, structure):\n",
    "    !echo $sequence > a.dbn\n",
    "    !echo \"$structure\" >> a.dbn\n",
    "    !perl bpRNA/bpRNA.pl a.dbn\n",
    "    with open(\"a.st\") as stf:\n",
    "        result = [l.strip('\\n') for l in stf]\n",
    "    pl = result[5]\n",
    "    segments = [row  for row in result if row.startswith('segment')]\n",
    "    num_seg, num_bp = len(segments), sum([int(seg.split(\" \")[1].strip(\"bp\")) for seg in segments])    \n",
    "    return pl, num_seg, num_bp"
   ]
  },
  {
   "cell_type": "code",
   "execution_count": 22,
   "metadata": {},
   "outputs": [
    {
     "name": "stdout",
     "output_type": "stream",
     "text": [
      "CPU times: user 26.4 ms, sys: 16.2 ms, total: 42.6 ms\n",
      "Wall time: 1.03 s\n"
     ]
    }
   ],
   "source": [
    "%%time\n",
    "outputs = predict_loop(sequence, structure)"
   ]
  },
  {
   "cell_type": "code",
   "execution_count": 26,
   "metadata": {},
   "outputs": [
    {
     "data": {
      "text/plain": [
       "(9600, 12)"
      ]
     },
     "execution_count": 26,
     "metadata": {},
     "output_type": "execute_result"
    }
   ],
   "source": [
    "df = pd.read_pickle(\"data/augmentation_data.pkl\")\n",
    "df.shape"
   ]
  },
  {
   "cell_type": "code",
   "execution_count": 27,
   "metadata": {},
   "outputs": [
    {
     "data": {
      "text/html": [
       "<div>\n",
       "<style scoped>\n",
       "    .dataframe tbody tr th:only-of-type {\n",
       "        vertical-align: middle;\n",
       "    }\n",
       "\n",
       "    .dataframe tbody tr th {\n",
       "        vertical-align: top;\n",
       "    }\n",
       "\n",
       "    .dataframe thead th {\n",
       "        text-align: right;\n",
       "    }\n",
       "</style>\n",
       "<table border=\"1\" class=\"dataframe\">\n",
       "  <thead>\n",
       "    <tr style=\"text-align: right;\">\n",
       "      <th></th>\n",
       "      <th>id</th>\n",
       "      <th>structure</th>\n",
       "      <th>match</th>\n",
       "      <th>sim_type</th>\n",
       "      <th>log_gamma</th>\n",
       "      <th>sequence</th>\n",
       "      <th>seq_length</th>\n",
       "      <th>seq_scored</th>\n",
       "      <th>reactivity</th>\n",
       "      <th>deg_Mg_pH10</th>\n",
       "      <th>deg_Mg_50C</th>\n",
       "      <th>feat</th>\n",
       "    </tr>\n",
       "  </thead>\n",
       "  <tbody>\n",
       "    <tr>\n",
       "      <th>0</th>\n",
       "      <td>id_001f94081</td>\n",
       "      <td>.....((((((.......)))).)).((.....((..((((((......</td>\n",
       "      <td>0.656513</td>\n",
       "      <td>vienna_2</td>\n",
       "      <td>1</td>\n",
       "      <td>GGAAAAGCUCUAAUAACAGGAGACUAGGACUACGUAUUUCUAGGUA...</td>\n",
       "      <td>107</td>\n",
       "      <td>68</td>\n",
       "      <td>[0.3297, 1.5693000000000001, 1.1227, 0.8686, 0...</td>\n",
       "      <td>[0.7556, 2.983, 0.2526, 1.3789, 0.637600000000...</td>\n",
       "      <td>[0.35810000000000003, 2.9683, 0.2589, 1.4552, ...</td>\n",
       "      <td>f0 f0 f0 f0 f0 s0 s0 s1 s1 s1 s1 h0 h0 h0 h0 h...</td>\n",
       "    </tr>\n",
       "    <tr>\n",
       "      <th>1</th>\n",
       "      <td>id_001f94081</td>\n",
       "      <td>((...((((((..(...))))).)).(((.(..(((.((((((......</td>\n",
       "      <td>0.579058</td>\n",
       "      <td>vienna_2</td>\n",
       "      <td>3</td>\n",
       "      <td>GGAAAAGCUCUAAUAACAGGAGACUAGGACUACGUAUUUCUAGGUA...</td>\n",
       "      <td>107</td>\n",
       "      <td>68</td>\n",
       "      <td>[0.3297, 1.5693000000000001, 1.1227, 0.8686, 0...</td>\n",
       "      <td>[0.7556, 2.983, 0.2526, 1.3789, 0.637600000000...</td>\n",
       "      <td>[0.35810000000000003, 2.9683, 0.2589, 1.4552, ...</td>\n",
       "      <td>f0 f0 f0 f0 f0 s0 s0 s1 s1 s1 s1 h0 h0 h0 h0 h...</td>\n",
       "    </tr>\n",
       "    <tr>\n",
       "      <th>2</th>\n",
       "      <td>id_001f94081</td>\n",
       "      <td>.....((((((.......)))).)).((.....((..((((((......</td>\n",
       "      <td>0.856787</td>\n",
       "      <td>nupack</td>\n",
       "      <td>1</td>\n",
       "      <td>GGAAAAGCUCUAAUAACAGGAGACUAGGACUACGUAUUUCUAGGUA...</td>\n",
       "      <td>107</td>\n",
       "      <td>68</td>\n",
       "      <td>[0.3297, 1.5693000000000001, 1.1227, 0.8686, 0...</td>\n",
       "      <td>[0.7556, 2.983, 0.2526, 1.3789, 0.637600000000...</td>\n",
       "      <td>[0.35810000000000003, 2.9683, 0.2589, 1.4552, ...</td>\n",
       "      <td>f0 f0 f0 f0 f0 s0 s0 s1 s1 s1 s1 h0 h0 h0 h0 h...</td>\n",
       "    </tr>\n",
       "    <tr>\n",
       "      <th>3</th>\n",
       "      <td>id_001f94081</td>\n",
       "      <td>.....((((((..(...))))).)).((..((.(((.((((((......</td>\n",
       "      <td>0.784306</td>\n",
       "      <td>nupack</td>\n",
       "      <td>3</td>\n",
       "      <td>GGAAAAGCUCUAAUAACAGGAGACUAGGACUACGUAUUUCUAGGUA...</td>\n",
       "      <td>107</td>\n",
       "      <td>68</td>\n",
       "      <td>[0.3297, 1.5693000000000001, 1.1227, 0.8686, 0...</td>\n",
       "      <td>[0.7556, 2.983, 0.2526, 1.3789, 0.637600000000...</td>\n",
       "      <td>[0.35810000000000003, 2.9683, 0.2589, 1.4552, ...</td>\n",
       "      <td>f0 f0 f0 f0 f0 s0 s0 s1 s1 s1 s1 h0 h0 h0 h0 h...</td>\n",
       "    </tr>\n",
       "    <tr>\n",
       "      <th>4</th>\n",
       "      <td>id_0049f53ba</td>\n",
       "      <td>.....(((((((((((((((((((((((....)))))))))).)))...</td>\n",
       "      <td>0.928543</td>\n",
       "      <td>vienna_2</td>\n",
       "      <td>1</td>\n",
       "      <td>GGAAAAAGCGCGCGCGGUUAGCGCGCGCUUUUGCGCGCGCUGUACC...</td>\n",
       "      <td>107</td>\n",
       "      <td>68</td>\n",
       "      <td>[0.0, 0.0, 0.0, 2.2965, 0.0, 0.0, 0.0, 0.0, 0....</td>\n",
       "      <td>[0.0, 0.0, 0.0, 0.0, 0.0, 0.0, 0.0, 0.0, 0.0, ...</td>\n",
       "      <td>[4.8511, 4.0426, 0.0, 0.0, 0.0, 0.0, 0.0, 0.0,...</td>\n",
       "      <td>f0 f0 f0 f0 f0 s0 s0 s0 s0 s0 s0 s0 s0 s0 s0 s...</td>\n",
       "    </tr>\n",
       "  </tbody>\n",
       "</table>\n",
       "</div>"
      ],
      "text/plain": [
       "             id  ...                                               feat\n",
       "0  id_001f94081  ...  f0 f0 f0 f0 f0 s0 s0 s1 s1 s1 s1 h0 h0 h0 h0 h...\n",
       "1  id_001f94081  ...  f0 f0 f0 f0 f0 s0 s0 s1 s1 s1 s1 h0 h0 h0 h0 h...\n",
       "2  id_001f94081  ...  f0 f0 f0 f0 f0 s0 s0 s1 s1 s1 s1 h0 h0 h0 h0 h...\n",
       "3  id_001f94081  ...  f0 f0 f0 f0 f0 s0 s0 s1 s1 s1 s1 h0 h0 h0 h0 h...\n",
       "4  id_0049f53ba  ...  f0 f0 f0 f0 f0 s0 s0 s0 s0 s0 s0 s0 s0 s0 s0 s...\n",
       "\n",
       "[5 rows x 12 columns]"
      ]
     },
     "execution_count": 27,
     "metadata": {},
     "output_type": "execute_result"
    }
   ],
   "source": [
    "df.head()"
   ]
  },
  {
   "cell_type": "code",
   "execution_count": 66,
   "metadata": {},
   "outputs": [
    {
     "data": {
      "text/plain": [
       "tensor(1.2910)"
      ]
     },
     "execution_count": 66,
     "metadata": {},
     "output_type": "execute_result"
    }
   ],
   "source": [
    "a = torch.tensor([1, 2, 3, 4]).type(torch.float32)\n",
    "a.std()"
   ]
  },
  {
   "cell_type": "code",
   "execution_count": null,
   "metadata": {},
   "outputs": [],
   "source": [
    "np.load(\"data/\")"
   ]
  }
 ],
 "metadata": {
  "kernelspec": {
   "display_name": "Python 3",
   "language": "python",
   "name": "python3"
  },
  "language_info": {
   "codemirror_mode": {
    "name": "ipython",
    "version": 3
   },
   "file_extension": ".py",
   "mimetype": "text/x-python",
   "name": "python",
   "nbconvert_exporter": "python",
   "pygments_lexer": "ipython3",
   "version": "3.8.3"
  }
 },
 "nbformat": 4,
 "nbformat_minor": 4
}
