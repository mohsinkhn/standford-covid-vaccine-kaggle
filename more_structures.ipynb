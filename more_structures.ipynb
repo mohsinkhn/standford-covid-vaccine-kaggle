{
 "cells": [
  {
   "cell_type": "code",
   "execution_count": 1,
   "metadata": {},
   "outputs": [],
   "source": [
    "import json\n",
    "import pandas as pd\n",
    "from pathlib import Path\n",
    "import numpy as np\n",
    "from tqdm import tqdm\n",
    "from arnie.mea.mea import MEA\n",
    "from arnie.bpps import bpps\n",
    "import matplotlib.pyplot as plt\n",
    "import seaborn as sns\n",
    "from joblib import Parallel, delayed\n",
    "from functools import partial\n",
    "from tqdm import tqdm"
   ]
  },
  {
   "cell_type": "code",
   "execution_count": 2,
   "metadata": {},
   "outputs": [],
   "source": [
    "train = pd.read_json(\"data/train.json\", lines=True)\n",
    "test = pd.read_json(\"data/test.json\", lines=True)"
   ]
  },
  {
   "cell_type": "code",
   "execution_count": 3,
   "metadata": {},
   "outputs": [],
   "source": [
    "sequences = train.sequence.tolist() + test.sequence.tolist()\n",
    "seq_ids = train.id.tolist() + test.id.tolist()\n",
    "structures = train.structure.tolist() + test.structure.tolist()\n",
    "predicted_loop_types = train.predicted_loop_type.tolist() + test.predicted_loop_type.tolist()"
   ]
  },
  {
   "cell_type": "code",
   "execution_count": 4,
   "metadata": {},
   "outputs": [],
   "source": [
    "Path(\"data/vienna_2/bpps\").mkdir(exist_ok=True, parents=True)\n",
    "Path(\"data/nupack_95/bpps\").mkdir(exist_ok=True, parents=True)\n",
    "Path(\"data/nupack_99/bpps\").mkdir(exist_ok=True, parents=True)"
   ]
  },
  {
   "cell_type": "code",
   "execution_count": 18,
   "metadata": {},
   "outputs": [],
   "source": [
    "def get_save_bpps(sequence, seq_id, pkg, T):\n",
    "    mat = bpps(sequence, T=T, package=pkg)\n",
    "    np.save(f\"data/{pkg}/bpps/{seq_id}_{T}.npy\", mat)"
   ]
  },
  {
   "cell_type": "code",
   "execution_count": 19,
   "metadata": {},
   "outputs": [
    {
     "name": "stdout",
     "output_type": "stream",
     "text": [
      "CPU times: user 8.32 ms, sys: 4.68 ms, total: 13 ms\n",
      "Wall time: 54.5 ms\n"
     ]
    }
   ],
   "source": [
    "%%time\n",
    "get_save_bpps(train.sequence.iloc[0], train.id.iloc[0], 'vienna_2', 50)"
   ]
  },
  {
   "cell_type": "code",
   "execution_count": 20,
   "metadata": {},
   "outputs": [
    {
     "name": "stderr",
     "output_type": "stream",
     "text": [
      "6034it [03:24, 29.58it/s]\n",
      "6034it [03:23, 29.65it/s]\n",
      "6034it [03:24, 29.46it/s]\n",
      "6034it [03:47, 26.58it/s]\n",
      "6034it [03:28, 28.92it/s]\n",
      "6034it [03:32, 28.41it/s]"
     ]
    },
    {
     "name": "stdout",
     "output_type": "stream",
     "text": [
      "CPU times: user 1min 44s, sys: 2min 58s, total: 4min 43s\n",
      "Wall time: 21min\n"
     ]
    },
    {
     "name": "stderr",
     "output_type": "stream",
     "text": [
      "\n"
     ]
    }
   ],
   "source": [
    "%%time\n",
    "for T in [7, 17, 27, 47, 57, 67]:\n",
    "    for (seq, idx) in tqdm(zip(sequences, seq_ids)):\n",
    "        get_save_bpps(seq, idx, \"vienna_2\", T)"
   ]
  },
  {
   "cell_type": "code",
   "execution_count": 21,
   "metadata": {},
   "outputs": [
    {
     "name": "stderr",
     "output_type": "stream",
     "text": [
      "6034it [05:50, 17.23it/s]\n",
      "6034it [05:51, 17.15it/s]\n",
      "6034it [05:57, 16.89it/s]\n",
      "6034it [05:58, 16.83it/s]\n",
      "6034it [06:03, 16.59it/s]\n",
      "6034it [05:59, 16.78it/s]\n",
      "6034it [05:59, 16.79it/s]\n"
     ]
    }
   ],
   "source": [
    "for T in [7, 17, 27, 37, 47, 57, 67]:\n",
    "    Parallel(8)(delayed(get_save_bpps)(seq, idx, \"nupack_95\", T) for (seq, idx) in tqdm(zip(sequences, seq_ids)))"
   ]
  },
  {
   "cell_type": "code",
   "execution_count": 10,
   "metadata": {},
   "outputs": [
    {
     "name": "stderr",
     "output_type": "stream",
     "text": [
      "6034it [04:25, 22.72it/s]\n"
     ]
    }
   ],
   "source": [
    "for T in [37]:\n",
    "    Parallel(8)(delayed(get_save_bpps)(seq, idx, \"nupack_99\", T) for (seq, idx) in tqdm(zip(sequences, seq_ids)))"
   ]
  },
  {
   "cell_type": "code",
   "execution_count": 7,
   "metadata": {},
   "outputs": [],
   "source": [
    "from arnie.mfe import mfe\n",
    "def get_mfe_structures(seq, T=37):\n",
    "    return mfe(seq, T=T)"
   ]
  },
  {
   "cell_type": "code",
   "execution_count": 51,
   "metadata": {},
   "outputs": [
    {
     "name": "stderr",
     "output_type": "stream",
     "text": [
      "100%|██████████| 6034/6034 [00:24<00:00, 247.93it/s]\n",
      "100%|██████████| 6034/6034 [00:24<00:00, 245.28it/s]\n",
      "100%|██████████| 6034/6034 [00:24<00:00, 243.74it/s]\n",
      "100%|██████████| 6034/6034 [00:24<00:00, 243.74it/s]\n",
      "100%|██████████| 6034/6034 [00:24<00:00, 243.74it/s]\n",
      "100%|██████████| 6034/6034 [00:24<00:00, 244.52it/s]\n"
     ]
    }
   ],
   "source": [
    "structures = {}\n",
    "for T in [7, 17, 27, 47, 57, 67]:\n",
    "    res = Parallel(8)(delayed(get_mfe_structures)(seq, T) for seq in tqdm(sequences))\n",
    "    structures[T] = res"
   ]
  },
  {
   "cell_type": "code",
   "execution_count": 65,
   "metadata": {},
   "outputs": [
    {
     "data": {
      "text/html": [
       "<div>\n",
       "<style scoped>\n",
       "    .dataframe tbody tr th:only-of-type {\n",
       "        vertical-align: middle;\n",
       "    }\n",
       "\n",
       "    .dataframe tbody tr th {\n",
       "        vertical-align: top;\n",
       "    }\n",
       "\n",
       "    .dataframe thead th {\n",
       "        text-align: right;\n",
       "    }\n",
       "</style>\n",
       "<table border=\"1\" class=\"dataframe\">\n",
       "  <thead>\n",
       "    <tr style=\"text-align: right;\">\n",
       "      <th></th>\n",
       "      <th>vienna_7</th>\n",
       "      <th>vienna_17</th>\n",
       "      <th>vienna_27</th>\n",
       "      <th>vienna_47</th>\n",
       "      <th>vienna_57</th>\n",
       "      <th>vienna_67</th>\n",
       "      <th>id</th>\n",
       "    </tr>\n",
       "  </thead>\n",
       "  <tbody>\n",
       "    <tr>\n",
       "      <th>0</th>\n",
       "      <td>.......((((.......)))).((((((........))))))......</td>\n",
       "      <td>.......((((.......)))).((((((........))))))......</td>\n",
       "      <td>.....((((((.......)))).)).((.....((..((((((......</td>\n",
       "      <td>.....((((((.......)))).)).((.....((..((((((......</td>\n",
       "      <td>................(((....((((((........))))))......</td>\n",
       "      <td>......................................(((((......</td>\n",
       "      <td>id_001f94081</td>\n",
       "    </tr>\n",
       "    <tr>\n",
       "      <th>1</th>\n",
       "      <td>.....(((((((((((((((((((((((....)))))))))).)))...</td>\n",
       "      <td>.....(((((((((((((((((((((((....)))))))))).)))...</td>\n",
       "      <td>.....(((((((((((((((((((((((....)))))))))).)))...</td>\n",
       "      <td>.....(((((((((((((((((((((((....)))))))))).)))...</td>\n",
       "      <td>.....(((((((((((((((((((((((....)))))))))).)))...</td>\n",
       "      <td>.....(((((((((((((((((((((((....)))))))))).)))...</td>\n",
       "      <td>id_0049f53ba</td>\n",
       "    </tr>\n",
       "    <tr>\n",
       "      <th>2</th>\n",
       "      <td>.....((((.((.....((((.(((.....)))..((((......)...</td>\n",
       "      <td>.....((((.((.....((((.(((.....)))..((((......)...</td>\n",
       "      <td>.....((((.((.....((((.(((.....)))..((((......)...</td>\n",
       "      <td>.....((((.((.....((((.(((.....)))..((((......)...</td>\n",
       "      <td>........................((((...((..((((......)...</td>\n",
       "      <td>.....................(..((((...((..((((......)...</td>\n",
       "      <td>id_006f36f57</td>\n",
       "    </tr>\n",
       "    <tr>\n",
       "      <th>3</th>\n",
       "      <td>......((((((((((((((((......))))))))))))))))((...</td>\n",
       "      <td>......((((((((((((((((......))))))))))))))))((...</td>\n",
       "      <td>......((((((((((((((((......))))))))))))))))((...</td>\n",
       "      <td>......((((((((((((((((......))))))))))))))))((...</td>\n",
       "      <td>......(((((((((((((((((......)))))))))))))))))...</td>\n",
       "      <td>......(((((((((((((((((......)))))))))))))))))...</td>\n",
       "      <td>id_0082d463b</td>\n",
       "    </tr>\n",
       "    <tr>\n",
       "      <th>4</th>\n",
       "      <td>.....(((((((.((((((((((((.(((((((((....)))))))...</td>\n",
       "      <td>.....(((((((.((((((((((((.(((((((((....)))))))...</td>\n",
       "      <td>.....(((((((.((((((((((((.(((((((((....)))))))...</td>\n",
       "      <td>.....(((((((.((((((((((((.(((((((((....)))))))...</td>\n",
       "      <td>......(((((((((((((((((...............))))))))...</td>\n",
       "      <td>......(((((((((((((((((...............))))))))...</td>\n",
       "      <td>id_0087940f4</td>\n",
       "    </tr>\n",
       "  </tbody>\n",
       "</table>\n",
       "</div>"
      ],
      "text/plain": [
       "                                            vienna_7  \\\n",
       "0  .......((((.......)))).((((((........))))))......   \n",
       "1  .....(((((((((((((((((((((((....)))))))))).)))...   \n",
       "2  .....((((.((.....((((.(((.....)))..((((......)...   \n",
       "3  ......((((((((((((((((......))))))))))))))))((...   \n",
       "4  .....(((((((.((((((((((((.(((((((((....)))))))...   \n",
       "\n",
       "                                           vienna_17  \\\n",
       "0  .......((((.......)))).((((((........))))))......   \n",
       "1  .....(((((((((((((((((((((((....)))))))))).)))...   \n",
       "2  .....((((.((.....((((.(((.....)))..((((......)...   \n",
       "3  ......((((((((((((((((......))))))))))))))))((...   \n",
       "4  .....(((((((.((((((((((((.(((((((((....)))))))...   \n",
       "\n",
       "                                           vienna_27  \\\n",
       "0  .....((((((.......)))).)).((.....((..((((((......   \n",
       "1  .....(((((((((((((((((((((((....)))))))))).)))...   \n",
       "2  .....((((.((.....((((.(((.....)))..((((......)...   \n",
       "3  ......((((((((((((((((......))))))))))))))))((...   \n",
       "4  .....(((((((.((((((((((((.(((((((((....)))))))...   \n",
       "\n",
       "                                           vienna_47  \\\n",
       "0  .....((((((.......)))).)).((.....((..((((((......   \n",
       "1  .....(((((((((((((((((((((((....)))))))))).)))...   \n",
       "2  .....((((.((.....((((.(((.....)))..((((......)...   \n",
       "3  ......((((((((((((((((......))))))))))))))))((...   \n",
       "4  .....(((((((.((((((((((((.(((((((((....)))))))...   \n",
       "\n",
       "                                           vienna_57  \\\n",
       "0  ................(((....((((((........))))))......   \n",
       "1  .....(((((((((((((((((((((((....)))))))))).)))...   \n",
       "2  ........................((((...((..((((......)...   \n",
       "3  ......(((((((((((((((((......)))))))))))))))))...   \n",
       "4  ......(((((((((((((((((...............))))))))...   \n",
       "\n",
       "                                           vienna_67            id  \n",
       "0  ......................................(((((......  id_001f94081  \n",
       "1  .....(((((((((((((((((((((((....)))))))))).)))...  id_0049f53ba  \n",
       "2  .....................(..((((...((..((((......)...  id_006f36f57  \n",
       "3  ......(((((((((((((((((......)))))))))))))))))...  id_0082d463b  \n",
       "4  ......(((((((((((((((((...............))))))))...  id_0087940f4  "
      ]
     },
     "execution_count": 65,
     "metadata": {},
     "output_type": "execute_result"
    }
   ],
   "source": [
    "vienna_structs = pd.DataFrame(structures)\n",
    "vienna_structs.columns = [f\"vienna_{tt}\" for tt in [7, 17, 27, 47, 57, 67]]\n",
    "vienna_structs[\"id\"] = seq_ids\n",
    "vienna_structs.head()"
   ]
  },
  {
   "cell_type": "code",
   "execution_count": 71,
   "metadata": {},
   "outputs": [],
   "source": [
    "vienna_structs.to_csv(\"data/vienna_sructures_mec.csv\", index=False)"
   ]
  },
  {
   "cell_type": "code",
   "execution_count": 4,
   "metadata": {},
   "outputs": [],
   "source": [
    "import subprocess"
   ]
  },
  {
   "cell_type": "code",
   "execution_count": 37,
   "metadata": {},
   "outputs": [],
   "source": [
    "!perl bpRNA/bpRNA.pl id_0049f53ba.dbn"
   ]
  },
  {
   "cell_type": "code",
   "execution_count": 6,
   "metadata": {},
   "outputs": [
    {
     "name": "stdout",
     "output_type": "stream",
     "text": [
      "CPU times: user 0 ns, sys: 7.41 ms, total: 7.41 ms\n",
      "Wall time: 200 ms\n"
     ]
    },
    {
     "data": {
      "text/plain": [
       "0"
      ]
     },
     "execution_count": 6,
     "metadata": {},
     "output_type": "execute_result"
    }
   ],
   "source": [
    "%%time\n",
    "proc = subprocess.Popen(['perl', 'bpRNA/bpRNA.pl', 'id_0049f53ba.dbn'])\n",
    "proc.wait()"
   ]
  },
  {
   "cell_type": "code",
   "execution_count": 12,
   "metadata": {},
   "outputs": [],
   "source": [
    "import subprocess\n",
    "\n",
    "def map_segs(result, seq_len=107):\n",
    "    seg_num = [-1] * seq_len\n",
    "    seg_pairs = [0] * seq_len\n",
    "    pl_segs = [0] * seq_len\n",
    "    for linenum, line in enumerate(result):\n",
    "        if linenum <= 6:\n",
    "            continue\n",
    "        if line.startswith(\"segment\"):\n",
    "            tokens = line.split(\" \")\n",
    "            num = int(tokens[0].strip(\"segment\"))\n",
    "            num_pairs = int(tokens[1].strip(\"bp\"))\n",
    "            i_1, _, i_2 = tokens[2].split(\".\")\n",
    "            j_1, _, j_2 = tokens[4].split(\".\")\n",
    "            i_1, i_2 = int(i_1), int(i_2)\n",
    "            j_1, j_2 = int(j_1), int(j_2)\n",
    "            for i in range(i_1, i_2+1):\n",
    "                seg_num[i-1] = num\n",
    "                seg_pairs[i-1] = num_pairs\n",
    "\n",
    "            for j in range(j_1, j_2):\n",
    "                seg_num[j-1] = num\n",
    "                seg_pairs[j-1] = num_pairs\n",
    "\n",
    "        elif line.startswith(\"S\"):\n",
    "            tokens = line.split(\" \")\n",
    "            num = int(tokens[0].strip(\"S\"))\n",
    "            i_1, _, i_2 = tokens[1].split(\".\")\n",
    "            j_1, _, j_2 = tokens[3].split(\".\")\n",
    "            i_1, i_2 = int(i_1), int(i_2)\n",
    "            j_1, j_2 = int(j_1), int(j_2)\n",
    "            for i in range(i_1, i_2+1):\n",
    "                pl_segs[i-1] = f\"S{num}\"\n",
    "            for j in range(i_1, i_2+1):\n",
    "                pl_segs[j-1] = f\"S{num}\"\n",
    "        else:\n",
    "            tokens = line.split(\" \")\n",
    "            sym = tokens[0][0]\n",
    "            num = tokens[0].strip(\"BSHIMXE\").split(\".\")\n",
    "            if len(num) > 1:\n",
    "                num = int(num[0]) * int(num[1]) + int(num[0]) - 1\n",
    "            else:\n",
    "                num = int(num[0])\n",
    "            i_1, _, i_2 = tokens[1].split(\".\")\n",
    "            i_1, i_2 = int(i_1), int(i_2)\n",
    "            for i in range(i_1, i_2+1):\n",
    "                pl_segs[i-1] = f\"{sym}{num}\"\n",
    "        \n",
    "    return seg_num, seg_pairs, pl_segs\n",
    "\n",
    "\n",
    "def predict_loop(seq, struct, seq_id):\n",
    "    seq_len = len(seq)\n",
    "    subprocess.run(f\"echo {seq} > {seq_id}.dbn\", shell=True)\n",
    "    subprocess.run(f\"echo '{struct}' >> {seq_id}.dbn\", shell=True)\n",
    "    proc = subprocess.Popen(['perl', 'bpRNA/bpRNA.pl', f'{seq_id}.dbn'])\n",
    "    proc.wait()\n",
    "    with open(f\"{seq_id}.st\") as stf:\n",
    "        result = [l.strip('\\n') for l in stf]\n",
    "    pl = result[5]\n",
    "    subprocess.run(f\"rm {seq_id}.dbn {seq_id}.st\", shell=True)\n",
    "    seg_num, seg_pairs, pl_segs = map_segs(result, seq_len)\n",
    "    \n",
    "    #segments = [row  for row in result if row.startswith('segment')]\n",
    "    #num_seg, num_bp = len(segments), sum([int(seg.split(\" \")[1].strip(\"bp\")) for seg in segments])    \n",
    "    return seq_id, pl, \"_\".join([str(c) for c in seg_num]), \"_\".join([str(c) for c in seg_pairs]), \"_\".join([str(c) for c in pl_segs])"
   ]
  },
  {
   "cell_type": "code",
   "execution_count": 13,
   "metadata": {},
   "outputs": [
    {
     "name": "stderr",
     "output_type": "stream",
     "text": [
      "6034it [02:26, 41.07it/s]\n"
     ]
    }
   ],
   "source": [
    "seq_ids = train.id.tolist() + test.id.tolist()\n",
    "sequences = train.sequence.tolist() + test.sequence.tolist()\n",
    "structures = train.structure.tolist() + test.structure.tolist()\n",
    "res = Parallel(16)(delayed(predict_loop)(seq, struc, seqid) for seq, struc, seqid in tqdm(zip(sequences, structures, seq_ids)))\n",
    "# res = []\n",
    "# for seq, struc, seq_id in tqdm(zip(sequences[:10], structures[:10], seq_ids[:10])):\n",
    "#     res.append(predict_loop(seq, struc, seq_id))\n",
    "res = pd.DataFrame(res, columns=[\"id\", \"pstructure\", \"bp_seg_num\", \"bp_seg_pairs\", \"pl_seg_num\"])\n",
    "res.to_csv(\"data/predicted_loop_segments.csv\", index=False)"
   ]
  },
  {
   "cell_type": "code",
   "execution_count": 14,
   "metadata": {},
   "outputs": [
    {
     "data": {
      "text/html": [
       "<div>\n",
       "<style scoped>\n",
       "    .dataframe tbody tr th:only-of-type {\n",
       "        vertical-align: middle;\n",
       "    }\n",
       "\n",
       "    .dataframe tbody tr th {\n",
       "        vertical-align: top;\n",
       "    }\n",
       "\n",
       "    .dataframe thead th {\n",
       "        text-align: right;\n",
       "    }\n",
       "</style>\n",
       "<table border=\"1\" class=\"dataframe\">\n",
       "  <thead>\n",
       "    <tr style=\"text-align: right;\">\n",
       "      <th></th>\n",
       "      <th>id</th>\n",
       "      <th>pstructure</th>\n",
       "      <th>bp_seg_num</th>\n",
       "      <th>bp_seg_pairs</th>\n",
       "      <th>pl_seg_num</th>\n",
       "    </tr>\n",
       "  </thead>\n",
       "  <tbody>\n",
       "    <tr>\n",
       "      <th>0</th>\n",
       "      <td>id_001f94081</td>\n",
       "      <td>EEEEESSSSSSHHHHHHHSSSSBSSMSSIIIIISSIISSSSSSHHH...</td>\n",
       "      <td>-1_-1_-1_-1_-1_1_1_1_1_1_1_-1_-1_-1_-1_-1_-1_-...</td>\n",
       "      <td>0_0_0_0_0_6_6_6_6_6_6_0_0_0_0_0_0_0_6_6_6_6_6_...</td>\n",
       "      <td>E1_E1_E1_E1_E1_S1_S1_S2_S2_S2_S2_H1_H1_H1_H1_H...</td>\n",
       "    </tr>\n",
       "    <tr>\n",
       "      <th>1</th>\n",
       "      <td>id_0049f53ba</td>\n",
       "      <td>EEEEESSSSSSSSSSSSSSSSSSSSSSSHHHHSSSSSSSSSSBSSS...</td>\n",
       "      <td>-1_-1_-1_-1_-1_1_1_1_1_1_1_1_1_1_1_1_1_1_1_1_1...</td>\n",
       "      <td>0_0_0_0_0_23_23_23_23_23_23_23_23_23_23_23_23_...</td>\n",
       "      <td>E1_E1_E1_E1_E1_S1_S1_S1_S1_S1_S1_S1_S1_S1_S1_S...</td>\n",
       "    </tr>\n",
       "    <tr>\n",
       "      <th>2</th>\n",
       "      <td>id_006f36f57</td>\n",
       "      <td>EEEEESSSSISSIIIIISSSSMSSSHHHHHSSSMMSSSSHHHHHHS...</td>\n",
       "      <td>-1_-1_-1_-1_-1_1_1_1_1_1_1_1_1_1_1_1_1_1_1_1_1...</td>\n",
       "      <td>0_0_0_0_0_10_10_10_10_10_10_10_10_10_10_10_10_...</td>\n",
       "      <td>E1_E1_E1_E1_E1_S1_S1_S1_S1_I1_S2_S2_I3_I3_I3_I...</td>\n",
       "    </tr>\n",
       "    <tr>\n",
       "      <th>3</th>\n",
       "      <td>id_0082d463b</td>\n",
       "      <td>EEEEEESSSSSSSSSSSSSSSSHHHHHHSSSSSSSSSSSSSSSSSS...</td>\n",
       "      <td>-1_-1_-1_-1_-1_-1_1_1_1_1_1_1_1_1_1_1_1_1_1_1_...</td>\n",
       "      <td>0_0_0_0_0_0_16_16_16_16_16_16_16_16_16_16_16_1...</td>\n",
       "      <td>E1_E1_E1_E1_E1_E1_S1_S1_S1_S1_S1_S1_S1_S1_S1_S...</td>\n",
       "    </tr>\n",
       "    <tr>\n",
       "      <th>4</th>\n",
       "      <td>id_0087940f4</td>\n",
       "      <td>EEEEESSSSSSSBSSSSSSSSSSSSBSSSSSSSSSHHHHSSSSSSS...</td>\n",
       "      <td>-1_-1_-1_-1_-1_1_1_1_1_1_1_1_1_1_1_1_1_1_1_1_1...</td>\n",
       "      <td>0_0_0_0_0_28_28_28_28_28_28_28_28_28_28_28_28_...</td>\n",
       "      <td>E1_E1_E1_E1_E1_S1_S1_S1_S1_S1_S1_S1_B1_S2_S2_S...</td>\n",
       "    </tr>\n",
       "  </tbody>\n",
       "</table>\n",
       "</div>"
      ],
      "text/plain": [
       "             id                                         pstructure  \\\n",
       "0  id_001f94081  EEEEESSSSSSHHHHHHHSSSSBSSMSSIIIIISSIISSSSSSHHH...   \n",
       "1  id_0049f53ba  EEEEESSSSSSSSSSSSSSSSSSSSSSSHHHHSSSSSSSSSSBSSS...   \n",
       "2  id_006f36f57  EEEEESSSSISSIIIIISSSSMSSSHHHHHSSSMMSSSSHHHHHHS...   \n",
       "3  id_0082d463b  EEEEEESSSSSSSSSSSSSSSSHHHHHHSSSSSSSSSSSSSSSSSS...   \n",
       "4  id_0087940f4  EEEEESSSSSSSBSSSSSSSSSSSSBSSSSSSSSSHHHHSSSSSSS...   \n",
       "\n",
       "                                          bp_seg_num  \\\n",
       "0  -1_-1_-1_-1_-1_1_1_1_1_1_1_-1_-1_-1_-1_-1_-1_-...   \n",
       "1  -1_-1_-1_-1_-1_1_1_1_1_1_1_1_1_1_1_1_1_1_1_1_1...   \n",
       "2  -1_-1_-1_-1_-1_1_1_1_1_1_1_1_1_1_1_1_1_1_1_1_1...   \n",
       "3  -1_-1_-1_-1_-1_-1_1_1_1_1_1_1_1_1_1_1_1_1_1_1_...   \n",
       "4  -1_-1_-1_-1_-1_1_1_1_1_1_1_1_1_1_1_1_1_1_1_1_1...   \n",
       "\n",
       "                                        bp_seg_pairs  \\\n",
       "0  0_0_0_0_0_6_6_6_6_6_6_0_0_0_0_0_0_0_6_6_6_6_6_...   \n",
       "1  0_0_0_0_0_23_23_23_23_23_23_23_23_23_23_23_23_...   \n",
       "2  0_0_0_0_0_10_10_10_10_10_10_10_10_10_10_10_10_...   \n",
       "3  0_0_0_0_0_0_16_16_16_16_16_16_16_16_16_16_16_1...   \n",
       "4  0_0_0_0_0_28_28_28_28_28_28_28_28_28_28_28_28_...   \n",
       "\n",
       "                                          pl_seg_num  \n",
       "0  E1_E1_E1_E1_E1_S1_S1_S2_S2_S2_S2_H1_H1_H1_H1_H...  \n",
       "1  E1_E1_E1_E1_E1_S1_S1_S1_S1_S1_S1_S1_S1_S1_S1_S...  \n",
       "2  E1_E1_E1_E1_E1_S1_S1_S1_S1_I1_S2_S2_I3_I3_I3_I...  \n",
       "3  E1_E1_E1_E1_E1_E1_S1_S1_S1_S1_S1_S1_S1_S1_S1_S...  \n",
       "4  E1_E1_E1_E1_E1_S1_S1_S1_S1_S1_S1_S1_B1_S2_S2_S...  "
      ]
     },
     "execution_count": 14,
     "metadata": {},
     "output_type": "execute_result"
    }
   ],
   "source": [
    "res.head()"
   ]
  },
  {
   "cell_type": "code",
   "execution_count": 11,
   "metadata": {},
   "outputs": [
    {
     "data": {
      "text/plain": [
       "(array(['-1', '1', '2', '3'], dtype='<U2'),\n",
       " array([0, 0, 0, 0, 0, 1, 1, 1, 1, 1, 1, 0, 0, 0, 0, 0, 0, 0, 1, 1, 1, 1,\n",
       "        1, 1, 0, 0, 2, 2, 2, 2, 2, 2, 2, 2, 2, 2, 2, 2, 2, 2, 2, 2, 2, 0,\n",
       "        0, 0, 0, 2, 2, 2, 2, 2, 2, 2, 2, 2, 2, 2, 2, 2, 2, 2, 2, 0, 0, 0,\n",
       "        0, 0, 3, 3, 3, 3, 3, 3, 3, 0, 0, 0, 0, 3, 3, 3, 3, 3, 3, 0, 0, 0,\n",
       "        0, 0, 0, 0, 0, 0, 0, 0, 0, 0, 0, 0, 0, 0, 0, 0, 0, 0, 0]))"
      ]
     },
     "execution_count": 11,
     "metadata": {},
     "output_type": "execute_result"
    }
   ],
   "source": [
    "import numpy as np\n",
    "bbbb = res.bp_seg_num.iloc[0]\n",
    "bp_seg_num = bbbb.split(\"_\")\n",
    "bseg, idx = np.unique(bp_seg_num, return_inverse=True)\n",
    "bseg, idx"
   ]
  },
  {
   "cell_type": "code",
   "execution_count": 16,
   "metadata": {},
   "outputs": [
    {
     "data": {
      "text/plain": [
       "['E1',\n",
       " 'E1',\n",
       " 'E1',\n",
       " 'E1',\n",
       " 'E1',\n",
       " 'S1',\n",
       " 'S1',\n",
       " 'S2',\n",
       " 'S2',\n",
       " 'S2',\n",
       " 'S2',\n",
       " 'H1',\n",
       " 'H1',\n",
       " 'H1',\n",
       " 'H1',\n",
       " 'H1',\n",
       " 'H1',\n",
       " 'H1',\n",
       " '0',\n",
       " '0',\n",
       " '0',\n",
       " '0',\n",
       " 'B1',\n",
       " '0',\n",
       " '0',\n",
       " 'M1',\n",
       " 'S3',\n",
       " 'S3',\n",
       " 'I1',\n",
       " 'I1',\n",
       " 'I1',\n",
       " 'I1',\n",
       " 'I1',\n",
       " 'S4',\n",
       " 'S4',\n",
       " 'I3',\n",
       " 'I3',\n",
       " 'S5',\n",
       " 'S5',\n",
       " 'S5',\n",
       " 'S5',\n",
       " 'S5',\n",
       " 'S5',\n",
       " 'H2',\n",
       " 'H2',\n",
       " 'H2',\n",
       " 'H2',\n",
       " '0',\n",
       " '0',\n",
       " '0',\n",
       " '0',\n",
       " '0',\n",
       " '0',\n",
       " 'I5',\n",
       " 'I5',\n",
       " '0',\n",
       " '0',\n",
       " 'I2',\n",
       " 'I2',\n",
       " 'I2',\n",
       " 'I2',\n",
       " 'I2',\n",
       " '0',\n",
       " '0',\n",
       " 'M2',\n",
       " 'M2',\n",
       " 'M2',\n",
       " 'M2',\n",
       " 'S6',\n",
       " 'S6',\n",
       " 'S6',\n",
       " 'S6',\n",
       " 'S6',\n",
       " 'S6',\n",
       " 'S6',\n",
       " 'H3',\n",
       " 'H3',\n",
       " 'H3',\n",
       " 'H3',\n",
       " '0',\n",
       " '0',\n",
       " '0',\n",
       " '0',\n",
       " '0',\n",
       " '0',\n",
       " '0',\n",
       " 'E2',\n",
       " 'E2',\n",
       " 'E2',\n",
       " 'E2',\n",
       " 'E2',\n",
       " 'E2',\n",
       " 'E2',\n",
       " 'E2',\n",
       " 'E2',\n",
       " 'E2',\n",
       " 'E2',\n",
       " 'E2',\n",
       " 'E2',\n",
       " 'E2',\n",
       " 'E2',\n",
       " 'E2',\n",
       " 'E2',\n",
       " 'E2',\n",
       " 'E2',\n",
       " 'E2',\n",
       " 'E2']"
      ]
     },
     "execution_count": 16,
     "metadata": {},
     "output_type": "execute_result"
    }
   ],
   "source": [
    "segment = res.pl_seg_num.iloc[0].split(\"_\")\n",
    "segment"
   ]
  },
  {
   "cell_type": "code",
   "execution_count": 17,
   "metadata": {},
   "outputs": [
    {
     "data": {
      "text/plain": [
       "(array(['0', 'B1', 'E1', 'E2', 'H1', 'H2', 'H3', 'I1', 'I2', 'I3', 'I5',\n",
       "        'M1', 'M2', 'S1', 'S2', 'S3', 'S4', 'S5', 'S6'], dtype='<U2'),\n",
       " array([18, 22,  0, 86, 11, 43, 75, 28, 57, 35, 53, 25, 64,  5,  7, 26, 33,\n",
       "        37, 68]),\n",
       " array([ 2,  2,  2,  2,  2, 13, 13, 14, 14, 14, 14,  4,  4,  4,  4,  4,  4,\n",
       "         4,  0,  0,  0,  0,  1,  0,  0, 11, 15, 15,  7,  7,  7,  7,  7, 16,\n",
       "        16,  9,  9, 17, 17, 17, 17, 17, 17,  5,  5,  5,  5,  0,  0,  0,  0,\n",
       "         0,  0, 10, 10,  0,  0,  8,  8,  8,  8,  8,  0,  0, 12, 12, 12, 12,\n",
       "        18, 18, 18, 18, 18, 18, 18,  6,  6,  6,  6,  0,  0,  0,  0,  0,  0,\n",
       "         0,  3,  3,  3,  3,  3,  3,  3,  3,  3,  3,  3,  3,  3,  3,  3,  3,\n",
       "         3,  3,  3,  3,  3]))"
      ]
     },
     "execution_count": 17,
     "metadata": {},
     "output_type": "execute_result"
    }
   ],
   "source": [
    "segs, seg_idx, seg_rev_idx = np.unique(segment, return_index=True, return_inverse=True)\n",
    "segs, seg_idx, seg_rev_idx"
   ]
  },
  {
   "cell_type": "code",
   "execution_count": 10,
   "metadata": {},
   "outputs": [
    {
     "data": {
      "text/html": [
       "<div>\n",
       "<style scoped>\n",
       "    .dataframe tbody tr th:only-of-type {\n",
       "        vertical-align: middle;\n",
       "    }\n",
       "\n",
       "    .dataframe tbody tr th {\n",
       "        vertical-align: top;\n",
       "    }\n",
       "\n",
       "    .dataframe thead th {\n",
       "        text-align: right;\n",
       "    }\n",
       "</style>\n",
       "<table border=\"1\" class=\"dataframe\">\n",
       "  <thead>\n",
       "    <tr style=\"text-align: right;\">\n",
       "      <th></th>\n",
       "      <th>index</th>\n",
       "      <th>id</th>\n",
       "      <th>sequence</th>\n",
       "      <th>structure</th>\n",
       "      <th>predicted_loop_type</th>\n",
       "      <th>signal_to_noise</th>\n",
       "      <th>SN_filter</th>\n",
       "      <th>seq_length</th>\n",
       "      <th>seq_scored</th>\n",
       "      <th>reactivity_error</th>\n",
       "      <th>deg_error_Mg_pH10</th>\n",
       "      <th>deg_error_pH10</th>\n",
       "      <th>deg_error_Mg_50C</th>\n",
       "      <th>deg_error_50C</th>\n",
       "      <th>reactivity</th>\n",
       "      <th>deg_Mg_pH10</th>\n",
       "      <th>deg_pH10</th>\n",
       "      <th>deg_Mg_50C</th>\n",
       "      <th>deg_50C</th>\n",
       "    </tr>\n",
       "  </thead>\n",
       "  <tbody>\n",
       "    <tr>\n",
       "      <th>0</th>\n",
       "      <td>0</td>\n",
       "      <td>id_001f94081</td>\n",
       "      <td>GGAAAAGCUCUAAUAACAGGAGACUAGGACUACGUAUUUCUAGGUA...</td>\n",
       "      <td>.....((((((.......)))).)).((.....((..((((((......</td>\n",
       "      <td>EEEEESSSSSSHHHHHHHSSSSBSSXSSIIIIISSIISSSSSSHHH...</td>\n",
       "      <td>6.894</td>\n",
       "      <td>1</td>\n",
       "      <td>107</td>\n",
       "      <td>68</td>\n",
       "      <td>[0.1359, 0.20700000000000002, 0.1633, 0.1452, ...</td>\n",
       "      <td>[0.26130000000000003, 0.38420000000000004, 0.1...</td>\n",
       "      <td>[0.2631, 0.28600000000000003, 0.0964, 0.1574, ...</td>\n",
       "      <td>[0.1501, 0.275, 0.0947, 0.18660000000000002, 0...</td>\n",
       "      <td>[0.2167, 0.34750000000000003, 0.188, 0.2124, 0...</td>\n",
       "      <td>[0.3297, 1.5693000000000001, 1.1227, 0.8686, 0...</td>\n",
       "      <td>[0.7556, 2.983, 0.2526, 1.3789, 0.637600000000...</td>\n",
       "      <td>[2.3375, 3.5060000000000002, 0.3008, 1.0108, 0...</td>\n",
       "      <td>[0.35810000000000003, 2.9683, 0.2589, 1.4552, ...</td>\n",
       "      <td>[0.6382, 3.4773, 0.9988, 1.3228, 0.78770000000...</td>\n",
       "    </tr>\n",
       "    <tr>\n",
       "      <th>1</th>\n",
       "      <td>1</td>\n",
       "      <td>id_0049f53ba</td>\n",
       "      <td>GGAAAAAGCGCGCGCGGUUAGCGCGCGCUUUUGCGCGCGCUGUACC...</td>\n",
       "      <td>.....(((((((((((((((((((((((....)))))))))).)))...</td>\n",
       "      <td>EEEEESSSSSSSSSSSSSSSSSSSSSSSHHHHSSSSSSSSSSBSSS...</td>\n",
       "      <td>0.193</td>\n",
       "      <td>0</td>\n",
       "      <td>107</td>\n",
       "      <td>68</td>\n",
       "      <td>[2.8272, 2.8272, 2.8272, 4.7343, 2.5676, 2.567...</td>\n",
       "      <td>[73705.3985, 73705.3985, 73705.3985, 73705.398...</td>\n",
       "      <td>[10.1986, 9.2418, 5.0933, 5.0933, 5.0933, 5.09...</td>\n",
       "      <td>[16.6174, 13.868, 8.1968, 8.1968, 8.1968, 8.19...</td>\n",
       "      <td>[15.4857, 7.9596, 13.3957, 5.8777, 5.8777, 5.8...</td>\n",
       "      <td>[0.0, 0.0, 0.0, 2.2965, 0.0, 0.0, 0.0, 0.0, 0....</td>\n",
       "      <td>[0.0, 0.0, 0.0, 0.0, 0.0, 0.0, 0.0, 0.0, 0.0, ...</td>\n",
       "      <td>[4.947, 4.4523, 0.0, 0.0, 0.0, 0.0, 0.0, 0.0, ...</td>\n",
       "      <td>[4.8511, 4.0426, 0.0, 0.0, 0.0, 0.0, 0.0, 0.0,...</td>\n",
       "      <td>[7.6692, 0.0, 10.9561, 0.0, 0.0, 0.0, 0.0, 0.0...</td>\n",
       "    </tr>\n",
       "    <tr>\n",
       "      <th>2</th>\n",
       "      <td>2</td>\n",
       "      <td>id_006f36f57</td>\n",
       "      <td>GGAAAGUGCUCAGAUAAGCUAAGCUCGAAUAGCAAUCGAAUAGAAU...</td>\n",
       "      <td>.....((((.((.....((((.(((.....)))..((((......)...</td>\n",
       "      <td>EEEEESSSSISSIIIIISSSSMSSSHHHHHSSSMMSSSSHHHHHHS...</td>\n",
       "      <td>8.800</td>\n",
       "      <td>1</td>\n",
       "      <td>107</td>\n",
       "      <td>68</td>\n",
       "      <td>[0.0931, 0.13290000000000002, 0.11280000000000...</td>\n",
       "      <td>[0.1365, 0.2237, 0.1812, 0.1333, 0.1148, 0.160...</td>\n",
       "      <td>[0.17020000000000002, 0.178, 0.111, 0.091, 0.0...</td>\n",
       "      <td>[0.1033, 0.1464, 0.1126, 0.09620000000000001, ...</td>\n",
       "      <td>[0.14980000000000002, 0.1761, 0.1517, 0.116700...</td>\n",
       "      <td>[0.44820000000000004, 1.4822, 1.1819, 0.743400...</td>\n",
       "      <td>[0.2504, 1.4021, 0.9804, 0.49670000000000003, ...</td>\n",
       "      <td>[2.243, 2.9361, 1.0553, 0.721, 0.6396000000000...</td>\n",
       "      <td>[0.5163, 1.6823000000000001, 1.0426, 0.7902, 0...</td>\n",
       "      <td>[0.9501000000000001, 1.7974999999999999, 1.499...</td>\n",
       "    </tr>\n",
       "    <tr>\n",
       "      <th>3</th>\n",
       "      <td>3</td>\n",
       "      <td>id_0082d463b</td>\n",
       "      <td>GGAAAAGCGCGCGCGCGCGCGCGAAAAAGCGCGCGCGCGCGCGCGC...</td>\n",
       "      <td>......((((((((((((((((......))))))))))))))))((...</td>\n",
       "      <td>EEEEEESSSSSSSSSSSSSSSSHHHHHHSSSSSSSSSSSSSSSSSS...</td>\n",
       "      <td>0.104</td>\n",
       "      <td>0</td>\n",
       "      <td>107</td>\n",
       "      <td>68</td>\n",
       "      <td>[3.5229, 6.0748, 3.0374, 3.0374, 3.0374, 3.037...</td>\n",
       "      <td>[73705.3985, 73705.3985, 73705.3985, 73705.398...</td>\n",
       "      <td>[11.8007, 12.7566, 5.7733, 5.7733, 5.7733, 5.7...</td>\n",
       "      <td>[121286.7181, 121286.7182, 121286.7181, 121286...</td>\n",
       "      <td>[15.3995, 8.1124, 7.7824, 7.7824, 7.7824, 7.78...</td>\n",
       "      <td>[0.0, 2.2399, 0.0, 0.0, 0.0, 0.0, 0.0, 0.0, 0....</td>\n",
       "      <td>[0.0, -0.5083, 0.0, 0.0, 0.0, 0.0, 0.0, 0.0, 0...</td>\n",
       "      <td>[3.4248, 6.8128, 0.0, 0.0, 0.0, 0.0, 0.0, 0.0,...</td>\n",
       "      <td>[0.0, -0.8365, 0.0, 0.0, 0.0, 0.0, 0.0, 0.0, 0...</td>\n",
       "      <td>[7.6692, -1.3223, 0.0, 0.0, 0.0, 0.0, 0.0, 0.0...</td>\n",
       "    </tr>\n",
       "    <tr>\n",
       "      <th>4</th>\n",
       "      <td>4</td>\n",
       "      <td>id_0087940f4</td>\n",
       "      <td>GGAAAAUAUAUAAUAUAUUAUAUAAAUAUAUUAUAGAAGUAUAAUA...</td>\n",
       "      <td>.....(((((((.((((((((((((.(((((((((....)))))))...</td>\n",
       "      <td>EEEEESSSSSSSBSSSSSSSSSSSSBSSSSSSSSSHHHHSSSSSSS...</td>\n",
       "      <td>0.423</td>\n",
       "      <td>0</td>\n",
       "      <td>107</td>\n",
       "      <td>68</td>\n",
       "      <td>[1.665, 2.1728, 2.0041, 1.2405, 0.620200000000...</td>\n",
       "      <td>[4.2139, 3.9637000000000002, 3.2467, 2.4716, 1...</td>\n",
       "      <td>[3.0942, 3.015, 2.1212, 2.0552, 0.881500000000...</td>\n",
       "      <td>[2.6717, 2.4818, 1.9919, 2.5484999999999998, 1...</td>\n",
       "      <td>[1.3285, 3.6173, 1.3057, 1.3021, 1.1507, 1.150...</td>\n",
       "      <td>[0.8267, 2.6577, 2.8481, 0.40090000000000003, ...</td>\n",
       "      <td>[2.1058, 3.138, 2.5437000000000003, 1.0932, 0....</td>\n",
       "      <td>[4.7366, 4.6243, 1.2068, 1.1538, 0.0, 0.0, 0.7...</td>\n",
       "      <td>[2.2052, 1.7947000000000002, 0.7457, 3.1233, 0...</td>\n",
       "      <td>[0.0, 5.1198, -0.3551, -0.3518, 0.0, 0.0, 0.0,...</td>\n",
       "    </tr>\n",
       "  </tbody>\n",
       "</table>\n",
       "</div>"
      ],
      "text/plain": [
       "   index            id                                           sequence  \\\n",
       "0      0  id_001f94081  GGAAAAGCUCUAAUAACAGGAGACUAGGACUACGUAUUUCUAGGUA...   \n",
       "1      1  id_0049f53ba  GGAAAAAGCGCGCGCGGUUAGCGCGCGCUUUUGCGCGCGCUGUACC...   \n",
       "2      2  id_006f36f57  GGAAAGUGCUCAGAUAAGCUAAGCUCGAAUAGCAAUCGAAUAGAAU...   \n",
       "3      3  id_0082d463b  GGAAAAGCGCGCGCGCGCGCGCGAAAAAGCGCGCGCGCGCGCGCGC...   \n",
       "4      4  id_0087940f4  GGAAAAUAUAUAAUAUAUUAUAUAAAUAUAUUAUAGAAGUAUAAUA...   \n",
       "\n",
       "                                           structure  \\\n",
       "0  .....((((((.......)))).)).((.....((..((((((......   \n",
       "1  .....(((((((((((((((((((((((....)))))))))).)))...   \n",
       "2  .....((((.((.....((((.(((.....)))..((((......)...   \n",
       "3  ......((((((((((((((((......))))))))))))))))((...   \n",
       "4  .....(((((((.((((((((((((.(((((((((....)))))))...   \n",
       "\n",
       "                                 predicted_loop_type  signal_to_noise  \\\n",
       "0  EEEEESSSSSSHHHHHHHSSSSBSSXSSIIIIISSIISSSSSSHHH...            6.894   \n",
       "1  EEEEESSSSSSSSSSSSSSSSSSSSSSSHHHHSSSSSSSSSSBSSS...            0.193   \n",
       "2  EEEEESSSSISSIIIIISSSSMSSSHHHHHSSSMMSSSSHHHHHHS...            8.800   \n",
       "3  EEEEEESSSSSSSSSSSSSSSSHHHHHHSSSSSSSSSSSSSSSSSS...            0.104   \n",
       "4  EEEEESSSSSSSBSSSSSSSSSSSSBSSSSSSSSSHHHHSSSSSSS...            0.423   \n",
       "\n",
       "   SN_filter  seq_length  seq_scored  \\\n",
       "0          1         107          68   \n",
       "1          0         107          68   \n",
       "2          1         107          68   \n",
       "3          0         107          68   \n",
       "4          0         107          68   \n",
       "\n",
       "                                    reactivity_error  \\\n",
       "0  [0.1359, 0.20700000000000002, 0.1633, 0.1452, ...   \n",
       "1  [2.8272, 2.8272, 2.8272, 4.7343, 2.5676, 2.567...   \n",
       "2  [0.0931, 0.13290000000000002, 0.11280000000000...   \n",
       "3  [3.5229, 6.0748, 3.0374, 3.0374, 3.0374, 3.037...   \n",
       "4  [1.665, 2.1728, 2.0041, 1.2405, 0.620200000000...   \n",
       "\n",
       "                                   deg_error_Mg_pH10  \\\n",
       "0  [0.26130000000000003, 0.38420000000000004, 0.1...   \n",
       "1  [73705.3985, 73705.3985, 73705.3985, 73705.398...   \n",
       "2  [0.1365, 0.2237, 0.1812, 0.1333, 0.1148, 0.160...   \n",
       "3  [73705.3985, 73705.3985, 73705.3985, 73705.398...   \n",
       "4  [4.2139, 3.9637000000000002, 3.2467, 2.4716, 1...   \n",
       "\n",
       "                                      deg_error_pH10  \\\n",
       "0  [0.2631, 0.28600000000000003, 0.0964, 0.1574, ...   \n",
       "1  [10.1986, 9.2418, 5.0933, 5.0933, 5.0933, 5.09...   \n",
       "2  [0.17020000000000002, 0.178, 0.111, 0.091, 0.0...   \n",
       "3  [11.8007, 12.7566, 5.7733, 5.7733, 5.7733, 5.7...   \n",
       "4  [3.0942, 3.015, 2.1212, 2.0552, 0.881500000000...   \n",
       "\n",
       "                                    deg_error_Mg_50C  \\\n",
       "0  [0.1501, 0.275, 0.0947, 0.18660000000000002, 0...   \n",
       "1  [16.6174, 13.868, 8.1968, 8.1968, 8.1968, 8.19...   \n",
       "2  [0.1033, 0.1464, 0.1126, 0.09620000000000001, ...   \n",
       "3  [121286.7181, 121286.7182, 121286.7181, 121286...   \n",
       "4  [2.6717, 2.4818, 1.9919, 2.5484999999999998, 1...   \n",
       "\n",
       "                                       deg_error_50C  \\\n",
       "0  [0.2167, 0.34750000000000003, 0.188, 0.2124, 0...   \n",
       "1  [15.4857, 7.9596, 13.3957, 5.8777, 5.8777, 5.8...   \n",
       "2  [0.14980000000000002, 0.1761, 0.1517, 0.116700...   \n",
       "3  [15.3995, 8.1124, 7.7824, 7.7824, 7.7824, 7.78...   \n",
       "4  [1.3285, 3.6173, 1.3057, 1.3021, 1.1507, 1.150...   \n",
       "\n",
       "                                          reactivity  \\\n",
       "0  [0.3297, 1.5693000000000001, 1.1227, 0.8686, 0...   \n",
       "1  [0.0, 0.0, 0.0, 2.2965, 0.0, 0.0, 0.0, 0.0, 0....   \n",
       "2  [0.44820000000000004, 1.4822, 1.1819, 0.743400...   \n",
       "3  [0.0, 2.2399, 0.0, 0.0, 0.0, 0.0, 0.0, 0.0, 0....   \n",
       "4  [0.8267, 2.6577, 2.8481, 0.40090000000000003, ...   \n",
       "\n",
       "                                         deg_Mg_pH10  \\\n",
       "0  [0.7556, 2.983, 0.2526, 1.3789, 0.637600000000...   \n",
       "1  [0.0, 0.0, 0.0, 0.0, 0.0, 0.0, 0.0, 0.0, 0.0, ...   \n",
       "2  [0.2504, 1.4021, 0.9804, 0.49670000000000003, ...   \n",
       "3  [0.0, -0.5083, 0.0, 0.0, 0.0, 0.0, 0.0, 0.0, 0...   \n",
       "4  [2.1058, 3.138, 2.5437000000000003, 1.0932, 0....   \n",
       "\n",
       "                                            deg_pH10  \\\n",
       "0  [2.3375, 3.5060000000000002, 0.3008, 1.0108, 0...   \n",
       "1  [4.947, 4.4523, 0.0, 0.0, 0.0, 0.0, 0.0, 0.0, ...   \n",
       "2  [2.243, 2.9361, 1.0553, 0.721, 0.6396000000000...   \n",
       "3  [3.4248, 6.8128, 0.0, 0.0, 0.0, 0.0, 0.0, 0.0,...   \n",
       "4  [4.7366, 4.6243, 1.2068, 1.1538, 0.0, 0.0, 0.7...   \n",
       "\n",
       "                                          deg_Mg_50C  \\\n",
       "0  [0.35810000000000003, 2.9683, 0.2589, 1.4552, ...   \n",
       "1  [4.8511, 4.0426, 0.0, 0.0, 0.0, 0.0, 0.0, 0.0,...   \n",
       "2  [0.5163, 1.6823000000000001, 1.0426, 0.7902, 0...   \n",
       "3  [0.0, -0.8365, 0.0, 0.0, 0.0, 0.0, 0.0, 0.0, 0...   \n",
       "4  [2.2052, 1.7947000000000002, 0.7457, 3.1233, 0...   \n",
       "\n",
       "                                             deg_50C  \n",
       "0  [0.6382, 3.4773, 0.9988, 1.3228, 0.78770000000...  \n",
       "1  [7.6692, 0.0, 10.9561, 0.0, 0.0, 0.0, 0.0, 0.0...  \n",
       "2  [0.9501000000000001, 1.7974999999999999, 1.499...  \n",
       "3  [7.6692, -1.3223, 0.0, 0.0, 0.0, 0.0, 0.0, 0.0...  \n",
       "4  [0.0, 5.1198, -0.3551, -0.3518, 0.0, 0.0, 0.0,...  "
      ]
     },
     "execution_count": 10,
     "metadata": {},
     "output_type": "execute_result"
    }
   ],
   "source": [
    "train.head()"
   ]
  },
  {
   "cell_type": "code",
   "execution_count": 4,
   "metadata": {},
   "outputs": [
    {
     "data": {
      "text/html": [
       "<div>\n",
       "<style scoped>\n",
       "    .dataframe tbody tr th:only-of-type {\n",
       "        vertical-align: middle;\n",
       "    }\n",
       "\n",
       "    .dataframe tbody tr th {\n",
       "        vertical-align: top;\n",
       "    }\n",
       "\n",
       "    .dataframe thead th {\n",
       "        text-align: right;\n",
       "    }\n",
       "</style>\n",
       "<table border=\"1\" class=\"dataframe\">\n",
       "  <thead>\n",
       "    <tr style=\"text-align: right;\">\n",
       "      <th></th>\n",
       "      <th>id</th>\n",
       "      <th>pstructure</th>\n",
       "      <th>bp_seg_num</th>\n",
       "      <th>bp_seg_pairs</th>\n",
       "      <th>pl_seg_num</th>\n",
       "    </tr>\n",
       "  </thead>\n",
       "  <tbody>\n",
       "    <tr>\n",
       "      <th>0</th>\n",
       "      <td>id_001f94081</td>\n",
       "      <td>EEEEESSSSSSHHHHHHHSSSSBSSMSSIIIIISSIISSSSSSHHH...</td>\n",
       "      <td>-1_-1_-1_-1_-1_1_1_1_1_1_1_-1_-1_-1_-1_-1_-1_-...</td>\n",
       "      <td>0_0_0_0_0_6_6_6_6_6_6_0_0_0_0_0_0_0_6_6_6_6_6_...</td>\n",
       "      <td>E1_E1_E1_E1_E1_S1_S1_S2_S2_S2_S2_H1_H1_H1_H1_H...</td>\n",
       "    </tr>\n",
       "    <tr>\n",
       "      <th>1</th>\n",
       "      <td>id_0049f53ba</td>\n",
       "      <td>EEEEESSSSSSSSSSSSSSSSSSSSSSSHHHHSSSSSSSSSSBSSS...</td>\n",
       "      <td>-1_-1_-1_-1_-1_1_1_1_1_1_1_1_1_1_1_1_1_1_1_1_1...</td>\n",
       "      <td>0_0_0_0_0_23_23_23_23_23_23_23_23_23_23_23_23_...</td>\n",
       "      <td>E1_E1_E1_E1_E1_S1_S1_S1_S1_S1_S1_S1_S1_S1_S1_S...</td>\n",
       "    </tr>\n",
       "    <tr>\n",
       "      <th>2</th>\n",
       "      <td>id_006f36f57</td>\n",
       "      <td>EEEEESSSSISSIIIIISSSSMSSSHHHHHSSSMMSSSSHHHHHHS...</td>\n",
       "      <td>-1_-1_-1_-1_-1_1_1_1_1_1_1_1_1_1_1_1_1_1_1_1_1...</td>\n",
       "      <td>0_0_0_0_0_10_10_10_10_10_10_10_10_10_10_10_10_...</td>\n",
       "      <td>E1_E1_E1_E1_E1_S1_S1_S1_S1_I1_S2_S2_I3_I3_I3_I...</td>\n",
       "    </tr>\n",
       "    <tr>\n",
       "      <th>3</th>\n",
       "      <td>id_0082d463b</td>\n",
       "      <td>EEEEEESSSSSSSSSSSSSSSSHHHHHHSSSSSSSSSSSSSSSSSS...</td>\n",
       "      <td>-1_-1_-1_-1_-1_-1_1_1_1_1_1_1_1_1_1_1_1_1_1_1_...</td>\n",
       "      <td>0_0_0_0_0_0_16_16_16_16_16_16_16_16_16_16_16_1...</td>\n",
       "      <td>E1_E1_E1_E1_E1_E1_S1_S1_S1_S1_S1_S1_S1_S1_S1_S...</td>\n",
       "    </tr>\n",
       "    <tr>\n",
       "      <th>4</th>\n",
       "      <td>id_0087940f4</td>\n",
       "      <td>EEEEESSSSSSSBSSSSSSSSSSSSBSSSSSSSSSHHHHSSSSSSS...</td>\n",
       "      <td>-1_-1_-1_-1_-1_1_1_1_1_1_1_1_1_1_1_1_1_1_1_1_1...</td>\n",
       "      <td>0_0_0_0_0_28_28_28_28_28_28_28_28_28_28_28_28_...</td>\n",
       "      <td>E1_E1_E1_E1_E1_S1_S1_S1_S1_S1_S1_S1_B1_S2_S2_S...</td>\n",
       "    </tr>\n",
       "  </tbody>\n",
       "</table>\n",
       "</div>"
      ],
      "text/plain": [
       "             id                                         pstructure  \\\n",
       "0  id_001f94081  EEEEESSSSSSHHHHHHHSSSSBSSMSSIIIIISSIISSSSSSHHH...   \n",
       "1  id_0049f53ba  EEEEESSSSSSSSSSSSSSSSSSSSSSSHHHHSSSSSSSSSSBSSS...   \n",
       "2  id_006f36f57  EEEEESSSSISSIIIIISSSSMSSSHHHHHSSSMMSSSSHHHHHHS...   \n",
       "3  id_0082d463b  EEEEEESSSSSSSSSSSSSSSSHHHHHHSSSSSSSSSSSSSSSSSS...   \n",
       "4  id_0087940f4  EEEEESSSSSSSBSSSSSSSSSSSSBSSSSSSSSSHHHHSSSSSSS...   \n",
       "\n",
       "                                          bp_seg_num  \\\n",
       "0  -1_-1_-1_-1_-1_1_1_1_1_1_1_-1_-1_-1_-1_-1_-1_-...   \n",
       "1  -1_-1_-1_-1_-1_1_1_1_1_1_1_1_1_1_1_1_1_1_1_1_1...   \n",
       "2  -1_-1_-1_-1_-1_1_1_1_1_1_1_1_1_1_1_1_1_1_1_1_1...   \n",
       "3  -1_-1_-1_-1_-1_-1_1_1_1_1_1_1_1_1_1_1_1_1_1_1_...   \n",
       "4  -1_-1_-1_-1_-1_1_1_1_1_1_1_1_1_1_1_1_1_1_1_1_1...   \n",
       "\n",
       "                                        bp_seg_pairs  \\\n",
       "0  0_0_0_0_0_6_6_6_6_6_6_0_0_0_0_0_0_0_6_6_6_6_6_...   \n",
       "1  0_0_0_0_0_23_23_23_23_23_23_23_23_23_23_23_23_...   \n",
       "2  0_0_0_0_0_10_10_10_10_10_10_10_10_10_10_10_10_...   \n",
       "3  0_0_0_0_0_0_16_16_16_16_16_16_16_16_16_16_16_1...   \n",
       "4  0_0_0_0_0_28_28_28_28_28_28_28_28_28_28_28_28_...   \n",
       "\n",
       "                                          pl_seg_num  \n",
       "0  E1_E1_E1_E1_E1_S1_S1_S2_S2_S2_S2_H1_H1_H1_H1_H...  \n",
       "1  E1_E1_E1_E1_E1_S1_S1_S1_S1_S1_S1_S1_S1_S1_S1_S...  \n",
       "2  E1_E1_E1_E1_E1_S1_S1_S1_S1_I1_S2_S2_I3_I3_I3_I...  \n",
       "3  E1_E1_E1_E1_E1_E1_S1_S1_S1_S1_S1_S1_S1_S1_S1_S...  \n",
       "4  E1_E1_E1_E1_E1_S1_S1_S1_S1_S1_S1_S1_B1_S2_S2_S...  "
      ]
     },
     "execution_count": 4,
     "metadata": {},
     "output_type": "execute_result"
    }
   ],
   "source": [
    "res = pd.read_csv(\"data/predicted_loop_segments.csv\")\n",
    "res.head()"
   ]
  },
  {
   "cell_type": "code",
   "execution_count": 5,
   "metadata": {},
   "outputs": [],
   "source": [
    "from pytorch_geometric_dataset import preprare_graph\n",
    "index = 3000\n",
    "seqid = seq_ids[index]\n",
    "sequence = sequences[index]\n",
    "structure = structures[index]\n",
    "predicted_loop_type = predicted_loop_types[index]\n",
    "bpps = np.load(f\"data/bpps/{seqid}.npy\")\n",
    "segment_bp = res.bp_seg_num.iloc[index]\n",
    "segment_bp_pairs = res.bp_seg_pairs.iloc[index]\n",
    "segment_pl = res.pl_seg_num.iloc[index]\n",
    "\n",
    "data = preprare_graph(sequence, structure, predicted_loop_type, bpps, segment_bp, segment_bp_pairs, segment_pl)"
   ]
  },
  {
   "cell_type": "code",
   "execution_count": 6,
   "metadata": {},
   "outputs": [],
   "source": [
    "from torch_geometric.utils.convert import to_networkx\n",
    "graph = to_networkx(data)\n",
    "node_labels = np.array(range(data.num_nodes))"
   ]
  },
  {
   "cell_type": "code",
   "execution_count": 7,
   "metadata": {},
   "outputs": [
    {
     "data": {
      "text/plain": [
       "135"
      ]
     },
     "execution_count": 7,
     "metadata": {},
     "output_type": "execute_result"
    }
   ],
   "source": [
    "data.num_nodes"
   ]
  },
  {
   "cell_type": "code",
   "execution_count": 9,
   "metadata": {},
   "outputs": [
    {
     "data": {
      "image/png": "[encoded data removed]",
      "text/plain": [
       "<Figure size 1008x864 with 1 Axes>"
      ]
     },
     "metadata": {},
     "output_type": "display_data"
    }
   ],
   "source": [
    "import matplotlib.pyplot as plt\n",
    "import networkx as nx\n",
    "plt.figure(1,figsize=(14,12)) \n",
    "nx.draw(graph, cmap=plt.get_cmap('rainbow'),node_color = node_labels,node_size=75,linewidths=6)\n",
    "plt.show()"
   ]
  },
  {
   "cell_type": "code",
   "execution_count": 39,
   "metadata": {},
   "outputs": [
    {
     "ename": "NameError",
     "evalue": "name 'get_segment_neighors' is not defined",
     "output_type": "error",
     "traceback": [
      "\u001b[0;31m---------------------------------------------------------------------------\u001b[0m",
      "\u001b[0;31mNameError\u001b[0m                                 Traceback (most recent call last)",
      "\u001b[0;32m<ipython-input-39-5ec1c032a1aa>\u001b[0m in \u001b[0;36m<module>\u001b[0;34m\u001b[0m\n\u001b[0;32m----> 1\u001b[0;31m \u001b[0mget_segment_neighors\u001b[0m\u001b[0;34m(\u001b[0m\u001b[0msegment\u001b[0m\u001b[0;34m)\u001b[0m\u001b[0;34m\u001b[0m\u001b[0;34m\u001b[0m\u001b[0m\n\u001b[0m",
      "\u001b[0;31mNameError\u001b[0m: name 'get_segment_neighors' is not defined"
     ]
    }
   ],
   "source": [
    "get_segment_neighors(segment)"
   ]
  },
  {
   "cell_type": "code",
   "execution_count": 9,
   "metadata": {},
   "outputs": [
    {
     "data": {
      "text/html": [
       "<div>\n",
       "<style scoped>\n",
       "    .dataframe tbody tr th:only-of-type {\n",
       "        vertical-align: middle;\n",
       "    }\n",
       "\n",
       "    .dataframe tbody tr th {\n",
       "        vertical-align: top;\n",
       "    }\n",
       "\n",
       "    .dataframe thead th {\n",
       "        text-align: right;\n",
       "    }\n",
       "</style>\n",
       "<table border=\"1\" class=\"dataframe\">\n",
       "  <thead>\n",
       "    <tr style=\"text-align: right;\">\n",
       "      <th></th>\n",
       "      <th>vienna_7</th>\n",
       "      <th>vienna_17</th>\n",
       "      <th>vienna_27</th>\n",
       "      <th>vienna_47</th>\n",
       "      <th>vienna_57</th>\n",
       "      <th>vienna_67</th>\n",
       "      <th>id</th>\n",
       "    </tr>\n",
       "  </thead>\n",
       "  <tbody>\n",
       "    <tr>\n",
       "      <th>0</th>\n",
       "      <td>.......((((.......)))).((((((........))))))......</td>\n",
       "      <td>.......((((.......)))).((((((........))))))......</td>\n",
       "      <td>.....((((((.......)))).)).((.....((..((((((......</td>\n",
       "      <td>.....((((((.......)))).)).((.....((..((((((......</td>\n",
       "      <td>................(((....((((((........))))))......</td>\n",
       "      <td>......................................(((((......</td>\n",
       "      <td>id_001f94081</td>\n",
       "    </tr>\n",
       "    <tr>\n",
       "      <th>1</th>\n",
       "      <td>.....(((((((((((((((((((((((....)))))))))).)))...</td>\n",
       "      <td>.....(((((((((((((((((((((((....)))))))))).)))...</td>\n",
       "      <td>.....(((((((((((((((((((((((....)))))))))).)))...</td>\n",
       "      <td>.....(((((((((((((((((((((((....)))))))))).)))...</td>\n",
       "      <td>.....(((((((((((((((((((((((....)))))))))).)))...</td>\n",
       "      <td>.....(((((((((((((((((((((((....)))))))))).)))...</td>\n",
       "      <td>id_0049f53ba</td>\n",
       "    </tr>\n",
       "    <tr>\n",
       "      <th>2</th>\n",
       "      <td>.....((((.((.....((((.(((.....)))..((((......)...</td>\n",
       "      <td>.....((((.((.....((((.(((.....)))..((((......)...</td>\n",
       "      <td>.....((((.((.....((((.(((.....)))..((((......)...</td>\n",
       "      <td>.....((((.((.....((((.(((.....)))..((((......)...</td>\n",
       "      <td>........................((((...((..((((......)...</td>\n",
       "      <td>.....................(..((((...((..((((......)...</td>\n",
       "      <td>id_006f36f57</td>\n",
       "    </tr>\n",
       "    <tr>\n",
       "      <th>3</th>\n",
       "      <td>......((((((((((((((((......))))))))))))))))((...</td>\n",
       "      <td>......((((((((((((((((......))))))))))))))))((...</td>\n",
       "      <td>......((((((((((((((((......))))))))))))))))((...</td>\n",
       "      <td>......((((((((((((((((......))))))))))))))))((...</td>\n",
       "      <td>......(((((((((((((((((......)))))))))))))))))...</td>\n",
       "      <td>......(((((((((((((((((......)))))))))))))))))...</td>\n",
       "      <td>id_0082d463b</td>\n",
       "    </tr>\n",
       "    <tr>\n",
       "      <th>4</th>\n",
       "      <td>.....(((((((.((((((((((((.(((((((((....)))))))...</td>\n",
       "      <td>.....(((((((.((((((((((((.(((((((((....)))))))...</td>\n",
       "      <td>.....(((((((.((((((((((((.(((((((((....)))))))...</td>\n",
       "      <td>.....(((((((.((((((((((((.(((((((((....)))))))...</td>\n",
       "      <td>......(((((((((((((((((...............))))))))...</td>\n",
       "      <td>......(((((((((((((((((...............))))))))...</td>\n",
       "      <td>id_0087940f4</td>\n",
       "    </tr>\n",
       "  </tbody>\n",
       "</table>\n",
       "</div>"
      ],
      "text/plain": [
       "                                            vienna_7  \\\n",
       "0  .......((((.......)))).((((((........))))))......   \n",
       "1  .....(((((((((((((((((((((((....)))))))))).)))...   \n",
       "2  .....((((.((.....((((.(((.....)))..((((......)...   \n",
       "3  ......((((((((((((((((......))))))))))))))))((...   \n",
       "4  .....(((((((.((((((((((((.(((((((((....)))))))...   \n",
       "\n",
       "                                           vienna_17  \\\n",
       "0  .......((((.......)))).((((((........))))))......   \n",
       "1  .....(((((((((((((((((((((((....)))))))))).)))...   \n",
       "2  .....((((.((.....((((.(((.....)))..((((......)...   \n",
       "3  ......((((((((((((((((......))))))))))))))))((...   \n",
       "4  .....(((((((.((((((((((((.(((((((((....)))))))...   \n",
       "\n",
       "                                           vienna_27  \\\n",
       "0  .....((((((.......)))).)).((.....((..((((((......   \n",
       "1  .....(((((((((((((((((((((((....)))))))))).)))...   \n",
       "2  .....((((.((.....((((.(((.....)))..((((......)...   \n",
       "3  ......((((((((((((((((......))))))))))))))))((...   \n",
       "4  .....(((((((.((((((((((((.(((((((((....)))))))...   \n",
       "\n",
       "                                           vienna_47  \\\n",
       "0  .....((((((.......)))).)).((.....((..((((((......   \n",
       "1  .....(((((((((((((((((((((((....)))))))))).)))...   \n",
       "2  .....((((.((.....((((.(((.....)))..((((......)...   \n",
       "3  ......((((((((((((((((......))))))))))))))))((...   \n",
       "4  .....(((((((.((((((((((((.(((((((((....)))))))...   \n",
       "\n",
       "                                           vienna_57  \\\n",
       "0  ................(((....((((((........))))))......   \n",
       "1  .....(((((((((((((((((((((((....)))))))))).)))...   \n",
       "2  ........................((((...((..((((......)...   \n",
       "3  ......(((((((((((((((((......)))))))))))))))))...   \n",
       "4  ......(((((((((((((((((...............))))))))...   \n",
       "\n",
       "                                           vienna_67            id  \n",
       "0  ......................................(((((......  id_001f94081  \n",
       "1  .....(((((((((((((((((((((((....)))))))))).)))...  id_0049f53ba  \n",
       "2  .....................(..((((...((..((((......)...  id_006f36f57  \n",
       "3  ......(((((((((((((((((......)))))))))))))))))...  id_0082d463b  \n",
       "4  ......(((((((((((((((((...............))))))))...  id_0087940f4  "
      ]
     },
     "execution_count": 9,
     "metadata": {},
     "output_type": "execute_result"
    }
   ],
   "source": [
    "vienna_structs = pd.read_csv(\"data/vienna_sructures_mec.csv\")\n",
    "vienna_structs.head()"
   ]
  },
  {
   "cell_type": "code",
   "execution_count": 22,
   "metadata": {},
   "outputs": [
    {
     "data": {
      "text/plain": [
       "('................(((((.((....((((.((((....))))..))))....))..)))))....(((((((....))))))).....................',\n",
       " '................(((((.((....((((.((((....))))..))))....))..)))))....(((((((....))))))).....................')"
      ]
     },
     "execution_count": 22,
     "metadata": {},
     "output_type": "execute_result"
    }
   ],
   "source": [
    "train.structure.iloc[101], vienna_structs.vienna_47.iloc[101]"
   ]
  },
  {
   "cell_type": "code",
   "execution_count": 11,
   "metadata": {},
   "outputs": [
    {
     "data": {
      "text/plain": [
       "'EEEEESSSSSSSSSSSSSSSSSSSSSSSHHHHSSSSSSSSSSBSSSSSSSSSSSSSXXSSSHHHSSSXSSSSSSSHHHHSSSSSSSEEEEEEEEEEEEEEEEEEEEE'"
      ]
     },
     "execution_count": 11,
     "metadata": {},
     "output_type": "execute_result"
    }
   ],
   "source": [
    "sequence = sequences[1]\n",
    "structure = vienna_structs.vienna_17.iloc[1]\n",
    "seqid = seq_ids[1]\n",
    "predict_loop(sequence, structure, seqid)"
   ]
  },
  {
   "cell_type": "code",
   "execution_count": 5,
   "metadata": {},
   "outputs": [
    {
     "data": {
      "text/plain": [
       "(107, 107, 7)"
      ]
     },
     "execution_count": 5,
     "metadata": {},
     "output_type": "execute_result"
    }
   ],
   "source": [
    "import numpy as np\n",
    "seq_id = \"id_001f94081\"\n",
    "b1 = [np.load(f\"data/bpps/{seq_id}.npy\").astype(\"float32\")]\n",
    "b2 = [np.load(f\"data/vienna_2/bpps/{seq_id}_{T}.npy\").astype(\"float32\") for T in [7, 17, 27, 47, 57, 67]]\n",
    "b =b1 + b2\n",
    "np.dstack(b).shape"
   ]
  },
  {
   "cell_type": "code",
   "execution_count": 12,
   "metadata": {},
   "outputs": [
    {
     "name": "stderr",
     "output_type": "stream",
     "text": [
      "6034it [02:20, 42.90it/s]\n",
      "6034it [02:17, 43.96it/s]\n",
      "6034it [02:16, 44.08it/s]\n",
      "6034it [02:24, 41.69it/s]\n",
      "6034it [02:28, 40.75it/s]\n",
      "6034it [02:28, 40.71it/s]\n"
     ]
    }
   ],
   "source": [
    "vienna_pl = {}\n",
    "for T in [7, 17, 27, 47, 57, 67]:\n",
    "    structures = vienna_structs[f\"vienna_{T}\"].tolist()\n",
    "    res = Parallel(16)(delayed(predict_loop)(seq, struc, seqid) for seq, struc, seqid in tqdm(zip(sequences, structures, seq_ids)))\n",
    "    #res = []\n",
    "    #for seq, struc in tqdm(zip(sequences[:10], structures[:10])):\n",
    "    #    res.append(predict_loop(seq, struc))\n",
    "    res = np.array(res)\n",
    "    vienna_structs[f\"vienna_{T}_pl\"]= res"
   ]
  },
  {
   "cell_type": "code",
   "execution_count": 13,
   "metadata": {},
   "outputs": [
    {
     "data": {
      "text/html": [
       "<div>\n",
       "<style scoped>\n",
       "    .dataframe tbody tr th:only-of-type {\n",
       "        vertical-align: middle;\n",
       "    }\n",
       "\n",
       "    .dataframe tbody tr th {\n",
       "        vertical-align: top;\n",
       "    }\n",
       "\n",
       "    .dataframe thead th {\n",
       "        text-align: right;\n",
       "    }\n",
       "</style>\n",
       "<table border=\"1\" class=\"dataframe\">\n",
       "  <thead>\n",
       "    <tr style=\"text-align: right;\">\n",
       "      <th></th>\n",
       "      <th>vienna_67</th>\n",
       "      <th>vienna_67_pl</th>\n",
       "    </tr>\n",
       "  </thead>\n",
       "  <tbody>\n",
       "    <tr>\n",
       "      <th>0</th>\n",
       "      <td>......................................(((((......</td>\n",
       "      <td>EEEEEEEEEEEEEEEEEEEEEEEEEEEEEEEEEEEEEESSSSSHHH...</td>\n",
       "    </tr>\n",
       "    <tr>\n",
       "      <th>1</th>\n",
       "      <td>.....(((((((((((((((((((((((....)))))))))).)))...</td>\n",
       "      <td>EEEEESSSSSSSSSSSSSSSSSSSSSSSHHHHSSSSSSSSSSBSSS...</td>\n",
       "    </tr>\n",
       "    <tr>\n",
       "      <th>2</th>\n",
       "      <td>.....................(..((((...((..((((......)...</td>\n",
       "      <td>EEEEEEEEEEEEEEEEEEEEESIISSSSIIISSIISSSSHHHHHHS...</td>\n",
       "    </tr>\n",
       "    <tr>\n",
       "      <th>3</th>\n",
       "      <td>......(((((((((((((((((......)))))))))))))))))...</td>\n",
       "      <td>EEEEEESSSSSSSSSSSSSSSSSHHHHHHSSSSSSSSSSSSSSSSS...</td>\n",
       "    </tr>\n",
       "    <tr>\n",
       "      <th>4</th>\n",
       "      <td>......(((((((((((((((((...............))))))))...</td>\n",
       "      <td>EEEEEESSSSSSSSSSSSSSSSSHHHHHHHHHHHHHHHSSSSSSSS...</td>\n",
       "    </tr>\n",
       "    <tr>\n",
       "      <th>...</th>\n",
       "      <td>...</td>\n",
       "      <td>...</td>\n",
       "    </tr>\n",
       "    <tr>\n",
       "      <th>6029</th>\n",
       "      <td>........(((((.....((((...((((((......))))))......</td>\n",
       "      <td>EEEEEEEESSSSSMMMMMSSSSIIISSSSSSHHHHHHSSSSSSIII...</td>\n",
       "    </tr>\n",
       "    <tr>\n",
       "      <th>6030</th>\n",
       "      <td>.......(((((...(((..........))).......(((........</td>\n",
       "      <td>EEEEEEESSSSSMMMSSSHHHHHHHHHHSSSMMMMMMMSSSHHHHH...</td>\n",
       "    </tr>\n",
       "    <tr>\n",
       "      <th>6031</th>\n",
       "      <td>.....(((((((....)))))))(((.(((((((((((((((((((...</td>\n",
       "      <td>EEEEESSSSSSSHHHHSSSSSSSSSSBSSSSSSSSSSSSSSSSSSS...</td>\n",
       "    </tr>\n",
       "    <tr>\n",
       "      <th>6032</th>\n",
       "      <td>...............................((((((............</td>\n",
       "      <td>EEEEEEEEEEEEEEEEEEEEEEEEEEEEEEESSSSSSIIIIIIIII...</td>\n",
       "    </tr>\n",
       "    <tr>\n",
       "      <th>6033</th>\n",
       "      <td>.......(((..((((.....((((.(((((((...((..(((((....</td>\n",
       "      <td>EEEEEEESSSIISSSSIIIIISSSSBSSSSSSSIIISSIISSSSSH...</td>\n",
       "    </tr>\n",
       "  </tbody>\n",
       "</table>\n",
       "<p>6034 rows × 2 columns</p>\n",
       "</div>"
      ],
      "text/plain": [
       "                                              vienna_67  \\\n",
       "0     ......................................(((((......   \n",
       "1     .....(((((((((((((((((((((((....)))))))))).)))...   \n",
       "2     .....................(..((((...((..((((......)...   \n",
       "3     ......(((((((((((((((((......)))))))))))))))))...   \n",
       "4     ......(((((((((((((((((...............))))))))...   \n",
       "...                                                 ...   \n",
       "6029  ........(((((.....((((...((((((......))))))......   \n",
       "6030  .......(((((...(((..........))).......(((........   \n",
       "6031  .....(((((((....)))))))(((.(((((((((((((((((((...   \n",
       "6032  ...............................((((((............   \n",
       "6033  .......(((..((((.....((((.(((((((...((..(((((....   \n",
       "\n",
       "                                           vienna_67_pl  \n",
       "0     EEEEEEEEEEEEEEEEEEEEEEEEEEEEEEEEEEEEEESSSSSHHH...  \n",
       "1     EEEEESSSSSSSSSSSSSSSSSSSSSSSHHHHSSSSSSSSSSBSSS...  \n",
       "2     EEEEEEEEEEEEEEEEEEEEESIISSSSIIISSIISSSSHHHHHHS...  \n",
       "3     EEEEEESSSSSSSSSSSSSSSSSHHHHHHSSSSSSSSSSSSSSSSS...  \n",
       "4     EEEEEESSSSSSSSSSSSSSSSSHHHHHHHHHHHHHHHSSSSSSSS...  \n",
       "...                                                 ...  \n",
       "6029  EEEEEEEESSSSSMMMMMSSSSIIISSSSSSHHHHHHSSSSSSIII...  \n",
       "6030  EEEEEEESSSSSMMMSSSHHHHHHHHHHSSSMMMMMMMSSSHHHHH...  \n",
       "6031  EEEEESSSSSSSHHHHSSSSSSSSSSBSSSSSSSSSSSSSSSSSSS...  \n",
       "6032  EEEEEEEEEEEEEEEEEEEEEEEEEEEEEEESSSSSSIIIIIIIII...  \n",
       "6033  EEEEEEESSSIISSSSIIIIISSSSBSSSSSSSIIISSIISSSSSH...  \n",
       "\n",
       "[6034 rows x 2 columns]"
      ]
     },
     "execution_count": 13,
     "metadata": {},
     "output_type": "execute_result"
    }
   ],
   "source": [
    "vienna_structs[[\"vienna_67\", \"vienna_67_pl\"]]"
   ]
  },
  {
   "cell_type": "code",
   "execution_count": 15,
   "metadata": {},
   "outputs": [],
   "source": [
    "def prepare_T_df(df, seq_ids, sequences, T, pkg=\"vienna\", ptype=\"mec\"):\n",
    "    tmp = df[[f\"vienna_{T}\", f\"vienna_{T}_pl\"]]\n",
    "    tmp.columns = [\"structure\", \"predicted_loop_type\"]\n",
    "    tmp[\"id\"] = seq_ids\n",
    "    tmp[\"sequence\"] = sequences\n",
    "    print(tmp.head())\n",
    "    tmp.to_csv(f\"data/{pkg}_{T}_{ptype}.csv\")"
   ]
  },
  {
   "cell_type": "code",
   "execution_count": 18,
   "metadata": {},
   "outputs": [
    {
     "name": "stderr",
     "output_type": "stream",
     "text": [
      "<ipython-input-15-96598a6470ec>:4: SettingWithCopyWarning: \n",
      "A value is trying to be set on a copy of a slice from a DataFrame.\n",
      "Try using .loc[row_indexer,col_indexer] = value instead\n",
      "\n",
      "See the caveats in the documentation: https://pandas.pydata.org/pandas-docs/stable/user_guide/indexing.html#returning-a-view-versus-a-copy\n",
      "  tmp[\"id\"] = seq_ids\n",
      "<ipython-input-15-96598a6470ec>:5: SettingWithCopyWarning: \n",
      "A value is trying to be set on a copy of a slice from a DataFrame.\n",
      "Try using .loc[row_indexer,col_indexer] = value instead\n",
      "\n",
      "See the caveats in the documentation: https://pandas.pydata.org/pandas-docs/stable/user_guide/indexing.html#returning-a-view-versus-a-copy\n",
      "  tmp[\"sequence\"] = sequences\n",
      "<ipython-input-15-96598a6470ec>:4: SettingWithCopyWarning: \n",
      "A value is trying to be set on a copy of a slice from a DataFrame.\n",
      "Try using .loc[row_indexer,col_indexer] = value instead\n",
      "\n",
      "See the caveats in the documentation: https://pandas.pydata.org/pandas-docs/stable/user_guide/indexing.html#returning-a-view-versus-a-copy\n",
      "  tmp[\"id\"] = seq_ids\n",
      "<ipython-input-15-96598a6470ec>:5: SettingWithCopyWarning: \n",
      "A value is trying to be set on a copy of a slice from a DataFrame.\n",
      "Try using .loc[row_indexer,col_indexer] = value instead\n",
      "\n",
      "See the caveats in the documentation: https://pandas.pydata.org/pandas-docs/stable/user_guide/indexing.html#returning-a-view-versus-a-copy\n",
      "  tmp[\"sequence\"] = sequences\n",
      "<ipython-input-15-96598a6470ec>:4: SettingWithCopyWarning: \n",
      "A value is trying to be set on a copy of a slice from a DataFrame.\n",
      "Try using .loc[row_indexer,col_indexer] = value instead\n",
      "\n",
      "See the caveats in the documentation: https://pandas.pydata.org/pandas-docs/stable/user_guide/indexing.html#returning-a-view-versus-a-copy\n",
      "  tmp[\"id\"] = seq_ids\n",
      "<ipython-input-15-96598a6470ec>:5: SettingWithCopyWarning: \n",
      "A value is trying to be set on a copy of a slice from a DataFrame.\n",
      "Try using .loc[row_indexer,col_indexer] = value instead\n",
      "\n",
      "See the caveats in the documentation: https://pandas.pydata.org/pandas-docs/stable/user_guide/indexing.html#returning-a-view-versus-a-copy\n",
      "  tmp[\"sequence\"] = sequences\n",
      "<ipython-input-15-96598a6470ec>:4: SettingWithCopyWarning: \n",
      "A value is trying to be set on a copy of a slice from a DataFrame.\n",
      "Try using .loc[row_indexer,col_indexer] = value instead\n",
      "\n",
      "See the caveats in the documentation: https://pandas.pydata.org/pandas-docs/stable/user_guide/indexing.html#returning-a-view-versus-a-copy\n",
      "  tmp[\"id\"] = seq_ids\n",
      "<ipython-input-15-96598a6470ec>:5: SettingWithCopyWarning: \n",
      "A value is trying to be set on a copy of a slice from a DataFrame.\n",
      "Try using .loc[row_indexer,col_indexer] = value instead\n",
      "\n",
      "See the caveats in the documentation: https://pandas.pydata.org/pandas-docs/stable/user_guide/indexing.html#returning-a-view-versus-a-copy\n",
      "  tmp[\"sequence\"] = sequences\n"
     ]
    },
    {
     "name": "stdout",
     "output_type": "stream",
     "text": [
      "                                           structure  \\\n",
      "0  .......((((.......)))).((((((........))))))......   \n",
      "1  .....(((((((((((((((((((((((....)))))))))).)))...   \n",
      "2  .....((((.((.....((((.(((.....)))..((((......)...   \n",
      "3  ......((((((((((((((((......))))))))))))))))((...   \n",
      "4  .....(((((((.((((((((((((.(((((((((....)))))))...   \n",
      "\n",
      "                                 predicted_loop_type            id  \\\n",
      "0  EEEEEEESSSSHHHHHHHSSSSXSSSSSSHHHHHHHHSSSSSSXXX...  id_001f94081   \n",
      "1  EEEEESSSSSSSSSSSSSSSSSSSSSSSHHHHSSSSSSSSSSBSSS...  id_0049f53ba   \n",
      "2  EEEEESSSSISSIIIIISSSSMSSSHHHHHSSSMMSSSSHHHHHHS...  id_006f36f57   \n",
      "3  EEEEEESSSSSSSSSSSSSSSSHHHHHHSSSSSSSSSSSSSSSSSS...  id_0082d463b   \n",
      "4  EEEEESSSSSSSBSSSSSSSSSSSSBSSSSSSSSSHHHHSSSSSSS...  id_0087940f4   \n",
      "\n",
      "                                            sequence  \n",
      "0  GGAAAAGCUCUAAUAACAGGAGACUAGGACUACGUAUUUCUAGGUA...  \n",
      "1  GGAAAAAGCGCGCGCGGUUAGCGCGCGCUUUUGCGCGCGCUGUACC...  \n",
      "2  GGAAAGUGCUCAGAUAAGCUAAGCUCGAAUAGCAAUCGAAUAGAAU...  \n",
      "3  GGAAAAGCGCGCGCGCGCGCGCGAAAAAGCGCGCGCGCGCGCGCGC...  \n",
      "4  GGAAAAUAUAUAAUAUAUUAUAUAAAUAUAUUAUAGAAGUAUAAUA...  \n",
      "                                           structure  \\\n",
      "0  .......((((.......)))).((((((........))))))......   \n",
      "1  .....(((((((((((((((((((((((....)))))))))).)))...   \n",
      "2  .....((((.((.....((((.(((.....)))..((((......)...   \n",
      "3  ......((((((((((((((((......))))))))))))))))((...   \n",
      "4  .....(((((((.((((((((((((.(((((((((....)))))))...   \n",
      "\n",
      "                                 predicted_loop_type            id  \\\n",
      "0  EEEEEEESSSSHHHHHHHSSSSXSSSSSSHHHHHHHHSSSSSSXXX...  id_001f94081   \n",
      "1  EEEEESSSSSSSSSSSSSSSSSSSSSSSHHHHSSSSSSSSSSBSSS...  id_0049f53ba   \n",
      "2  EEEEESSSSISSIIIIISSSSMSSSHHHHHSSSMMSSSSHHHHHHS...  id_006f36f57   \n",
      "3  EEEEEESSSSSSSSSSSSSSSSHHHHHHSSSSSSSSSSSSSSSSSS...  id_0082d463b   \n",
      "4  EEEEESSSSSSSBSSSSSSSSSSSSBSSSSSSSSSHHHHSSSSSSS...  id_0087940f4   \n",
      "\n",
      "                                            sequence  \n",
      "0  GGAAAAGCUCUAAUAACAGGAGACUAGGACUACGUAUUUCUAGGUA...  \n",
      "1  GGAAAAAGCGCGCGCGGUUAGCGCGCGCUUUUGCGCGCGCUGUACC...  \n",
      "2  GGAAAGUGCUCAGAUAAGCUAAGCUCGAAUAGCAAUCGAAUAGAAU...  \n",
      "3  GGAAAAGCGCGCGCGCGCGCGCGAAAAAGCGCGCGCGCGCGCGCGC...  \n",
      "4  GGAAAAUAUAUAAUAUAUUAUAUAAAUAUAUUAUAGAAGUAUAAUA...  \n",
      "                                           structure  \\\n",
      "0  .....((((((.......)))).)).((.....((..((((((......   \n",
      "1  .....(((((((((((((((((((((((....)))))))))).)))...   \n",
      "2  .....((((.((.....((((.(((.....)))..((((......)...   \n",
      "3  ......((((((((((((((((......))))))))))))))))((...   \n",
      "4  .....(((((((.((((((((((((.(((((((((....)))))))...   \n",
      "\n",
      "                                 predicted_loop_type            id  \\\n",
      "0  EEEEESSSSSSHHHHHHHSSSSBSSMSSIIIIISSIISSSSSSHHH...  id_001f94081   \n",
      "1  EEEEESSSSSSSSSSSSSSSSSSSSSSSHHHHSSSSSSSSSSBSSS...  id_0049f53ba   \n",
      "2  EEEEESSSSISSIIIIISSSSMSSSHHHHHSSSMMSSSSHHHHHHS...  id_006f36f57   \n",
      "3  EEEEEESSSSSSSSSSSSSSSSHHHHHHSSSSSSSSSSSSSSSSSS...  id_0082d463b   \n",
      "4  EEEEESSSSSSSBSSSSSSSSSSSSBSSSSSSSSSHHHHSSSSSSS...  id_0087940f4   \n",
      "\n",
      "                                            sequence  \n",
      "0  GGAAAAGCUCUAAUAACAGGAGACUAGGACUACGUAUUUCUAGGUA...  \n",
      "1  GGAAAAAGCGCGCGCGGUUAGCGCGCGCUUUUGCGCGCGCUGUACC...  \n",
      "2  GGAAAGUGCUCAGAUAAGCUAAGCUCGAAUAGCAAUCGAAUAGAAU...  \n",
      "3  GGAAAAGCGCGCGCGCGCGCGCGAAAAAGCGCGCGCGCGCGCGCGC...  \n",
      "4  GGAAAAUAUAUAAUAUAUUAUAUAAAUAUAUUAUAGAAGUAUAAUA...  \n",
      "                                           structure  \\\n",
      "0  .....((((((.......)))).)).((.....((..((((((......   \n",
      "1  .....(((((((((((((((((((((((....)))))))))).)))...   \n",
      "2  .....((((.((.....((((.(((.....)))..((((......)...   \n",
      "3  ......((((((((((((((((......))))))))))))))))((...   \n",
      "4  .....(((((((.((((((((((((.(((((((((....)))))))...   \n",
      "\n",
      "                                 predicted_loop_type            id  \\\n",
      "0  EEEEESSSSSSHHHHHHHSSSSBSSXSSIIIIISSIISSSSSSHHH...  id_001f94081   \n",
      "1  EEEEESSSSSSSSSSSSSSSSSSSSSSSHHHHSSSSSSSSSSBSSS...  id_0049f53ba   \n",
      "2  EEEEESSSSISSIIIIISSSSMSSSHHHHHSSSMMSSSSHHHHHHS...  id_006f36f57   \n",
      "3  EEEEEESSSSSSSSSSSSSSSSHHHHHHSSSSSSSSSSSSSSSSSS...  id_0082d463b   \n",
      "4  EEEEESSSSSSSBSSSSSSSSSSSSBSSSSSSSSSHHHHSSSSSSS...  id_0087940f4   \n",
      "\n",
      "                                            sequence  \n",
      "0  GGAAAAGCUCUAAUAACAGGAGACUAGGACUACGUAUUUCUAGGUA...  \n",
      "1  GGAAAAAGCGCGCGCGGUUAGCGCGCGCUUUUGCGCGCGCUGUACC...  \n",
      "2  GGAAAGUGCUCAGAUAAGCUAAGCUCGAAUAGCAAUCGAAUAGAAU...  \n",
      "3  GGAAAAGCGCGCGCGCGCGCGCGAAAAAGCGCGCGCGCGCGCGCGC...  \n",
      "4  GGAAAAUAUAUAAUAUAUUAUAUAAAUAUAUUAUAGAAGUAUAAUA...  \n",
      "                                           structure  \\\n",
      "0  ................(((....((((((........))))))......   \n",
      "1  .....(((((((((((((((((((((((....)))))))))).)))...   \n",
      "2  ........................((((...((..((((......)...   \n",
      "3  ......(((((((((((((((((......)))))))))))))))))...   \n",
      "4  ......(((((((((((((((((...............))))))))...   \n",
      "\n",
      "                                 predicted_loop_type            id  \\\n",
      "0  EEEEEEEEEEEEEEEESSSIIIISSSSSSHHHHHHHHSSSSSSIII...  id_001f94081   \n",
      "1  EEEEESSSSSSSSSSSSSSSSSSSSSSSHHHHSSSSSSSSSSBSSS...  id_0049f53ba   \n",
      "2  EEEEEEEEEEEEEEEEEEEEEEEESSSSIIISSIISSSSHHHHHHS...  id_006f36f57   \n",
      "3  EEEEEESSSSSSSSSSSSSSSSSHHHHHHSSSSSSSSSSSSSSSSS...  id_0082d463b   \n",
      "4  EEEEEESSSSSSSSSSSSSSSSSHHHHHHHHHHHHHHHSSSSSSSS...  id_0087940f4   \n",
      "\n",
      "                                            sequence  \n",
      "0  GGAAAAGCUCUAAUAACAGGAGACUAGGACUACGUAUUUCUAGGUA...  \n",
      "1  GGAAAAAGCGCGCGCGGUUAGCGCGCGCUUUUGCGCGCGCUGUACC...  \n",
      "2  GGAAAGUGCUCAGAUAAGCUAAGCUCGAAUAGCAAUCGAAUAGAAU...  \n",
      "3  GGAAAAGCGCGCGCGCGCGCGCGAAAAAGCGCGCGCGCGCGCGCGC...  \n",
      "4  GGAAAAUAUAUAAUAUAUUAUAUAAAUAUAUUAUAGAAGUAUAAUA...  \n",
      "                                           structure  \\\n",
      "0  ......................................(((((......   \n",
      "1  .....(((((((((((((((((((((((....)))))))))).)))...   \n",
      "2  .....................(..((((...((..((((......)...   \n",
      "3  ......(((((((((((((((((......)))))))))))))))))...   \n",
      "4  ......(((((((((((((((((...............))))))))...   \n",
      "\n",
      "                                 predicted_loop_type            id  \\\n",
      "0  EEEEEEEEEEEEEEEEEEEEEEEEEEEEEEEEEEEEEESSSSSHHH...  id_001f94081   \n",
      "1  EEEEESSSSSSSSSSSSSSSSSSSSSSSHHHHSSSSSSSSSSBSSS...  id_0049f53ba   \n",
      "2  EEEEEEEEEEEEEEEEEEEEESIISSSSIIISSIISSSSHHHHHHS...  id_006f36f57   \n",
      "3  EEEEEESSSSSSSSSSSSSSSSSHHHHHHSSSSSSSSSSSSSSSSS...  id_0082d463b   \n",
      "4  EEEEEESSSSSSSSSSSSSSSSSHHHHHHHHHHHHHHHSSSSSSSS...  id_0087940f4   \n",
      "\n",
      "                                            sequence  \n",
      "0  GGAAAAGCUCUAAUAACAGGAGACUAGGACUACGUAUUUCUAGGUA...  \n",
      "1  GGAAAAAGCGCGCGCGGUUAGCGCGCGCUUUUGCGCGCGCUGUACC...  \n",
      "2  GGAAAGUGCUCAGAUAAGCUAAGCUCGAAUAGCAAUCGAAUAGAAU...  \n",
      "3  GGAAAAGCGCGCGCGCGCGCGCGAAAAAGCGCGCGCGCGCGCGCGC...  \n",
      "4  GGAAAAUAUAUAAUAUAUUAUAUAAAUAUAUUAUAGAAGUAUAAUA...  \n"
     ]
    },
    {
     "name": "stderr",
     "output_type": "stream",
     "text": [
      "<ipython-input-15-96598a6470ec>:4: SettingWithCopyWarning: \n",
      "A value is trying to be set on a copy of a slice from a DataFrame.\n",
      "Try using .loc[row_indexer,col_indexer] = value instead\n",
      "\n",
      "See the caveats in the documentation: https://pandas.pydata.org/pandas-docs/stable/user_guide/indexing.html#returning-a-view-versus-a-copy\n",
      "  tmp[\"id\"] = seq_ids\n",
      "<ipython-input-15-96598a6470ec>:5: SettingWithCopyWarning: \n",
      "A value is trying to be set on a copy of a slice from a DataFrame.\n",
      "Try using .loc[row_indexer,col_indexer] = value instead\n",
      "\n",
      "See the caveats in the documentation: https://pandas.pydata.org/pandas-docs/stable/user_guide/indexing.html#returning-a-view-versus-a-copy\n",
      "  tmp[\"sequence\"] = sequences\n",
      "<ipython-input-15-96598a6470ec>:4: SettingWithCopyWarning: \n",
      "A value is trying to be set on a copy of a slice from a DataFrame.\n",
      "Try using .loc[row_indexer,col_indexer] = value instead\n",
      "\n",
      "See the caveats in the documentation: https://pandas.pydata.org/pandas-docs/stable/user_guide/indexing.html#returning-a-view-versus-a-copy\n",
      "  tmp[\"id\"] = seq_ids\n",
      "<ipython-input-15-96598a6470ec>:5: SettingWithCopyWarning: \n",
      "A value is trying to be set on a copy of a slice from a DataFrame.\n",
      "Try using .loc[row_indexer,col_indexer] = value instead\n",
      "\n",
      "See the caveats in the documentation: https://pandas.pydata.org/pandas-docs/stable/user_guide/indexing.html#returning-a-view-versus-a-copy\n",
      "  tmp[\"sequence\"] = sequences\n"
     ]
    }
   ],
   "source": [
    "for T in [7, 17, 27, 47, 57, 67]:\n",
    "    prepare_T_df(vienna_structs, seq_ids, sequences, T, \"vienna\", \"mec\")"
   ]
  },
  {
   "cell_type": "code",
   "execution_count": 4,
   "metadata": {},
   "outputs": [],
   "source": [
    "from arnie.free_energy import free_energy\n",
    "def get_free_energy(seq, T):\n",
    "    e1 = free_energy(seq, T=T, package=\"vienna_2\")\n",
    "    e2 = free_energy(seq, T=T, package=\"nupack_95\")\n",
    "    return e1, e2"
   ]
  },
  {
   "cell_type": "code",
   "execution_count": 12,
   "metadata": {},
   "outputs": [
    {
     "name": "stderr",
     "output_type": "stream",
     "text": [
      "100%|██████████| 6034/6034 [02:36<00:00, 38.67it/s]\n",
      "100%|██████████| 6034/6034 [02:36<00:00, 38.46it/s]\n",
      "100%|██████████| 6034/6034 [02:35<00:00, 38.75it/s]\n",
      "100%|██████████| 6034/6034 [02:42<00:00, 37.02it/s]\n",
      "100%|██████████| 6034/6034 [02:57<00:00, 33.90it/s]\n",
      "100%|██████████| 6034/6034 [03:05<00:00, 32.47it/s]\n"
     ]
    }
   ],
   "source": [
    "energies = {}\n",
    "for T in [7, 17, 27, 47, 57, 67]:\n",
    "    res = Parallel(8)(delayed(get_free_energy)(seq, T) for seq in tqdm(sequences))\n",
    "    energies[f\"vienna_{T}\"], energies[f\"nupack_{T}\"] = np.array(res)[:, 0], np.array(res)[:, 1]"
   ]
  },
  {
   "cell_type": "code",
   "execution_count": 15,
   "metadata": {},
   "outputs": [
    {
     "data": {
      "text/html": [
       "<div>\n",
       "<style scoped>\n",
       "    .dataframe tbody tr th:only-of-type {\n",
       "        vertical-align: middle;\n",
       "    }\n",
       "\n",
       "    .dataframe tbody tr th {\n",
       "        vertical-align: top;\n",
       "    }\n",
       "\n",
       "    .dataframe thead th {\n",
       "        text-align: right;\n",
       "    }\n",
       "</style>\n",
       "<table border=\"1\" class=\"dataframe\">\n",
       "  <thead>\n",
       "    <tr style=\"text-align: right;\">\n",
       "      <th></th>\n",
       "      <th>vienna_7</th>\n",
       "      <th>nupack_7</th>\n",
       "      <th>vienna_17</th>\n",
       "      <th>nupack_17</th>\n",
       "      <th>vienna_27</th>\n",
       "      <th>nupack_27</th>\n",
       "      <th>vienna_47</th>\n",
       "      <th>nupack_47</th>\n",
       "      <th>vienna_57</th>\n",
       "      <th>nupack_57</th>\n",
       "      <th>vienna_67</th>\n",
       "      <th>nupack_67</th>\n",
       "      <th>id</th>\n",
       "    </tr>\n",
       "  </thead>\n",
       "  <tbody>\n",
       "    <tr>\n",
       "      <th>0</th>\n",
       "      <td>-38.60</td>\n",
       "      <td>-45.773811</td>\n",
       "      <td>-32.27</td>\n",
       "      <td>-37.874444</td>\n",
       "      <td>-26.20</td>\n",
       "      <td>-30.553592</td>\n",
       "      <td>-15.10</td>\n",
       "      <td>-17.888217</td>\n",
       "      <td>-10.57</td>\n",
       "      <td>-12.727315</td>\n",
       "      <td>-7.12</td>\n",
       "      <td>-8.337321</td>\n",
       "      <td>id_001f94081</td>\n",
       "    </tr>\n",
       "    <tr>\n",
       "      <th>1</th>\n",
       "      <td>-90.79</td>\n",
       "      <td>-86.791179</td>\n",
       "      <td>-80.98</td>\n",
       "      <td>-77.293064</td>\n",
       "      <td>-71.34</td>\n",
       "      <td>-68.207517</td>\n",
       "      <td>-52.80</td>\n",
       "      <td>-50.920675</td>\n",
       "      <td>-44.05</td>\n",
       "      <td>-42.740304</td>\n",
       "      <td>-35.65</td>\n",
       "      <td>-34.961582</td>\n",
       "      <td>id_0049f53ba</td>\n",
       "    </tr>\n",
       "    <tr>\n",
       "      <th>2</th>\n",
       "      <td>-37.14</td>\n",
       "      <td>-46.443992</td>\n",
       "      <td>-31.16</td>\n",
       "      <td>-37.956509</td>\n",
       "      <td>-25.48</td>\n",
       "      <td>-30.172993</td>\n",
       "      <td>-15.19</td>\n",
       "      <td>-17.920684</td>\n",
       "      <td>-10.88</td>\n",
       "      <td>-12.976750</td>\n",
       "      <td>-7.43</td>\n",
       "      <td>-8.714225</td>\n",
       "      <td>id_006f36f57</td>\n",
       "    </tr>\n",
       "    <tr>\n",
       "      <th>3</th>\n",
       "      <td>-90.77</td>\n",
       "      <td>-86.806197</td>\n",
       "      <td>-81.32</td>\n",
       "      <td>-77.988305</td>\n",
       "      <td>-71.98</td>\n",
       "      <td>-69.381008</td>\n",
       "      <td>-53.73</td>\n",
       "      <td>-52.645032</td>\n",
       "      <td>-44.86</td>\n",
       "      <td>-44.477025</td>\n",
       "      <td>-36.28</td>\n",
       "      <td>-36.488940</td>\n",
       "      <td>id_0082d463b</td>\n",
       "    </tr>\n",
       "    <tr>\n",
       "      <th>4</th>\n",
       "      <td>-40.30</td>\n",
       "      <td>-40.733947</td>\n",
       "      <td>-33.43</td>\n",
       "      <td>-33.245114</td>\n",
       "      <td>-26.69</td>\n",
       "      <td>-26.067160</td>\n",
       "      <td>-14.05</td>\n",
       "      <td>-14.030343</td>\n",
       "      <td>-8.84</td>\n",
       "      <td>-9.225091</td>\n",
       "      <td>-4.82</td>\n",
       "      <td>-5.258081</td>\n",
       "      <td>id_0087940f4</td>\n",
       "    </tr>\n",
       "  </tbody>\n",
       "</table>\n",
       "</div>"
      ],
      "text/plain": [
       "   vienna_7   nupack_7  vienna_17  nupack_17  vienna_27  nupack_27  vienna_47  \\\n",
       "0    -38.60 -45.773811     -32.27 -37.874444     -26.20 -30.553592     -15.10   \n",
       "1    -90.79 -86.791179     -80.98 -77.293064     -71.34 -68.207517     -52.80   \n",
       "2    -37.14 -46.443992     -31.16 -37.956509     -25.48 -30.172993     -15.19   \n",
       "3    -90.77 -86.806197     -81.32 -77.988305     -71.98 -69.381008     -53.73   \n",
       "4    -40.30 -40.733947     -33.43 -33.245114     -26.69 -26.067160     -14.05   \n",
       "\n",
       "   nupack_47  vienna_57  nupack_57  vienna_67  nupack_67            id  \n",
       "0 -17.888217     -10.57 -12.727315      -7.12  -8.337321  id_001f94081  \n",
       "1 -50.920675     -44.05 -42.740304     -35.65 -34.961582  id_0049f53ba  \n",
       "2 -17.920684     -10.88 -12.976750      -7.43  -8.714225  id_006f36f57  \n",
       "3 -52.645032     -44.86 -44.477025     -36.28 -36.488940  id_0082d463b  \n",
       "4 -14.030343      -8.84  -9.225091      -4.82  -5.258081  id_0087940f4  "
      ]
     },
     "execution_count": 15,
     "metadata": {},
     "output_type": "execute_result"
    }
   ],
   "source": [
    "energy_df = pd.DataFrame(energies)\n",
    "energy_df[\"id\"] = seq_ids\n",
    "energy_df.head()"
   ]
  },
  {
   "cell_type": "code",
   "execution_count": 16,
   "metadata": {},
   "outputs": [],
   "source": [
    "energy_df.to_csv(\"data/free_energies.csv\", index=False)"
   ]
  },
  {
   "cell_type": "code",
   "execution_count": 18,
   "metadata": {},
   "outputs": [],
   "source": [
    "def predict_MEA_structures(matrix_list, gamma_min=-6, gamma_max=6):\n",
    "    matrices = [np.load(x) for x in matrix_list]\n",
    "    seq_id = [Path(x).stem for x in matrix_list]\n",
    "    gamma_vals = [x for x in range(gamma_min, gamma_max, 2)]\n",
    "    structures = {}\n",
    "    struct_scores = {}\n",
    "    for sid, matrix in tqdm(zip(seq_id, matrices)):\n",
    "        row_metrics = []\n",
    "        row_structure = []\n",
    "        for g in gamma_vals:\n",
    "            mea_cls = MEA(matrix, gamma=2**g)\n",
    "            metrics = mea_cls.score_expected() #sen, ppv, mcc, fscore\n",
    "            row_metrics.append(metrics)\n",
    "            row_structure.append(mea_cls.structure)\n",
    "        struct_scores[sid] = row_metrics\n",
    "        structures[sid] = row_structure\n",
    "    return structures, struct_scores"
   ]
  },
  {
   "cell_type": "code",
   "execution_count": 6,
   "metadata": {},
   "outputs": [],
   "source": [
    "train = pd.read_json(\"data/train.json\", lines=True)"
   ]
  },
  {
   "cell_type": "code",
   "execution_count": 10,
   "metadata": {},
   "outputs": [
    {
     "data": {
      "text/plain": [
       "array([[0.        , 0.        , 0.        , ..., 0.        , 0.        ,\n",
       "        0.00046446],\n",
       "       [0.        , 0.        , 0.        , ..., 0.        , 0.        ,\n",
       "        0.00017785],\n",
       "       [0.        , 0.        , 0.        , ..., 0.        , 0.        ,\n",
       "        0.        ],\n",
       "       ...,\n",
       "       [0.        , 0.        , 0.        , ..., 0.        , 0.        ,\n",
       "        0.        ],\n",
       "       [0.        , 0.        , 0.        , ..., 0.        , 0.        ,\n",
       "        0.        ],\n",
       "       [0.00046446, 0.00017785, 0.        , ..., 0.        , 0.        ,\n",
       "        0.        ]])"
      ]
     },
     "execution_count": 10,
     "metadata": {},
     "output_type": "execute_result"
    }
   ],
   "source": [
    "np.load(\"data/bpps/id_00073f8be.npy\")"
   ]
  },
  {
   "cell_type": "code",
   "execution_count": null,
   "metadata": {},
   "outputs": [
    {
     "name": "stderr",
     "output_type": "stream",
     "text": [
      "755it [45:06,  3.36s/it]"
     ]
    }
   ],
   "source": [
    "matrix_list = [f\"data/bpps/{sid}.npy\" for sid in train.id.tolist()]\n",
    "structures, scores = predict_MEA_structures(matrix_list)"
   ]
  },
  {
   "cell_type": "code",
   "execution_count": null,
   "metadata": {},
   "outputs": [],
   "source": [
    "with open(\"data/additional_structures.json\", \"w\") as f:\n",
    "    json.dump(structures, f)\n",
    "    \n",
    "with open(\"data/additional_structure_scores.json\", \"w\") as f:\n",
    "    json.dump(scores, f)"
   ]
  },
  {
   "cell_type": "code",
   "execution_count": null,
   "metadata": {},
   "outputs": [],
   "source": [
    "test = pd.read_json(\"data/test.json\", lines=True)\n",
    "matrix_list = [f\"data/bpps/{sid}.npy\" for sid in test.id.tolist()]\n",
    "structures, scores = predict_MEA_structures(matrix_list)\n",
    "with open(\"data/additional_structures_test.json\", \"w\") as f:\n",
    "    json.dump(structures, f)\n",
    "    \n",
    "with open(\"data/additional_structure_scores_test.json\", \"w\") as f:\n",
    "    json.dump(scores, f)"
   ]
  },
  {
   "cell_type": "code",
   "execution_count": 2,
   "metadata": {},
   "outputs": [
    {
     "ename": "ModuleNotFoundError",
     "evalue": "No module named 'torch_sparse'",
     "output_type": "error",
     "traceback": [
      "\u001b[0;31m---------------------------------------------------------------------------\u001b[0m",
      "\u001b[0;31mModuleNotFoundError\u001b[0m                       Traceback (most recent call last)",
      "\u001b[0;32m<ipython-input-2-767c8a8c19d6>\u001b[0m in \u001b[0;36m<module>\u001b[0;34m\u001b[0m\n\u001b[1;32m      1\u001b[0m \u001b[0;32mimport\u001b[0m \u001b[0mtorch\u001b[0m\u001b[0;34m\u001b[0m\u001b[0;34m\u001b[0m\u001b[0m\n\u001b[0;32m----> 2\u001b[0;31m \u001b[0;32mfrom\u001b[0m \u001b[0mtorch_geometric\u001b[0m\u001b[0;34m.\u001b[0m\u001b[0mdata\u001b[0m \u001b[0;32mimport\u001b[0m \u001b[0mData\u001b[0m\u001b[0;34m\u001b[0m\u001b[0;34m\u001b[0m\u001b[0m\n\u001b[0m",
      "\u001b[0;32m~/anaconda3/lib/python3.8/site-packages/torch_geometric/__init__.py\u001b[0m in \u001b[0;36m<module>\u001b[0;34m\u001b[0m\n\u001b[1;32m      1\u001b[0m \u001b[0;32mfrom\u001b[0m \u001b[0;34m.\u001b[0m\u001b[0mdebug\u001b[0m \u001b[0;32mimport\u001b[0m \u001b[0mis_debug_enabled\u001b[0m\u001b[0;34m,\u001b[0m \u001b[0mdebug\u001b[0m\u001b[0;34m,\u001b[0m \u001b[0mset_debug\u001b[0m\u001b[0;34m\u001b[0m\u001b[0;34m\u001b[0m\u001b[0m\n\u001b[0;32m----> 2\u001b[0;31m \u001b[0;32mimport\u001b[0m \u001b[0mtorch_geometric\u001b[0m\u001b[0;34m.\u001b[0m\u001b[0mnn\u001b[0m\u001b[0;34m\u001b[0m\u001b[0;34m\u001b[0m\u001b[0m\n\u001b[0m\u001b[1;32m      3\u001b[0m \u001b[0;32mimport\u001b[0m \u001b[0mtorch_geometric\u001b[0m\u001b[0;34m.\u001b[0m\u001b[0mdata\u001b[0m\u001b[0;34m\u001b[0m\u001b[0;34m\u001b[0m\u001b[0m\n\u001b[1;32m      4\u001b[0m \u001b[0;32mimport\u001b[0m \u001b[0mtorch_geometric\u001b[0m\u001b[0;34m.\u001b[0m\u001b[0mdatasets\u001b[0m\u001b[0;34m\u001b[0m\u001b[0;34m\u001b[0m\u001b[0m\n\u001b[1;32m      5\u001b[0m \u001b[0;32mimport\u001b[0m \u001b[0mtorch_geometric\u001b[0m\u001b[0;34m.\u001b[0m\u001b[0mtransforms\u001b[0m\u001b[0;34m\u001b[0m\u001b[0;34m\u001b[0m\u001b[0m\n",
      "\u001b[0;32m~/anaconda3/lib/python3.8/site-packages/torch_geometric/nn/__init__.py\u001b[0m in \u001b[0;36m<module>\u001b[0;34m\u001b[0m\n\u001b[1;32m      1\u001b[0m \u001b[0;32mfrom\u001b[0m \u001b[0;34m.\u001b[0m\u001b[0mmeta\u001b[0m \u001b[0;32mimport\u001b[0m \u001b[0mMetaLayer\u001b[0m\u001b[0;34m\u001b[0m\u001b[0;34m\u001b[0m\u001b[0m\n\u001b[0;32m----> 2\u001b[0;31m \u001b[0;32mfrom\u001b[0m \u001b[0;34m.\u001b[0m\u001b[0mdata_parallel\u001b[0m \u001b[0;32mimport\u001b[0m \u001b[0mDataParallel\u001b[0m\u001b[0;34m\u001b[0m\u001b[0;34m\u001b[0m\u001b[0m\n\u001b[0m\u001b[1;32m      3\u001b[0m \u001b[0;32mfrom\u001b[0m \u001b[0;34m.\u001b[0m\u001b[0mreshape\u001b[0m \u001b[0;32mimport\u001b[0m \u001b[0mReshape\u001b[0m\u001b[0;34m\u001b[0m\u001b[0;34m\u001b[0m\u001b[0m\n\u001b[1;32m      4\u001b[0m \u001b[0;32mfrom\u001b[0m \u001b[0;34m.\u001b[0m\u001b[0mconv\u001b[0m \u001b[0;32mimport\u001b[0m \u001b[0;34m*\u001b[0m  \u001b[0;31m# noqa\u001b[0m\u001b[0;34m\u001b[0m\u001b[0;34m\u001b[0m\u001b[0m\n\u001b[1;32m      5\u001b[0m \u001b[0;32mfrom\u001b[0m \u001b[0;34m.\u001b[0m\u001b[0mnorm\u001b[0m \u001b[0;32mimport\u001b[0m \u001b[0;34m*\u001b[0m  \u001b[0;31m# noqa\u001b[0m\u001b[0;34m\u001b[0m\u001b[0;34m\u001b[0m\u001b[0m\n",
      "\u001b[0;32m~/anaconda3/lib/python3.8/site-packages/torch_geometric/nn/data_parallel.py\u001b[0m in \u001b[0;36m<module>\u001b[0;34m\u001b[0m\n\u001b[1;32m      3\u001b[0m \u001b[0;34m\u001b[0m\u001b[0m\n\u001b[1;32m      4\u001b[0m \u001b[0;32mimport\u001b[0m \u001b[0mtorch\u001b[0m\u001b[0;34m\u001b[0m\u001b[0;34m\u001b[0m\u001b[0m\n\u001b[0;32m----> 5\u001b[0;31m \u001b[0;32mfrom\u001b[0m \u001b[0mtorch_geometric\u001b[0m\u001b[0;34m.\u001b[0m\u001b[0mdata\u001b[0m \u001b[0;32mimport\u001b[0m \u001b[0mBatch\u001b[0m\u001b[0;34m\u001b[0m\u001b[0;34m\u001b[0m\u001b[0m\n\u001b[0m\u001b[1;32m      6\u001b[0m \u001b[0;34m\u001b[0m\u001b[0m\n\u001b[1;32m      7\u001b[0m \u001b[0;34m\u001b[0m\u001b[0m\n",
      "\u001b[0;32m~/anaconda3/lib/python3.8/site-packages/torch_geometric/data/__init__.py\u001b[0m in \u001b[0;36m<module>\u001b[0;34m\u001b[0m\n\u001b[0;32m----> 1\u001b[0;31m \u001b[0;32mfrom\u001b[0m \u001b[0;34m.\u001b[0m\u001b[0mdata\u001b[0m \u001b[0;32mimport\u001b[0m \u001b[0mData\u001b[0m\u001b[0;34m\u001b[0m\u001b[0;34m\u001b[0m\u001b[0m\n\u001b[0m\u001b[1;32m      2\u001b[0m \u001b[0;32mfrom\u001b[0m \u001b[0;34m.\u001b[0m\u001b[0mbatch\u001b[0m \u001b[0;32mimport\u001b[0m \u001b[0mBatch\u001b[0m\u001b[0;34m\u001b[0m\u001b[0;34m\u001b[0m\u001b[0m\n\u001b[1;32m      3\u001b[0m \u001b[0;32mfrom\u001b[0m \u001b[0;34m.\u001b[0m\u001b[0mdataset\u001b[0m \u001b[0;32mimport\u001b[0m \u001b[0mDataset\u001b[0m\u001b[0;34m\u001b[0m\u001b[0;34m\u001b[0m\u001b[0m\n\u001b[1;32m      4\u001b[0m \u001b[0;32mfrom\u001b[0m \u001b[0;34m.\u001b[0m\u001b[0min_memory_dataset\u001b[0m \u001b[0;32mimport\u001b[0m \u001b[0mInMemoryDataset\u001b[0m\u001b[0;34m\u001b[0m\u001b[0;34m\u001b[0m\u001b[0m\n\u001b[1;32m      5\u001b[0m \u001b[0;32mfrom\u001b[0m \u001b[0;34m.\u001b[0m\u001b[0mdataloader\u001b[0m \u001b[0;32mimport\u001b[0m \u001b[0mDataLoader\u001b[0m\u001b[0;34m,\u001b[0m \u001b[0mDataListLoader\u001b[0m\u001b[0;34m,\u001b[0m \u001b[0mDenseDataLoader\u001b[0m\u001b[0;34m\u001b[0m\u001b[0;34m\u001b[0m\u001b[0m\n",
      "\u001b[0;32m~/anaconda3/lib/python3.8/site-packages/torch_geometric/data/data.py\u001b[0m in \u001b[0;36m<module>\u001b[0;34m\u001b[0m\n\u001b[1;32m      5\u001b[0m \u001b[0;32mimport\u001b[0m \u001b[0mtorch\u001b[0m\u001b[0;34m\u001b[0m\u001b[0;34m\u001b[0m\u001b[0m\n\u001b[1;32m      6\u001b[0m \u001b[0;32mimport\u001b[0m \u001b[0mtorch_geometric\u001b[0m\u001b[0;34m\u001b[0m\u001b[0;34m\u001b[0m\u001b[0m\n\u001b[0;32m----> 7\u001b[0;31m \u001b[0;32mfrom\u001b[0m \u001b[0mtorch_sparse\u001b[0m \u001b[0;32mimport\u001b[0m \u001b[0mcoalesce\u001b[0m\u001b[0;34m,\u001b[0m \u001b[0mSparseTensor\u001b[0m\u001b[0;34m\u001b[0m\u001b[0;34m\u001b[0m\u001b[0m\n\u001b[0m\u001b[1;32m      8\u001b[0m from torch_geometric.utils import (contains_isolated_nodes,\n\u001b[1;32m      9\u001b[0m                                    contains_self_loops, is_undirected)\n",
      "\u001b[0;31mModuleNotFoundError\u001b[0m: No module named 'torch_sparse'"
     ]
    }
   ],
   "source": [
    "import torch\n",
    "from torch_geometric.data import Data"
   ]
  },
  {
   "cell_type": "code",
   "execution_count": 4,
   "metadata": {},
   "outputs": [],
   "source": [
    "import torch\n",
    "from torch import nn"
   ]
  },
  {
   "cell_type": "code",
   "execution_count": 109,
   "metadata": {},
   "outputs": [
    {
     "data": {
      "text/plain": [
       "torch.Size([2, 10, 64])"
      ]
     },
     "execution_count": 109,
     "metadata": {},
     "output_type": "execute_result"
    }
   ],
   "source": [
    "a = torch.rand(2, 10, 64)\n",
    "a.shape"
   ]
  },
  {
   "cell_type": "code",
   "execution_count": 110,
   "metadata": {},
   "outputs": [],
   "source": [
    "c = nn.Conv1d(10, 20, stride=1, kernel_size=9, padding=4)"
   ]
  },
  {
   "cell_type": "code",
   "execution_count": 111,
   "metadata": {},
   "outputs": [
    {
     "data": {
      "text/plain": [
       "torch.Size([2, 20, 64])"
      ]
     },
     "execution_count": 111,
     "metadata": {},
     "output_type": "execute_result"
    }
   ],
   "source": [
    "d = c(a)\n",
    "d.shape"
   ]
  },
  {
   "cell_type": "code",
   "execution_count": 104,
   "metadata": {},
   "outputs": [],
   "source": [
    "u = nn.Upsample(scale_factor=2.975, mode=\"nearest\")"
   ]
  },
  {
   "cell_type": "code",
   "execution_count": 113,
   "metadata": {},
   "outputs": [
    {
     "name": "stderr",
     "output_type": "stream",
     "text": [
      "/home/mohsin_okcredit_in/anaconda3/lib/python3.8/site-packages/torch/nn/functional.py:3000: UserWarning: The default behavior for interpolate/upsample with float scale_factor changed in 1.6.0 to align with other frameworks/libraries, and uses scale_factor directly, instead of relying on the computed output size. If you wish to keep the old behavior, please set recompute_scale_factor=True. See the documentation of nn.Upsample for details. \n",
      "  warnings.warn(\"The default behavior for interpolate/upsample with float scale_factor changed \"\n"
     ]
    },
    {
     "data": {
      "text/plain": [
       "torch.Size([2, 20, 190])"
      ]
     },
     "execution_count": 113,
     "metadata": {},
     "output_type": "execute_result"
    }
   ],
   "source": [
    "o = nn.Tanh()(u(d))\n",
    "o.shape"
   ]
  },
  {
   "cell_type": "code",
   "execution_count": 115,
   "metadata": {},
   "outputs": [],
   "source": [
    "import json\n",
    "with open(\"data/additional_structures.json\", \"r\") as f:\n",
    "    extra_struc = json.load(f)\n"
   ]
  },
  {
   "cell_type": "code",
   "execution_count": 119,
   "metadata": {},
   "outputs": [],
   "source": [
    "import pandas as pd\n",
    "train = pd.read_json(\"data/train.json\", lines=True)"
   ]
  },
  {
   "cell_type": "code",
   "execution_count": 120,
   "metadata": {},
   "outputs": [],
   "source": [
    "ids = train.id.tolist()"
   ]
  },
  {
   "cell_type": "code",
   "execution_count": 143,
   "metadata": {},
   "outputs": [],
   "source": [
    "additional_structures = [extra_struc[idx] for idx in ids]"
   ]
  },
  {
   "cell_type": "code",
   "execution_count": 139,
   "metadata": {},
   "outputs": [],
   "source": [
    "import numpy as np\n",
    "from constants import Mappings\n",
    "additional_structures = np.array([[[Mappings.structure_token2int.get(token) for token in tokens] for tokens in tokens_arr] for tokens_arr in additional_structures])"
   ]
  },
  {
   "cell_type": "code",
   "execution_count": 133,
   "metadata": {},
   "outputs": [],
   "source": [
    "Mappings.structure_token2int.get(additional_structures[0][0])"
   ]
  },
  {
   "cell_type": "code",
   "execution_count": 142,
   "metadata": {},
   "outputs": [
    {
     "data": {
      "text/plain": [
       "(2400, 14, 107)"
      ]
     },
     "execution_count": 142,
     "metadata": {},
     "output_type": "execute_result"
    }
   ],
   "source": [
    "additional_structures.shape"
   ]
  },
  {
   "cell_type": "code",
   "execution_count": 147,
   "metadata": {},
   "outputs": [
    {
     "data": {
      "text/plain": [
       "['.....................................................................(((((......)))))......................',\n",
       " '....................................................................((((((......)))))).....................',\n",
       " '....................................................................(((((((....))))))).....................',\n",
       " '....................................................................(((((((....))))))).....................',\n",
       " '.......(((((.((......................................)).))))).......(((((((....))))))).....................',\n",
       " '.......(((((.((......................................)).))))).......(((((((....))))))).....................',\n",
       " '.......(((((.((((((((.............))))))..(((.....))))).))))).......(((((((....))))))).....................',\n",
       " '.....(.(((((.(((((((((...........)))))))..(((.....))))).))))).).....(((((((....))))))).....................',\n",
       " '.....(.(((((.(((((((((.(........))))))))..(((.....))))).))))).).....(((((((....))))))).....................',\n",
       " '.....(.(((((.(((((((((.(........))))))))..(((.....))))).))))).).....(((((((....))))))).....................',\n",
       " '.....(.(((((.(((((((((.(........))))))))..(((.....))))).))))).).....(((((((....))))))).....................',\n",
       " '(....(.(((((.(((((((((.(........))))))))..(((.....))))).))))).)...).(((((((....))))))).....................',\n",
       " '(....(.(((((.(((((((((.(........))))))))..(((.....))))).))))).)...).(((((((....))))))).....................',\n",
       " '((...(.(((((.(((((((((.(........))))))))..(((.....))))).))))).).).).(((((((....))))))).....................']"
      ]
     },
     "execution_count": 147,
     "metadata": {},
     "output_type": "execute_result"
    }
   ],
   "source": [
    "additional_structures[5]"
   ]
  },
  {
   "cell_type": "code",
   "execution_count": 148,
   "metadata": {},
   "outputs": [
    {
     "data": {
      "text/plain": [
       "array([[0.        , 0.        , 0.        , ..., 0.        , 0.        ,\n",
       "        0.00046446],\n",
       "       [0.        , 0.        , 0.        , ..., 0.        , 0.        ,\n",
       "        0.00017785],\n",
       "       [0.        , 0.        , 0.        , ..., 0.        , 0.        ,\n",
       "        0.        ],\n",
       "       ...,\n",
       "       [0.        , 0.        , 0.        , ..., 0.        , 0.        ,\n",
       "        0.        ],\n",
       "       [0.        , 0.        , 0.        , ..., 0.        , 0.        ,\n",
       "        0.        ],\n",
       "       [0.00046446, 0.00017785, 0.        , ..., 0.        , 0.        ,\n",
       "        0.        ]])"
      ]
     },
     "execution_count": 148,
     "metadata": {},
     "output_type": "execute_result"
    }
   ],
   "source": [
    "np.load(\"data/bpps/id_00073f8be.npy\")"
   ]
  },
  {
   "cell_type": "code",
   "execution_count": 149,
   "metadata": {},
   "outputs": [],
   "source": [
    "with open(\"data/additional_structure_scores.json\", \"r\") as fp:\n",
    "    arr = json.load(fp)"
   ]
  },
  {
   "cell_type": "code",
   "execution_count": 160,
   "metadata": {},
   "outputs": [],
   "source": [
    "scores = arr[\"id_000ae4237\"]"
   ]
  },
  {
   "cell_type": "code",
   "execution_count": 162,
   "metadata": {},
   "outputs": [
    {
     "data": {
      "text/plain": [
       "array([8, 7, 6])"
      ]
     },
     "execution_count": 162,
     "metadata": {},
     "output_type": "execute_result"
    }
   ],
   "source": [
    "np.argsort(np.array(scores)[:, 2])[::-1][:3]"
   ]
  },
  {
   "cell_type": "code",
   "execution_count": 167,
   "metadata": {},
   "outputs": [
    {
     "data": {
      "text/plain": [
       "torch.Size([10, 3])"
      ]
     },
     "execution_count": 167,
     "metadata": {},
     "output_type": "execute_result"
    }
   ],
   "source": [
    "torch.tensor([[1,2,3]]).repeat(10, 1).shape"
   ]
  },
  {
   "cell_type": "code",
   "execution_count": 1,
   "metadata": {},
   "outputs": [],
   "source": [
    "from constants import Mappings\n",
    "from datasets import RNAAugData\n",
    "import pandas as pd"
   ]
  },
  {
   "cell_type": "code",
   "execution_count": 2,
   "metadata": {},
   "outputs": [],
   "source": [
    "train = pd.read_json(\"data/train.json\", lines=True)"
   ]
  },
  {
   "cell_type": "code",
   "execution_count": 3,
   "metadata": {},
   "outputs": [
    {
     "data": {
      "text/plain": [
       "Index(['index', 'id', 'sequence', 'structure', 'predicted_loop_type',\n",
       "       'signal_to_noise', 'SN_filter', 'seq_length', 'seq_scored',\n",
       "       'reactivity_error', 'deg_error_Mg_pH10', 'deg_error_pH10',\n",
       "       'deg_error_Mg_50C', 'deg_error_50C', 'reactivity', 'deg_Mg_pH10',\n",
       "       'deg_pH10', 'deg_Mg_50C', 'deg_50C'],\n",
       "      dtype='object')"
      ]
     },
     "execution_count": 3,
     "metadata": {},
     "output_type": "execute_result"
    }
   ],
   "source": [
    "train.columns"
   ]
  },
  {
   "cell_type": "code",
   "execution_count": 18,
   "metadata": {},
   "outputs": [
    {
     "name": "stderr",
     "output_type": "stream",
     "text": [
      "/home/mohsin_okcredit_in/projects/standford-covid-vaccine-kaggle/datasets.py:184: FutureWarning: arrays to stack must be passed as a \"sequence\" type such as list or tuple. Support for non-sequence iterables such as generators is deprecated as of NumPy 1.16 and will raise an error in the future.\n",
      "  np.dstack((np.vstack(self.df[col].values) for col in self.targets)).astype(np.float32).clip(-4, 20)\n",
      "/home/mohsin_okcredit_in/projects/standford-covid-vaccine-kaggle/datasets.py:190: FutureWarning: arrays to stack must be passed as a \"sequence\" type such as list or tuple. Support for non-sequence iterables such as generators is deprecated as of NumPy 1.16 and will raise an error in the future.\n",
      "  np.dstack((np.vstack(self.df[TGT2ERR_COL[col]].values) for col in self.targets))\n"
     ]
    }
   ],
   "source": [
    "ds = RNAAugData(train, targets=[\"reactivity\", \"deg_Mg_50C\", \"deg_Mg_pH10\"], augment_strucures=True,\n",
    "                aug_data_sources=[\"data/augmented_data_public/aug_data5.csv\", \"data/augmented_data_public/aug_data5_10.csv\"],\n",
    "                target_aug=True)"
   ]
  },
  {
   "cell_type": "code",
   "execution_count": 21,
   "metadata": {},
   "outputs": [
    {
     "data": {
      "text/plain": [
       "({'sequence': array([3, 3, 1, 1, 1, 1, 3, 2, 4, 2, 4, 1, 1, 4, 1, 1, 2, 1, 3, 3, 1, 3,\n",
       "         1, 2, 4, 1, 3, 3, 1, 2, 4, 1, 2, 3, 4, 1, 4, 4, 4, 2, 4, 1, 3, 3,\n",
       "         4, 1, 1, 2, 4, 3, 3, 1, 1, 4, 1, 1, 2, 2, 2, 1, 4, 1, 2, 2, 1, 3,\n",
       "         2, 1, 3, 4, 4, 1, 3, 1, 3, 4, 4, 2, 3, 2, 4, 2, 4, 1, 1, 2, 1, 1,\n",
       "         1, 1, 3, 1, 1, 1, 2, 1, 1, 2, 1, 1, 2, 1, 1, 2, 1, 1, 2]),\n",
       "  'structure': array([2, 2, 2, 2, 2, 1, 1, 1, 1, 1, 1, 2, 2, 2, 2, 2, 2, 2, 3, 3, 3, 3,\n",
       "         2, 3, 3, 2, 1, 1, 2, 2, 2, 2, 2, 1, 1, 2, 2, 1, 1, 1, 1, 1, 1, 2,\n",
       "         2, 2, 2, 3, 3, 3, 3, 3, 3, 2, 2, 3, 3, 2, 2, 2, 2, 2, 3, 3, 2, 2,\n",
       "         2, 2, 1, 1, 1, 1, 1, 1, 1, 2, 2, 2, 2, 3, 3, 3, 3, 3, 3, 3, 2, 2,\n",
       "         2, 2, 2, 2, 2, 2, 2, 2, 2, 2, 2, 2, 2, 2, 2, 2, 2, 2, 2]),\n",
       "  'predicted_loop_type': array([2, 2, 2, 2, 2, 6, 6, 6, 6, 6, 6, 3, 3, 3, 3, 3, 3, 3, 6, 6, 6, 6,\n",
       "         1, 6, 6, 7, 6, 6, 4, 4, 4, 4, 4, 6, 6, 4, 4, 6, 6, 6, 6, 6, 6, 3,\n",
       "         3, 3, 3, 6, 6, 6, 6, 6, 6, 4, 4, 6, 6, 4, 4, 4, 4, 4, 6, 6, 7, 7,\n",
       "         7, 7, 6, 6, 6, 6, 6, 6, 6, 3, 3, 3, 3, 6, 6, 6, 6, 6, 6, 6, 2, 2,\n",
       "         2, 2, 2, 2, 2, 2, 2, 2, 2, 2, 2, 2, 2, 2, 2, 2, 2, 2, 2]),\n",
       "  'pair_sequence': array([0, 0, 0, 0, 0, 3, 3, 1, 1, 1, 1, 0, 0, 0, 0, 0, 0, 0, 1, 1, 1, 1,\n",
       "         0, 3, 3, 0, 3, 2, 0, 0, 0, 0, 0, 4, 2, 0, 0, 4, 1, 1, 4, 1, 1, 0,\n",
       "         0, 0, 0, 1, 1, 4, 1, 1, 4, 0, 0, 2, 4, 0, 0, 0, 0, 0, 2, 3, 0, 0,\n",
       "         0, 0, 2, 1, 3, 3, 1, 3, 1, 0, 0, 0, 0, 1, 3, 1, 3, 3, 1, 2, 0, 0,\n",
       "         0, 0, 0, 0, 0, 0, 0, 0, 0, 0, 0, 0, 0, 0, 0, 0, 0, 0, 0]),\n",
       "  'bpps': array([[0.        , 0.        , 0.        , ..., 0.        , 0.        ,\n",
       "          0.0146736 ],\n",
       "         [0.        , 0.        , 0.        , ..., 0.        , 0.        ,\n",
       "          0.00620374],\n",
       "         [0.        , 0.        , 0.        , ..., 0.        , 0.        ,\n",
       "          0.        ],\n",
       "         ...,\n",
       "         [0.        , 0.        , 0.        , ..., 0.        , 0.        ,\n",
       "          0.        ],\n",
       "         [0.        , 0.        , 0.        , ..., 0.        , 0.        ,\n",
       "          0.        ],\n",
       "         [0.0146736 , 0.00620374, 0.        , ..., 0.        , 0.        ,\n",
       "          0.        ]], dtype=float32)},\n",
       " array([[0.3203749 , 0.59810305, 0.72437173],\n",
       "        [1.5277749 , 2.9023259 , 3.2529168 ],\n",
       "        [1.1710718 , 0.2504726 , 0.24590713],\n",
       "        [0.9330516 , 1.3935549 , 1.2966236 ],\n",
       "        [0.6816554 , 0.69978285, 0.6160999 ],\n",
       "        [0.45271194, 0.47363737, 0.31695122],\n",
       "        [0.24997158, 0.37261015, 0.6901892 ],\n",
       "        [0.35070062, 0.9504188 , 0.7030334 ],\n",
       "        [0.27272072, 0.14374596, 0.17862032],\n",
       "        [0.3782766 , 1.0682315 , 1.1081903 ],\n",
       "        [0.95455223, 1.1374526 , 1.031626  ],\n",
       "        [1.4810392 , 0.73765486, 0.8418688 ],\n",
       "        [1.7431654 , 1.9741418 , 1.770306  ],\n",
       "        [1.2707677 , 1.1253276 , 1.3305383 ],\n",
       "        [1.1896176 , 0.7263759 , 0.7506738 ],\n",
       "        [0.7336216 , 0.7427678 , 0.6882435 ],\n",
       "        [0.4600599 , 0.7136658 , 0.7817617 ],\n",
       "        [0.15609705, 0.40472937, 0.40722102],\n",
       "        [0.06279954, 0.2453268 , 0.2540891 ],\n",
       "        [0.20836586, 0.376552  , 0.3364941 ],\n",
       "        [0.09516425, 0.03973005, 0.05647987],\n",
       "        [0.81547076, 0.34020555, 0.50788456],\n",
       "        [0.7490451 , 0.29272363, 0.29167244],\n",
       "        [0.14310236, 0.39516243, 0.46118876],\n",
       "        [0.27559182, 0.29896772, 0.41804686],\n",
       "        [0.07774382, 0.29651973, 0.3651563 ],\n",
       "        [0.14519049, 0.22482848, 0.08106713],\n",
       "        [0.8288888 , 0.19515672, 0.3849525 ],\n",
       "        [0.14535649, 0.34641263, 0.24294719],\n",
       "        [0.62122685, 0.4400217 , 0.4080737 ],\n",
       "        [1.0155336 , 0.6673164 , 0.48946238],\n",
       "        [0.45260355, 0.21000475, 0.24946854],\n",
       "        [0.5746777 , 0.59242916, 0.33304328],\n",
       "        [0.87841547, 1.0622334 , 0.9148756 ],\n",
       "        [0.996407  , 0.84413433, 0.86441857],\n",
       "        [1.0702815 , 0.9301928 , 0.91655326],\n",
       "        [1.0397424 , 0.8437801 , 0.7316262 ],\n",
       "        [0.43701577, 0.6617142 , 0.48012963],\n",
       "        [0.20714007, 0.16485797, 0.11660319],\n",
       "        [0.05140959, 0.3888478 , 0.18683966],\n",
       "        [0.07085808, 0.21755046, 0.16855185],\n",
       "        [0.06052184, 0.1527131 , 0.12045605],\n",
       "        [0.14370936, 0.14112124, 0.2694277 ],\n",
       "        [0.11405563, 0.69020796, 0.8568127 ],\n",
       "        [0.5110175 , 0.54604006, 0.8540893 ],\n",
       "        [1.0474464 , 0.43784776, 0.8941509 ],\n",
       "        [0.32286605, 0.25581297, 0.5059635 ],\n",
       "        [0.10253336, 0.2702984 , 0.34493306],\n",
       "        [0.02579336, 0.03176368, 0.04153312],\n",
       "        [0.00990918, 0.02673127, 0.11151437],\n",
       "        [0.1923532 , 0.21611267, 0.47254023],\n",
       "        [0.47541457, 0.27188227, 0.31252855],\n",
       "        [1.1344532 , 1.7430528 , 2.1244874 ],\n",
       "        [0.62736666, 0.30921865, 0.3905493 ],\n",
       "        [0.66697687, 0.28328747, 0.34027392],\n",
       "        [0.3756368 , 0.22520494, 0.2588007 ],\n",
       "        [0.1774365 , 0.241448  , 0.31309852],\n",
       "        [0.14058067, 0.2121269 , 0.19442238],\n",
       "        [0.1597058 , 0.40614265, 0.32161716],\n",
       "        [0.5346308 , 0.54636437, 0.48880506],\n",
       "        [0.69835347, 0.37967822, 0.63319784],\n",
       "        [0.41302344, 0.33480066, 0.31653976],\n",
       "        [0.05846747, 0.18575002, 0.1475638 ],\n",
       "        [0.06423209, 0.26409197, 0.12403015],\n",
       "        [0.12963745, 0.27943194, 0.16942364],\n",
       "        [0.28488055, 0.4776725 , 0.34466374],\n",
       "        [0.22229584, 0.6800266 , 0.6355065 ],\n",
       "        [0.56749827, 0.4176003 , 0.67246366]], dtype=float32))"
      ]
     },
     "execution_count": 21,
     "metadata": {},
     "output_type": "execute_result"
    }
   ],
   "source": [
    "ds[0]"
   ]
  },
  {
   "cell_type": "code",
   "execution_count": 25,
   "metadata": {},
   "outputs": [
    {
     "data": {
      "text/plain": [
       "count    811.000000\n",
       "mean       2.822411\n",
       "std        2.626258\n",
       "min       -0.103000\n",
       "25%        0.582500\n",
       "50%        2.259000\n",
       "75%        4.592500\n",
       "max       15.866000\n",
       "Name: signal_to_noise, dtype: float64"
      ]
     },
     "execution_count": 25,
     "metadata": {},
     "output_type": "execute_result"
    }
   ],
   "source": [
    "train.loc[train.SN_filter == 0, \"signal_to_noise\"].describe()"
   ]
  },
  {
   "cell_type": "code",
   "execution_count": 1,
   "metadata": {},
   "outputs": [],
   "source": [
    "from scipy.stats import gamma\n",
    "import seaborn as sns\n",
    "import matplotlib.pyplot as plt\n",
    "import numpy as np"
   ]
  },
  {
   "cell_type": "code",
   "execution_count": 2,
   "metadata": {},
   "outputs": [
    {
     "ename": "NameError",
     "evalue": "name 'train' is not defined",
     "output_type": "error",
     "traceback": [
      "\u001b[0;31m---------------------------------------------------------------------------\u001b[0m",
      "\u001b[0;31mNameError\u001b[0m                                 Traceback (most recent call last)",
      "\u001b[0;32m<ipython-input-2-4b44d2b6ed9a>\u001b[0m in \u001b[0;36m<module>\u001b[0;34m\u001b[0m\n\u001b[0;32m----> 1\u001b[0;31m \u001b[0mrss\u001b[0m \u001b[0;34m=\u001b[0m \u001b[0mnp\u001b[0m\u001b[0;34m.\u001b[0m\u001b[0mvstack\u001b[0m\u001b[0;34m(\u001b[0m\u001b[0mtrain\u001b[0m\u001b[0;34m[\u001b[0m\u001b[0;34m\"reactivity\"\u001b[0m\u001b[0;34m]\u001b[0m\u001b[0;34m.\u001b[0m\u001b[0mvalues\u001b[0m\u001b[0;34m)\u001b[0m\u001b[0;34m.\u001b[0m\u001b[0mflatten\u001b[0m\u001b[0;34m(\u001b[0m\u001b[0;34m)\u001b[0m\u001b[0;34m\u001b[0m\u001b[0;34m\u001b[0m\u001b[0m\n\u001b[0m",
      "\u001b[0;31mNameError\u001b[0m: name 'train' is not defined"
     ]
    }
   ],
   "source": [
    "rss = np.vstack(train[\"reactivity\"].values).flatten()"
   ]
  },
  {
   "cell_type": "code",
   "execution_count": null,
   "metadata": {},
   "outputs": [],
   "source": [
    "sns.distplot(rss.clip(-0.5, 10))"
   ]
  },
  {
   "cell_type": "code",
   "execution_count": 3,
   "metadata": {},
   "outputs": [
    {
     "ename": "NameError",
     "evalue": "name 'rss' is not defined",
     "output_type": "error",
     "traceback": [
      "\u001b[0;31m---------------------------------------------------------------------------\u001b[0m",
      "\u001b[0;31mNameError\u001b[0m                                 Traceback (most recent call last)",
      "\u001b[0;32m<ipython-input-3-b5c199c7ec3c>\u001b[0m in \u001b[0;36m<module>\u001b[0;34m\u001b[0m\n\u001b[0;32m----> 1\u001b[0;31m \u001b[0mg\u001b[0m \u001b[0;34m=\u001b[0m \u001b[0mgamma\u001b[0m\u001b[0;34m.\u001b[0m\u001b[0mfit\u001b[0m\u001b[0;34m(\u001b[0m\u001b[0mrss\u001b[0m\u001b[0;34m.\u001b[0m\u001b[0mclip\u001b[0m\u001b[0;34m(\u001b[0m\u001b[0;34m-\u001b[0m\u001b[0;36m0.0\u001b[0m\u001b[0;34m,\u001b[0m \u001b[0;36m20\u001b[0m\u001b[0;34m)\u001b[0m\u001b[0;34m)\u001b[0m\u001b[0;34m\u001b[0m\u001b[0;34m\u001b[0m\u001b[0m\n\u001b[0m",
      "\u001b[0;31mNameError\u001b[0m: name 'rss' is not defined"
     ]
    }
   ],
   "source": [
    "g = gamma.fit(rss.clip(-0.0, 20))"
   ]
  },
  {
   "cell_type": "code",
   "execution_count": 60,
   "metadata": {},
   "outputs": [
    {
     "data": {
      "text/plain": [
       "(0.0328425620770826, -7.804269991664468e-30, 1.5376362633497986)"
      ]
     },
     "execution_count": 60,
     "metadata": {},
     "output_type": "execute_result"
    }
   ],
   "source": [
    "g"
   ]
  },
  {
   "cell_type": "code",
   "execution_count": 115,
   "metadata": {},
   "outputs": [
    {
     "data": {
      "text/plain": [
       "<matplotlib.axes._subplots.AxesSubplot at 0x7fa02d6ab5b0>"
      ]
     },
     "execution_count": 115,
     "metadata": {},
     "output_type": "execute_result"
    },
    {
     "data": {
      "image/png": "[encoded data removed]",
      "text/plain": [
       "<Figure size 432x288 with 1 Axes>"
      ]
     },
     "metadata": {
      "needs_background": "light"
     },
     "output_type": "display_data"
    }
   ],
   "source": [
    "errors = np.vstack(train[\"reactivity_error\"].values).flatten()\n",
    "sns.distplot(errors.clip(-0.5, 10))"
   ]
  },
  {
   "cell_type": "code",
   "execution_count": 107,
   "metadata": {},
   "outputs": [],
   "source": [
    "cc = np.random.gamma(1.2, 0.3, 10000)"
   ]
  },
  {
   "cell_type": "code",
   "execution_count": 112,
   "metadata": {},
   "outputs": [
    {
     "data": {
      "text/plain": [
       "<matplotlib.axes._subplots.AxesSubplot at 0x7fa02dcde820>"
      ]
     },
     "execution_count": 112,
     "metadata": {},
     "output_type": "execute_result"
    },
    {
     "data": {
      "image/png": "[encoded data removed]",
      "text/plain": [
       "<Figure size 432x288 with 1 Axes>"
      ]
     },
     "metadata": {
      "needs_background": "light"
     },
     "output_type": "display_data"
    }
   ],
   "source": [
    "sns.distplot(cc-0.04)\n",
    "sns.distplot(rss.clip(-0.5, 10))"
   ]
  },
  {
   "cell_type": "code",
   "execution_count": 126,
   "metadata": {},
   "outputs": [
    {
     "data": {
      "text/plain": [
       "(0.21830739100629187, 0.21580000000000002)"
      ]
     },
     "execution_count": 126,
     "metadata": {},
     "output_type": "execute_result"
    }
   ],
   "source": [
    "np.median(cc-0.04), np.median(rss)"
   ]
  },
  {
   "cell_type": "code",
   "execution_count": 136,
   "metadata": {},
   "outputs": [],
   "source": [
    "ddd = rss + (np.random.gamma(1.2, 0.3, len(rss)) - 0.04)*errors"
   ]
  },
  {
   "cell_type": "code",
   "execution_count": 137,
   "metadata": {},
   "outputs": [
    {
     "data": {
      "text/plain": [
       "<matplotlib.axes._subplots.AxesSubplot at 0x7fa02ceb45b0>"
      ]
     },
     "execution_count": 137,
     "metadata": {},
     "output_type": "execute_result"
    },
    {
     "data": {
      "image/png": "[encoded data removed]",
      "text/plain": [
       "<Figure size 432x288 with 1 Axes>"
      ]
     },
     "metadata": {
      "needs_background": "light"
     },
     "output_type": "display_data"
    }
   ],
   "source": [
    "sns.distplot(ddd.clip(-0.5, 10))\n",
    "sns.distplot(rss.clip(-0.5, 10))"
   ]
  },
  {
   "cell_type": "code",
   "execution_count": 138,
   "metadata": {},
   "outputs": [
    {
     "data": {
      "text/plain": [
       "(array([0.3297, 1.5693, 1.1227, 0.8686, 0.7217, 0.4384, 0.256 , 0.3364,\n",
       "        0.2168, 0.3583]),\n",
       " array([0.32737048, 1.60529388, 1.22194872, 0.8732293 , 0.71662162,\n",
       "        0.44086435, 0.31492832, 0.4331011 , 0.24363024, 0.35867173]))"
      ]
     },
     "execution_count": 138,
     "metadata": {},
     "output_type": "execute_result"
    }
   ],
   "source": [
    "rss[:10], ddd[:10]"
   ]
  },
  {
   "cell_type": "code",
   "execution_count": 1,
   "metadata": {},
   "outputs": [],
   "source": [
    "import torch"
   ]
  },
  {
   "cell_type": "code",
   "execution_count": 6,
   "metadata": {},
   "outputs": [],
   "source": [
    "a = torch.ones(10, 6, 5, 5)\n",
    "b = torch.ones(10, 1, 5, 20)"
   ]
  },
  {
   "cell_type": "code",
   "execution_count": 11,
   "metadata": {},
   "outputs": [
    {
     "data": {
      "text/plain": [
       "torch.Size([10, 6, 5, 20])"
      ]
     },
     "execution_count": 11,
     "metadata": {},
     "output_type": "execute_result"
    }
   ],
   "source": [
    "c = torch.matmul(a, b)\n",
    "c.shape"
   ]
  },
  {
   "cell_type": "code",
   "execution_count": 12,
   "metadata": {},
   "outputs": [
    {
     "data": {
      "text/plain": [
       "torch.Size([10, 5, 20])"
      ]
     },
     "execution_count": 12,
     "metadata": {},
     "output_type": "execute_result"
    }
   ],
   "source": [
    "c.mean(dim=(1)).shape"
   ]
  },
  {
   "cell_type": "code",
   "execution_count": 7,
   "metadata": {},
   "outputs": [
    {
     "data": {
      "text/html": [
       "<div>\n",
       "<style scoped>\n",
       "    .dataframe tbody tr th:only-of-type {\n",
       "        vertical-align: middle;\n",
       "    }\n",
       "\n",
       "    .dataframe tbody tr th {\n",
       "        vertical-align: top;\n",
       "    }\n",
       "\n",
       "    .dataframe thead th {\n",
       "        text-align: right;\n",
       "    }\n",
       "</style>\n",
       "<table border=\"1\" class=\"dataframe\">\n",
       "  <thead>\n",
       "    <tr style=\"text-align: right;\">\n",
       "      <th></th>\n",
       "      <th>month</th>\n",
       "      <th>purchase</th>\n",
       "    </tr>\n",
       "  </thead>\n",
       "  <tbody>\n",
       "    <tr>\n",
       "      <th>0</th>\n",
       "      <td>10</td>\n",
       "      <td>2</td>\n",
       "    </tr>\n",
       "    <tr>\n",
       "      <th>1</th>\n",
       "      <td>11</td>\n",
       "      <td>6</td>\n",
       "    </tr>\n",
       "    <tr>\n",
       "      <th>2</th>\n",
       "      <td>12</td>\n",
       "      <td>2</td>\n",
       "    </tr>\n",
       "    <tr>\n",
       "      <th>3</th>\n",
       "      <td>1</td>\n",
       "      <td>4</td>\n",
       "    </tr>\n",
       "    <tr>\n",
       "      <th>4</th>\n",
       "      <td>2</td>\n",
       "      <td>8</td>\n",
       "    </tr>\n",
       "    <tr>\n",
       "      <th>5</th>\n",
       "      <td>3</td>\n",
       "      <td>2</td>\n",
       "    </tr>\n",
       "    <tr>\n",
       "      <th>6</th>\n",
       "      <td>4</td>\n",
       "      <td>6</td>\n",
       "    </tr>\n",
       "    <tr>\n",
       "      <th>7</th>\n",
       "      <td>5</td>\n",
       "      <td>2</td>\n",
       "    </tr>\n",
       "    <tr>\n",
       "      <th>8</th>\n",
       "      <td>6</td>\n",
       "      <td>9</td>\n",
       "    </tr>\n",
       "    <tr>\n",
       "      <th>9</th>\n",
       "      <td>7</td>\n",
       "      <td>6</td>\n",
       "    </tr>\n",
       "    <tr>\n",
       "      <th>10</th>\n",
       "      <td>8</td>\n",
       "      <td>7</td>\n",
       "    </tr>\n",
       "    <tr>\n",
       "      <th>11</th>\n",
       "      <td>9</td>\n",
       "      <td>5</td>\n",
       "    </tr>\n",
       "    <tr>\n",
       "      <th>12</th>\n",
       "      <td>10</td>\n",
       "      <td>7</td>\n",
       "    </tr>\n",
       "    <tr>\n",
       "      <th>13</th>\n",
       "      <td>11</td>\n",
       "      <td>7</td>\n",
       "    </tr>\n",
       "    <tr>\n",
       "      <th>14</th>\n",
       "      <td>12</td>\n",
       "      <td>4</td>\n",
       "    </tr>\n",
       "    <tr>\n",
       "      <th>15</th>\n",
       "      <td>1</td>\n",
       "      <td>2</td>\n",
       "    </tr>\n",
       "    <tr>\n",
       "      <th>16</th>\n",
       "      <td>2</td>\n",
       "      <td>14</td>\n",
       "    </tr>\n",
       "    <tr>\n",
       "      <th>17</th>\n",
       "      <td>3</td>\n",
       "      <td>10</td>\n",
       "    </tr>\n",
       "    <tr>\n",
       "      <th>18</th>\n",
       "      <td>4</td>\n",
       "      <td>13</td>\n",
       "    </tr>\n",
       "    <tr>\n",
       "      <th>19</th>\n",
       "      <td>5</td>\n",
       "      <td>4</td>\n",
       "    </tr>\n",
       "    <tr>\n",
       "      <th>20</th>\n",
       "      <td>6</td>\n",
       "      <td>3</td>\n",
       "    </tr>\n",
       "    <tr>\n",
       "      <th>21</th>\n",
       "      <td>7</td>\n",
       "      <td>4</td>\n",
       "    </tr>\n",
       "    <tr>\n",
       "      <th>22</th>\n",
       "      <td>8</td>\n",
       "      <td>2</td>\n",
       "    </tr>\n",
       "  </tbody>\n",
       "</table>\n",
       "</div>"
      ],
      "text/plain": [
       "    month  purchase\n",
       "0      10         2\n",
       "1      11         6\n",
       "2      12         2\n",
       "3       1         4\n",
       "4       2         8\n",
       "5       3         2\n",
       "6       4         6\n",
       "7       5         2\n",
       "8       6         9\n",
       "9       7         6\n",
       "10      8         7\n",
       "11      9         5\n",
       "12     10         7\n",
       "13     11         7\n",
       "14     12         4\n",
       "15      1         2\n",
       "16      2        14\n",
       "17      3        10\n",
       "18      4        13\n",
       "19      5         4\n",
       "20      6         3\n",
       "21      7         4\n",
       "22      8         2"
      ]
     },
     "execution_count": 7,
     "metadata": {},
     "output_type": "execute_result"
    }
   ],
   "source": [
    "import pandas as pd\n",
    "a = [\n",
    "('2018-10-01',  2),\n",
    "('2018-11-01',  6),\n",
    "('2018-12-01',  2),\n",
    "('2019-01-01',  4),\n",
    "('2019-02-01',  8),\n",
    "('2019-03-01',  2),\n",
    "('2019-04-01',  6),\n",
    "('2019-05-01',  2),\n",
    "('2019-06-01', 9),\n",
    "('2019-07-01',  6),\n",
    "('2019-08-01',  7),\n",
    "('2019-09-01',  5),\n",
    "('2019-10-01',  7),\n",
    "('2019-11-01',  7),\n",
    "('2019-12-01',  4),\n",
    "('2020-01-01',  2),\n",
    "('2020-02-01',  14),\n",
    "('2020-03-01',  10),\n",
    "('2020-04-01',  13),\n",
    "('2020-05-01',  4),\n",
    "('2020-06-01',  3),\n",
    "('2020-07-01',  4),\n",
    "('2020-08-01',  2)\n",
    "]\n",
    "\n",
    "df = pd.DataFrame(a, columns=['month', 'purchase'])\n",
    "df[\"month\"] = pd.to_datetime(df[\"month\"]).dt.month\n",
    "df"
   ]
  },
  {
   "cell_type": "code",
   "execution_count": 22,
   "metadata": {},
   "outputs": [],
   "source": [
    "X = sm.add_constant(df['month'], prepend=True)"
   ]
  },
  {
   "cell_type": "code",
   "execution_count": 23,
   "metadata": {},
   "outputs": [
    {
     "ename": "TypeError",
     "evalue": "__init__() missing 1 required positional argument: 'exog'",
     "output_type": "error",
     "traceback": [
      "\u001b[0;31m---------------------------------------------------------------------------\u001b[0m",
      "\u001b[0;31mTypeError\u001b[0m                                 Traceback (most recent call last)",
      "\u001b[0;32m<ipython-input-23-e23d5a936735>\u001b[0m in \u001b[0;36m<module>\u001b[0;34m\u001b[0m\n\u001b[1;32m      1\u001b[0m \u001b[0;32mimport\u001b[0m \u001b[0mstatsmodels\u001b[0m\u001b[0;34m.\u001b[0m\u001b[0mapi\u001b[0m \u001b[0;32mas\u001b[0m \u001b[0msm\u001b[0m\u001b[0;34m\u001b[0m\u001b[0;34m\u001b[0m\u001b[0m\n\u001b[0;32m----> 2\u001b[0;31m \u001b[0mmodel\u001b[0m \u001b[0;34m=\u001b[0m \u001b[0msm\u001b[0m\u001b[0;34m.\u001b[0m\u001b[0mRLM\u001b[0m\u001b[0;34m(\u001b[0m\u001b[0;34m'purchase ~ month'\u001b[0m\u001b[0;34m,\u001b[0m \u001b[0mM\u001b[0m\u001b[0;34m=\u001b[0m\u001b[0msm\u001b[0m\u001b[0;34m.\u001b[0m\u001b[0mrobust\u001b[0m\u001b[0;34m.\u001b[0m\u001b[0mnorms\u001b[0m\u001b[0;34m.\u001b[0m\u001b[0mHuberT\u001b[0m\u001b[0;34m(\u001b[0m\u001b[0;34m)\u001b[0m\u001b[0;34m)\u001b[0m\u001b[0;34m\u001b[0m\u001b[0;34m\u001b[0m\u001b[0m\n\u001b[0m",
      "\u001b[0;31mTypeError\u001b[0m: __init__() missing 1 required positional argument: 'exog'"
     ]
    }
   ],
   "source": [
    "import statsmodels.api as sm\n",
    "model = sm.RLM('purchase ~ month', M=sm.robust.norms.HuberT())"
   ]
  },
  {
   "cell_type": "code",
   "execution_count": 20,
   "metadata": {},
   "outputs": [],
   "source": [
    "res = model.fit()"
   ]
  },
  {
   "cell_type": "code",
   "execution_count": 12,
   "metadata": {},
   "outputs": [
    {
     "data": {
      "text/plain": [
       "array([0.96985508, 1.        , 0.78459347, 1.        , 1.        ,\n",
       "       1.        , 1.        , 1.        , 1.        , 1.        ,\n",
       "       1.        , 1.        , 1.        , 1.        , 0.91885611,\n",
       "       1.        , 0.94323024, 1.        , 1.        , 1.        ,\n",
       "       1.        , 1.        , 1.        ])"
      ]
     },
     "execution_count": 12,
     "metadata": {},
     "output_type": "execute_result"
    }
   ],
   "source": [
    "model.weights"
   ]
  },
  {
   "cell_type": "code",
   "execution_count": 21,
   "metadata": {},
   "outputs": [
    {
     "data": {
      "text/plain": [
       "purchase    0.764943\n",
       "dtype: float64"
      ]
     },
     "execution_count": 21,
     "metadata": {},
     "output_type": "execute_result"
    }
   ],
   "source": [
    "res.params, res."
   ]
  },
  {
   "cell_type": "code",
   "execution_count": null,
   "metadata": {},
   "outputs": [],
   "source": []
  }
 ],
 "metadata": {
  "kernelspec": {
   "display_name": "Python 3",
   "language": "python",
   "name": "python3"
  },
  "language_info": {
   "codemirror_mode": {
    "name": "ipython",
    "version": 3
   },
   "file_extension": ".py",
   "mimetype": "text/x-python",
   "name": "python",
   "nbconvert_exporter": "python",
   "pygments_lexer": "ipython3",
   "version": "3.8.3"
  }
 },
 "nbformat": 4,
 "nbformat_minor": 4
}
