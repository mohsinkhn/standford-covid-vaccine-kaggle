{
 "cells": [
  {
   "cell_type": "code",
   "execution_count": 1,
   "metadata": {},
   "outputs": [],
   "source": [
    "import numpy as np\n",
    "import pandas as pd\n",
    "import random\n",
    "import torch\n",
    "from torch import nn\n",
    "from torch.nn import Linear, LayerNorm, ReLU, Dropout\n",
    "from torch_geometric.nn import ChebConv, NNConv, DeepGCNLayer, EdgeConv\n",
    "from torch_geometric.data import Data, DataLoader\n",
    "from sklearn.model_selection import StratifiedKFold\n",
    "from tqdm import tqdm\n",
    "import os\n",
    "import copy\n",
    "from catalyst.dl import utils\n",
    "\n",
    "from constants import FilePaths\n",
    "# settings\n",
    "\n"
   ]
  },
  {
   "cell_type": "code",
   "execution_count": 2,
   "metadata": {},
   "outputs": [],
   "source": [
    "seed = 777\n",
    "train_file = '../input/stanford-covid-vaccine/train.json'\n",
    "test_file = '../input/stanford-covid-vaccine/test.json'\n",
    "bpps_top = '../input/stanford-covid-vaccine/bpps'\n",
    "nb_fold = 5\n",
    "device = 'cuda'\n",
    "batch_size = 16\n",
    "epochs = 100\n",
    "lr = 0.0005\n",
    "train_with_noisy_data = True\n",
    "add_edge_for_paired_nodes = True\n",
    "add_codon_nodes = True\n",
    "T = 5\n",
    "node_hidden_channels = 96\n",
    "edge_hidden_channels = 16\n",
    "hidden_channels3 = 32\n",
    "num_layers = 10\n",
    "dropout1 = 0.1\n",
    "dropout2 = 0.1\n",
    "dropout3 = 0.1\n",
    "bpps_nb_mean = 0.077522 # mean of bpps_nb across all training data\n",
    "bpps_nb_std = 0.08914   # std of bpps_nb across all training data\n",
    "error_mean_limit = 0.5\n"
   ]
  },
  {
   "cell_type": "code",
   "execution_count": 3,
   "metadata": {},
   "outputs": [],
   "source": [
    "def match_pair(structure):\n",
    "    pair = [-1] * len(structure)\n",
    "    pair_no = -1\n",
    "\n",
    "    pair_no_stack = []\n",
    "    for i, c in enumerate(structure):\n",
    "        if c == '(':\n",
    "            pair_no += 1\n",
    "            pair[i] = pair_no\n",
    "            pair_no_stack.append(pair_no)\n",
    "        elif c == ')':\n",
    "            pair[i] = pair_no_stack.pop()\n",
    "    return pair\n",
    "\n",
    "\n",
    "def match_pair2(bpps, threshold=0.0):\n",
    "    max_idx = np.argmax(bpps, 1)\n",
    "    max_val = np.max(bpps, 1)\n",
    "    n = bpps.shape[0]\n",
    "    pairs = []\n",
    "    m = 0\n",
    "    for j in range(n):\n",
    "        idxs = np.where(bpps[j] > threshold)[0]\n",
    "        for idx in idxs:\n",
    "            pairs.append((j, idx))\n",
    "    return pairs\n"
   ]
  },
  {
   "cell_type": "code",
   "execution_count": 4,
   "metadata": {},
   "outputs": [
    {
     "data": {
      "text/plain": [
       "(array([[0. , 0. , 0. , 0. , 0. , 0. ],\n",
       "        [0. , 0. , 0.4, 0. , 0. , 0. ],\n",
       "        [0. , 0.4, 0. , 0. , 0. , 0. ],\n",
       "        [0. , 0. , 0. , 0. , 0. , 0. ],\n",
       "        [0. , 0. , 0. , 0. , 0. , 0.2],\n",
       "        [0. , 0. , 0. , 0. , 0.2, 0. ]]),\n",
       " array([[0. , 0. , 0. , 0. , 0. , 0. ],\n",
       "        [0. , 0. , 0.4, 0. , 0. , 0. ],\n",
       "        [0. , 0.4, 0. , 0. , 0. , 0. ],\n",
       "        [0. , 0. , 0. , 0. , 0. , 0. ],\n",
       "        [0. , 0. , 0. , 0. , 0. , 0.2],\n",
       "        [0. , 0. , 0. , 0. , 0.2, 0. ]]))"
      ]
     },
     "execution_count": 4,
     "metadata": {},
     "output_type": "execute_result"
    }
   ],
   "source": [
    "a = np.array([[0, 0, 0, 0, 0, 0],\n",
    "              [0, 0, 0.4, 0, 0, 0],\n",
    "              [0, 0.4, 0, 0, 0, 0],\n",
    "              [0, 0, 0, 0, 0, 0],\n",
    "              [0, 0, 0, 0, 0, 0.2],\n",
    "              [0, 0, 0, 0, 0.2, 0]])\n",
    "a, a.T"
   ]
  },
  {
   "cell_type": "code",
   "execution_count": 5,
   "metadata": {},
   "outputs": [
    {
     "data": {
      "text/plain": [
       "([-1, 0, 0, -1, 1, 1], [(1, 2), (2, 1), (4, 5), (5, 4)])"
      ]
     },
     "execution_count": 5,
     "metadata": {},
     "output_type": "execute_result"
    }
   ],
   "source": [
    "match_pair(\".().()\"), match_pair2(a)"
   ]
  },
  {
   "cell_type": "code",
   "execution_count": 6,
   "metadata": {},
   "outputs": [],
   "source": [
    "class MyData(Data):\n",
    "    def __init__(self, x=None, edge_index=None, edge_attr=None, y=None,\n",
    "                 pos=None, norm=None, face=None, weight=None, **kwargs):\n",
    "        super(MyData, self).__init__(x=x, edge_index=edge_index,\n",
    "                                     edge_attr=edge_attr, y=y, pos=pos,\n",
    "                                     norm=norm, face=face, **kwargs)\n",
    "        self.weight = weight\n",
    "\n",
    "\n",
    "def calc_error_mean(row):\n",
    "    reactivity_error = row['reactivity_error']\n",
    "    deg_error_Mg_pH10 = row['deg_error_Mg_pH10']\n",
    "    deg_error_Mg_50C = row['deg_error_Mg_50C']\n",
    "\n",
    "    return np.mean(np.abs(reactivity_error) +\n",
    "                   np.abs(deg_error_Mg_pH10) + \\\n",
    "                   np.abs(deg_error_Mg_50C)) / 3\n",
    "\n",
    "\n",
    "def calc_sample_weight(row, threshold):\n",
    "    if sample_is_clean(row):\n",
    "        return 1.\n",
    "    else:\n",
    "        error_mean = calc_error_mean(row)\n",
    "        if error_mean >= threshold:\n",
    "            return 0.\n",
    "\n",
    "        return 1. - error_mean / threshold\n",
    "\n",
    "\n",
    "# add directed edge for node1 -> node2 and for node2 -> node1\n",
    "def add_edges(edge_index, edge_features, node1, node2, feature1, feature2):\n",
    "    edge_index.append([node1, node2])\n",
    "    edge_features.append(feature1)\n",
    "    edge_index.append([node2, node1])\n",
    "    edge_features.append(feature2)\n",
    "\n",
    "\n",
    "def add_edges_between_base_nodes(edge_index, edge_features, node1, node2):\n",
    "    edge_feature1 = [\n",
    "        0, # is edge for paired nodes\n",
    "        0, # is edge between codon node and base node\n",
    "        0, # is edge between coden nodes\n",
    "        1, # forward edge: 1, backward edge: -1\n",
    "        1, # bpps if edge is for paired nodes\n",
    "    ]\n",
    "    edge_feature2 = [\n",
    "        0, # is edge for paired nodes\n",
    "        0, # is edge between codon node and base node\n",
    "        0, # is edge between coden nodes\n",
    "        -1, # forward edge: 1, backward edge: -1\n",
    "        1, # bpps if edge is for paired nodes\n",
    "    ]\n",
    "    add_edges(edge_index, edge_features, node1, node2,\n",
    "              edge_feature1, edge_feature2)\n",
    "\n",
    "\n",
    "def add_edges_between_paired_nodes(edge_index, edge_features, node1, node2,\n",
    "                                   bpps_value):\n",
    "    edge_feature1 = [\n",
    "        1, # is edge for paired nodes\n",
    "        0, # is edge between codon node and base node\n",
    "        0, # is edge between coden nodes\n",
    "        0, # forward edge: 1, backward edge: -1\n",
    "        bpps_value, # bpps if edge is for paired nodes\n",
    "    ]\n",
    "    edge_feature2 = [\n",
    "        1, # is edge for paired nodes\n",
    "        0, # is edge between codon node and base node\n",
    "        0, # is edge between coden nodes\n",
    "        0, # forward edge: 1, backward edge: -1\n",
    "        bpps_value, # bpps if edge is for paired nodes\n",
    "    ]\n",
    "    add_edges(edge_index, edge_features, node1, node2,\n",
    "              edge_feature1, edge_feature2)\n",
    "\n",
    "\n",
    "def add_edges_between_codon_nodes(edge_index, edge_features, node1, node2):\n",
    "    edge_feature1 = [\n",
    "        0, # is edge for paired nodes\n",
    "        0, # is edge between codon node and base node\n",
    "        1, # is edge between coden nodes\n",
    "        1, # forward edge: 1, backward edge: -1\n",
    "        0, # bpps if edge is for paired nodes\n",
    "    ]\n",
    "    edge_feature2 = [\n",
    "        0, # is edge for paired nodes\n",
    "        0, # is edge between codon node and base node\n",
    "        1, # is edge between coden nodes\n",
    "        -1, # forward edge: 1, backward edge: -1\n",
    "        0, # bpps if edge is for paired nodes\n",
    "    ]\n",
    "    add_edges(edge_index, edge_features, node1, node2,\n",
    "              edge_feature1, edge_feature2)\n",
    "\n",
    "\n",
    "def add_edges_between_codon_and_base_node(edge_index, edge_features,\n",
    "                                          node1, node2):\n",
    "    edge_feature1 = [\n",
    "        0, # is edge for paired nodes\n",
    "        1, # is edge between codon node and base node\n",
    "        0, # is edge between coden nodes\n",
    "        0, # forward edge: 1, backward edge: -1\n",
    "        0, # bpps if edge is for paired nodes\n",
    "    ]\n",
    "    edge_feature2 = [\n",
    "        0, # is edge for paired nodes\n",
    "        1, # is edge between codon node and base node\n",
    "        0, # is edge between coden nodes\n",
    "        0, # forward edge: 1, backward edge: -1\n",
    "        0, # bpps if edge is for paired nodes\n",
    "    ]\n",
    "    add_edges(edge_index, edge_features, node1, node2,\n",
    "              edge_feature1, edge_feature2)\n",
    "\n",
    "\n",
    "def add_node(node_features, feature):\n",
    "    node_features.append(feature)\n",
    "\n",
    "\n",
    "def add_base_node(node_features, sequence, predicted_loop_type,\n",
    "                  bpps_sum, bpps_nb):\n",
    "    feature = [\n",
    "        0, # is codon node\n",
    "        sequence == 'A',\n",
    "        sequence == 'C',\n",
    "        sequence == 'G',\n",
    "        sequence == 'U',\n",
    "        predicted_loop_type == 'S',\n",
    "        predicted_loop_type == 'M',\n",
    "        predicted_loop_type == 'I',\n",
    "        predicted_loop_type == 'B',\n",
    "        predicted_loop_type == 'H',\n",
    "        predicted_loop_type == 'E',\n",
    "        predicted_loop_type == 'X',\n",
    "        bpps_sum,\n",
    "        bpps_nb,\n",
    "    ]\n",
    "    add_node(node_features, feature)\n",
    "\n",
    "def add_codon_node(node_features):\n",
    "    feature = [\n",
    "        1, # is codon node\n",
    "        0, # sequence == 'A',\n",
    "        0, # sequence == 'C',\n",
    "        0, # sequence == 'G',\n",
    "        0, # sequence == 'U',\n",
    "        0, # predicted_loop_type == 'S',\n",
    "        0, # predicted_loop_type == 'M',\n",
    "        0, # predicted_loop_type == 'I',\n",
    "        0, # predicted_loop_type == 'B',\n",
    "        0, # predicted_loop_type == 'H',\n",
    "        0, # predicted_loop_type == 'E',\n",
    "        0, # predicted_loop_type == 'X',\n",
    "        0, # bpps_sum\n",
    "        0, # bpps_nb\n",
    "    ]\n",
    "    add_node(node_features, feature)\n",
    "\n",
    "\n",
    "def build_data(df, is_train):\n",
    "    bpps_nb_mean = 0.077522 # mean of bpps_nb across all training data\n",
    "    bpps_nb_std = 0.08914   # std of bpps_nb across all training data\n",
    "    add_edge_for_paired_nodes = True\n",
    "    add_codon_nodes = True\n",
    "\n",
    "    data = []\n",
    "    for i in range(len(df)):\n",
    "        targets = []\n",
    "        node_features = []\n",
    "        edge_features = []\n",
    "        edge_index = []\n",
    "        train_mask = []\n",
    "        test_mask = []\n",
    "        weights = []\n",
    "\n",
    "        id = df.loc[i, 'id']\n",
    "        path = f\"data/bpps/{id}.npy\"\n",
    "        bpps = np.load(path)\n",
    "        bpps_sum = bpps.sum(axis=0)\n",
    "        sequence = df.loc[i, 'sequence']\n",
    "        structure = df.loc[i, 'structure']\n",
    "        pair_info = match_pair(sequence)\n",
    "        predicted_loop_type = df.loc[i, 'predicted_loop_type']\n",
    "        seq_length = df.loc[i, 'seq_length']\n",
    "        seq_scored = df.loc[i, 'seq_scored']\n",
    "        bpps_nb = (bpps > 0).sum(axis=0) / seq_length\n",
    "        bpps_nb = (bpps_nb - bpps_nb_mean) / bpps_nb_std\n",
    "        if is_train:\n",
    "            sample_weight = calc_sample_weight(df.loc[i], 0.8)\n",
    "\n",
    "            reactivity = df.loc[i, 'reactivity']\n",
    "            deg_Mg_pH10 = df.loc[i, 'deg_Mg_pH10']\n",
    "            deg_Mg_50C = df.loc[i, 'deg_Mg_50C']\n",
    "\n",
    "            for j in range(seq_length):\n",
    "                if j < seq_scored:\n",
    "                    targets.append([\n",
    "                        reactivity[j],\n",
    "                        deg_Mg_pH10[j],\n",
    "                        deg_Mg_50C[j],\n",
    "                        ])\n",
    "                else:\n",
    "                    targets.append([0, 0, 0])\n",
    "\n",
    "        paired_nodes = {}\n",
    "        for j in range(seq_length):\n",
    "            add_base_node(node_features, sequence[j], predicted_loop_type[j],\n",
    "                          bpps_sum[j], bpps_nb[j])\n",
    "\n",
    "            if j + 1 < seq_length: # edge between current node and next node\n",
    "                add_edges_between_base_nodes(edge_index, edge_features,\n",
    "                                             j, j + 1)\n",
    "\n",
    "            # if pair_info[j] != -1:\n",
    "            #    if pair_info[j] not in paired_nodes:\n",
    "            #        paired_nodes[pair_info[j]] = [j]\n",
    "            #    else:\n",
    "            #        paired_nodes[pair_info[j]].append(j)\n",
    "\n",
    "            train_mask.append(j < seq_scored)\n",
    "            test_mask.append(True)\n",
    "            if is_train:\n",
    "                weights.append(sample_weight)\n",
    "        # paired_nodes = {i: pp for pp in match_pair2(bpps)}\n",
    "        if add_edge_for_paired_nodes:\n",
    "            for pair in paired_nodes.values():\n",
    "                bpps_value = bpps[pair[0], pair[1]]\n",
    "                add_edges_between_paired_nodes(edge_index, edge_features,\n",
    "                                               pair[0], pair[1], bpps_value)\n",
    "\n",
    "        if add_codon_nodes:\n",
    "            codon_node_idx = seq_length - 1\n",
    "            for j in range(seq_length):\n",
    "                if j % 3 == 0:\n",
    "                    # add codon node\n",
    "                    add_codon_node(node_features)\n",
    "                    codon_node_idx += 1\n",
    "                    train_mask.append(False)\n",
    "                    test_mask.append(False)\n",
    "                    if is_train:\n",
    "                        weights.append(0)\n",
    "                        targets.append([0, 0, 0])\n",
    "\n",
    "                    if codon_node_idx > seq_length:\n",
    "                        # add edges between adjacent codon nodes\n",
    "                        add_edges_between_codon_nodes(edge_index, edge_features,\n",
    "                                                      codon_node_idx - 1,\n",
    "                                                      codon_node_idx)\n",
    "\n",
    "                # add edges between codon node and base node\n",
    "                add_edges_between_codon_and_base_node(edge_index, edge_features,\n",
    "                                                      j, codon_node_idx)\n",
    "\n",
    "        node_features = torch.tensor(node_features, dtype=torch.float)\n",
    "        edge_index = torch.tensor(edge_index, dtype=torch.long).t().contiguous()\n",
    "        edge_features = torch.tensor(edge_features, dtype=torch.float)\n",
    "\n",
    "        if is_train:\n",
    "            data.append(MyData(x=node_features, edge_index=edge_index,\n",
    "                               edge_attr=edge_features,\n",
    "                               train_mask=torch.tensor(train_mask),\n",
    "                               weight=torch.tensor(weights, dtype=torch.float),\n",
    "                               y=torch.tensor(targets, dtype=torch.float)))\n",
    "        else:\n",
    "            data.append(MyData(x=node_features, edge_index=edge_index,\n",
    "                               edge_attr=edge_features,\n",
    "                               test_mask=torch.tensor(test_mask)))\n",
    "\n",
    "    return data\n"
   ]
  },
  {
   "cell_type": "code",
   "execution_count": null,
   "metadata": {},
   "outputs": [],
   "source": []
  },
  {
   "cell_type": "code",
   "execution_count": 7,
   "metadata": {},
   "outputs": [],
   "source": [
    "def weighted_mse_loss(prds, tgts, weight):\n",
    "    return torch.mean(weight * (prds - tgts)**2)\n",
    "\n",
    "\n",
    "def criterion(prds, tgts, weight=None):\n",
    "    if weight is None:\n",
    "        return (torch.sqrt(torch.nn.MSELoss()(prds[:,0], tgts[:,0])) +\n",
    "                torch.sqrt(torch.nn.MSELoss()(prds[:,1], tgts[:,1])) +\n",
    "                torch.sqrt(torch.nn.MSELoss()(prds[:,2], tgts[:,2]))) / 3\n",
    "    else:\n",
    "        return (torch.sqrt(weighted_mse_loss(prds[:,0], tgts[:,0], weight)) +\n",
    "                torch.sqrt(weighted_mse_loss(prds[:,1], tgts[:,1], weight)) +\n",
    "                torch.sqrt(weighted_mse_loss(prds[:,2], tgts[:,2], weight))) / 3\n",
    "\n",
    "def build_id_seqpos(df):\n",
    "    id_seqpos = []\n",
    "    for i in range(len(df)):\n",
    "        id = df.loc[i, 'id']\n",
    "        seq_length = df.loc[i, 'seq_length']\n",
    "        for seqpos in range(seq_length):\n",
    "            id_seqpos.append(id + '_' + str(seqpos))\n",
    "    return id_seqpos\n",
    "\n",
    "def sample_is_clean(row):\n",
    "    return row['SN_filter'] == 1\n",
    "    #return row['signal_to_noise'] > 1 and \\\n",
    "    #       min((min(row['reactivity']),\n",
    "    #            min(row['deg_Mg_pH10']),\n",
    "    #            min(row['deg_pH10']),\n",
    "    #            min(row['deg_Mg_50C']),\n",
    "    #            min(row['deg_50C']))) > -0.5\n",
    "\n",
    "# categorical value for target (used for stratified kfold)\n",
    "def add_y_cat(df):\n",
    "    target_mean = df['reactivity'].apply(np.mean) + \\\n",
    "                  df['deg_Mg_pH10'].apply(np.mean) + \\\n",
    "                  df['deg_Mg_50C'].apply(np.mean)\n",
    "    df['y_cat'] = pd.qcut(np.array(target_mean), q=20).codes"
   ]
  },
  {
   "cell_type": "code",
   "execution_count": 8,
   "metadata": {},
   "outputs": [],
   "source": [
    "#\n",
    "# originally copied from\n",
    "# https://github.com/rusty1s/pytorch_geometric/blob/master/examples/ogbn_proteins_deepgcn.py\n",
    "# \n",
    "class MapE2NxN(torch.nn.Module):\n",
    "    def __init__(self, in_channels, out_channels, hidden_channels):\n",
    "        super(MapE2NxN, self).__init__()\n",
    "        self.linear1 = Linear(in_channels, hidden_channels)\n",
    "        self.linear2 = Linear(hidden_channels, out_channels)\n",
    "        self.dropout = Dropout(dropout3)\n",
    "        self.gelu = nn.GELU()\n",
    "        \n",
    "    def forward(self, x):\n",
    "        x = self.linear1(x)\n",
    "        x = self.gelu(x)\n",
    "        x = self.dropout(x)\n",
    "        x = self.linear2(x)\n",
    "        return x\n",
    "\n",
    "class MyDeeperGCN(torch.nn.Module):\n",
    "    def __init__(self, num_node_features, num_edge_features,\n",
    "                 node_hidden_channels,\n",
    "                 edge_hidden_channels,\n",
    "                 num_layers, num_classes):\n",
    "        super(MyDeeperGCN, self).__init__()\n",
    "\n",
    "        self.node_encoder = ChebConv(num_node_features, node_hidden_channels, T)\n",
    "        self.edge_encoder = Linear(num_edge_features, edge_hidden_channels)\n",
    "\n",
    "        self.layers = torch.nn.ModuleList()\n",
    "        for i in range(1, num_layers + 1):\n",
    "            conv = NNConv(node_hidden_channels, node_hidden_channels,\n",
    "                          MapE2NxN(edge_hidden_channels,\n",
    "                                   node_hidden_channels * node_hidden_channels,\n",
    "                                   hidden_channels3))\n",
    "            norm = LayerNorm(node_hidden_channels, elementwise_affine=True)\n",
    "            act = nn.GELU()\n",
    "\n",
    "            layer = DeepGCNLayer(conv, norm, act, block='res+',\n",
    "                                 dropout=dropout1, ckpt_grad=i % 3)\n",
    "            self.layers.append(layer)\n",
    "\n",
    "        self.lin = Linear(node_hidden_channels, num_classes)\n",
    "        self.dropout = Dropout(dropout2)\n",
    "\n",
    "    def forward(self, data):\n",
    "        x = data.x\n",
    "        edge_index = data.edge_index\n",
    "        edge_attr = data.edge_attr\n",
    "\n",
    "        # edge for paired nodes are excluded for encoding node\n",
    "        seq_edge_index = edge_index[:, edge_attr[:,0] == 0]\n",
    "        x = self.node_encoder(x, seq_edge_index)\n",
    "\n",
    "        edge_attr = self.edge_encoder(edge_attr)\n",
    "\n",
    "        x = self.layers[0].conv(x, edge_index, edge_attr)\n",
    "\n",
    "        for layer in self.layers[1:]:\n",
    "            x = layer(x, edge_index, edge_attr)\n",
    "\n",
    "        x = self.layers[0].act(self.layers[0].norm(x))\n",
    "        x = self.dropout(x)\n",
    "\n",
    "        return self.lin(x)"
   ]
  },
  {
   "cell_type": "code",
   "execution_count": 9,
   "metadata": {},
   "outputs": [],
   "source": [
    "seed = 777\n",
    "torch.manual_seed(seed)\n",
    "torch.backends.cudnn.deterministic = True\n",
    "torch.backends.cudnn.benchmark = False\n",
    "torch.cuda.manual_seed(seed)\n",
    "np.random.seed(seed)\n",
    "random.seed(seed)\n",
    "os.environ[\"PYTHONHASHSEED\"] = str(seed)"
   ]
  },
  {
   "cell_type": "code",
   "execution_count": 10,
   "metadata": {},
   "outputs": [],
   "source": [
    "FN = FilePaths(\"data\")\n",
    "df_tr = pd.read_json(FN.train_json, lines=True)\n",
    "add_y_cat(df_tr)"
   ]
  },
  {
   "cell_type": "code",
   "execution_count": 11,
   "metadata": {},
   "outputs": [],
   "source": [
    "T = 5\n",
    "hidden_channels3 = 32\n",
    "num_layers = 10\n",
    "dropout1 = 0.1\n",
    "dropout2 = 0.1\n",
    "dropout3 = 0.1\n",
    "HPARAMS = {\n",
    "    \"nb_fold\": 5,\n",
    "    \"filter_noise\": True,\n",
    "    \"signal_to_noise_ratio\": 0.5,\n",
    "    \"batch_size\": 16,\n",
    "    \"lr\": 1e-3,\n",
    "    \"wd\": 0,\n",
    "    \"num_layers\": 10,\n",
    "    \"node_hidden_channels\": 96,\n",
    "    \"edge_hidden_channels\": 16\n",
    "}"
   ]
  },
  {
   "cell_type": "code",
   "execution_count": 12,
   "metadata": {},
   "outputs": [],
   "source": [
    "device = utils.get_device()\n",
    "all_ys = torch.zeros((0, 3)).to(device).detach()\n",
    "all_outs = torch.zeros((0, 3)).to(device).detach()\n",
    "best_model_states = []\n",
    "cvlist = list(StratifiedKFold(HPARAMS[\"nb_fold\"], shuffle=True, random_state=seed).split(df_tr, df_tr[\"y_cat\"]))"
   ]
  },
  {
   "cell_type": "code",
   "execution_count": 13,
   "metadata": {},
   "outputs": [],
   "source": [
    "from pytorch_geometric_dataset import prepare_dataset"
   ]
  },
  {
   "cell_type": "code",
   "execution_count": 14,
   "metadata": {},
   "outputs": [],
   "source": [
    "def get_dataloader(df, hparams):\n",
    "    # data_train = build_data(df.reset_index(drop=True), True)\n",
    "    data_train = prepare_dataset(df, True, 0.5)\n",
    "    return data_train, DataLoader(data_train, batch_size=hparams[\"batch_size\"], shuffle=True)\n",
    "\n",
    "\n",
    "def train_fold(model, loader_train, loader_valid, optimizer, criterion, epochs, device):\n",
    "    best_mcrmse = np.inf\n",
    "    for epoch in range(epochs):\n",
    "        print('Epoch', epoch)\n",
    "        model.train()\n",
    "        train_loss = 0.0\n",
    "        nb = 0\n",
    "        for data in tqdm(loader_train):\n",
    "            data = data.to(device)\n",
    "            mask = data.train_mask\n",
    "            weight = data.weight[mask]\n",
    "\n",
    "            optimizer.zero_grad()\n",
    "            out = model(data)[mask]\n",
    "            y = data.y[mask]\n",
    "            loss = criterion(out, y, weight)\n",
    "            loss.backward()\n",
    "            optimizer.step()\n",
    "            train_loss += loss.item() * y.size(0)\n",
    "            nb += y.size(0)\n",
    "\n",
    "            del data\n",
    "            del out\n",
    "            del y\n",
    "            del loss\n",
    "            #gc.collect()\n",
    "            #torch.cuda.empty_cache()\n",
    "        train_loss /= nb\n",
    "\n",
    "        model.eval()\n",
    "        valid_loss = 0.0\n",
    "        nb = 0\n",
    "        ys = torch.zeros((0, 3)).to(device).detach()\n",
    "        outs = torch.zeros((0, 3)).to(device).detach()\n",
    "        for data in tqdm(loader_valid):\n",
    "            data = data.to(device)\n",
    "            mask = data.train_mask\n",
    "\n",
    "            out = model(data)[mask].detach()\n",
    "            y = data.y[mask].detach()\n",
    "            loss = criterion(out, y).detach()\n",
    "            valid_loss += loss.item() * y.size(0)\n",
    "            nb += y.size(0)\n",
    "\n",
    "            outs = torch.cat((outs, out), dim=0)\n",
    "            ys = torch.cat((ys, y), dim=0)\n",
    "\n",
    "            del data\n",
    "            del out\n",
    "            del y\n",
    "            del loss\n",
    "            #gc.collect()\n",
    "            #torch.cuda.empty_cache()\n",
    "        valid_loss /= nb\n",
    "\n",
    "        mcrmse = criterion(outs, ys).item()\n",
    "\n",
    "        print(\"T Loss: {:.4f} V Loss: {:.4f} V MCRMSE: {:.4f}\".\\\n",
    "                format(train_loss, valid_loss, mcrmse))\n",
    "\n",
    "        if mcrmse < best_mcrmse:\n",
    "            print('Best valid MCRMSE updated to', mcrmse)\n",
    "            best_mcrmse = mcrmse\n",
    "            best_model_state = copy.deepcopy(model.state_dict())\n",
    "    return best_model_state"
   ]
  },
  {
   "cell_type": "code",
   "execution_count": 15,
   "metadata": {},
   "outputs": [
    {
     "name": "stdout",
     "output_type": "stream",
     "text": [
      "(1720, 20) (324, 20)\n"
     ]
    }
   ],
   "source": [
    "#for i, (tr_idx, vl_idx) in enumerate(cvlist):\n",
    "tr, vl = df_tr.iloc[cvlist[0][0]], df_tr.iloc[cvlist[0][1]]\n",
    "\n",
    "if HPARAMS[\"filter_noise\"]:\n",
    "    cond = tr.apply(calc_error_mean, axis=1) < 0.5\n",
    "    tr = tr.loc[cond].reset_index(drop=True)\n",
    "\n",
    "vl = vl.loc[vl[\"SN_filter\"] == 1].reset_index(drop=True)\n",
    "print(tr.shape, vl.shape)"
   ]
  },
  {
   "cell_type": "code",
   "execution_count": 16,
   "metadata": {},
   "outputs": [],
   "source": [
    "data_train, loader_train = get_dataloader(tr, HPARAMS)\n",
    "data_valid, loader_valid = get_dataloader(vl, HPARAMS)"
   ]
  },
  {
   "cell_type": "code",
   "execution_count": 17,
   "metadata": {},
   "outputs": [],
   "source": [
    "model = MyDeeperGCN(data_train[0].num_node_features,\n",
    "                    data_train[0].num_edge_features,\n",
    "                    node_hidden_channels=HPARAMS[\"node_hidden_channels\"],\n",
    "                    edge_hidden_channels=HPARAMS[\"edge_hidden_channels\"],\n",
    "                    num_layers=HPARAMS[\"num_layers\"],\n",
    "                    num_classes=3).to(device)\n",
    "optimizer = torch.optim.Adam(model.parameters(), lr=HPARAMS[\"lr\"], weight_decay=HPARAMS[\"wd\"])"
   ]
  },
  {
   "cell_type": "code",
   "execution_count": 18,
   "metadata": {},
   "outputs": [
    {
     "name": "stderr",
     "output_type": "stream",
     "text": [
      "  1%|          | 1/108 [00:00<00:16,  6.48it/s]"
     ]
    },
    {
     "name": "stdout",
     "output_type": "stream",
     "text": [
      "Epoch 0\n"
     ]
    },
    {
     "name": "stderr",
     "output_type": "stream",
     "text": [
      "100%|██████████| 108/108 [00:07<00:00, 15.40it/s]\n",
      "100%|██████████| 21/21 [00:00<00:00, 43.55it/s]\n",
      "  2%|▏         | 2/108 [00:00<00:06, 15.87it/s]"
     ]
    },
    {
     "name": "stdout",
     "output_type": "stream",
     "text": [
      "T Loss: 0.3849 V Loss: 0.3370 V MCRMSE: 0.3378\n",
      "Best valid MCRMSE updated to 0.33781084418296814\n",
      "Epoch 1\n"
     ]
    },
    {
     "name": "stderr",
     "output_type": "stream",
     "text": [
      "100%|██████████| 108/108 [00:06<00:00, 15.61it/s]\n",
      "100%|██████████| 21/21 [00:00<00:00, 43.15it/s]\n",
      "  2%|▏         | 2/108 [00:00<00:06, 15.92it/s]"
     ]
    },
    {
     "name": "stdout",
     "output_type": "stream",
     "text": [
      "T Loss: 0.3189 V Loss: 0.3080 V MCRMSE: 0.3092\n",
      "Best valid MCRMSE updated to 0.3092217743396759\n",
      "Epoch 2\n"
     ]
    },
    {
     "name": "stderr",
     "output_type": "stream",
     "text": [
      "100%|██████████| 108/108 [00:06<00:00, 15.64it/s]\n",
      "100%|██████████| 21/21 [00:00<00:00, 43.63it/s]\n",
      "  2%|▏         | 2/108 [00:00<00:06, 15.63it/s]"
     ]
    },
    {
     "name": "stdout",
     "output_type": "stream",
     "text": [
      "T Loss: 0.2953 V Loss: 0.2931 V MCRMSE: 0.2946\n",
      "Best valid MCRMSE updated to 0.2945800721645355\n",
      "Epoch 3\n"
     ]
    },
    {
     "name": "stderr",
     "output_type": "stream",
     "text": [
      "100%|██████████| 108/108 [00:06<00:00, 15.65it/s]\n",
      "100%|██████████| 21/21 [00:00<00:00, 43.42it/s]\n",
      "  2%|▏         | 2/108 [00:00<00:06, 15.59it/s]"
     ]
    },
    {
     "name": "stdout",
     "output_type": "stream",
     "text": [
      "T Loss: 0.2829 V Loss: 0.2803 V MCRMSE: 0.2816\n",
      "Best valid MCRMSE updated to 0.28162264823913574\n",
      "Epoch 4\n"
     ]
    },
    {
     "name": "stderr",
     "output_type": "stream",
     "text": [
      "100%|██████████| 108/108 [00:06<00:00, 15.66it/s]\n",
      "100%|██████████| 21/21 [00:00<00:00, 43.52it/s]\n",
      "  2%|▏         | 2/108 [00:00<00:06, 15.71it/s]"
     ]
    },
    {
     "name": "stdout",
     "output_type": "stream",
     "text": [
      "T Loss: 0.2760 V Loss: 0.2764 V MCRMSE: 0.2776\n",
      "Best valid MCRMSE updated to 0.2776244878768921\n",
      "Epoch 5\n"
     ]
    },
    {
     "name": "stderr",
     "output_type": "stream",
     "text": [
      "100%|██████████| 108/108 [00:06<00:00, 15.62it/s]\n",
      "100%|██████████| 21/21 [00:00<00:00, 43.66it/s]\n",
      "  2%|▏         | 2/108 [00:00<00:06, 15.53it/s]"
     ]
    },
    {
     "name": "stdout",
     "output_type": "stream",
     "text": [
      "T Loss: 0.2660 V Loss: 0.2713 V MCRMSE: 0.2726\n",
      "Best valid MCRMSE updated to 0.27258795499801636\n",
      "Epoch 6\n"
     ]
    },
    {
     "name": "stderr",
     "output_type": "stream",
     "text": [
      "100%|██████████| 108/108 [00:06<00:00, 15.68it/s]\n",
      "100%|██████████| 21/21 [00:00<00:00, 43.50it/s]\n",
      "  2%|▏         | 2/108 [00:00<00:06, 15.71it/s]"
     ]
    },
    {
     "name": "stdout",
     "output_type": "stream",
     "text": [
      "T Loss: 0.2610 V Loss: 0.2676 V MCRMSE: 0.2691\n",
      "Best valid MCRMSE updated to 0.26907917857170105\n",
      "Epoch 7\n"
     ]
    },
    {
     "name": "stderr",
     "output_type": "stream",
     "text": [
      "100%|██████████| 108/108 [00:06<00:00, 15.66it/s]\n",
      "100%|██████████| 21/21 [00:00<00:00, 43.47it/s]\n",
      "  2%|▏         | 2/108 [00:00<00:06, 15.79it/s]"
     ]
    },
    {
     "name": "stdout",
     "output_type": "stream",
     "text": [
      "T Loss: 0.2553 V Loss: 0.2643 V MCRMSE: 0.2662\n",
      "Best valid MCRMSE updated to 0.26624464988708496\n",
      "Epoch 8\n"
     ]
    },
    {
     "name": "stderr",
     "output_type": "stream",
     "text": [
      "100%|██████████| 108/108 [00:06<00:00, 15.66it/s]\n",
      "100%|██████████| 21/21 [00:00<00:00, 43.36it/s]\n",
      "  2%|▏         | 2/108 [00:00<00:06, 15.70it/s]"
     ]
    },
    {
     "name": "stdout",
     "output_type": "stream",
     "text": [
      "T Loss: 0.2527 V Loss: 0.2602 V MCRMSE: 0.2615\n",
      "Best valid MCRMSE updated to 0.2615025043487549\n",
      "Epoch 9\n"
     ]
    },
    {
     "name": "stderr",
     "output_type": "stream",
     "text": [
      "100%|██████████| 108/108 [00:06<00:00, 15.67it/s]\n",
      "100%|██████████| 21/21 [00:00<00:00, 43.67it/s]\n",
      "  2%|▏         | 2/108 [00:00<00:06, 15.74it/s]"
     ]
    },
    {
     "name": "stdout",
     "output_type": "stream",
     "text": [
      "T Loss: 0.2490 V Loss: 0.2605 V MCRMSE: 0.2625\n",
      "Epoch 10\n"
     ]
    },
    {
     "name": "stderr",
     "output_type": "stream",
     "text": [
      "100%|██████████| 108/108 [00:06<00:00, 15.65it/s]\n",
      "100%|██████████| 21/21 [00:00<00:00, 43.68it/s]\n",
      "  2%|▏         | 2/108 [00:00<00:06, 15.76it/s]"
     ]
    },
    {
     "name": "stdout",
     "output_type": "stream",
     "text": [
      "T Loss: 0.2455 V Loss: 0.2593 V MCRMSE: 0.2608\n",
      "Best valid MCRMSE updated to 0.2607875168323517\n",
      "Epoch 11\n"
     ]
    },
    {
     "name": "stderr",
     "output_type": "stream",
     "text": [
      "100%|██████████| 108/108 [00:06<00:00, 15.67it/s]\n",
      "100%|██████████| 21/21 [00:00<00:00, 43.64it/s]\n",
      "  2%|▏         | 2/108 [00:00<00:06, 15.77it/s]"
     ]
    },
    {
     "name": "stdout",
     "output_type": "stream",
     "text": [
      "T Loss: 0.2429 V Loss: 0.2555 V MCRMSE: 0.2570\n",
      "Best valid MCRMSE updated to 0.2570015788078308\n",
      "Epoch 12\n"
     ]
    },
    {
     "name": "stderr",
     "output_type": "stream",
     "text": [
      "100%|██████████| 108/108 [00:06<00:00, 15.67it/s]\n",
      "100%|██████████| 21/21 [00:00<00:00, 43.52it/s]\n",
      "  2%|▏         | 2/108 [00:00<00:06, 15.64it/s]"
     ]
    },
    {
     "name": "stdout",
     "output_type": "stream",
     "text": [
      "T Loss: 0.2386 V Loss: 0.2513 V MCRMSE: 0.2530\n",
      "Best valid MCRMSE updated to 0.25303491950035095\n",
      "Epoch 13\n"
     ]
    },
    {
     "name": "stderr",
     "output_type": "stream",
     "text": [
      "100%|██████████| 108/108 [00:06<00:00, 15.67it/s]\n",
      "100%|██████████| 21/21 [00:00<00:00, 43.64it/s]\n",
      "  2%|▏         | 2/108 [00:00<00:06, 15.67it/s]"
     ]
    },
    {
     "name": "stdout",
     "output_type": "stream",
     "text": [
      "T Loss: 0.2357 V Loss: 0.2539 V MCRMSE: 0.2552\n",
      "Epoch 14\n"
     ]
    },
    {
     "name": "stderr",
     "output_type": "stream",
     "text": [
      "100%|██████████| 108/108 [00:06<00:00, 15.67it/s]\n",
      "100%|██████████| 21/21 [00:00<00:00, 43.59it/s]\n",
      "  2%|▏         | 2/108 [00:00<00:06, 15.85it/s]"
     ]
    },
    {
     "name": "stdout",
     "output_type": "stream",
     "text": [
      "T Loss: 0.2352 V Loss: 0.2550 V MCRMSE: 0.2570\n",
      "Epoch 15\n"
     ]
    },
    {
     "name": "stderr",
     "output_type": "stream",
     "text": [
      "100%|██████████| 108/108 [00:06<00:00, 15.67it/s]\n",
      "100%|██████████| 21/21 [00:00<00:00, 43.62it/s]\n",
      "  2%|▏         | 2/108 [00:00<00:06, 15.71it/s]"
     ]
    },
    {
     "name": "stdout",
     "output_type": "stream",
     "text": [
      "T Loss: 0.2328 V Loss: 0.2527 V MCRMSE: 0.2539\n",
      "Epoch 16\n"
     ]
    },
    {
     "name": "stderr",
     "output_type": "stream",
     "text": [
      "100%|██████████| 108/108 [00:06<00:00, 15.61it/s]\n",
      "100%|██████████| 21/21 [00:00<00:00, 43.36it/s]\n",
      "  2%|▏         | 2/108 [00:00<00:06, 15.74it/s]"
     ]
    },
    {
     "name": "stdout",
     "output_type": "stream",
     "text": [
      "T Loss: 0.2306 V Loss: 0.2517 V MCRMSE: 0.2529\n",
      "Best valid MCRMSE updated to 0.25287923216819763\n",
      "Epoch 17\n"
     ]
    },
    {
     "name": "stderr",
     "output_type": "stream",
     "text": [
      "100%|██████████| 108/108 [00:06<00:00, 15.59it/s]\n",
      "100%|██████████| 21/21 [00:00<00:00, 43.56it/s]\n",
      "  2%|▏         | 2/108 [00:00<00:06, 15.85it/s]"
     ]
    },
    {
     "name": "stdout",
     "output_type": "stream",
     "text": [
      "T Loss: 0.2293 V Loss: 0.2486 V MCRMSE: 0.2502\n",
      "Best valid MCRMSE updated to 0.25015509128570557\n",
      "Epoch 18\n"
     ]
    },
    {
     "name": "stderr",
     "output_type": "stream",
     "text": [
      "100%|██████████| 108/108 [00:06<00:00, 15.69it/s]\n",
      "100%|██████████| 21/21 [00:00<00:00, 43.58it/s]\n",
      "  2%|▏         | 2/108 [00:00<00:06, 15.67it/s]"
     ]
    },
    {
     "name": "stdout",
     "output_type": "stream",
     "text": [
      "T Loss: 0.2260 V Loss: 0.2507 V MCRMSE: 0.2516\n",
      "Epoch 19\n"
     ]
    },
    {
     "name": "stderr",
     "output_type": "stream",
     "text": [
      "100%|██████████| 108/108 [00:06<00:00, 15.66it/s]\n",
      "100%|██████████| 21/21 [00:00<00:00, 43.58it/s]\n",
      "  2%|▏         | 2/108 [00:00<00:06, 15.81it/s]"
     ]
    },
    {
     "name": "stdout",
     "output_type": "stream",
     "text": [
      "T Loss: 0.2236 V Loss: 0.2491 V MCRMSE: 0.2508\n",
      "Epoch 20\n"
     ]
    },
    {
     "name": "stderr",
     "output_type": "stream",
     "text": [
      "100%|██████████| 108/108 [00:06<00:00, 15.67it/s]\n",
      "100%|██████████| 21/21 [00:00<00:00, 43.39it/s]\n",
      "  2%|▏         | 2/108 [00:00<00:06, 15.58it/s]"
     ]
    },
    {
     "name": "stdout",
     "output_type": "stream",
     "text": [
      "T Loss: 0.2225 V Loss: 0.2471 V MCRMSE: 0.2485\n",
      "Best valid MCRMSE updated to 0.2485448122024536\n",
      "Epoch 21\n"
     ]
    },
    {
     "name": "stderr",
     "output_type": "stream",
     "text": [
      "100%|██████████| 108/108 [00:06<00:00, 15.57it/s]\n",
      "100%|██████████| 21/21 [00:00<00:00, 43.19it/s]\n",
      "  2%|▏         | 2/108 [00:00<00:06, 15.82it/s]"
     ]
    },
    {
     "name": "stdout",
     "output_type": "stream",
     "text": [
      "T Loss: 0.2216 V Loss: 0.2475 V MCRMSE: 0.2487\n",
      "Epoch 22\n"
     ]
    },
    {
     "name": "stderr",
     "output_type": "stream",
     "text": [
      "100%|██████████| 108/108 [00:06<00:00, 15.69it/s]\n",
      "100%|██████████| 21/21 [00:00<00:00, 43.63it/s]\n",
      "  2%|▏         | 2/108 [00:00<00:06, 15.79it/s]"
     ]
    },
    {
     "name": "stdout",
     "output_type": "stream",
     "text": [
      "T Loss: 0.2189 V Loss: 0.2446 V MCRMSE: 0.2466\n",
      "Best valid MCRMSE updated to 0.24659499526023865\n",
      "Epoch 23\n"
     ]
    },
    {
     "name": "stderr",
     "output_type": "stream",
     "text": [
      "100%|██████████| 108/108 [00:06<00:00, 15.68it/s]\n",
      "100%|██████████| 21/21 [00:00<00:00, 43.63it/s]\n",
      "  2%|▏         | 2/108 [00:00<00:06, 15.63it/s]"
     ]
    },
    {
     "name": "stdout",
     "output_type": "stream",
     "text": [
      "T Loss: 0.2179 V Loss: 0.2494 V MCRMSE: 0.2512\n",
      "Epoch 24\n"
     ]
    },
    {
     "name": "stderr",
     "output_type": "stream",
     "text": [
      "100%|██████████| 108/108 [00:06<00:00, 15.69it/s]\n",
      "100%|██████████| 21/21 [00:00<00:00, 43.61it/s]\n",
      "  2%|▏         | 2/108 [00:00<00:06, 15.82it/s]"
     ]
    },
    {
     "name": "stdout",
     "output_type": "stream",
     "text": [
      "T Loss: 0.2156 V Loss: 0.2461 V MCRMSE: 0.2472\n",
      "Epoch 25\n"
     ]
    },
    {
     "name": "stderr",
     "output_type": "stream",
     "text": [
      "100%|██████████| 108/108 [00:06<00:00, 15.68it/s]\n",
      "100%|██████████| 21/21 [00:00<00:00, 43.64it/s]\n",
      "  2%|▏         | 2/108 [00:00<00:06, 15.80it/s]"
     ]
    },
    {
     "name": "stdout",
     "output_type": "stream",
     "text": [
      "T Loss: 0.2133 V Loss: 0.2433 V MCRMSE: 0.2455\n",
      "Best valid MCRMSE updated to 0.24549441039562225\n",
      "Epoch 26\n"
     ]
    },
    {
     "name": "stderr",
     "output_type": "stream",
     "text": [
      "100%|██████████| 108/108 [00:06<00:00, 15.67it/s]\n",
      "100%|██████████| 21/21 [00:00<00:00, 43.71it/s]\n",
      "  2%|▏         | 2/108 [00:00<00:06, 15.83it/s]"
     ]
    },
    {
     "name": "stdout",
     "output_type": "stream",
     "text": [
      "T Loss: 0.2122 V Loss: 0.2459 V MCRMSE: 0.2477\n",
      "Epoch 27\n"
     ]
    },
    {
     "name": "stderr",
     "output_type": "stream",
     "text": [
      "100%|██████████| 108/108 [00:06<00:00, 15.68it/s]\n",
      "100%|██████████| 21/21 [00:00<00:00, 43.51it/s]\n",
      "  2%|▏         | 2/108 [00:00<00:06, 15.83it/s]"
     ]
    },
    {
     "name": "stdout",
     "output_type": "stream",
     "text": [
      "T Loss: 0.2119 V Loss: 0.2479 V MCRMSE: 0.2492\n",
      "Epoch 28\n"
     ]
    },
    {
     "name": "stderr",
     "output_type": "stream",
     "text": [
      "100%|██████████| 108/108 [00:06<00:00, 15.68it/s]\n",
      "100%|██████████| 21/21 [00:00<00:00, 43.64it/s]\n",
      "  2%|▏         | 2/108 [00:00<00:06, 15.63it/s]"
     ]
    },
    {
     "name": "stdout",
     "output_type": "stream",
     "text": [
      "T Loss: 0.2104 V Loss: 0.2439 V MCRMSE: 0.2454\n",
      "Best valid MCRMSE updated to 0.2453605979681015\n",
      "Epoch 29\n"
     ]
    },
    {
     "name": "stderr",
     "output_type": "stream",
     "text": [
      "100%|██████████| 108/108 [00:06<00:00, 15.68it/s]\n",
      "100%|██████████| 21/21 [00:00<00:00, 43.73it/s]\n",
      "  2%|▏         | 2/108 [00:00<00:06, 15.58it/s]"
     ]
    },
    {
     "name": "stdout",
     "output_type": "stream",
     "text": [
      "T Loss: 0.2077 V Loss: 0.2451 V MCRMSE: 0.2464\n",
      "Epoch 30\n"
     ]
    },
    {
     "name": "stderr",
     "output_type": "stream",
     "text": [
      "100%|██████████| 108/108 [00:06<00:00, 15.70it/s]\n",
      "100%|██████████| 21/21 [00:00<00:00, 43.66it/s]\n",
      "  2%|▏         | 2/108 [00:00<00:06, 15.73it/s]"
     ]
    },
    {
     "name": "stdout",
     "output_type": "stream",
     "text": [
      "T Loss: 0.2070 V Loss: 0.2482 V MCRMSE: 0.2496\n",
      "Epoch 31\n"
     ]
    },
    {
     "name": "stderr",
     "output_type": "stream",
     "text": [
      "100%|██████████| 108/108 [00:06<00:00, 15.71it/s]\n",
      "100%|██████████| 21/21 [00:00<00:00, 43.57it/s]\n",
      "  2%|▏         | 2/108 [00:00<00:06, 15.74it/s]"
     ]
    },
    {
     "name": "stdout",
     "output_type": "stream",
     "text": [
      "T Loss: 0.2049 V Loss: 0.2417 V MCRMSE: 0.2431\n",
      "Best valid MCRMSE updated to 0.24308966100215912\n",
      "Epoch 32\n"
     ]
    },
    {
     "name": "stderr",
     "output_type": "stream",
     "text": [
      "100%|██████████| 108/108 [00:06<00:00, 15.70it/s]\n",
      "100%|██████████| 21/21 [00:00<00:00, 43.71it/s]\n",
      "  2%|▏         | 2/108 [00:00<00:06, 15.79it/s]"
     ]
    },
    {
     "name": "stdout",
     "output_type": "stream",
     "text": [
      "T Loss: 0.2036 V Loss: 0.2421 V MCRMSE: 0.2436\n",
      "Epoch 33\n"
     ]
    },
    {
     "name": "stderr",
     "output_type": "stream",
     "text": [
      "100%|██████████| 108/108 [00:06<00:00, 15.68it/s]\n",
      "100%|██████████| 21/21 [00:00<00:00, 43.45it/s]\n",
      "  2%|▏         | 2/108 [00:00<00:06, 15.63it/s]"
     ]
    },
    {
     "name": "stdout",
     "output_type": "stream",
     "text": [
      "T Loss: 0.2018 V Loss: 0.2401 V MCRMSE: 0.2416\n",
      "Best valid MCRMSE updated to 0.24156604707241058\n",
      "Epoch 34\n"
     ]
    },
    {
     "name": "stderr",
     "output_type": "stream",
     "text": [
      "100%|██████████| 108/108 [00:06<00:00, 15.67it/s]\n",
      "100%|██████████| 21/21 [00:00<00:00, 43.66it/s]\n",
      "  2%|▏         | 2/108 [00:00<00:06, 15.52it/s]"
     ]
    },
    {
     "name": "stdout",
     "output_type": "stream",
     "text": [
      "T Loss: 0.2008 V Loss: 0.2436 V MCRMSE: 0.2447\n",
      "Epoch 35\n"
     ]
    },
    {
     "name": "stderr",
     "output_type": "stream",
     "text": [
      "100%|██████████| 108/108 [00:06<00:00, 15.67it/s]\n",
      "100%|██████████| 21/21 [00:00<00:00, 43.66it/s]\n",
      "  2%|▏         | 2/108 [00:00<00:06, 15.94it/s]"
     ]
    },
    {
     "name": "stdout",
     "output_type": "stream",
     "text": [
      "T Loss: 0.1996 V Loss: 0.2400 V MCRMSE: 0.2412\n",
      "Best valid MCRMSE updated to 0.2411687821149826\n",
      "Epoch 36\n"
     ]
    },
    {
     "name": "stderr",
     "output_type": "stream",
     "text": [
      "100%|██████████| 108/108 [00:06<00:00, 15.62it/s]\n",
      "100%|██████████| 21/21 [00:00<00:00, 43.62it/s]\n",
      "  2%|▏         | 2/108 [00:00<00:06, 15.55it/s]"
     ]
    },
    {
     "name": "stdout",
     "output_type": "stream",
     "text": [
      "T Loss: 0.1977 V Loss: 0.2402 V MCRMSE: 0.2424\n",
      "Epoch 37\n"
     ]
    },
    {
     "name": "stderr",
     "output_type": "stream",
     "text": [
      "100%|██████████| 108/108 [00:06<00:00, 15.66it/s]\n",
      "100%|██████████| 21/21 [00:00<00:00, 43.59it/s]\n",
      "  2%|▏         | 2/108 [00:00<00:06, 15.66it/s]"
     ]
    },
    {
     "name": "stdout",
     "output_type": "stream",
     "text": [
      "T Loss: 0.1969 V Loss: 0.2441 V MCRMSE: 0.2453\n",
      "Epoch 38\n"
     ]
    },
    {
     "name": "stderr",
     "output_type": "stream",
     "text": [
      "100%|██████████| 108/108 [00:06<00:00, 15.65it/s]\n",
      "100%|██████████| 21/21 [00:00<00:00, 43.39it/s]\n",
      "  2%|▏         | 2/108 [00:00<00:06, 15.74it/s]"
     ]
    },
    {
     "name": "stdout",
     "output_type": "stream",
     "text": [
      "T Loss: 0.1956 V Loss: 0.2408 V MCRMSE: 0.2424\n",
      "Epoch 39\n"
     ]
    },
    {
     "name": "stderr",
     "output_type": "stream",
     "text": [
      "100%|██████████| 108/108 [00:06<00:00, 15.67it/s]\n",
      "100%|██████████| 21/21 [00:00<00:00, 43.61it/s]\n",
      "  2%|▏         | 2/108 [00:00<00:06, 15.65it/s]"
     ]
    },
    {
     "name": "stdout",
     "output_type": "stream",
     "text": [
      "T Loss: 0.1938 V Loss: 0.2394 V MCRMSE: 0.2415\n",
      "Epoch 40\n"
     ]
    },
    {
     "name": "stderr",
     "output_type": "stream",
     "text": [
      "100%|██████████| 108/108 [00:06<00:00, 15.64it/s]\n",
      "100%|██████████| 21/21 [00:00<00:00, 43.41it/s]\n",
      "  2%|▏         | 2/108 [00:00<00:06, 15.47it/s]"
     ]
    },
    {
     "name": "stdout",
     "output_type": "stream",
     "text": [
      "T Loss: 0.1940 V Loss: 0.2391 V MCRMSE: 0.2405\n",
      "Best valid MCRMSE updated to 0.24049684405326843\n",
      "Epoch 41\n"
     ]
    },
    {
     "name": "stderr",
     "output_type": "stream",
     "text": [
      "100%|██████████| 108/108 [00:06<00:00, 15.69it/s]\n",
      "100%|██████████| 21/21 [00:00<00:00, 43.58it/s]\n",
      "  2%|▏         | 2/108 [00:00<00:06, 16.00it/s]"
     ]
    },
    {
     "name": "stdout",
     "output_type": "stream",
     "text": [
      "T Loss: 0.1931 V Loss: 0.2418 V MCRMSE: 0.2434\n",
      "Epoch 42\n"
     ]
    },
    {
     "name": "stderr",
     "output_type": "stream",
     "text": [
      "100%|██████████| 108/108 [00:06<00:00, 15.68it/s]\n",
      "100%|██████████| 21/21 [00:00<00:00, 43.65it/s]\n",
      "  2%|▏         | 2/108 [00:00<00:06, 15.58it/s]"
     ]
    },
    {
     "name": "stdout",
     "output_type": "stream",
     "text": [
      "T Loss: 0.1916 V Loss: 0.2396 V MCRMSE: 0.2413\n",
      "Epoch 43\n"
     ]
    },
    {
     "name": "stderr",
     "output_type": "stream",
     "text": [
      "100%|██████████| 108/108 [00:06<00:00, 15.68it/s]\n",
      "100%|██████████| 21/21 [00:00<00:00, 43.56it/s]\n",
      "  2%|▏         | 2/108 [00:00<00:06, 15.81it/s]"
     ]
    },
    {
     "name": "stdout",
     "output_type": "stream",
     "text": [
      "T Loss: 0.1905 V Loss: 0.2414 V MCRMSE: 0.2430\n",
      "Epoch 44\n"
     ]
    },
    {
     "name": "stderr",
     "output_type": "stream",
     "text": [
      "100%|██████████| 108/108 [00:06<00:00, 15.68it/s]\n",
      "100%|██████████| 21/21 [00:00<00:00, 43.60it/s]\n",
      "  2%|▏         | 2/108 [00:00<00:06, 15.49it/s]"
     ]
    },
    {
     "name": "stdout",
     "output_type": "stream",
     "text": [
      "T Loss: 0.1886 V Loss: 0.2415 V MCRMSE: 0.2430\n",
      "Epoch 45\n"
     ]
    },
    {
     "name": "stderr",
     "output_type": "stream",
     "text": [
      "100%|██████████| 108/108 [00:06<00:00, 15.69it/s]\n",
      "100%|██████████| 21/21 [00:00<00:00, 43.68it/s]\n",
      "  2%|▏         | 2/108 [00:00<00:06, 15.63it/s]"
     ]
    },
    {
     "name": "stdout",
     "output_type": "stream",
     "text": [
      "T Loss: 0.1889 V Loss: 0.2387 V MCRMSE: 0.2401\n",
      "Best valid MCRMSE updated to 0.24014076590538025\n",
      "Epoch 46\n"
     ]
    },
    {
     "name": "stderr",
     "output_type": "stream",
     "text": [
      "100%|██████████| 108/108 [00:06<00:00, 15.70it/s]\n",
      "100%|██████████| 21/21 [00:00<00:00, 43.78it/s]\n",
      "  2%|▏         | 2/108 [00:00<00:06, 15.93it/s]"
     ]
    },
    {
     "name": "stdout",
     "output_type": "stream",
     "text": [
      "T Loss: 0.1874 V Loss: 0.2370 V MCRMSE: 0.2387\n",
      "Best valid MCRMSE updated to 0.23873357474803925\n",
      "Epoch 47\n"
     ]
    },
    {
     "name": "stderr",
     "output_type": "stream",
     "text": [
      "100%|██████████| 108/108 [00:06<00:00, 15.68it/s]\n",
      "100%|██████████| 21/21 [00:00<00:00, 43.82it/s]\n",
      "  2%|▏         | 2/108 [00:00<00:06, 15.81it/s]"
     ]
    },
    {
     "name": "stdout",
     "output_type": "stream",
     "text": [
      "T Loss: 0.1864 V Loss: 0.2395 V MCRMSE: 0.2417\n",
      "Epoch 48\n"
     ]
    },
    {
     "name": "stderr",
     "output_type": "stream",
     "text": [
      "100%|██████████| 108/108 [00:06<00:00, 15.67it/s]\n",
      "100%|██████████| 21/21 [00:00<00:00, 43.69it/s]\n",
      "  2%|▏         | 2/108 [00:00<00:06, 15.75it/s]"
     ]
    },
    {
     "name": "stdout",
     "output_type": "stream",
     "text": [
      "T Loss: 0.1850 V Loss: 0.2391 V MCRMSE: 0.2407\n",
      "Epoch 49\n"
     ]
    },
    {
     "name": "stderr",
     "output_type": "stream",
     "text": [
      "100%|██████████| 108/108 [00:06<00:00, 15.69it/s]\n",
      "100%|██████████| 21/21 [00:00<00:00, 43.73it/s]\n",
      "  2%|▏         | 2/108 [00:00<00:06, 15.87it/s]"
     ]
    },
    {
     "name": "stdout",
     "output_type": "stream",
     "text": [
      "T Loss: 0.1837 V Loss: 0.2401 V MCRMSE: 0.2415\n",
      "Epoch 50\n"
     ]
    },
    {
     "name": "stderr",
     "output_type": "stream",
     "text": [
      "100%|██████████| 108/108 [00:06<00:00, 15.68it/s]\n",
      "100%|██████████| 21/21 [00:00<00:00, 43.29it/s]\n",
      "  2%|▏         | 2/108 [00:00<00:06, 15.66it/s]"
     ]
    },
    {
     "name": "stdout",
     "output_type": "stream",
     "text": [
      "T Loss: 0.1834 V Loss: 0.2381 V MCRMSE: 0.2398\n",
      "Epoch 51\n"
     ]
    },
    {
     "name": "stderr",
     "output_type": "stream",
     "text": [
      "100%|██████████| 108/108 [00:06<00:00, 15.68it/s]\n",
      "100%|██████████| 21/21 [00:00<00:00, 43.50it/s]\n",
      "  2%|▏         | 2/108 [00:00<00:06, 15.81it/s]"
     ]
    },
    {
     "name": "stdout",
     "output_type": "stream",
     "text": [
      "T Loss: 0.1813 V Loss: 0.2371 V MCRMSE: 0.2384\n",
      "Best valid MCRMSE updated to 0.23835858702659607\n",
      "Epoch 52\n"
     ]
    },
    {
     "name": "stderr",
     "output_type": "stream",
     "text": [
      "100%|██████████| 108/108 [00:06<00:00, 15.69it/s]\n",
      "100%|██████████| 21/21 [00:00<00:00, 43.65it/s]\n",
      "  2%|▏         | 2/108 [00:00<00:06, 15.38it/s]"
     ]
    },
    {
     "name": "stdout",
     "output_type": "stream",
     "text": [
      "T Loss: 0.1814 V Loss: 0.2409 V MCRMSE: 0.2424\n",
      "Epoch 53\n"
     ]
    },
    {
     "name": "stderr",
     "output_type": "stream",
     "text": [
      "100%|██████████| 108/108 [00:06<00:00, 15.68it/s]\n",
      "100%|██████████| 21/21 [00:00<00:00, 43.43it/s]\n",
      "  2%|▏         | 2/108 [00:00<00:06, 15.87it/s]"
     ]
    },
    {
     "name": "stdout",
     "output_type": "stream",
     "text": [
      "T Loss: 0.1809 V Loss: 0.2387 V MCRMSE: 0.2404\n",
      "Epoch 54\n"
     ]
    },
    {
     "name": "stderr",
     "output_type": "stream",
     "text": [
      "100%|██████████| 108/108 [00:06<00:00, 15.69it/s]\n",
      "100%|██████████| 21/21 [00:00<00:00, 43.43it/s]\n",
      "  2%|▏         | 2/108 [00:00<00:06, 15.66it/s]"
     ]
    },
    {
     "name": "stdout",
     "output_type": "stream",
     "text": [
      "T Loss: 0.1793 V Loss: 0.2415 V MCRMSE: 0.2430\n",
      "Epoch 55\n"
     ]
    },
    {
     "name": "stderr",
     "output_type": "stream",
     "text": [
      "100%|██████████| 108/108 [00:06<00:00, 15.67it/s]\n",
      "100%|██████████| 21/21 [00:00<00:00, 43.53it/s]\n",
      "  2%|▏         | 2/108 [00:00<00:06, 15.50it/s]"
     ]
    },
    {
     "name": "stdout",
     "output_type": "stream",
     "text": [
      "T Loss: 0.1781 V Loss: 0.2387 V MCRMSE: 0.2407\n",
      "Epoch 56\n"
     ]
    },
    {
     "name": "stderr",
     "output_type": "stream",
     "text": [
      "100%|██████████| 108/108 [00:06<00:00, 15.67it/s]\n",
      "100%|██████████| 21/21 [00:00<00:00, 43.62it/s]\n",
      "  2%|▏         | 2/108 [00:00<00:06, 15.81it/s]"
     ]
    },
    {
     "name": "stdout",
     "output_type": "stream",
     "text": [
      "T Loss: 0.1777 V Loss: 0.2378 V MCRMSE: 0.2393\n",
      "Epoch 57\n"
     ]
    },
    {
     "name": "stderr",
     "output_type": "stream",
     "text": [
      "100%|██████████| 108/108 [00:06<00:00, 15.70it/s]\n",
      "100%|██████████| 21/21 [00:00<00:00, 43.82it/s]\n",
      "  2%|▏         | 2/108 [00:00<00:06, 15.81it/s]"
     ]
    },
    {
     "name": "stdout",
     "output_type": "stream",
     "text": [
      "T Loss: 0.1771 V Loss: 0.2379 V MCRMSE: 0.2392\n",
      "Epoch 58\n"
     ]
    },
    {
     "name": "stderr",
     "output_type": "stream",
     "text": [
      "100%|██████████| 108/108 [00:06<00:00, 15.64it/s]\n",
      "100%|██████████| 21/21 [00:00<00:00, 43.31it/s]\n",
      "  2%|▏         | 2/108 [00:00<00:06, 15.53it/s]"
     ]
    },
    {
     "name": "stdout",
     "output_type": "stream",
     "text": [
      "T Loss: 0.1772 V Loss: 0.2418 V MCRMSE: 0.2430\n",
      "Epoch 59\n"
     ]
    },
    {
     "name": "stderr",
     "output_type": "stream",
     "text": [
      "100%|██████████| 108/108 [00:06<00:00, 15.63it/s]\n",
      "100%|██████████| 21/21 [00:00<00:00, 43.59it/s]\n",
      "  2%|▏         | 2/108 [00:00<00:06, 15.93it/s]"
     ]
    },
    {
     "name": "stdout",
     "output_type": "stream",
     "text": [
      "T Loss: 0.1757 V Loss: 0.2380 V MCRMSE: 0.2397\n",
      "Epoch 60\n"
     ]
    },
    {
     "name": "stderr",
     "output_type": "stream",
     "text": [
      "100%|██████████| 108/108 [00:06<00:00, 15.69it/s]\n",
      "100%|██████████| 21/21 [00:00<00:00, 43.81it/s]\n",
      "  2%|▏         | 2/108 [00:00<00:06, 15.82it/s]"
     ]
    },
    {
     "name": "stdout",
     "output_type": "stream",
     "text": [
      "T Loss: 0.1739 V Loss: 0.2372 V MCRMSE: 0.2396\n",
      "Epoch 61\n"
     ]
    },
    {
     "name": "stderr",
     "output_type": "stream",
     "text": [
      "100%|██████████| 108/108 [00:06<00:00, 15.69it/s]\n",
      "100%|██████████| 21/21 [00:00<00:00, 43.74it/s]\n",
      "  2%|▏         | 2/108 [00:00<00:06, 15.65it/s]"
     ]
    },
    {
     "name": "stdout",
     "output_type": "stream",
     "text": [
      "T Loss: 0.1748 V Loss: 0.2382 V MCRMSE: 0.2397\n",
      "Epoch 62\n"
     ]
    },
    {
     "name": "stderr",
     "output_type": "stream",
     "text": [
      "100%|██████████| 108/108 [00:06<00:00, 15.70it/s]\n",
      "100%|██████████| 21/21 [00:00<00:00, 43.71it/s]\n",
      "  2%|▏         | 2/108 [00:00<00:06, 15.64it/s]"
     ]
    },
    {
     "name": "stdout",
     "output_type": "stream",
     "text": [
      "T Loss: 0.1727 V Loss: 0.2377 V MCRMSE: 0.2392\n",
      "Epoch 63\n"
     ]
    },
    {
     "name": "stderr",
     "output_type": "stream",
     "text": [
      "100%|██████████| 108/108 [00:06<00:00, 15.71it/s]\n",
      "100%|██████████| 21/21 [00:00<00:00, 43.70it/s]\n",
      "  2%|▏         | 2/108 [00:00<00:06, 15.77it/s]"
     ]
    },
    {
     "name": "stdout",
     "output_type": "stream",
     "text": [
      "T Loss: 0.1727 V Loss: 0.2370 V MCRMSE: 0.2389\n",
      "Epoch 64\n"
     ]
    },
    {
     "name": "stderr",
     "output_type": "stream",
     "text": [
      "100%|██████████| 108/108 [00:06<00:00, 15.67it/s]\n",
      "100%|██████████| 21/21 [00:00<00:00, 43.59it/s]\n",
      "  2%|▏         | 2/108 [00:00<00:06, 15.86it/s]"
     ]
    },
    {
     "name": "stdout",
     "output_type": "stream",
     "text": [
      "T Loss: 0.1716 V Loss: 0.2366 V MCRMSE: 0.2384\n",
      "Epoch 65\n"
     ]
    },
    {
     "name": "stderr",
     "output_type": "stream",
     "text": [
      "100%|██████████| 108/108 [00:06<00:00, 15.70it/s]\n",
      "100%|██████████| 21/21 [00:00<00:00, 43.58it/s]\n",
      "  2%|▏         | 2/108 [00:00<00:06, 15.67it/s]"
     ]
    },
    {
     "name": "stdout",
     "output_type": "stream",
     "text": [
      "T Loss: 0.1713 V Loss: 0.2391 V MCRMSE: 0.2405\n",
      "Epoch 66\n"
     ]
    },
    {
     "name": "stderr",
     "output_type": "stream",
     "text": [
      "100%|██████████| 108/108 [00:06<00:00, 15.71it/s]\n",
      "100%|██████████| 21/21 [00:00<00:00, 43.80it/s]\n",
      "  2%|▏         | 2/108 [00:00<00:06, 15.64it/s]"
     ]
    },
    {
     "name": "stdout",
     "output_type": "stream",
     "text": [
      "T Loss: 0.1708 V Loss: 0.2385 V MCRMSE: 0.2398\n",
      "Epoch 67\n"
     ]
    },
    {
     "name": "stderr",
     "output_type": "stream",
     "text": [
      "100%|██████████| 108/108 [00:06<00:00, 15.72it/s]\n",
      "100%|██████████| 21/21 [00:00<00:00, 43.58it/s]\n",
      "  2%|▏         | 2/108 [00:00<00:06, 15.87it/s]"
     ]
    },
    {
     "name": "stdout",
     "output_type": "stream",
     "text": [
      "T Loss: 0.1693 V Loss: 0.2393 V MCRMSE: 0.2408\n",
      "Epoch 68\n"
     ]
    },
    {
     "name": "stderr",
     "output_type": "stream",
     "text": [
      "100%|██████████| 108/108 [00:06<00:00, 15.70it/s]\n",
      "100%|██████████| 21/21 [00:00<00:00, 43.89it/s]\n",
      "  2%|▏         | 2/108 [00:00<00:06, 15.71it/s]"
     ]
    },
    {
     "name": "stdout",
     "output_type": "stream",
     "text": [
      "T Loss: 0.1690 V Loss: 0.2398 V MCRMSE: 0.2413\n",
      "Epoch 69\n"
     ]
    },
    {
     "name": "stderr",
     "output_type": "stream",
     "text": [
      "100%|██████████| 108/108 [00:06<00:00, 15.71it/s]\n",
      "100%|██████████| 21/21 [00:00<00:00, 43.70it/s]\n",
      "  2%|▏         | 2/108 [00:00<00:06, 15.74it/s]"
     ]
    },
    {
     "name": "stdout",
     "output_type": "stream",
     "text": [
      "T Loss: 0.1686 V Loss: 0.2378 V MCRMSE: 0.2389\n",
      "Epoch 70\n"
     ]
    },
    {
     "name": "stderr",
     "output_type": "stream",
     "text": [
      "100%|██████████| 108/108 [00:06<00:00, 15.69it/s]\n",
      "100%|██████████| 21/21 [00:00<00:00, 43.68it/s]\n",
      "  2%|▏         | 2/108 [00:00<00:06, 15.73it/s]"
     ]
    },
    {
     "name": "stdout",
     "output_type": "stream",
     "text": [
      "T Loss: 0.1678 V Loss: 0.2373 V MCRMSE: 0.2389\n",
      "Epoch 71\n"
     ]
    },
    {
     "name": "stderr",
     "output_type": "stream",
     "text": [
      "100%|██████████| 108/108 [00:06<00:00, 15.72it/s]\n",
      "100%|██████████| 21/21 [00:00<00:00, 43.84it/s]\n",
      "  2%|▏         | 2/108 [00:00<00:06, 15.71it/s]"
     ]
    },
    {
     "name": "stdout",
     "output_type": "stream",
     "text": [
      "T Loss: 0.1675 V Loss: 0.2378 V MCRMSE: 0.2393\n",
      "Epoch 72\n"
     ]
    },
    {
     "name": "stderr",
     "output_type": "stream",
     "text": [
      "100%|██████████| 108/108 [00:06<00:00, 15.68it/s]\n",
      "100%|██████████| 21/21 [00:00<00:00, 43.67it/s]\n",
      "  2%|▏         | 2/108 [00:00<00:06, 16.15it/s]"
     ]
    },
    {
     "name": "stdout",
     "output_type": "stream",
     "text": [
      "T Loss: 0.1659 V Loss: 0.2380 V MCRMSE: 0.2395\n",
      "Epoch 73\n"
     ]
    },
    {
     "name": "stderr",
     "output_type": "stream",
     "text": [
      "100%|██████████| 108/108 [00:06<00:00, 15.66it/s]\n",
      "100%|██████████| 21/21 [00:00<00:00, 43.46it/s]\n",
      "  2%|▏         | 2/108 [00:00<00:06, 15.86it/s]"
     ]
    },
    {
     "name": "stdout",
     "output_type": "stream",
     "text": [
      "T Loss: 0.1668 V Loss: 0.2374 V MCRMSE: 0.2389\n",
      "Epoch 74\n"
     ]
    },
    {
     "name": "stderr",
     "output_type": "stream",
     "text": [
      "100%|██████████| 108/108 [00:06<00:00, 15.59it/s]\n",
      "100%|██████████| 21/21 [00:00<00:00, 43.24it/s]\n",
      "  2%|▏         | 2/108 [00:00<00:06, 15.62it/s]"
     ]
    },
    {
     "name": "stdout",
     "output_type": "stream",
     "text": [
      "T Loss: 0.1649 V Loss: 0.2392 V MCRMSE: 0.2406\n",
      "Epoch 75\n"
     ]
    },
    {
     "name": "stderr",
     "output_type": "stream",
     "text": [
      "100%|██████████| 108/108 [00:06<00:00, 15.67it/s]\n",
      "100%|██████████| 21/21 [00:00<00:00, 43.47it/s]\n",
      "  2%|▏         | 2/108 [00:00<00:06, 15.65it/s]"
     ]
    },
    {
     "name": "stdout",
     "output_type": "stream",
     "text": [
      "T Loss: 0.1653 V Loss: 0.2373 V MCRMSE: 0.2392\n",
      "Epoch 76\n"
     ]
    },
    {
     "name": "stderr",
     "output_type": "stream",
     "text": [
      "100%|██████████| 108/108 [00:06<00:00, 15.68it/s]\n",
      "100%|██████████| 21/21 [00:00<00:00, 43.50it/s]\n",
      "  2%|▏         | 2/108 [00:00<00:06, 15.78it/s]"
     ]
    },
    {
     "name": "stdout",
     "output_type": "stream",
     "text": [
      "T Loss: 0.1643 V Loss: 0.2404 V MCRMSE: 0.2416\n",
      "Epoch 77\n"
     ]
    },
    {
     "name": "stderr",
     "output_type": "stream",
     "text": [
      "100%|██████████| 108/108 [00:06<00:00, 15.68it/s]\n",
      "100%|██████████| 21/21 [00:00<00:00, 43.61it/s]\n",
      "  2%|▏         | 2/108 [00:00<00:06, 15.94it/s]"
     ]
    },
    {
     "name": "stdout",
     "output_type": "stream",
     "text": [
      "T Loss: 0.1632 V Loss: 0.2374 V MCRMSE: 0.2389\n",
      "Epoch 78\n"
     ]
    },
    {
     "name": "stderr",
     "output_type": "stream",
     "text": [
      "100%|██████████| 108/108 [00:06<00:00, 15.67it/s]\n",
      "100%|██████████| 21/21 [00:00<00:00, 43.41it/s]\n",
      "  2%|▏         | 2/108 [00:00<00:06, 15.76it/s]"
     ]
    },
    {
     "name": "stdout",
     "output_type": "stream",
     "text": [
      "T Loss: 0.1633 V Loss: 0.2365 V MCRMSE: 0.2389\n",
      "Epoch 79\n"
     ]
    },
    {
     "name": "stderr",
     "output_type": "stream",
     "text": [
      "100%|██████████| 108/108 [00:06<00:00, 15.68it/s]\n",
      "100%|██████████| 21/21 [00:00<00:00, 43.70it/s]\n",
      "  2%|▏         | 2/108 [00:00<00:06, 15.64it/s]"
     ]
    },
    {
     "name": "stdout",
     "output_type": "stream",
     "text": [
      "T Loss: 0.1614 V Loss: 0.2374 V MCRMSE: 0.2393\n",
      "Epoch 80\n"
     ]
    },
    {
     "name": "stderr",
     "output_type": "stream",
     "text": [
      "100%|██████████| 108/108 [00:06<00:00, 15.65it/s]\n",
      "100%|██████████| 21/21 [00:00<00:00, 43.33it/s]\n",
      "  2%|▏         | 2/108 [00:00<00:06, 15.51it/s]"
     ]
    },
    {
     "name": "stdout",
     "output_type": "stream",
     "text": [
      "T Loss: 0.1621 V Loss: 0.2374 V MCRMSE: 0.2390\n",
      "Epoch 81\n"
     ]
    },
    {
     "name": "stderr",
     "output_type": "stream",
     "text": [
      "100%|██████████| 108/108 [00:06<00:00, 15.61it/s]\n",
      "100%|██████████| 21/21 [00:00<00:00, 43.53it/s]\n",
      "  2%|▏         | 2/108 [00:00<00:06, 15.70it/s]"
     ]
    },
    {
     "name": "stdout",
     "output_type": "stream",
     "text": [
      "T Loss: 0.1615 V Loss: 0.2401 V MCRMSE: 0.2420\n",
      "Epoch 82\n"
     ]
    },
    {
     "name": "stderr",
     "output_type": "stream",
     "text": [
      "100%|██████████| 108/108 [00:06<00:00, 15.62it/s]\n",
      "100%|██████████| 21/21 [00:00<00:00, 42.82it/s]\n",
      "  2%|▏         | 2/108 [00:00<00:06, 15.62it/s]"
     ]
    },
    {
     "name": "stdout",
     "output_type": "stream",
     "text": [
      "T Loss: 0.1615 V Loss: 0.2357 V MCRMSE: 0.2383\n",
      "Best valid MCRMSE updated to 0.2382880449295044\n",
      "Epoch 83\n"
     ]
    },
    {
     "name": "stderr",
     "output_type": "stream",
     "text": [
      "100%|██████████| 108/108 [00:07<00:00, 15.42it/s]\n",
      "100%|██████████| 21/21 [00:00<00:00, 42.99it/s]\n",
      "  2%|▏         | 2/108 [00:00<00:06, 15.54it/s]"
     ]
    },
    {
     "name": "stdout",
     "output_type": "stream",
     "text": [
      "T Loss: 0.1601 V Loss: 0.2379 V MCRMSE: 0.2393\n",
      "Epoch 84\n"
     ]
    },
    {
     "name": "stderr",
     "output_type": "stream",
     "text": [
      "100%|██████████| 108/108 [00:06<00:00, 15.59it/s]\n",
      "100%|██████████| 21/21 [00:00<00:00, 43.43it/s]\n",
      "  2%|▏         | 2/108 [00:00<00:06, 15.62it/s]"
     ]
    },
    {
     "name": "stdout",
     "output_type": "stream",
     "text": [
      "T Loss: 0.1596 V Loss: 0.2394 V MCRMSE: 0.2411\n",
      "Epoch 85\n"
     ]
    },
    {
     "name": "stderr",
     "output_type": "stream",
     "text": [
      "100%|██████████| 108/108 [00:06<00:00, 15.61it/s]\n",
      "100%|██████████| 21/21 [00:00<00:00, 43.49it/s]\n",
      "  2%|▏         | 2/108 [00:00<00:06, 15.69it/s]"
     ]
    },
    {
     "name": "stdout",
     "output_type": "stream",
     "text": [
      "T Loss: 0.1597 V Loss: 0.2381 V MCRMSE: 0.2398\n",
      "Epoch 86\n"
     ]
    },
    {
     "name": "stderr",
     "output_type": "stream",
     "text": [
      "100%|██████████| 108/108 [00:06<00:00, 15.61it/s]\n",
      "100%|██████████| 21/21 [00:00<00:00, 42.97it/s]\n",
      "  2%|▏         | 2/108 [00:00<00:06, 15.43it/s]"
     ]
    },
    {
     "name": "stdout",
     "output_type": "stream",
     "text": [
      "T Loss: 0.1585 V Loss: 0.2353 V MCRMSE: 0.2374\n",
      "Best valid MCRMSE updated to 0.23735183477401733\n",
      "Epoch 87\n"
     ]
    },
    {
     "name": "stderr",
     "output_type": "stream",
     "text": [
      "100%|██████████| 108/108 [00:06<00:00, 15.61it/s]\n",
      "100%|██████████| 21/21 [00:00<00:00, 43.22it/s]\n",
      "  2%|▏         | 2/108 [00:00<00:06, 15.61it/s]"
     ]
    },
    {
     "name": "stdout",
     "output_type": "stream",
     "text": [
      "T Loss: 0.1584 V Loss: 0.2375 V MCRMSE: 0.2392\n",
      "Epoch 88\n"
     ]
    },
    {
     "name": "stderr",
     "output_type": "stream",
     "text": [
      "100%|██████████| 108/108 [00:06<00:00, 15.62it/s]\n",
      "100%|██████████| 21/21 [00:00<00:00, 42.72it/s]\n",
      "  2%|▏         | 2/108 [00:00<00:06, 15.46it/s]"
     ]
    },
    {
     "name": "stdout",
     "output_type": "stream",
     "text": [
      "T Loss: 0.1574 V Loss: 0.2391 V MCRMSE: 0.2408\n",
      "Epoch 89\n"
     ]
    },
    {
     "name": "stderr",
     "output_type": "stream",
     "text": [
      "100%|██████████| 108/108 [00:06<00:00, 15.64it/s]\n",
      "100%|██████████| 21/21 [00:00<00:00, 43.40it/s]\n",
      "  2%|▏         | 2/108 [00:00<00:06, 15.73it/s]"
     ]
    },
    {
     "name": "stdout",
     "output_type": "stream",
     "text": [
      "T Loss: 0.1587 V Loss: 0.2356 V MCRMSE: 0.2370\n",
      "Best valid MCRMSE updated to 0.23699951171875\n",
      "Epoch 90\n"
     ]
    },
    {
     "name": "stderr",
     "output_type": "stream",
     "text": [
      "100%|██████████| 108/108 [00:06<00:00, 15.68it/s]\n",
      "100%|██████████| 21/21 [00:00<00:00, 43.55it/s]\n",
      "  2%|▏         | 2/108 [00:00<00:06, 15.58it/s]"
     ]
    },
    {
     "name": "stdout",
     "output_type": "stream",
     "text": [
      "T Loss: 0.1570 V Loss: 0.2390 V MCRMSE: 0.2403\n",
      "Epoch 91\n"
     ]
    },
    {
     "name": "stderr",
     "output_type": "stream",
     "text": [
      "100%|██████████| 108/108 [00:06<00:00, 15.63it/s]\n",
      "100%|██████████| 21/21 [00:00<00:00, 43.35it/s]\n",
      "  2%|▏         | 2/108 [00:00<00:06, 15.92it/s]"
     ]
    },
    {
     "name": "stdout",
     "output_type": "stream",
     "text": [
      "T Loss: 0.1564 V Loss: 0.2375 V MCRMSE: 0.2393\n",
      "Epoch 92\n"
     ]
    },
    {
     "name": "stderr",
     "output_type": "stream",
     "text": [
      "100%|██████████| 108/108 [00:06<00:00, 15.62it/s]\n",
      "100%|██████████| 21/21 [00:00<00:00, 43.16it/s]\n",
      "  2%|▏         | 2/108 [00:00<00:06, 15.50it/s]"
     ]
    },
    {
     "name": "stdout",
     "output_type": "stream",
     "text": [
      "T Loss: 0.1561 V Loss: 0.2370 V MCRMSE: 0.2385\n",
      "Epoch 93\n"
     ]
    },
    {
     "name": "stderr",
     "output_type": "stream",
     "text": [
      "100%|██████████| 108/108 [00:06<00:00, 15.53it/s]\n",
      "100%|██████████| 21/21 [00:00<00:00, 42.95it/s]\n",
      "  2%|▏         | 2/108 [00:00<00:06, 15.45it/s]"
     ]
    },
    {
     "name": "stdout",
     "output_type": "stream",
     "text": [
      "T Loss: 0.1556 V Loss: 0.2354 V MCRMSE: 0.2373\n",
      "Epoch 94\n"
     ]
    },
    {
     "name": "stderr",
     "output_type": "stream",
     "text": [
      "100%|██████████| 108/108 [00:06<00:00, 15.57it/s]\n",
      "100%|██████████| 21/21 [00:00<00:00, 43.24it/s]\n",
      "  2%|▏         | 2/108 [00:00<00:06, 15.53it/s]"
     ]
    },
    {
     "name": "stdout",
     "output_type": "stream",
     "text": [
      "T Loss: 0.1543 V Loss: 0.2370 V MCRMSE: 0.2383\n",
      "Epoch 95\n"
     ]
    },
    {
     "name": "stderr",
     "output_type": "stream",
     "text": [
      "100%|██████████| 108/108 [00:06<00:00, 15.58it/s]\n",
      "100%|██████████| 21/21 [00:00<00:00, 43.37it/s]\n",
      "  2%|▏         | 2/108 [00:00<00:06, 15.72it/s]"
     ]
    },
    {
     "name": "stdout",
     "output_type": "stream",
     "text": [
      "T Loss: 0.1548 V Loss: 0.2373 V MCRMSE: 0.2386\n",
      "Epoch 96\n"
     ]
    },
    {
     "name": "stderr",
     "output_type": "stream",
     "text": [
      "100%|██████████| 108/108 [00:06<00:00, 15.60it/s]\n",
      "100%|██████████| 21/21 [00:00<00:00, 43.08it/s]\n",
      "  2%|▏         | 2/108 [00:00<00:06, 15.66it/s]"
     ]
    },
    {
     "name": "stdout",
     "output_type": "stream",
     "text": [
      "T Loss: 0.1543 V Loss: 0.2386 V MCRMSE: 0.2403\n",
      "Epoch 97\n"
     ]
    },
    {
     "name": "stderr",
     "output_type": "stream",
     "text": [
      "100%|██████████| 108/108 [00:06<00:00, 15.62it/s]\n",
      "100%|██████████| 21/21 [00:00<00:00, 43.26it/s]\n",
      "  2%|▏         | 2/108 [00:00<00:06, 15.96it/s]"
     ]
    },
    {
     "name": "stdout",
     "output_type": "stream",
     "text": [
      "T Loss: 0.1538 V Loss: 0.2374 V MCRMSE: 0.2395\n",
      "Epoch 98\n"
     ]
    },
    {
     "name": "stderr",
     "output_type": "stream",
     "text": [
      "100%|██████████| 108/108 [00:06<00:00, 15.54it/s]\n",
      "100%|██████████| 21/21 [00:00<00:00, 41.87it/s]\n",
      "  2%|▏         | 2/108 [00:00<00:06, 15.45it/s]"
     ]
    },
    {
     "name": "stdout",
     "output_type": "stream",
     "text": [
      "T Loss: 0.1533 V Loss: 0.2370 V MCRMSE: 0.2384\n",
      "Epoch 99\n"
     ]
    },
    {
     "name": "stderr",
     "output_type": "stream",
     "text": [
      "100%|██████████| 108/108 [00:07<00:00, 15.36it/s]\n",
      "100%|██████████| 21/21 [00:00<00:00, 42.15it/s]"
     ]
    },
    {
     "name": "stdout",
     "output_type": "stream",
     "text": [
      "T Loss: 0.1528 V Loss: 0.2366 V MCRMSE: 0.2381\n"
     ]
    },
    {
     "name": "stderr",
     "output_type": "stream",
     "text": [
      "\n"
     ]
    }
   ],
   "source": [
    "best_state_fold0 = train_fold(model, loader_train, loader_valid, optimizer, criterion, 100, device)"
   ]
  },
  {
   "cell_type": "code",
   "execution_count": null,
   "metadata": {},
   "outputs": [],
   "source": [
    "train = pd.read_json(\"data/train.json\", lines=True)\n",
    "cond = train.SN_filter == 1"
   ]
  },
  {
   "cell_type": "code",
   "execution_count": null,
   "metadata": {},
   "outputs": [],
   "source": [
    "tr1 = train.loc[cond]\n",
    "tr2 = train.loc[~cond]"
   ]
  },
  {
   "cell_type": "code",
   "execution_count": null,
   "metadata": {},
   "outputs": [],
   "source": [
    "e1 = np.vstack(tr1[\"reactivity_error\"].values)\n",
    "e2 = np.vstack(tr1[\"deg_error_Mg_50C\"].values)\n",
    "e3 = np.vstack(tr1[\"deg_error_Mg_pH10\"].values)"
   ]
  },
  {
   "cell_type": "code",
   "execution_count": null,
   "metadata": {},
   "outputs": [],
   "source": [
    "pd.Series(e1.flatten()).describe()"
   ]
  },
  {
   "cell_type": "code",
   "execution_count": null,
   "metadata": {},
   "outputs": [],
   "source": [
    "pd.Series(e2.flatten()).describe()"
   ]
  },
  {
   "cell_type": "code",
   "execution_count": null,
   "metadata": {},
   "outputs": [],
   "source": [
    "pd.Series(e3.flatten()).describe()"
   ]
  },
  {
   "cell_type": "code",
   "execution_count": null,
   "metadata": {},
   "outputs": [],
   "source": [
    "(e1 > 0.5).sum()"
   ]
  },
  {
   "cell_type": "code",
   "execution_count": null,
   "metadata": {},
   "outputs": [],
   "source": [
    "pd.Series(e1.mean(1).flatten()).describe()"
   ]
  },
  {
   "cell_type": "code",
   "execution_count": null,
   "metadata": {},
   "outputs": [],
   "source": [
    "pd.Series(e2.mean(1).flatten()).describe()"
   ]
  },
  {
   "cell_type": "code",
   "execution_count": null,
   "metadata": {},
   "outputs": [],
   "source": [
    "pd.Series(e3.mean(1).flatten()).describe()"
   ]
  },
  {
   "cell_type": "code",
   "execution_count": 84,
   "metadata": {},
   "outputs": [
    {
     "data": {
      "text/plain": [
       "(1589, 68, 3)"
      ]
     },
     "execution_count": 84,
     "metadata": {},
     "output_type": "execute_result"
    }
   ],
   "source": [
    "e = np.dstack((e1, e2, e3))\n",
    "e.shape"
   ]
  },
  {
   "cell_type": "code",
   "execution_count": 85,
   "metadata": {},
   "outputs": [
    {
     "data": {
      "text/plain": [
       "count    1589.000000\n",
       "mean        0.103780\n",
       "std         0.065435\n",
       "min         0.024189\n",
       "25%         0.063739\n",
       "50%         0.083505\n",
       "75%         0.118433\n",
       "max         0.598469\n",
       "dtype: float64"
      ]
     },
     "execution_count": 85,
     "metadata": {},
     "output_type": "execute_result"
    }
   ],
   "source": [
    "pd.Series(e.mean(1).mean(1)).describe()"
   ]
  },
  {
   "cell_type": "code",
   "execution_count": 86,
   "metadata": {},
   "outputs": [
    {
     "data": {
      "text/plain": [
       "count    1589.000000\n",
       "mean        5.402215\n",
       "std         2.524798\n",
       "min         0.993000\n",
       "25%         3.484000\n",
       "50%         5.222000\n",
       "75%         6.853000\n",
       "max        17.194000\n",
       "Name: signal_to_noise, dtype: float64"
      ]
     },
     "execution_count": 86,
     "metadata": {},
     "output_type": "execute_result"
    }
   ],
   "source": [
    "snr = tr1[\"signal_to_noise\"]\n",
    "snr.describe()"
   ]
  },
  {
   "cell_type": "code",
   "execution_count": 87,
   "metadata": {},
   "outputs": [
    {
     "data": {
      "text/plain": [
       "count       811.000000\n",
       "mean       8630.316650\n",
       "std       29131.240267\n",
       "min           0.034662\n",
       "25%           0.088635\n",
       "50%           0.195730\n",
       "75%           0.641706\n",
       "max      140637.240300\n",
       "dtype: float64"
      ]
     },
     "execution_count": 87,
     "metadata": {},
     "output_type": "execute_result"
    }
   ],
   "source": [
    "e1 = np.vstack(tr2[\"reactivity_error\"].values)\n",
    "e2 = np.vstack(tr2[\"deg_error_Mg_50C\"].values)\n",
    "e3 = np.vstack(tr2[\"deg_error_Mg_pH10\"].values)\n",
    "e = np.dstack((e1, e2, e3))\n",
    "pd.Series(e.mean(1).mean(1)).describe()"
   ]
  },
  {
   "cell_type": "code",
   "execution_count": null,
   "metadata": {},
   "outputs": [],
   "source": []
  },
  {
   "cell_type": "code",
   "execution_count": 89,
   "metadata": {},
   "outputs": [
    {
     "data": {
      "text/plain": [
       "211"
      ]
     },
     "execution_count": 89,
     "metadata": {},
     "output_type": "execute_result"
    }
   ],
   "source": [
    "e1 = np.vstack(train[\"reactivity_error\"].values)\n",
    "e2 = np.vstack(train[\"deg_error_Mg_50C\"].values)\n",
    "e3 = np.vstack(train[\"deg_error_Mg_pH10\"].values)\n",
    "e = np.dstack((e1, e2, e3))\n",
    "sum(e.mean(1).mean(1) > 0.6)"
   ]
  },
  {
   "cell_type": "code",
   "execution_count": 20,
   "metadata": {},
   "outputs": [
    {
     "data": {
      "text/plain": [
       "index                                                                  2\n",
       "id                                                          id_006f36f57\n",
       "sequence               GGAAAGUGCUCAGAUAAGCUAAGCUCGAAUAGCAAUCGAAUAGAAU...\n",
       "structure              .....((((.((.....((((.(((.....)))..((((......)...\n",
       "predicted_loop_type    EEEEESSSSISSIIIIISSSSMSSSHHHHHSSSMMSSSSHHHHHHS...\n",
       "signal_to_noise                                                      8.8\n",
       "SN_filter                                                              1\n",
       "seq_length                                                           107\n",
       "seq_scored                                                            68\n",
       "reactivity_error       [0.0931, 0.13290000000000002, 0.11280000000000...\n",
       "deg_error_Mg_pH10      [0.1365, 0.2237, 0.1812, 0.1333, 0.1148, 0.160...\n",
       "deg_error_pH10         [0.17020000000000002, 0.178, 0.111, 0.091, 0.0...\n",
       "deg_error_Mg_50C       [0.1033, 0.1464, 0.1126, 0.09620000000000001, ...\n",
       "deg_error_50C          [0.14980000000000002, 0.1761, 0.1517, 0.116700...\n",
       "reactivity             [0.44820000000000004, 1.4822, 1.1819, 0.743400...\n",
       "deg_Mg_pH10            [0.2504, 1.4021, 0.9804, 0.49670000000000003, ...\n",
       "deg_pH10               [2.243, 2.9361, 1.0553, 0.721, 0.6396000000000...\n",
       "deg_Mg_50C             [0.5163, 1.6823000000000001, 1.0426, 0.7902, 0...\n",
       "deg_50C                [0.9501000000000001, 1.7974999999999999, 1.499...\n",
       "y_cat                                                                 17\n",
       "Name: 0, dtype: object"
      ]
     },
     "execution_count": 20,
     "metadata": {},
     "output_type": "execute_result"
    }
   ],
   "source": [
    "tr.iloc[0]"
   ]
  },
  {
   "cell_type": "code",
   "execution_count": 87,
   "metadata": {},
   "outputs": [
    {
     "data": {
      "text/plain": [
       "['#Name: id_1bb2f1786',\n",
       " '#Length:  107 ',\n",
       " '#PageNumber: 1',\n",
       " 'GGAAAUUACAAGACCCGGGCCGAGGUGAAGUUCGAGGGCGACACCUUGGUGAACCGGAUCGAGUUAAAUCAGGUCUUCGGAUUUGAAAAAGAAACAACAACAACAAC',\n",
       " '.......((..((.(((((((((((((..(((....)))..)))))))))...)))).))..))....(((((((....))))))).....................',\n",
       " 'EEEEEEESSIISSISSSSSSSSSSSSSIISSSHHHHSSSIISSSSSSSSSBBBSSSSISSIISSXXXXSSSSSSSHHHHSSSSSSSEEEEEEEEEEEEEEEEEEEEE',\n",
       " 'NNNNNNNNNNNNNNNNNNNNNNNNNNNNNNNNNNNNNNNNNNNNNNNNNNNNNNNNNNNNNNNNNNNNNNNNNNNNNNNNNNNNNNNNNNNNNNNNNNNNNNNNNNN',\n",
       " 'S1 8..9 \"AC\" 63..64 \"GU\"',\n",
       " 'S2 12..13 \"GA\" 59..60 \"UC\"',\n",
       " 'S3 15..18 \"CCGG\" 54..57 \"CCGG\"',\n",
       " 'S4 19..27 \"GCCGAGGUG\" 42..50 \"CACCUUGGU\"',\n",
       " 'S5 30..32 \"GUU\" 37..39 \"GGC\"',\n",
       " 'S6 69..75 \"UCAGGUC\" 80..86 \"GAUUUGA\"',\n",
       " 'H1 33..36 \"CGAG\" (32,37) U:G ',\n",
       " 'H2 76..79 \"UUCG\" (75,80) C:G ',\n",
       " 'B1 51..53 \"GAA\" (50,19) U:G (54,18) C:G ',\n",
       " 'I1.1 10..11 \"AA\" (9,63) C:G ',\n",
       " 'I1.2 61..62 \"GA\" (60,12) C:G ',\n",
       " 'I2.1 14..14 \"C\" (13,59) A:U ',\n",
       " 'I2.2 58..58 \"A\" (57,15) G:C ',\n",
       " 'I3.1 28..29 \"AA\" (27,42) G:C ',\n",
       " 'I3.2 40..41 \"GA\" (39,30) C:G ',\n",
       " 'X1 65..68 \"UAAA\" (64,8) U:A (69,86) U:A ',\n",
       " 'E1 1..7 \"GGAAAUU\" ',\n",
       " 'E2 87..107 \"AAAAGAAACAACAACAACAAC\" ',\n",
       " 'segment1 20bp 8..32 ACAAGACCCGGGCCGAGGUGAAGUU 37..64 GGCGACACCUUGGUGAACCGGAUCGAGU',\n",
       " 'segment2 7bp 69..75 UCAGGUC 80..86 GAUUUGA']"
      ]
     },
     "execution_count": 87,
     "metadata": {},
     "output_type": "execute_result"
    }
   ],
   "source": [
    "import subprocess\n",
    "seq_id = tr.id.iloc[191]\n",
    "seq = tr.sequence.iloc[191]\n",
    "struct = tr.structure.iloc[191]\n",
    "\n",
    "subprocess.run(f\"echo {seq} > {seq_id}.dbn\", shell=True)\n",
    "subprocess.run(f\"echo '{struct}' >> {seq_id}.dbn\", shell=True)\n",
    "proc = subprocess.Popen(['perl', 'bpRNA/bpRNA.pl', f'{seq_id}.dbn'])\n",
    "proc.wait()\n",
    "with open(f\"{seq_id}.st\") as stf:\n",
    "    result = [l.strip('\\n') for l in stf]\n",
    "result"
   ]
  },
  {
   "cell_type": "code",
   "execution_count": 93,
   "metadata": {},
   "outputs": [
    {
     "data": {
      "text/plain": [
       "[1, 1, 1]"
      ]
     },
     "execution_count": 93,
     "metadata": {},
     "output_type": "execute_result"
    }
   ],
   "source": [
    "pl_segs[50:53]"
   ]
  },
  {
   "cell_type": "code",
   "execution_count": 89,
   "metadata": {},
   "outputs": [],
   "source": [
    "def map_segs(result, seq_len=107):\n",
    "    seg_num = [-1] * seq_len\n",
    "    seg_pairs = [0] * seq_len\n",
    "    pl_segs = [0] * seq_len\n",
    "    for linenum, line in enumerate(result):\n",
    "        if linenum <= 6:\n",
    "            continue\n",
    "        if line.startswith(\"segment\"):\n",
    "            tokens = line.split(\" \")\n",
    "            num = int(tokens[0].strip(\"segment\"))\n",
    "            num_pairs = int(tokens[1].strip(\"bp\"))\n",
    "            i_1, _, i_2 = tokens[2].split(\".\")\n",
    "            j_1, _, j_2 = tokens[4].split(\".\")\n",
    "            i_1, i_2 = int(i_1), int(i_2)\n",
    "            j_1, j_2 = int(j_1), int(j_2)\n",
    "            for i in range(i_1, i_2+1):\n",
    "                seg_num[i-1] = num\n",
    "                seg_pairs[i-1] = num_pairs\n",
    "\n",
    "            for j in range(j_1, j_2):\n",
    "                seg_num[j-1] = num\n",
    "                seg_pairs[j-1] = num_pairs\n",
    "\n",
    "        elif line.startswith(\"S\"):\n",
    "            tokens = line.split(\" \")\n",
    "            num = int(tokens[0].strip(\"S\"))\n",
    "            i_1, _, i_2 = tokens[1].split(\".\")\n",
    "            j_1, _, j_2 = tokens[3].split(\".\")\n",
    "            i_1, i_2 = int(i_1), int(i_2)\n",
    "            j_1, j_2 = int(j_1), int(j_2)\n",
    "            for i in range(i_1, i_2+1):\n",
    "                pl_segs[i-1] = num\n",
    "            for j in range(i_1, i_2+1):\n",
    "                pl_segs[j-1] = num\n",
    "        else:\n",
    "            tokens = line.split(\" \")\n",
    "            num = tokens[0].strip(\"BSHIMXE\").split(\".\")\n",
    "            if len(num) > 1:\n",
    "                num = int(num[0]) * int(num[1]) + int(num[0]) - 1\n",
    "            else:\n",
    "                num = int(num[0])\n",
    "            i_1, _, i_2 = tokens[1].split(\".\")\n",
    "            i_1, i_2 = int(i_1), int(i_2)\n",
    "            for i in range(i_1, i_2+1):\n",
    "                pl_segs[i-1] = num\n",
    "        \n",
    "    return seg_num, seg_pairs, pl_segs\n",
    "            "
   ]
  },
  {
   "cell_type": "code",
   "execution_count": 90,
   "metadata": {},
   "outputs": [],
   "source": [
    "seg_num, seg_pairs, pl_segs = map_segs(result)\n"
   ]
  },
  {
   "cell_type": "code",
   "execution_count": 35,
   "metadata": {},
   "outputs": [],
   "source": [
    "def get_segments(struc, ploop):\n",
    "    n = len(struc)\n",
    "    stack1 = []\n",
    "    stack2 = []\n",
    "    pairs = []\n",
    "    loops = []\n",
    "    for j in range(n):\n",
    "        i = j+1\n",
    "        s = struc[j]\n",
    "        if s == \"(\":\n",
    "            stack1.append(i)\n",
    "        elif s == \")\":\n",
    "            pairs.append((stack1.pop(), i))\n",
    "            ll = []\n",
    "            while stack2:\n",
    "                ll.append(stack2.pop())\n",
    "            if ll:\n",
    "                loops.append(ll)\n",
    "        else:\n",
    "            stack2.append(i)\n",
    "        ll = []\n",
    "        while stack2:\n",
    "            ll.append(stack2.pop())\n",
    "        if ll:\n",
    "            loops.append(ll)\n",
    "    return pairs, loops"
   ]
  },
  {
   "cell_type": "code",
   "execution_count": 38,
   "metadata": {},
   "outputs": [
    {
     "data": {
      "text/plain": [
       "[(25, 31),\n",
       " (24, 32),\n",
       " (23, 33),\n",
       " (39, 46),\n",
       " (38, 47),\n",
       " (37, 48),\n",
       " (36, 49),\n",
       " (21, 52),\n",
       " (20, 53),\n",
       " (19, 54),\n",
       " (18, 55),\n",
       " (12, 61),\n",
       " (11, 62),\n",
       " (9, 64),\n",
       " (8, 65),\n",
       " (7, 66),\n",
       " (6, 67),\n",
       " (75, 80),\n",
       " (74, 81),\n",
       " (73, 82),\n",
       " (72, 83),\n",
       " (71, 84),\n",
       " (70, 85),\n",
       " (69, 86)]"
      ]
     },
     "execution_count": 38,
     "metadata": {},
     "output_type": "execute_result"
    }
   ],
   "source": [
    "pp, ll = get_segments(tr.structure.iloc[0])\n",
    "pp"
   ]
  },
  {
   "cell_type": "code",
   "execution_count": 49,
   "metadata": {},
   "outputs": [],
   "source": [
    "def get_bpseg(pp):\n",
    "    bpcnt = 1\n",
    "    bpcnt_map = {}\n",
    "    bpcnt_map[pp[0][0]] = bpcnt\n",
    "    bpcnt_map[pp[0][1]] = bpcnt\n",
    "\n",
    "    for k, (i, j) in enumerate(pp[1:]):\n",
    "        if ((pp[k][0] - pp[k+1][0]) > 2) or ((pp[k+1][1] - pp[k][1]) > 2):\n",
    "            bpcnt += 1\n",
    "        bpcnt_map[i] = bpcnt\n",
    "        bpcnt_map[j] = bpcnt\n",
    "    return bpcnt_map"
   ]
  },
  {
   "cell_type": "code",
   "execution_count": 50,
   "metadata": {},
   "outputs": [
    {
     "data": {
      "text/plain": [
       "{25: 1,\n",
       " 31: 1,\n",
       " 24: 1,\n",
       " 32: 1,\n",
       " 23: 1,\n",
       " 33: 1,\n",
       " 39: 2,\n",
       " 46: 2,\n",
       " 38: 2,\n",
       " 47: 2,\n",
       " 37: 2,\n",
       " 48: 2,\n",
       " 36: 2,\n",
       " 49: 2,\n",
       " 21: 3,\n",
       " 52: 3,\n",
       " 20: 3,\n",
       " 53: 3,\n",
       " 19: 3,\n",
       " 54: 3,\n",
       " 18: 3,\n",
       " 55: 3,\n",
       " 12: 4,\n",
       " 61: 4,\n",
       " 11: 4,\n",
       " 62: 4,\n",
       " 9: 4,\n",
       " 64: 4,\n",
       " 8: 4,\n",
       " 65: 4,\n",
       " 7: 4,\n",
       " 66: 4,\n",
       " 6: 4,\n",
       " 67: 4,\n",
       " 75: 5,\n",
       " 80: 5,\n",
       " 74: 5,\n",
       " 81: 5,\n",
       " 73: 5,\n",
       " 82: 5,\n",
       " 72: 5,\n",
       " 83: 5,\n",
       " 71: 5,\n",
       " 84: 5,\n",
       " 70: 5,\n",
       " 85: 5,\n",
       " 69: 5,\n",
       " 86: 5}"
      ]
     },
     "execution_count": 50,
     "metadata": {},
     "output_type": "execute_result"
    }
   ],
   "source": [
    "get_bpseg(pp)"
   ]
  },
  {
   "cell_type": "code",
   "execution_count": 22,
   "metadata": {},
   "outputs": [
    {
     "data": {
      "text/plain": [
       "-9.210340371976182"
      ]
     },
     "execution_count": 22,
     "metadata": {},
     "output_type": "execute_result"
    }
   ],
   "source": [
    "torch.clamp(np.log(1e-4)"
   ]
  },
  {
   "cell_type": "code",
   "execution_count": null,
   "metadata": {},
   "outputs": [],
   "source": []
  }
 ],
 "metadata": {
  "kernelspec": {
   "display_name": "Python 3",
   "language": "python",
   "name": "python3"
  },
  "language_info": {
   "codemirror_mode": {
    "name": "ipython",
    "version": 3
   },
   "file_extension": ".py",
   "mimetype": "text/x-python",
   "name": "python",
   "nbconvert_exporter": "python",
   "pygments_lexer": "ipython3",
   "version": "3.8.3"
  }
 },
 "nbformat": 4,
 "nbformat_minor": 4
}
