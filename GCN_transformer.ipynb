{
 "cells": [
  {
   "cell_type": "code",
   "execution_count": 2,
   "metadata": {},
   "outputs": [],
   "source": [
    "import numpy as np\n",
    "import pandas as pd\n",
    "import random\n",
    "import torch\n",
    "from torch import nn\n",
    "from torch.nn import Linear, LayerNorm, ReLU, Dropout\n",
    "from torch_geometric.nn import ChebConv, NNConv, DeepGCNLayer, EdgeConv\n",
    "from torch_geometric.data import Data, DataLoader\n",
    "from sklearn.model_selection import StratifiedKFold\n",
    "from tqdm import tqdm\n",
    "import os\n",
    "import copy\n",
    "from catalyst.dl import utils\n",
    "\n",
    "from constants import FilePaths\n",
    "# settings\n",
    "\n"
   ]
  },
  {
   "cell_type": "code",
   "execution_count": 3,
   "metadata": {},
   "outputs": [],
   "source": [
    "seed = 777\n",
    "train_file = '../input/stanford-covid-vaccine/train.json'\n",
    "test_file = '../input/stanford-covid-vaccine/test.json'\n",
    "bpps_top = '../input/stanford-covid-vaccine/bpps'\n",
    "nb_fold = 5\n",
    "device = 'cuda'\n",
    "batch_size = 16\n",
    "epochs = 100\n",
    "lr = 0.0005\n",
    "train_with_noisy_data = True\n",
    "add_edge_for_paired_nodes = True\n",
    "add_codon_nodes = True\n",
    "T = 5\n",
    "node_hidden_channels = 96\n",
    "edge_hidden_channels = 16\n",
    "hidden_channels3 = 32\n",
    "num_layers = 10\n",
    "dropout1 = 0.1\n",
    "dropout2 = 0.1\n",
    "dropout3 = 0.1\n",
    "bpps_nb_mean = 0.077522 # mean of bpps_nb across all training data\n",
    "bpps_nb_std = 0.08914   # std of bpps_nb across all training data\n",
    "error_mean_limit = 0.5\n"
   ]
  },
  {
   "cell_type": "code",
   "execution_count": 4,
   "metadata": {},
   "outputs": [],
   "source": [
    "def match_pair(structure):\n",
    "    pair = [-1] * len(structure)\n",
    "    pair_no = -1\n",
    "\n",
    "    pair_no_stack = []\n",
    "    for i, c in enumerate(structure):\n",
    "        if c == '(':\n",
    "            pair_no += 1\n",
    "            pair[i] = pair_no\n",
    "            pair_no_stack.append(pair_no)\n",
    "        elif c == ')':\n",
    "            pair[i] = pair_no_stack.pop()\n",
    "    return pair\n",
    "\n",
    "\n",
    "def match_pair2(bpps, threshold=0.0):\n",
    "    max_idx = np.argmax(bpps, 1)\n",
    "    max_val = np.max(bpps, 1)\n",
    "    n = bpps.shape[0]\n",
    "    pairs = []\n",
    "    m = 0\n",
    "    for j in range(n):\n",
    "        idxs = np.where(bpps[j] > threshold)[0]\n",
    "        for idx in idxs:\n",
    "            pairs.append((j, idx))\n",
    "    return pairs\n"
   ]
  },
  {
   "cell_type": "code",
   "execution_count": 5,
   "metadata": {},
   "outputs": [
    {
     "data": {
      "text/plain": [
       "(array([[0. , 0. , 0. , 0. , 0. , 0. ],\n",
       "        [0. , 0. , 0.4, 0. , 0. , 0. ],\n",
       "        [0. , 0.4, 0. , 0. , 0. , 0. ],\n",
       "        [0. , 0. , 0. , 0. , 0. , 0. ],\n",
       "        [0. , 0. , 0. , 0. , 0. , 0.2],\n",
       "        [0. , 0. , 0. , 0. , 0.2, 0. ]]),\n",
       " array([[0. , 0. , 0. , 0. , 0. , 0. ],\n",
       "        [0. , 0. , 0.4, 0. , 0. , 0. ],\n",
       "        [0. , 0.4, 0. , 0. , 0. , 0. ],\n",
       "        [0. , 0. , 0. , 0. , 0. , 0. ],\n",
       "        [0. , 0. , 0. , 0. , 0. , 0.2],\n",
       "        [0. , 0. , 0. , 0. , 0.2, 0. ]]))"
      ]
     },
     "execution_count": 5,
     "metadata": {},
     "output_type": "execute_result"
    }
   ],
   "source": [
    "a = np.array([[0, 0, 0, 0, 0, 0],\n",
    "              [0, 0, 0.4, 0, 0, 0],\n",
    "              [0, 0.4, 0, 0, 0, 0],\n",
    "              [0, 0, 0, 0, 0, 0],\n",
    "              [0, 0, 0, 0, 0, 0.2],\n",
    "              [0, 0, 0, 0, 0.2, 0]])\n",
    "a, a.T"
   ]
  },
  {
   "cell_type": "code",
   "execution_count": 6,
   "metadata": {},
   "outputs": [
    {
     "data": {
      "text/plain": [
       "([-1, 0, 0, -1, 1, 1], [(1, 2), (2, 1), (4, 5), (5, 4)])"
      ]
     },
     "execution_count": 6,
     "metadata": {},
     "output_type": "execute_result"
    }
   ],
   "source": [
    "match_pair(\".().()\"), match_pair2(a)"
   ]
  },
  {
   "cell_type": "code",
   "execution_count": 7,
   "metadata": {},
   "outputs": [],
   "source": [
    "class MyData(Data):\n",
    "    def __init__(self, x=None, edge_index=None, edge_attr=None, y=None,\n",
    "                 pos=None, norm=None, face=None, weight=None, **kwargs):\n",
    "        super(MyData, self).__init__(x=x, edge_index=edge_index,\n",
    "                                     edge_attr=edge_attr, y=y, pos=pos,\n",
    "                                     norm=norm, face=face, **kwargs)\n",
    "        self.weight = weight\n",
    "\n",
    "\n",
    "def calc_error_mean(row):\n",
    "    reactivity_error = row['reactivity_error']\n",
    "    deg_error_Mg_pH10 = row['deg_error_Mg_pH10']\n",
    "    deg_error_Mg_50C = row['deg_error_Mg_50C']\n",
    "\n",
    "    return np.mean(np.abs(reactivity_error) +\n",
    "                   np.abs(deg_error_Mg_pH10) + \\\n",
    "                   np.abs(deg_error_Mg_50C)) / 3\n",
    "\n",
    "\n",
    "def calc_sample_weight(row, threshold):\n",
    "    if sample_is_clean(row):\n",
    "        return 1.\n",
    "    else:\n",
    "        error_mean = calc_error_mean(row)\n",
    "        if error_mean >= threshold:\n",
    "            return 0.\n",
    "\n",
    "        return 1. - error_mean / threshold\n",
    "\n",
    "\n",
    "# add directed edge for node1 -> node2 and for node2 -> node1\n",
    "def add_edges(edge_index, edge_features, node1, node2, feature1, feature2):\n",
    "    edge_index.append([node1, node2])\n",
    "    edge_features.append(feature1)\n",
    "    edge_index.append([node2, node1])\n",
    "    edge_features.append(feature2)\n",
    "\n",
    "\n",
    "def add_edges_between_base_nodes(edge_index, edge_features, node1, node2):\n",
    "    edge_feature1 = [\n",
    "        0, # is edge for paired nodes\n",
    "        0, # is edge between codon node and base node\n",
    "        0, # is edge between coden nodes\n",
    "        1, # forward edge: 1, backward edge: -1\n",
    "        1, # bpps if edge is for paired nodes\n",
    "    ]\n",
    "    edge_feature2 = [\n",
    "        0, # is edge for paired nodes\n",
    "        0, # is edge between codon node and base node\n",
    "        0, # is edge between coden nodes\n",
    "        -1, # forward edge: 1, backward edge: -1\n",
    "        1, # bpps if edge is for paired nodes\n",
    "    ]\n",
    "    add_edges(edge_index, edge_features, node1, node2,\n",
    "              edge_feature1, edge_feature2)\n",
    "\n",
    "\n",
    "def add_edges_between_paired_nodes(edge_index, edge_features, node1, node2,\n",
    "                                   bpps_value):\n",
    "    edge_feature1 = [\n",
    "        1, # is edge for paired nodes\n",
    "        0, # is edge between codon node and base node\n",
    "        0, # is edge between coden nodes\n",
    "        0, # forward edge: 1, backward edge: -1\n",
    "        bpps_value, # bpps if edge is for paired nodes\n",
    "    ]\n",
    "    edge_feature2 = [\n",
    "        1, # is edge for paired nodes\n",
    "        0, # is edge between codon node and base node\n",
    "        0, # is edge between coden nodes\n",
    "        0, # forward edge: 1, backward edge: -1\n",
    "        bpps_value, # bpps if edge is for paired nodes\n",
    "    ]\n",
    "    add_edges(edge_index, edge_features, node1, node2,\n",
    "              edge_feature1, edge_feature2)\n",
    "\n",
    "\n",
    "def add_edges_between_codon_nodes(edge_index, edge_features, node1, node2):\n",
    "    edge_feature1 = [\n",
    "        0, # is edge for paired nodes\n",
    "        0, # is edge between codon node and base node\n",
    "        1, # is edge between coden nodes\n",
    "        1, # forward edge: 1, backward edge: -1\n",
    "        0, # bpps if edge is for paired nodes\n",
    "    ]\n",
    "    edge_feature2 = [\n",
    "        0, # is edge for paired nodes\n",
    "        0, # is edge between codon node and base node\n",
    "        1, # is edge between coden nodes\n",
    "        -1, # forward edge: 1, backward edge: -1\n",
    "        0, # bpps if edge is for paired nodes\n",
    "    ]\n",
    "    add_edges(edge_index, edge_features, node1, node2,\n",
    "              edge_feature1, edge_feature2)\n",
    "\n",
    "\n",
    "def add_edges_between_codon_and_base_node(edge_index, edge_features,\n",
    "                                          node1, node2):\n",
    "    edge_feature1 = [\n",
    "        0, # is edge for paired nodes\n",
    "        1, # is edge between codon node and base node\n",
    "        0, # is edge between coden nodes\n",
    "        0, # forward edge: 1, backward edge: -1\n",
    "        0, # bpps if edge is for paired nodes\n",
    "    ]\n",
    "    edge_feature2 = [\n",
    "        0, # is edge for paired nodes\n",
    "        1, # is edge between codon node and base node\n",
    "        0, # is edge between coden nodes\n",
    "        0, # forward edge: 1, backward edge: -1\n",
    "        0, # bpps if edge is for paired nodes\n",
    "    ]\n",
    "    add_edges(edge_index, edge_features, node1, node2,\n",
    "              edge_feature1, edge_feature2)\n",
    "\n",
    "\n",
    "def add_node(node_features, feature):\n",
    "    node_features.append(feature)\n",
    "\n",
    "\n",
    "def add_base_node(node_features, sequence, predicted_loop_type,\n",
    "                  bpps_sum, bpps_nb):\n",
    "    feature = [\n",
    "        0, # is codon node\n",
    "        sequence == 'A',\n",
    "        sequence == 'C',\n",
    "        sequence == 'G',\n",
    "        sequence == 'U',\n",
    "        predicted_loop_type == 'S',\n",
    "        predicted_loop_type == 'M',\n",
    "        predicted_loop_type == 'I',\n",
    "        predicted_loop_type == 'B',\n",
    "        predicted_loop_type == 'H',\n",
    "        predicted_loop_type == 'E',\n",
    "        predicted_loop_type == 'X',\n",
    "        bpps_sum,\n",
    "        bpps_nb,\n",
    "    ]\n",
    "    add_node(node_features, feature)\n",
    "\n",
    "def add_codon_node(node_features):\n",
    "    feature = [\n",
    "        1, # is codon node\n",
    "        0, # sequence == 'A',\n",
    "        0, # sequence == 'C',\n",
    "        0, # sequence == 'G',\n",
    "        0, # sequence == 'U',\n",
    "        0, # predicted_loop_type == 'S',\n",
    "        0, # predicted_loop_type == 'M',\n",
    "        0, # predicted_loop_type == 'I',\n",
    "        0, # predicted_loop_type == 'B',\n",
    "        0, # predicted_loop_type == 'H',\n",
    "        0, # predicted_loop_type == 'E',\n",
    "        0, # predicted_loop_type == 'X',\n",
    "        0, # bpps_sum\n",
    "        0, # bpps_nb\n",
    "    ]\n",
    "    add_node(node_features, feature)\n",
    "\n",
    "\n",
    "def build_data(df, is_train):\n",
    "    bpps_nb_mean = 0.077522 # mean of bpps_nb across all training data\n",
    "    bpps_nb_std = 0.08914   # std of bpps_nb across all training data\n",
    "    add_edge_for_paired_nodes = True\n",
    "    add_codon_nodes = True\n",
    "\n",
    "    data = []\n",
    "    for i in range(len(df)):\n",
    "        targets = []\n",
    "        node_features = []\n",
    "        edge_features = []\n",
    "        edge_index = []\n",
    "        train_mask = []\n",
    "        test_mask = []\n",
    "        weights = []\n",
    "\n",
    "        id = df.loc[i, 'id']\n",
    "        path = f\"data/bpps/{id}.npy\"\n",
    "        bpps = np.load(path)\n",
    "        bpps_sum = bpps.sum(axis=0)\n",
    "        sequence = df.loc[i, 'sequence']\n",
    "        structure = df.loc[i, 'structure']\n",
    "        pair_info = match_pair(sequence)\n",
    "        predicted_loop_type = df.loc[i, 'predicted_loop_type']\n",
    "        seq_length = df.loc[i, 'seq_length']\n",
    "        seq_scored = df.loc[i, 'seq_scored']\n",
    "        bpps_nb = (bpps > 0).sum(axis=0) / seq_length\n",
    "        bpps_nb = (bpps_nb - bpps_nb_mean) / bpps_nb_std\n",
    "        if is_train:\n",
    "            sample_weight = calc_sample_weight(df.loc[i], 0.8)\n",
    "\n",
    "            reactivity = df.loc[i, 'reactivity']\n",
    "            deg_Mg_pH10 = df.loc[i, 'deg_Mg_pH10']\n",
    "            deg_Mg_50C = df.loc[i, 'deg_Mg_50C']\n",
    "\n",
    "            for j in range(seq_length):\n",
    "                if j < seq_scored:\n",
    "                    targets.append([\n",
    "                        reactivity[j],\n",
    "                        deg_Mg_pH10[j],\n",
    "                        deg_Mg_50C[j],\n",
    "                        ])\n",
    "                else:\n",
    "                    targets.append([0, 0, 0])\n",
    "\n",
    "        paired_nodes = {}\n",
    "        for j in range(seq_length):\n",
    "            add_base_node(node_features, sequence[j], predicted_loop_type[j],\n",
    "                          bpps_sum[j], bpps_nb[j])\n",
    "\n",
    "            if j + 1 < seq_length: # edge between current node and next node\n",
    "                add_edges_between_base_nodes(edge_index, edge_features,\n",
    "                                             j, j + 1)\n",
    "\n",
    "            # if pair_info[j] != -1:\n",
    "            #    if pair_info[j] not in paired_nodes:\n",
    "            #        paired_nodes[pair_info[j]] = [j]\n",
    "            #    else:\n",
    "            #        paired_nodes[pair_info[j]].append(j)\n",
    "\n",
    "            train_mask.append(j < seq_scored)\n",
    "            test_mask.append(True)\n",
    "            if is_train:\n",
    "                weights.append(sample_weight)\n",
    "        # paired_nodes = {i: pp for pp in match_pair2(bpps)}\n",
    "        if add_edge_for_paired_nodes:\n",
    "            for pair in paired_nodes.values():\n",
    "                bpps_value = bpps[pair[0], pair[1]]\n",
    "                add_edges_between_paired_nodes(edge_index, edge_features,\n",
    "                                               pair[0], pair[1], bpps_value)\n",
    "\n",
    "        if add_codon_nodes:\n",
    "            codon_node_idx = seq_length - 1\n",
    "            for j in range(seq_length):\n",
    "                if j % 3 == 0:\n",
    "                    # add codon node\n",
    "                    add_codon_node(node_features)\n",
    "                    codon_node_idx += 1\n",
    "                    train_mask.append(False)\n",
    "                    test_mask.append(False)\n",
    "                    if is_train:\n",
    "                        weights.append(0)\n",
    "                        targets.append([0, 0, 0])\n",
    "\n",
    "                    if codon_node_idx > seq_length:\n",
    "                        # add edges between adjacent codon nodes\n",
    "                        add_edges_between_codon_nodes(edge_index, edge_features,\n",
    "                                                      codon_node_idx - 1,\n",
    "                                                      codon_node_idx)\n",
    "\n",
    "                # add edges between codon node and base node\n",
    "                add_edges_between_codon_and_base_node(edge_index, edge_features,\n",
    "                                                      j, codon_node_idx)\n",
    "\n",
    "        node_features = torch.tensor(node_features, dtype=torch.float)\n",
    "        edge_index = torch.tensor(edge_index, dtype=torch.long).t().contiguous()\n",
    "        edge_features = torch.tensor(edge_features, dtype=torch.float)\n",
    "\n",
    "        if is_train:\n",
    "            data.append(MyData(x=node_features, edge_index=edge_index,\n",
    "                               edge_attr=edge_features,\n",
    "                               train_mask=torch.tensor(train_mask),\n",
    "                               weight=torch.tensor(weights, dtype=torch.float),\n",
    "                               y=torch.tensor(targets, dtype=torch.float)))\n",
    "        else:\n",
    "            data.append(MyData(x=node_features, edge_index=edge_index,\n",
    "                               edge_attr=edge_features,\n",
    "                               test_mask=torch.tensor(test_mask)))\n",
    "\n",
    "    return data\n"
   ]
  },
  {
   "cell_type": "code",
   "execution_count": 8,
   "metadata": {},
   "outputs": [],
   "source": [
    "def weighted_mse_loss(prds, tgts, weight):\n",
    "    return torch.mean(weight * (prds - tgts)**2)\n",
    "\n",
    "\n",
    "def criterion(prds, tgts, weight=None):\n",
    "    if weight is None:\n",
    "        return (torch.sqrt(torch.nn.MSELoss()(prds[:,0], tgts[:,0])) +\n",
    "                torch.sqrt(torch.nn.MSELoss()(prds[:,1], tgts[:,1])) +\n",
    "                torch.sqrt(torch.nn.MSELoss()(prds[:,2], tgts[:,2]))) / 3\n",
    "    else:\n",
    "        return (torch.sqrt(weighted_mse_loss(prds[:,0], tgts[:,0], weight)) +\n",
    "                torch.sqrt(weighted_mse_loss(prds[:,1], tgts[:,1], weight)) +\n",
    "                torch.sqrt(weighted_mse_loss(prds[:,2], tgts[:,2], weight))) / 3\n",
    "\n",
    "def build_id_seqpos(df):\n",
    "    id_seqpos = []\n",
    "    for i in range(len(df)):\n",
    "        id = df.loc[i, 'id']\n",
    "        seq_length = df.loc[i, 'seq_length']\n",
    "        for seqpos in range(seq_length):\n",
    "            id_seqpos.append(id + '_' + str(seqpos))\n",
    "    return id_seqpos\n",
    "\n",
    "def sample_is_clean(row):\n",
    "    return row['SN_filter'] == 1\n",
    "    #return row['signal_to_noise'] > 1 and \\\n",
    "    #       min((min(row['reactivity']),\n",
    "    #            min(row['deg_Mg_pH10']),\n",
    "    #            min(row['deg_pH10']),\n",
    "    #            min(row['deg_Mg_50C']),\n",
    "    #            min(row['deg_50C']))) > -0.5\n",
    "\n",
    "# categorical value for target (used for stratified kfold)\n",
    "def add_y_cat(df):\n",
    "    target_mean = df['reactivity'].apply(np.mean) + \\\n",
    "                  df['deg_Mg_pH10'].apply(np.mean) + \\\n",
    "                  df['deg_Mg_50C'].apply(np.mean)\n",
    "    df['y_cat'] = pd.qcut(np.array(target_mean), q=20).codes"
   ]
  },
  {
   "cell_type": "code",
   "execution_count": 9,
   "metadata": {},
   "outputs": [],
   "source": [
    "#\n",
    "# originally copied from\n",
    "# https://github.com/rusty1s/pytorch_geometric/blob/master/examples/ogbn_proteins_deepgcn.py\n",
    "# \n",
    "class MapE2NxN(torch.nn.Module):\n",
    "    def __init__(self, in_channels, out_channels, hidden_channels):\n",
    "        super(MapE2NxN, self).__init__()\n",
    "        self.linear1 = Linear(in_channels, hidden_channels)\n",
    "        self.linear2 = Linear(hidden_channels, out_channels)\n",
    "        self.dropout = Dropout(dropout3)\n",
    "        self.gelu = nn.GELU()\n",
    "        \n",
    "    def forward(self, x):\n",
    "        x = self.linear1(x)\n",
    "        x = self.gelu(x)\n",
    "        x = self.dropout(x)\n",
    "        x = self.linear2(x)\n",
    "        return x\n",
    "\n",
    "class MyDeeperGCN(torch.nn.Module):\n",
    "    def __init__(self, num_node_features, num_edge_features,\n",
    "                 node_hidden_channels,\n",
    "                 edge_hidden_channels,\n",
    "                 num_layers, num_classes):\n",
    "        super(MyDeeperGCN, self).__init__()\n",
    "\n",
    "        self.node_encoder = ChebConv(num_node_features, node_hidden_channels, T)\n",
    "        self.edge_encoder = Linear(num_edge_features, edge_hidden_channels)\n",
    "\n",
    "        self.layers = torch.nn.ModuleList()\n",
    "        for i in range(1, num_layers + 1):\n",
    "            conv = NNConv(node_hidden_channels, node_hidden_channels,\n",
    "                          MapE2NxN(edge_hidden_channels,\n",
    "                                   node_hidden_channels * node_hidden_channels,\n",
    "                                   hidden_channels3))\n",
    "            norm = LayerNorm(node_hidden_channels, elementwise_affine=True)\n",
    "            act = nn.GELU()\n",
    "\n",
    "            layer = DeepGCNLayer(conv, norm, act, block='res+',\n",
    "                                 dropout=dropout1, ckpt_grad=i % 3)\n",
    "            self.layers.append(layer)\n",
    "\n",
    "        self.lin = Linear(node_hidden_channels, num_classes)\n",
    "        self.dropout = Dropout(dropout2)\n",
    "\n",
    "    def forward(self, data):\n",
    "        x = data.x\n",
    "        edge_index = data.edge_index\n",
    "        edge_attr = data.edge_attr\n",
    "\n",
    "        # edge for paired nodes are excluded for encoding node\n",
    "        seq_edge_index = edge_index[:, edge_attr[:,0] == 0]\n",
    "        x = self.node_encoder(x, seq_edge_index)\n",
    "\n",
    "        edge_attr = self.edge_encoder(edge_attr)\n",
    "\n",
    "        x = self.layers[0].conv(x, edge_index, edge_attr)\n",
    "\n",
    "        for layer in self.layers[1:]:\n",
    "            x = layer(x, edge_index, edge_attr)\n",
    "\n",
    "        x = self.layers[0].act(self.layers[0].norm(x))\n",
    "        x = self.dropout(x)\n",
    "\n",
    "        return self.lin(x)"
   ]
  },
  {
   "cell_type": "code",
   "execution_count": 10,
   "metadata": {},
   "outputs": [],
   "source": [
    "seed = 777\n",
    "torch.manual_seed(seed)\n",
    "torch.backends.cudnn.deterministic = True\n",
    "torch.backends.cudnn.benchmark = False\n",
    "torch.cuda.manual_seed(seed)\n",
    "np.random.seed(seed)\n",
    "random.seed(seed)\n",
    "os.environ[\"PYTHONHASHSEED\"] = str(seed)"
   ]
  },
  {
   "cell_type": "code",
   "execution_count": 11,
   "metadata": {},
   "outputs": [],
   "source": [
    "FN = FilePaths(\"data\")\n",
    "df_tr = pd.read_json(FN.train_json, lines=True)\n",
    "add_y_cat(df_tr)"
   ]
  },
  {
   "cell_type": "code",
   "execution_count": 12,
   "metadata": {},
   "outputs": [],
   "source": [
    "T = 5\n",
    "hidden_channels3 = 32\n",
    "num_layers = 10\n",
    "dropout1 = 0.1\n",
    "dropout2 = 0.1\n",
    "dropout3 = 0.1\n",
    "HPARAMS = {\n",
    "    \"nb_fold\": 5,\n",
    "    \"filter_noise\": True,\n",
    "    \"signal_to_noise_ratio\": 0.5,\n",
    "    \"batch_size\": 16,\n",
    "    \"lr\": 1e-3,\n",
    "    \"wd\": 0,\n",
    "    \"num_layers\": 10,\n",
    "    \"node_hidden_channels\": 96,\n",
    "    \"edge_hidden_channels\": 16\n",
    "}"
   ]
  },
  {
   "cell_type": "code",
   "execution_count": 13,
   "metadata": {},
   "outputs": [],
   "source": [
    "device = utils.get_device()\n",
    "all_ys = torch.zeros((0, 3)).to(device).detach()\n",
    "all_outs = torch.zeros((0, 3)).to(device).detach()\n",
    "best_model_states = []\n",
    "cvlist = list(StratifiedKFold(HPARAMS[\"nb_fold\"], shuffle=True, random_state=seed).split(df_tr, df_tr[\"y_cat\"]))"
   ]
  },
  {
   "cell_type": "code",
   "execution_count": 14,
   "metadata": {},
   "outputs": [],
   "source": [
    "def get_dataloader(df, hparams):\n",
    "    data_train = build_data(df.reset_index(drop=True), True)\n",
    "    return data_train, DataLoader(data_train, batch_size=hparams[\"batch_size\"], shuffle=True)\n",
    "\n",
    "\n",
    "def train_fold(model, loader_train, loader_valid, optimizer, criterion, epochs, device):\n",
    "    best_mcrmse = np.inf\n",
    "    for epoch in range(epochs):\n",
    "        print('Epoch', epoch)\n",
    "        model.train()\n",
    "        train_loss = 0.0\n",
    "        nb = 0\n",
    "        for data in tqdm(loader_train):\n",
    "            data = data.to(device)\n",
    "            mask = data.train_mask\n",
    "            weight = data.weight[mask]\n",
    "\n",
    "            optimizer.zero_grad()\n",
    "            out = model(data)[mask]\n",
    "            y = data.y[mask]\n",
    "            loss = criterion(out, y, weight)\n",
    "            loss.backward()\n",
    "            optimizer.step()\n",
    "            train_loss += loss.item() * y.size(0)\n",
    "            nb += y.size(0)\n",
    "\n",
    "            del data\n",
    "            del out\n",
    "            del y\n",
    "            del loss\n",
    "            #gc.collect()\n",
    "            #torch.cuda.empty_cache()\n",
    "        train_loss /= nb\n",
    "\n",
    "        model.eval()\n",
    "        valid_loss = 0.0\n",
    "        nb = 0\n",
    "        ys = torch.zeros((0, 3)).to(device).detach()\n",
    "        outs = torch.zeros((0, 3)).to(device).detach()\n",
    "        for data in tqdm(loader_valid):\n",
    "            data = data.to(device)\n",
    "            mask = data.train_mask\n",
    "\n",
    "            out = model(data)[mask].detach()\n",
    "            y = data.y[mask].detach()\n",
    "            loss = criterion(out, y).detach()\n",
    "            valid_loss += loss.item() * y.size(0)\n",
    "            nb += y.size(0)\n",
    "\n",
    "            outs = torch.cat((outs, out), dim=0)\n",
    "            ys = torch.cat((ys, y), dim=0)\n",
    "\n",
    "            del data\n",
    "            del out\n",
    "            del y\n",
    "            del loss\n",
    "            #gc.collect()\n",
    "            #torch.cuda.empty_cache()\n",
    "        valid_loss /= nb\n",
    "\n",
    "        mcrmse = criterion(outs, ys).item()\n",
    "\n",
    "        print(\"T Loss: {:.4f} V Loss: {:.4f} V MCRMSE: {:.4f}\".\\\n",
    "                format(train_loss, valid_loss, mcrmse))\n",
    "\n",
    "        if mcrmse < best_mcrmse:\n",
    "            print('Best valid MCRMSE updated to', mcrmse)\n",
    "            best_mcrmse = mcrmse\n",
    "            best_model_state = copy.deepcopy(model.state_dict())\n",
    "    return best_model_state"
   ]
  },
  {
   "cell_type": "code",
   "execution_count": 15,
   "metadata": {},
   "outputs": [
    {
     "name": "stdout",
     "output_type": "stream",
     "text": [
      "(1720, 20) (324, 20)\n"
     ]
    }
   ],
   "source": [
    "#for i, (tr_idx, vl_idx) in enumerate(cvlist):\n",
    "tr, vl = df_tr.iloc[cvlist[0][0]], df_tr.iloc[cvlist[0][1]]\n",
    "\n",
    "if HPARAMS[\"filter_noise\"]:\n",
    "    cond = tr.apply(calc_error_mean, axis=1) < 0.5\n",
    "    tr = tr.loc[cond].reset_index(drop=True)\n",
    "\n",
    "vl = vl.loc[vl[\"SN_filter\"] == 1].reset_index(drop=True)\n",
    "print(tr.shape, vl.shape)"
   ]
  },
  {
   "cell_type": "code",
   "execution_count": 16,
   "metadata": {},
   "outputs": [
    {
     "name": "stderr",
     "output_type": "stream",
     "text": [
      "<ipython-input-7-b36d5f28d061>:262: DeprecationWarning:\n",
      "\n",
      "In future, it will be an error for 'np.bool_' scalars to be interpreted as an index\n",
      "\n"
     ]
    }
   ],
   "source": [
    "data_train, loader_train = get_dataloader(tr, HPARAMS)\n",
    "data_valid, loader_valid = get_dataloader(vl, HPARAMS)"
   ]
  },
  {
   "cell_type": "code",
   "execution_count": 17,
   "metadata": {},
   "outputs": [],
   "source": [
    "model = MyDeeperGCN(data_train[0].num_node_features,\n",
    "                    data_train[0].num_edge_features,\n",
    "                    node_hidden_channels=HPARAMS[\"node_hidden_channels\"],\n",
    "                    edge_hidden_channels=HPARAMS[\"edge_hidden_channels\"],\n",
    "                    num_layers=HPARAMS[\"num_layers\"],\n",
    "                    num_classes=3).to(device)\n",
    "optimizer = torch.optim.Adam(model.parameters(), lr=HPARAMS[\"lr\"], weight_decay=HPARAMS[\"wd\"])"
   ]
  },
  {
   "cell_type": "code",
   "execution_count": 18,
   "metadata": {},
   "outputs": [
    {
     "name": "stderr",
     "output_type": "stream",
     "text": [
      "  0%|          | 0/108 [00:00<?, ?it/s]"
     ]
    },
    {
     "name": "stdout",
     "output_type": "stream",
     "text": [
      "Epoch 0\n"
     ]
    },
    {
     "name": "stderr",
     "output_type": "stream",
     "text": [
      "100%|██████████| 108/108 [00:06<00:00, 16.07it/s]\n",
      "100%|██████████| 21/21 [00:00<00:00, 46.95it/s]\n",
      "  2%|▏         | 2/108 [00:00<00:06, 16.83it/s]"
     ]
    },
    {
     "name": "stdout",
     "output_type": "stream",
     "text": [
      "T Loss: 0.3895 V Loss: 0.3360 V MCRMSE: 0.3372\n",
      "Best valid MCRMSE updated to 0.33717888593673706\n",
      "Epoch 1\n"
     ]
    },
    {
     "name": "stderr",
     "output_type": "stream",
     "text": [
      "100%|██████████| 108/108 [00:06<00:00, 16.68it/s]\n",
      "100%|██████████| 21/21 [00:00<00:00, 46.52it/s]\n",
      "  2%|▏         | 2/108 [00:00<00:06, 16.69it/s]"
     ]
    },
    {
     "name": "stdout",
     "output_type": "stream",
     "text": [
      "T Loss: 0.3204 V Loss: 0.3048 V MCRMSE: 0.3059\n",
      "Best valid MCRMSE updated to 0.3059006333351135\n",
      "Epoch 2\n"
     ]
    },
    {
     "name": "stderr",
     "output_type": "stream",
     "text": [
      "100%|██████████| 108/108 [00:06<00:00, 16.69it/s]\n",
      "100%|██████████| 21/21 [00:00<00:00, 47.16it/s]\n",
      "  2%|▏         | 2/108 [00:00<00:06, 16.84it/s]"
     ]
    },
    {
     "name": "stdout",
     "output_type": "stream",
     "text": [
      "T Loss: 0.3004 V Loss: 0.2847 V MCRMSE: 0.2865\n",
      "Best valid MCRMSE updated to 0.28646108508110046\n",
      "Epoch 3\n"
     ]
    },
    {
     "name": "stderr",
     "output_type": "stream",
     "text": [
      "100%|██████████| 108/108 [00:06<00:00, 16.63it/s]\n",
      "100%|██████████| 21/21 [00:00<00:00, 47.17it/s]\n",
      "  2%|▏         | 2/108 [00:00<00:06, 16.86it/s]"
     ]
    },
    {
     "name": "stdout",
     "output_type": "stream",
     "text": [
      "T Loss: 0.2899 V Loss: 0.2770 V MCRMSE: 0.2783\n",
      "Best valid MCRMSE updated to 0.2782767117023468\n",
      "Epoch 4\n"
     ]
    },
    {
     "name": "stderr",
     "output_type": "stream",
     "text": [
      "100%|██████████| 108/108 [00:06<00:00, 16.68it/s]\n",
      "100%|██████████| 21/21 [00:00<00:00, 47.12it/s]\n",
      "  2%|▏         | 2/108 [00:00<00:06, 16.74it/s]"
     ]
    },
    {
     "name": "stdout",
     "output_type": "stream",
     "text": [
      "T Loss: 0.2818 V Loss: 0.2729 V MCRMSE: 0.2744\n",
      "Best valid MCRMSE updated to 0.2743653953075409\n",
      "Epoch 5\n"
     ]
    },
    {
     "name": "stderr",
     "output_type": "stream",
     "text": [
      "100%|██████████| 108/108 [00:06<00:00, 16.69it/s]\n",
      "100%|██████████| 21/21 [00:00<00:00, 46.84it/s]\n",
      "  2%|▏         | 2/108 [00:00<00:06, 16.78it/s]"
     ]
    },
    {
     "name": "stdout",
     "output_type": "stream",
     "text": [
      "T Loss: 0.2719 V Loss: 0.2711 V MCRMSE: 0.2724\n",
      "Best valid MCRMSE updated to 0.2724047303199768\n",
      "Epoch 6\n"
     ]
    },
    {
     "name": "stderr",
     "output_type": "stream",
     "text": [
      "100%|██████████| 108/108 [00:06<00:00, 16.71it/s]\n",
      "100%|██████████| 21/21 [00:00<00:00, 46.94it/s]\n",
      "  2%|▏         | 2/108 [00:00<00:06, 16.77it/s]"
     ]
    },
    {
     "name": "stdout",
     "output_type": "stream",
     "text": [
      "T Loss: 0.2648 V Loss: 0.2626 V MCRMSE: 0.2639\n",
      "Best valid MCRMSE updated to 0.26385313272476196\n",
      "Epoch 7\n"
     ]
    },
    {
     "name": "stderr",
     "output_type": "stream",
     "text": [
      "100%|██████████| 108/108 [00:06<00:00, 16.69it/s]\n",
      "100%|██████████| 21/21 [00:00<00:00, 47.23it/s]\n",
      "  2%|▏         | 2/108 [00:00<00:06, 16.75it/s]"
     ]
    },
    {
     "name": "stdout",
     "output_type": "stream",
     "text": [
      "T Loss: 0.2587 V Loss: 0.2619 V MCRMSE: 0.2631\n",
      "Best valid MCRMSE updated to 0.26311802864074707\n",
      "Epoch 8\n"
     ]
    },
    {
     "name": "stderr",
     "output_type": "stream",
     "text": [
      "100%|██████████| 108/108 [00:06<00:00, 16.72it/s]\n",
      "100%|██████████| 21/21 [00:00<00:00, 47.68it/s]\n",
      "  2%|▏         | 2/108 [00:00<00:06, 16.84it/s]"
     ]
    },
    {
     "name": "stdout",
     "output_type": "stream",
     "text": [
      "T Loss: 0.2567 V Loss: 0.2581 V MCRMSE: 0.2596\n",
      "Best valid MCRMSE updated to 0.2595968246459961\n",
      "Epoch 9\n"
     ]
    },
    {
     "name": "stderr",
     "output_type": "stream",
     "text": [
      "100%|██████████| 108/108 [00:06<00:00, 16.71it/s]\n",
      "100%|██████████| 21/21 [00:00<00:00, 47.62it/s]\n",
      "  2%|▏         | 2/108 [00:00<00:06, 16.82it/s]"
     ]
    },
    {
     "name": "stdout",
     "output_type": "stream",
     "text": [
      "T Loss: 0.2518 V Loss: 0.2599 V MCRMSE: 0.2613\n",
      "Epoch 10\n"
     ]
    },
    {
     "name": "stderr",
     "output_type": "stream",
     "text": [
      "100%|██████████| 108/108 [00:06<00:00, 16.69it/s]\n",
      "100%|██████████| 21/21 [00:00<00:00, 47.47it/s]\n",
      "  2%|▏         | 2/108 [00:00<00:06, 16.82it/s]"
     ]
    },
    {
     "name": "stdout",
     "output_type": "stream",
     "text": [
      "T Loss: 0.2487 V Loss: 0.2576 V MCRMSE: 0.2586\n",
      "Best valid MCRMSE updated to 0.2586478590965271\n",
      "Epoch 11\n"
     ]
    },
    {
     "name": "stderr",
     "output_type": "stream",
     "text": [
      "100%|██████████| 108/108 [00:06<00:00, 16.70it/s]\n",
      "100%|██████████| 21/21 [00:00<00:00, 47.64it/s]\n",
      "  2%|▏         | 2/108 [00:00<00:06, 16.79it/s]"
     ]
    },
    {
     "name": "stdout",
     "output_type": "stream",
     "text": [
      "T Loss: 0.2449 V Loss: 0.2560 V MCRMSE: 0.2572\n",
      "Best valid MCRMSE updated to 0.2571963667869568\n",
      "Epoch 12\n"
     ]
    },
    {
     "name": "stderr",
     "output_type": "stream",
     "text": [
      "100%|██████████| 108/108 [00:06<00:00, 16.69it/s]\n",
      "100%|██████████| 21/21 [00:00<00:00, 47.28it/s]\n",
      "  2%|▏         | 2/108 [00:00<00:06, 16.76it/s]"
     ]
    },
    {
     "name": "stdout",
     "output_type": "stream",
     "text": [
      "T Loss: 0.2409 V Loss: 0.2544 V MCRMSE: 0.2557\n",
      "Best valid MCRMSE updated to 0.25567564368247986\n",
      "Epoch 13\n"
     ]
    },
    {
     "name": "stderr",
     "output_type": "stream",
     "text": [
      "100%|██████████| 108/108 [00:06<00:00, 16.72it/s]\n",
      "100%|██████████| 21/21 [00:00<00:00, 47.07it/s]\n",
      "  2%|▏         | 2/108 [00:00<00:06, 16.85it/s]"
     ]
    },
    {
     "name": "stdout",
     "output_type": "stream",
     "text": [
      "T Loss: 0.2392 V Loss: 0.2540 V MCRMSE: 0.2562\n",
      "Epoch 14\n"
     ]
    },
    {
     "name": "stderr",
     "output_type": "stream",
     "text": [
      "100%|██████████| 108/108 [00:06<00:00, 16.69it/s]\n",
      "100%|██████████| 21/21 [00:00<00:00, 47.47it/s]\n",
      "  2%|▏         | 2/108 [00:00<00:06, 16.87it/s]"
     ]
    },
    {
     "name": "stdout",
     "output_type": "stream",
     "text": [
      "T Loss: 0.2376 V Loss: 0.2522 V MCRMSE: 0.2539\n",
      "Best valid MCRMSE updated to 0.2538580298423767\n",
      "Epoch 15\n"
     ]
    },
    {
     "name": "stderr",
     "output_type": "stream",
     "text": [
      "100%|██████████| 108/108 [00:06<00:00, 16.74it/s]\n",
      "100%|██████████| 21/21 [00:00<00:00, 47.30it/s]\n",
      "  2%|▏         | 2/108 [00:00<00:06, 16.82it/s]"
     ]
    },
    {
     "name": "stdout",
     "output_type": "stream",
     "text": [
      "T Loss: 0.2342 V Loss: 0.2497 V MCRMSE: 0.2515\n",
      "Best valid MCRMSE updated to 0.25152018666267395\n",
      "Epoch 16\n"
     ]
    },
    {
     "name": "stderr",
     "output_type": "stream",
     "text": [
      "100%|██████████| 108/108 [00:06<00:00, 16.71it/s]\n",
      "100%|██████████| 21/21 [00:00<00:00, 47.24it/s]\n",
      "  2%|▏         | 2/108 [00:00<00:06, 16.91it/s]"
     ]
    },
    {
     "name": "stdout",
     "output_type": "stream",
     "text": [
      "T Loss: 0.2321 V Loss: 0.2489 V MCRMSE: 0.2503\n",
      "Best valid MCRMSE updated to 0.2503361105918884\n",
      "Epoch 17\n"
     ]
    },
    {
     "name": "stderr",
     "output_type": "stream",
     "text": [
      "100%|██████████| 108/108 [00:06<00:00, 16.71it/s]\n",
      "100%|██████████| 21/21 [00:00<00:00, 47.45it/s]\n",
      "  2%|▏         | 2/108 [00:00<00:06, 16.86it/s]"
     ]
    },
    {
     "name": "stdout",
     "output_type": "stream",
     "text": [
      "T Loss: 0.2307 V Loss: 0.2476 V MCRMSE: 0.2487\n",
      "Best valid MCRMSE updated to 0.2486577033996582\n",
      "Epoch 18\n"
     ]
    },
    {
     "name": "stderr",
     "output_type": "stream",
     "text": [
      "100%|██████████| 108/108 [00:06<00:00, 16.71it/s]\n",
      "100%|██████████| 21/21 [00:00<00:00, 46.89it/s]\n",
      "  2%|▏         | 2/108 [00:00<00:06, 16.74it/s]"
     ]
    },
    {
     "name": "stdout",
     "output_type": "stream",
     "text": [
      "T Loss: 0.2285 V Loss: 0.2472 V MCRMSE: 0.2489\n",
      "Epoch 19\n"
     ]
    },
    {
     "name": "stderr",
     "output_type": "stream",
     "text": [
      "100%|██████████| 108/108 [00:06<00:00, 16.70it/s]\n",
      "100%|██████████| 21/21 [00:00<00:00, 47.47it/s]\n",
      "  2%|▏         | 2/108 [00:00<00:06, 16.39it/s]"
     ]
    },
    {
     "name": "stdout",
     "output_type": "stream",
     "text": [
      "T Loss: 0.2270 V Loss: 0.2455 V MCRMSE: 0.2470\n",
      "Best valid MCRMSE updated to 0.24695995450019836\n",
      "Epoch 20\n"
     ]
    },
    {
     "name": "stderr",
     "output_type": "stream",
     "text": [
      "100%|██████████| 108/108 [00:06<00:00, 16.38it/s]\n",
      "100%|██████████| 21/21 [00:00<00:00, 46.86it/s]\n",
      "  2%|▏         | 2/108 [00:00<00:06, 16.74it/s]"
     ]
    },
    {
     "name": "stdout",
     "output_type": "stream",
     "text": [
      "T Loss: 0.2242 V Loss: 0.2452 V MCRMSE: 0.2462\n",
      "Best valid MCRMSE updated to 0.2461862564086914\n",
      "Epoch 21\n"
     ]
    },
    {
     "name": "stderr",
     "output_type": "stream",
     "text": [
      "100%|██████████| 108/108 [00:06<00:00, 16.68it/s]\n",
      "100%|██████████| 21/21 [00:00<00:00, 47.11it/s]\n",
      "  2%|▏         | 2/108 [00:00<00:06, 16.85it/s]"
     ]
    },
    {
     "name": "stdout",
     "output_type": "stream",
     "text": [
      "T Loss: 0.2220 V Loss: 0.2478 V MCRMSE: 0.2496\n",
      "Epoch 22\n"
     ]
    },
    {
     "name": "stderr",
     "output_type": "stream",
     "text": [
      "100%|██████████| 108/108 [00:06<00:00, 16.74it/s]\n",
      "100%|██████████| 21/21 [00:00<00:00, 46.67it/s]\n",
      "  2%|▏         | 2/108 [00:00<00:06, 16.80it/s]"
     ]
    },
    {
     "name": "stdout",
     "output_type": "stream",
     "text": [
      "T Loss: 0.2201 V Loss: 0.2440 V MCRMSE: 0.2451\n",
      "Best valid MCRMSE updated to 0.24510395526885986\n",
      "Epoch 23\n"
     ]
    },
    {
     "name": "stderr",
     "output_type": "stream",
     "text": [
      "100%|██████████| 108/108 [00:06<00:00, 16.90it/s]\n",
      "100%|██████████| 21/21 [00:00<00:00, 47.36it/s]\n",
      "  2%|▏         | 2/108 [00:00<00:06, 16.79it/s]"
     ]
    },
    {
     "name": "stdout",
     "output_type": "stream",
     "text": [
      "T Loss: 0.2189 V Loss: 0.2437 V MCRMSE: 0.2453\n",
      "Epoch 24\n"
     ]
    },
    {
     "name": "stderr",
     "output_type": "stream",
     "text": [
      "100%|██████████| 108/108 [00:06<00:00, 16.73it/s]\n",
      "100%|██████████| 21/21 [00:00<00:00, 47.19it/s]\n",
      "  2%|▏         | 2/108 [00:00<00:06, 16.91it/s]"
     ]
    },
    {
     "name": "stdout",
     "output_type": "stream",
     "text": [
      "T Loss: 0.2178 V Loss: 0.2457 V MCRMSE: 0.2470\n",
      "Epoch 25\n"
     ]
    },
    {
     "name": "stderr",
     "output_type": "stream",
     "text": [
      "100%|██████████| 108/108 [00:06<00:00, 16.70it/s]\n",
      "100%|██████████| 21/21 [00:00<00:00, 47.38it/s]\n",
      "  2%|▏         | 2/108 [00:00<00:06, 16.78it/s]"
     ]
    },
    {
     "name": "stdout",
     "output_type": "stream",
     "text": [
      "T Loss: 0.2160 V Loss: 0.2425 V MCRMSE: 0.2437\n",
      "Best valid MCRMSE updated to 0.24367330968379974\n",
      "Epoch 26\n"
     ]
    },
    {
     "name": "stderr",
     "output_type": "stream",
     "text": [
      "100%|██████████| 108/108 [00:06<00:00, 16.71it/s]\n",
      "100%|██████████| 21/21 [00:00<00:00, 47.48it/s]\n",
      "  2%|▏         | 2/108 [00:00<00:06, 16.87it/s]"
     ]
    },
    {
     "name": "stdout",
     "output_type": "stream",
     "text": [
      "T Loss: 0.2141 V Loss: 0.2470 V MCRMSE: 0.2483\n",
      "Epoch 27\n"
     ]
    },
    {
     "name": "stderr",
     "output_type": "stream",
     "text": [
      "100%|██████████| 108/108 [00:06<00:00, 16.71it/s]\n",
      "100%|██████████| 21/21 [00:00<00:00, 47.04it/s]\n",
      "  2%|▏         | 2/108 [00:00<00:06, 16.84it/s]"
     ]
    },
    {
     "name": "stdout",
     "output_type": "stream",
     "text": [
      "T Loss: 0.2133 V Loss: 0.2457 V MCRMSE: 0.2472\n",
      "Epoch 28\n"
     ]
    },
    {
     "name": "stderr",
     "output_type": "stream",
     "text": [
      "100%|██████████| 108/108 [00:06<00:00, 16.64it/s]\n",
      "100%|██████████| 21/21 [00:00<00:00, 47.03it/s]\n",
      "  2%|▏         | 2/108 [00:00<00:06, 16.67it/s]"
     ]
    },
    {
     "name": "stdout",
     "output_type": "stream",
     "text": [
      "T Loss: 0.2110 V Loss: 0.2422 V MCRMSE: 0.2438\n",
      "Epoch 29\n"
     ]
    },
    {
     "name": "stderr",
     "output_type": "stream",
     "text": [
      "100%|██████████| 108/108 [00:06<00:00, 16.69it/s]\n",
      "100%|██████████| 21/21 [00:00<00:00, 46.99it/s]\n",
      "  2%|▏         | 2/108 [00:00<00:06, 16.90it/s]"
     ]
    },
    {
     "name": "stdout",
     "output_type": "stream",
     "text": [
      "T Loss: 0.2095 V Loss: 0.2403 V MCRMSE: 0.2417\n",
      "Best valid MCRMSE updated to 0.24174457788467407\n",
      "Epoch 30\n"
     ]
    },
    {
     "name": "stderr",
     "output_type": "stream",
     "text": [
      "100%|██████████| 108/108 [00:06<00:00, 16.69it/s]\n",
      "100%|██████████| 21/21 [00:00<00:00, 47.16it/s]\n",
      "  2%|▏         | 2/108 [00:00<00:06, 16.90it/s]"
     ]
    },
    {
     "name": "stdout",
     "output_type": "stream",
     "text": [
      "T Loss: 0.2093 V Loss: 0.2411 V MCRMSE: 0.2429\n",
      "Epoch 31\n"
     ]
    },
    {
     "name": "stderr",
     "output_type": "stream",
     "text": [
      "100%|██████████| 108/108 [00:06<00:00, 16.74it/s]\n",
      "100%|██████████| 21/21 [00:00<00:00, 46.77it/s]\n",
      "  2%|▏         | 2/108 [00:00<00:06, 16.61it/s]"
     ]
    },
    {
     "name": "stdout",
     "output_type": "stream",
     "text": [
      "T Loss: 0.2069 V Loss: 0.2435 V MCRMSE: 0.2454\n",
      "Epoch 32\n"
     ]
    },
    {
     "name": "stderr",
     "output_type": "stream",
     "text": [
      "100%|██████████| 108/108 [00:06<00:00, 16.70it/s]\n",
      "100%|██████████| 21/21 [00:00<00:00, 47.24it/s]\n",
      "  2%|▏         | 2/108 [00:00<00:06, 16.85it/s]"
     ]
    },
    {
     "name": "stdout",
     "output_type": "stream",
     "text": [
      "T Loss: 0.2060 V Loss: 0.2406 V MCRMSE: 0.2423\n",
      "Epoch 33\n"
     ]
    },
    {
     "name": "stderr",
     "output_type": "stream",
     "text": [
      "100%|██████████| 108/108 [00:06<00:00, 16.66it/s]\n",
      "100%|██████████| 21/21 [00:00<00:00, 45.97it/s]\n",
      "  2%|▏         | 2/108 [00:00<00:06, 16.66it/s]"
     ]
    },
    {
     "name": "stdout",
     "output_type": "stream",
     "text": [
      "T Loss: 0.2035 V Loss: 0.2385 V MCRMSE: 0.2402\n",
      "Best valid MCRMSE updated to 0.24024665355682373\n",
      "Epoch 34\n"
     ]
    },
    {
     "name": "stderr",
     "output_type": "stream",
     "text": [
      "100%|██████████| 108/108 [00:06<00:00, 16.65it/s]\n",
      "100%|██████████| 21/21 [00:00<00:00, 47.62it/s]\n",
      "  2%|▏         | 2/108 [00:00<00:06, 16.87it/s]"
     ]
    },
    {
     "name": "stdout",
     "output_type": "stream",
     "text": [
      "T Loss: 0.2035 V Loss: 0.2388 V MCRMSE: 0.2403\n",
      "Epoch 35\n"
     ]
    },
    {
     "name": "stderr",
     "output_type": "stream",
     "text": [
      "100%|██████████| 108/108 [00:06<00:00, 16.74it/s]\n",
      "100%|██████████| 21/21 [00:00<00:00, 47.38it/s]\n",
      "  2%|▏         | 2/108 [00:00<00:06, 16.77it/s]"
     ]
    },
    {
     "name": "stdout",
     "output_type": "stream",
     "text": [
      "T Loss: 0.2016 V Loss: 0.2430 V MCRMSE: 0.2446\n",
      "Epoch 36\n"
     ]
    },
    {
     "name": "stderr",
     "output_type": "stream",
     "text": [
      "100%|██████████| 108/108 [00:06<00:00, 16.67it/s]\n",
      "100%|██████████| 21/21 [00:00<00:00, 47.37it/s]\n",
      "  2%|▏         | 2/108 [00:00<00:06, 16.84it/s]"
     ]
    },
    {
     "name": "stdout",
     "output_type": "stream",
     "text": [
      "T Loss: 0.1996 V Loss: 0.2395 V MCRMSE: 0.2415\n",
      "Epoch 37\n"
     ]
    },
    {
     "name": "stderr",
     "output_type": "stream",
     "text": [
      "100%|██████████| 108/108 [00:06<00:00, 16.67it/s]\n",
      "100%|██████████| 21/21 [00:00<00:00, 47.13it/s]\n",
      "  2%|▏         | 2/108 [00:00<00:06, 16.84it/s]"
     ]
    },
    {
     "name": "stdout",
     "output_type": "stream",
     "text": [
      "T Loss: 0.1991 V Loss: 0.2430 V MCRMSE: 0.2454\n",
      "Epoch 38\n"
     ]
    },
    {
     "name": "stderr",
     "output_type": "stream",
     "text": [
      "100%|██████████| 108/108 [00:06<00:00, 16.67it/s]\n",
      "100%|██████████| 21/21 [00:00<00:00, 47.17it/s]\n",
      "  2%|▏         | 2/108 [00:00<00:06, 16.83it/s]"
     ]
    },
    {
     "name": "stdout",
     "output_type": "stream",
     "text": [
      "T Loss: 0.1983 V Loss: 0.2389 V MCRMSE: 0.2402\n",
      "Best valid MCRMSE updated to 0.2401527762413025\n",
      "Epoch 39\n"
     ]
    },
    {
     "name": "stderr",
     "output_type": "stream",
     "text": [
      "100%|██████████| 108/108 [00:06<00:00, 16.65it/s]\n",
      "100%|██████████| 21/21 [00:00<00:00, 47.31it/s]\n",
      "  2%|▏         | 2/108 [00:00<00:06, 16.83it/s]"
     ]
    },
    {
     "name": "stdout",
     "output_type": "stream",
     "text": [
      "T Loss: 0.1968 V Loss: 0.2384 V MCRMSE: 0.2406\n",
      "Epoch 40\n"
     ]
    },
    {
     "name": "stderr",
     "output_type": "stream",
     "text": [
      "100%|██████████| 108/108 [00:06<00:00, 16.73it/s]\n",
      "100%|██████████| 21/21 [00:00<00:00, 47.37it/s]\n",
      "  2%|▏         | 2/108 [00:00<00:06, 16.88it/s]"
     ]
    },
    {
     "name": "stdout",
     "output_type": "stream",
     "text": [
      "T Loss: 0.1957 V Loss: 0.2386 V MCRMSE: 0.2401\n",
      "Best valid MCRMSE updated to 0.24009814858436584\n",
      "Epoch 41\n"
     ]
    },
    {
     "name": "stderr",
     "output_type": "stream",
     "text": [
      "100%|██████████| 108/108 [00:06<00:00, 16.72it/s]\n",
      "100%|██████████| 21/21 [00:00<00:00, 47.41it/s]\n",
      "  2%|▏         | 2/108 [00:00<00:06, 16.79it/s]"
     ]
    },
    {
     "name": "stdout",
     "output_type": "stream",
     "text": [
      "T Loss: 0.1953 V Loss: 0.2386 V MCRMSE: 0.2398\n",
      "Best valid MCRMSE updated to 0.2398395836353302\n",
      "Epoch 42\n"
     ]
    },
    {
     "name": "stderr",
     "output_type": "stream",
     "text": [
      "100%|██████████| 108/108 [00:06<00:00, 16.72it/s]\n",
      "100%|██████████| 21/21 [00:00<00:00, 47.17it/s]\n",
      "  2%|▏         | 2/108 [00:00<00:06, 16.92it/s]"
     ]
    },
    {
     "name": "stdout",
     "output_type": "stream",
     "text": [
      "T Loss: 0.1941 V Loss: 0.2380 V MCRMSE: 0.2392\n",
      "Best valid MCRMSE updated to 0.2391744703054428\n",
      "Epoch 43\n"
     ]
    },
    {
     "name": "stderr",
     "output_type": "stream",
     "text": [
      "100%|██████████| 108/108 [00:06<00:00, 16.72it/s]\n",
      "100%|██████████| 21/21 [00:00<00:00, 47.26it/s]\n",
      "  2%|▏         | 2/108 [00:00<00:06, 16.88it/s]"
     ]
    },
    {
     "name": "stdout",
     "output_type": "stream",
     "text": [
      "T Loss: 0.1923 V Loss: 0.2370 V MCRMSE: 0.2390\n",
      "Best valid MCRMSE updated to 0.23898421227931976\n",
      "Epoch 44\n"
     ]
    },
    {
     "name": "stderr",
     "output_type": "stream",
     "text": [
      "100%|██████████| 108/108 [00:06<00:00, 16.72it/s]\n",
      "100%|██████████| 21/21 [00:00<00:00, 46.48it/s]\n",
      "  2%|▏         | 2/108 [00:00<00:06, 16.71it/s]"
     ]
    },
    {
     "name": "stdout",
     "output_type": "stream",
     "text": [
      "T Loss: 0.1914 V Loss: 0.2376 V MCRMSE: 0.2391\n",
      "Epoch 45\n"
     ]
    },
    {
     "name": "stderr",
     "output_type": "stream",
     "text": [
      "100%|██████████| 108/108 [00:06<00:00, 16.69it/s]\n",
      "100%|██████████| 21/21 [00:00<00:00, 47.14it/s]\n",
      "  2%|▏         | 2/108 [00:00<00:06, 16.90it/s]"
     ]
    },
    {
     "name": "stdout",
     "output_type": "stream",
     "text": [
      "T Loss: 0.1894 V Loss: 0.2377 V MCRMSE: 0.2396\n",
      "Epoch 46\n"
     ]
    },
    {
     "name": "stderr",
     "output_type": "stream",
     "text": [
      "100%|██████████| 108/108 [00:06<00:00, 16.73it/s]\n",
      "100%|██████████| 21/21 [00:00<00:00, 47.37it/s]\n",
      "  2%|▏         | 2/108 [00:00<00:06, 16.78it/s]"
     ]
    },
    {
     "name": "stdout",
     "output_type": "stream",
     "text": [
      "T Loss: 0.1904 V Loss: 0.2417 V MCRMSE: 0.2435\n",
      "Epoch 47\n"
     ]
    },
    {
     "name": "stderr",
     "output_type": "stream",
     "text": [
      "100%|██████████| 108/108 [00:06<00:00, 16.70it/s]\n",
      "100%|██████████| 21/21 [00:00<00:00, 47.17it/s]\n",
      "  2%|▏         | 2/108 [00:00<00:06, 16.72it/s]"
     ]
    },
    {
     "name": "stdout",
     "output_type": "stream",
     "text": [
      "T Loss: 0.1883 V Loss: 0.2410 V MCRMSE: 0.2430\n",
      "Epoch 48\n"
     ]
    },
    {
     "name": "stderr",
     "output_type": "stream",
     "text": [
      "100%|██████████| 108/108 [00:06<00:00, 16.65it/s]\n",
      "100%|██████████| 21/21 [00:00<00:00, 47.08it/s]\n",
      "  2%|▏         | 2/108 [00:00<00:06, 16.72it/s]"
     ]
    },
    {
     "name": "stdout",
     "output_type": "stream",
     "text": [
      "T Loss: 0.1872 V Loss: 0.2419 V MCRMSE: 0.2435\n",
      "Epoch 49\n"
     ]
    },
    {
     "name": "stderr",
     "output_type": "stream",
     "text": [
      "100%|██████████| 108/108 [00:06<00:00, 16.71it/s]\n",
      "100%|██████████| 21/21 [00:00<00:00, 47.04it/s]\n",
      "  2%|▏         | 2/108 [00:00<00:06, 16.79it/s]"
     ]
    },
    {
     "name": "stdout",
     "output_type": "stream",
     "text": [
      "T Loss: 0.1874 V Loss: 0.2384 V MCRMSE: 0.2400\n",
      "Epoch 50\n"
     ]
    },
    {
     "name": "stderr",
     "output_type": "stream",
     "text": [
      "100%|██████████| 108/108 [00:06<00:00, 16.62it/s]\n",
      "100%|██████████| 21/21 [00:00<00:00, 47.44it/s]\n",
      "  2%|▏         | 2/108 [00:00<00:06, 16.84it/s]"
     ]
    },
    {
     "name": "stdout",
     "output_type": "stream",
     "text": [
      "T Loss: 0.1850 V Loss: 0.2382 V MCRMSE: 0.2399\n",
      "Epoch 51\n"
     ]
    },
    {
     "name": "stderr",
     "output_type": "stream",
     "text": [
      "100%|██████████| 108/108 [00:06<00:00, 16.70it/s]\n",
      "100%|██████████| 21/21 [00:00<00:00, 47.50it/s]\n",
      "  2%|▏         | 2/108 [00:00<00:06, 16.79it/s]"
     ]
    },
    {
     "name": "stdout",
     "output_type": "stream",
     "text": [
      "T Loss: 0.1852 V Loss: 0.2354 V MCRMSE: 0.2367\n",
      "Best valid MCRMSE updated to 0.23669354617595673\n",
      "Epoch 52\n"
     ]
    },
    {
     "name": "stderr",
     "output_type": "stream",
     "text": [
      "100%|██████████| 108/108 [00:06<00:00, 16.72it/s]\n",
      "100%|██████████| 21/21 [00:00<00:00, 47.66it/s]\n",
      "  2%|▏         | 2/108 [00:00<00:06, 16.86it/s]"
     ]
    },
    {
     "name": "stdout",
     "output_type": "stream",
     "text": [
      "T Loss: 0.1842 V Loss: 0.2359 V MCRMSE: 0.2379\n",
      "Epoch 53\n"
     ]
    },
    {
     "name": "stderr",
     "output_type": "stream",
     "text": [
      "100%|██████████| 108/108 [00:06<00:00, 16.73it/s]\n",
      "100%|██████████| 21/21 [00:00<00:00, 47.59it/s]\n",
      "  2%|▏         | 2/108 [00:00<00:06, 16.93it/s]"
     ]
    },
    {
     "name": "stdout",
     "output_type": "stream",
     "text": [
      "T Loss: 0.1833 V Loss: 0.2360 V MCRMSE: 0.2373\n",
      "Epoch 54\n"
     ]
    },
    {
     "name": "stderr",
     "output_type": "stream",
     "text": [
      "100%|██████████| 108/108 [00:06<00:00, 16.74it/s]\n",
      "100%|██████████| 21/21 [00:00<00:00, 47.61it/s]\n",
      "  2%|▏         | 2/108 [00:00<00:06, 16.95it/s]"
     ]
    },
    {
     "name": "stdout",
     "output_type": "stream",
     "text": [
      "T Loss: 0.1819 V Loss: 0.2362 V MCRMSE: 0.2384\n",
      "Epoch 55\n"
     ]
    },
    {
     "name": "stderr",
     "output_type": "stream",
     "text": [
      "100%|██████████| 108/108 [00:06<00:00, 16.75it/s]\n",
      "100%|██████████| 21/21 [00:00<00:00, 47.24it/s]\n",
      "  2%|▏         | 2/108 [00:00<00:06, 16.89it/s]"
     ]
    },
    {
     "name": "stdout",
     "output_type": "stream",
     "text": [
      "T Loss: 0.1817 V Loss: 0.2387 V MCRMSE: 0.2401\n",
      "Epoch 56\n"
     ]
    },
    {
     "name": "stderr",
     "output_type": "stream",
     "text": [
      "100%|██████████| 108/108 [00:06<00:00, 16.72it/s]\n",
      "100%|██████████| 21/21 [00:00<00:00, 47.60it/s]\n",
      "  2%|▏         | 2/108 [00:00<00:06, 16.83it/s]"
     ]
    },
    {
     "name": "stdout",
     "output_type": "stream",
     "text": [
      "T Loss: 0.1812 V Loss: 0.2360 V MCRMSE: 0.2377\n",
      "Epoch 57\n"
     ]
    },
    {
     "name": "stderr",
     "output_type": "stream",
     "text": [
      "100%|██████████| 108/108 [00:06<00:00, 16.71it/s]\n",
      "100%|██████████| 21/21 [00:00<00:00, 47.45it/s]\n",
      "  2%|▏         | 2/108 [00:00<00:06, 16.80it/s]"
     ]
    },
    {
     "name": "stdout",
     "output_type": "stream",
     "text": [
      "T Loss: 0.1799 V Loss: 0.2354 V MCRMSE: 0.2375\n",
      "Epoch 58\n"
     ]
    },
    {
     "name": "stderr",
     "output_type": "stream",
     "text": [
      "100%|██████████| 108/108 [00:06<00:00, 16.70it/s]\n",
      "100%|██████████| 21/21 [00:00<00:00, 47.45it/s]\n",
      "  2%|▏         | 2/108 [00:00<00:06, 16.85it/s]"
     ]
    },
    {
     "name": "stdout",
     "output_type": "stream",
     "text": [
      "T Loss: 0.1791 V Loss: 0.2379 V MCRMSE: 0.2396\n",
      "Epoch 59\n"
     ]
    },
    {
     "name": "stderr",
     "output_type": "stream",
     "text": [
      "100%|██████████| 108/108 [00:06<00:00, 16.70it/s]\n",
      "100%|██████████| 21/21 [00:00<00:00, 47.22it/s]\n",
      "  2%|▏         | 2/108 [00:00<00:06, 16.70it/s]"
     ]
    },
    {
     "name": "stdout",
     "output_type": "stream",
     "text": [
      "T Loss: 0.1792 V Loss: 0.2380 V MCRMSE: 0.2395\n",
      "Epoch 60\n"
     ]
    },
    {
     "name": "stderr",
     "output_type": "stream",
     "text": [
      "100%|██████████| 108/108 [00:06<00:00, 16.70it/s]\n",
      "100%|██████████| 21/21 [00:00<00:00, 47.67it/s]\n",
      "  2%|▏         | 2/108 [00:00<00:06, 16.89it/s]"
     ]
    },
    {
     "name": "stdout",
     "output_type": "stream",
     "text": [
      "T Loss: 0.1778 V Loss: 0.2363 V MCRMSE: 0.2381\n",
      "Epoch 61\n"
     ]
    },
    {
     "name": "stderr",
     "output_type": "stream",
     "text": [
      "100%|██████████| 108/108 [00:06<00:00, 16.74it/s]\n",
      "100%|██████████| 21/21 [00:00<00:00, 47.75it/s]\n",
      "  2%|▏         | 2/108 [00:00<00:06, 16.93it/s]"
     ]
    },
    {
     "name": "stdout",
     "output_type": "stream",
     "text": [
      "T Loss: 0.1772 V Loss: 0.2360 V MCRMSE: 0.2377\n",
      "Epoch 62\n"
     ]
    },
    {
     "name": "stderr",
     "output_type": "stream",
     "text": [
      "100%|██████████| 108/108 [00:06<00:00, 16.69it/s]\n",
      "100%|██████████| 21/21 [00:00<00:00, 47.36it/s]\n",
      "  2%|▏         | 2/108 [00:00<00:06, 16.89it/s]"
     ]
    },
    {
     "name": "stdout",
     "output_type": "stream",
     "text": [
      "T Loss: 0.1768 V Loss: 0.2352 V MCRMSE: 0.2366\n",
      "Best valid MCRMSE updated to 0.23656153678894043\n",
      "Epoch 63\n"
     ]
    },
    {
     "name": "stderr",
     "output_type": "stream",
     "text": [
      "100%|██████████| 108/108 [00:06<00:00, 16.72it/s]\n",
      "100%|██████████| 21/21 [00:00<00:00, 47.29it/s]\n",
      "  2%|▏         | 2/108 [00:00<00:06, 16.87it/s]"
     ]
    },
    {
     "name": "stdout",
     "output_type": "stream",
     "text": [
      "T Loss: 0.1754 V Loss: 0.2342 V MCRMSE: 0.2358\n",
      "Best valid MCRMSE updated to 0.23578527569770813\n",
      "Epoch 64\n"
     ]
    },
    {
     "name": "stderr",
     "output_type": "stream",
     "text": [
      "100%|██████████| 108/108 [00:06<00:00, 16.73it/s]\n",
      "100%|██████████| 21/21 [00:00<00:00, 46.87it/s]\n",
      "  2%|▏         | 2/108 [00:00<00:06, 16.86it/s]"
     ]
    },
    {
     "name": "stdout",
     "output_type": "stream",
     "text": [
      "T Loss: 0.1753 V Loss: 0.2356 V MCRMSE: 0.2374\n",
      "Epoch 65\n"
     ]
    },
    {
     "name": "stderr",
     "output_type": "stream",
     "text": [
      "100%|██████████| 108/108 [00:06<00:00, 16.70it/s]\n",
      "100%|██████████| 21/21 [00:00<00:00, 47.57it/s]\n",
      "  2%|▏         | 2/108 [00:00<00:06, 16.94it/s]"
     ]
    },
    {
     "name": "stdout",
     "output_type": "stream",
     "text": [
      "T Loss: 0.1743 V Loss: 0.2363 V MCRMSE: 0.2380\n",
      "Epoch 66\n"
     ]
    },
    {
     "name": "stderr",
     "output_type": "stream",
     "text": [
      "100%|██████████| 108/108 [00:06<00:00, 16.74it/s]\n",
      "100%|██████████| 21/21 [00:00<00:00, 47.01it/s]\n",
      "  2%|▏         | 2/108 [00:00<00:06, 16.76it/s]"
     ]
    },
    {
     "name": "stdout",
     "output_type": "stream",
     "text": [
      "T Loss: 0.1738 V Loss: 0.2363 V MCRMSE: 0.2377\n",
      "Epoch 67\n"
     ]
    },
    {
     "name": "stderr",
     "output_type": "stream",
     "text": [
      "100%|██████████| 108/108 [00:06<00:00, 16.73it/s]\n",
      "100%|██████████| 21/21 [00:00<00:00, 47.51it/s]\n",
      "  2%|▏         | 2/108 [00:00<00:06, 16.92it/s]"
     ]
    },
    {
     "name": "stdout",
     "output_type": "stream",
     "text": [
      "T Loss: 0.1737 V Loss: 0.2356 V MCRMSE: 0.2373\n",
      "Epoch 68\n"
     ]
    },
    {
     "name": "stderr",
     "output_type": "stream",
     "text": [
      "100%|██████████| 108/108 [00:06<00:00, 16.72it/s]\n",
      "100%|██████████| 21/21 [00:00<00:00, 47.61it/s]\n",
      "  2%|▏         | 2/108 [00:00<00:06, 16.86it/s]"
     ]
    },
    {
     "name": "stdout",
     "output_type": "stream",
     "text": [
      "T Loss: 0.1725 V Loss: 0.2354 V MCRMSE: 0.2372\n",
      "Epoch 69\n"
     ]
    },
    {
     "name": "stderr",
     "output_type": "stream",
     "text": [
      "100%|██████████| 108/108 [00:06<00:00, 16.72it/s]\n",
      "100%|██████████| 21/21 [00:00<00:00, 47.16it/s]\n",
      "  2%|▏         | 2/108 [00:00<00:06, 16.80it/s]"
     ]
    },
    {
     "name": "stdout",
     "output_type": "stream",
     "text": [
      "T Loss: 0.1720 V Loss: 0.2354 V MCRMSE: 0.2369\n",
      "Epoch 70\n"
     ]
    },
    {
     "name": "stderr",
     "output_type": "stream",
     "text": [
      "100%|██████████| 108/108 [00:06<00:00, 16.72it/s]\n",
      "100%|██████████| 21/21 [00:00<00:00, 47.28it/s]\n",
      "  2%|▏         | 2/108 [00:00<00:06, 16.77it/s]"
     ]
    },
    {
     "name": "stdout",
     "output_type": "stream",
     "text": [
      "T Loss: 0.1711 V Loss: 0.2361 V MCRMSE: 0.2376\n",
      "Epoch 71\n"
     ]
    },
    {
     "name": "stderr",
     "output_type": "stream",
     "text": [
      "100%|██████████| 108/108 [00:06<00:00, 16.72it/s]\n",
      "100%|██████████| 21/21 [00:00<00:00, 47.80it/s]\n",
      "  2%|▏         | 2/108 [00:00<00:06, 16.83it/s]"
     ]
    },
    {
     "name": "stdout",
     "output_type": "stream",
     "text": [
      "T Loss: 0.1711 V Loss: 0.2379 V MCRMSE: 0.2398\n",
      "Epoch 72\n"
     ]
    },
    {
     "name": "stderr",
     "output_type": "stream",
     "text": [
      "100%|██████████| 108/108 [00:06<00:00, 16.72it/s]\n",
      "100%|██████████| 21/21 [00:00<00:00, 47.76it/s]\n",
      "  2%|▏         | 2/108 [00:00<00:06, 16.89it/s]"
     ]
    },
    {
     "name": "stdout",
     "output_type": "stream",
     "text": [
      "T Loss: 0.1701 V Loss: 0.2346 V MCRMSE: 0.2363\n",
      "Epoch 73\n"
     ]
    },
    {
     "name": "stderr",
     "output_type": "stream",
     "text": [
      "100%|██████████| 108/108 [00:06<00:00, 16.75it/s]\n",
      "100%|██████████| 21/21 [00:00<00:00, 47.52it/s]\n",
      "  2%|▏         | 2/108 [00:00<00:06, 16.86it/s]"
     ]
    },
    {
     "name": "stdout",
     "output_type": "stream",
     "text": [
      "T Loss: 0.1710 V Loss: 0.2365 V MCRMSE: 0.2377\n",
      "Epoch 74\n"
     ]
    },
    {
     "name": "stderr",
     "output_type": "stream",
     "text": [
      "100%|██████████| 108/108 [00:06<00:00, 16.73it/s]\n",
      "100%|██████████| 21/21 [00:00<00:00, 47.65it/s]\n",
      "  2%|▏         | 2/108 [00:00<00:06, 16.94it/s]"
     ]
    },
    {
     "name": "stdout",
     "output_type": "stream",
     "text": [
      "T Loss: 0.1686 V Loss: 0.2368 V MCRMSE: 0.2385\n",
      "Epoch 75\n"
     ]
    },
    {
     "name": "stderr",
     "output_type": "stream",
     "text": [
      "100%|██████████| 108/108 [00:06<00:00, 16.73it/s]\n",
      "100%|██████████| 21/21 [00:00<00:00, 47.31it/s]\n",
      "  2%|▏         | 2/108 [00:00<00:06, 16.79it/s]"
     ]
    },
    {
     "name": "stdout",
     "output_type": "stream",
     "text": [
      "T Loss: 0.1691 V Loss: 0.2364 V MCRMSE: 0.2382\n",
      "Epoch 76\n"
     ]
    },
    {
     "name": "stderr",
     "output_type": "stream",
     "text": [
      "100%|██████████| 108/108 [00:06<00:00, 16.70it/s]\n",
      "100%|██████████| 21/21 [00:00<00:00, 47.03it/s]\n",
      "  2%|▏         | 2/108 [00:00<00:06, 16.90it/s]"
     ]
    },
    {
     "name": "stdout",
     "output_type": "stream",
     "text": [
      "T Loss: 0.1679 V Loss: 0.2342 V MCRMSE: 0.2364\n",
      "Epoch 77\n"
     ]
    },
    {
     "name": "stderr",
     "output_type": "stream",
     "text": [
      "100%|██████████| 108/108 [00:06<00:00, 16.74it/s]\n",
      "100%|██████████| 21/21 [00:00<00:00, 47.25it/s]\n",
      "  2%|▏         | 2/108 [00:00<00:06, 16.84it/s]"
     ]
    },
    {
     "name": "stdout",
     "output_type": "stream",
     "text": [
      "T Loss: 0.1680 V Loss: 0.2379 V MCRMSE: 0.2394\n",
      "Epoch 78\n"
     ]
    },
    {
     "name": "stderr",
     "output_type": "stream",
     "text": [
      "100%|██████████| 108/108 [00:06<00:00, 16.74it/s]\n",
      "100%|██████████| 21/21 [00:00<00:00, 47.40it/s]\n",
      "  2%|▏         | 2/108 [00:00<00:06, 16.90it/s]"
     ]
    },
    {
     "name": "stdout",
     "output_type": "stream",
     "text": [
      "T Loss: 0.1672 V Loss: 0.2364 V MCRMSE: 0.2384\n",
      "Epoch 79\n"
     ]
    },
    {
     "name": "stderr",
     "output_type": "stream",
     "text": [
      "100%|██████████| 108/108 [00:06<00:00, 16.72it/s]\n",
      "100%|██████████| 21/21 [00:00<00:00, 47.18it/s]\n",
      "  2%|▏         | 2/108 [00:00<00:06, 16.83it/s]"
     ]
    },
    {
     "name": "stdout",
     "output_type": "stream",
     "text": [
      "T Loss: 0.1664 V Loss: 0.2374 V MCRMSE: 0.2389\n",
      "Epoch 80\n"
     ]
    },
    {
     "name": "stderr",
     "output_type": "stream",
     "text": [
      "100%|██████████| 108/108 [00:06<00:00, 16.72it/s]\n",
      "100%|██████████| 21/21 [00:00<00:00, 47.08it/s]\n",
      "  2%|▏         | 2/108 [00:00<00:06, 16.82it/s]"
     ]
    },
    {
     "name": "stdout",
     "output_type": "stream",
     "text": [
      "T Loss: 0.1676 V Loss: 0.2337 V MCRMSE: 0.2357\n",
      "Best valid MCRMSE updated to 0.23573629558086395\n",
      "Epoch 81\n"
     ]
    },
    {
     "name": "stderr",
     "output_type": "stream",
     "text": [
      "100%|██████████| 108/108 [00:06<00:00, 16.66it/s]\n",
      "100%|██████████| 21/21 [00:00<00:00, 47.37it/s]\n",
      "  2%|▏         | 2/108 [00:00<00:06, 16.88it/s]"
     ]
    },
    {
     "name": "stdout",
     "output_type": "stream",
     "text": [
      "T Loss: 0.1673 V Loss: 0.2351 V MCRMSE: 0.2367\n",
      "Epoch 82\n"
     ]
    },
    {
     "name": "stderr",
     "output_type": "stream",
     "text": [
      "100%|██████████| 108/108 [00:06<00:00, 16.70it/s]\n",
      "100%|██████████| 21/21 [00:00<00:00, 47.30it/s]\n",
      "  2%|▏         | 2/108 [00:00<00:06, 16.80it/s]"
     ]
    },
    {
     "name": "stdout",
     "output_type": "stream",
     "text": [
      "T Loss: 0.1653 V Loss: 0.2360 V MCRMSE: 0.2379\n",
      "Epoch 83\n"
     ]
    },
    {
     "name": "stderr",
     "output_type": "stream",
     "text": [
      "100%|██████████| 108/108 [00:06<00:00, 16.68it/s]\n",
      "100%|██████████| 21/21 [00:00<00:00, 47.50it/s]\n",
      "  2%|▏         | 2/108 [00:00<00:06, 17.00it/s]"
     ]
    },
    {
     "name": "stdout",
     "output_type": "stream",
     "text": [
      "T Loss: 0.1657 V Loss: 0.2370 V MCRMSE: 0.2387\n",
      "Epoch 84\n"
     ]
    },
    {
     "name": "stderr",
     "output_type": "stream",
     "text": [
      "100%|██████████| 108/108 [00:06<00:00, 16.71it/s]\n",
      "100%|██████████| 21/21 [00:00<00:00, 47.54it/s]\n",
      "  2%|▏         | 2/108 [00:00<00:06, 16.87it/s]"
     ]
    },
    {
     "name": "stdout",
     "output_type": "stream",
     "text": [
      "T Loss: 0.1641 V Loss: 0.2381 V MCRMSE: 0.2393\n",
      "Epoch 85\n"
     ]
    },
    {
     "name": "stderr",
     "output_type": "stream",
     "text": [
      "100%|██████████| 108/108 [00:06<00:00, 16.74it/s]\n",
      "100%|██████████| 21/21 [00:00<00:00, 47.77it/s]\n",
      "  2%|▏         | 2/108 [00:00<00:06, 16.92it/s]"
     ]
    },
    {
     "name": "stdout",
     "output_type": "stream",
     "text": [
      "T Loss: 0.1639 V Loss: 0.2353 V MCRMSE: 0.2369\n",
      "Epoch 86\n"
     ]
    },
    {
     "name": "stderr",
     "output_type": "stream",
     "text": [
      "100%|██████████| 108/108 [00:06<00:00, 16.73it/s]\n",
      "100%|██████████| 21/21 [00:00<00:00, 46.96it/s]\n",
      "  2%|▏         | 2/108 [00:00<00:06, 16.67it/s]"
     ]
    },
    {
     "name": "stdout",
     "output_type": "stream",
     "text": [
      "T Loss: 0.1630 V Loss: 0.2375 V MCRMSE: 0.2388\n",
      "Epoch 87\n"
     ]
    },
    {
     "name": "stderr",
     "output_type": "stream",
     "text": [
      "100%|██████████| 108/108 [00:06<00:00, 16.69it/s]\n",
      "100%|██████████| 21/21 [00:00<00:00, 47.44it/s]\n",
      "  2%|▏         | 2/108 [00:00<00:06, 16.85it/s]"
     ]
    },
    {
     "name": "stdout",
     "output_type": "stream",
     "text": [
      "T Loss: 0.1625 V Loss: 0.2358 V MCRMSE: 0.2374\n",
      "Epoch 88\n"
     ]
    },
    {
     "name": "stderr",
     "output_type": "stream",
     "text": [
      "100%|██████████| 108/108 [00:06<00:00, 16.74it/s]\n",
      "100%|██████████| 21/21 [00:00<00:00, 47.38it/s]\n",
      "  2%|▏         | 2/108 [00:00<00:06, 16.91it/s]"
     ]
    },
    {
     "name": "stdout",
     "output_type": "stream",
     "text": [
      "T Loss: 0.1629 V Loss: 0.2384 V MCRMSE: 0.2400\n",
      "Epoch 89\n"
     ]
    },
    {
     "name": "stderr",
     "output_type": "stream",
     "text": [
      "100%|██████████| 108/108 [00:06<00:00, 16.71it/s]\n",
      "100%|██████████| 21/21 [00:00<00:00, 47.26it/s]\n",
      "  2%|▏         | 2/108 [00:00<00:06, 16.90it/s]"
     ]
    },
    {
     "name": "stdout",
     "output_type": "stream",
     "text": [
      "T Loss: 0.1619 V Loss: 0.2350 V MCRMSE: 0.2363\n",
      "Epoch 90\n"
     ]
    },
    {
     "name": "stderr",
     "output_type": "stream",
     "text": [
      "100%|██████████| 108/108 [00:06<00:00, 16.73it/s]\n",
      "100%|██████████| 21/21 [00:00<00:00, 47.58it/s]\n",
      "  2%|▏         | 2/108 [00:00<00:06, 16.93it/s]"
     ]
    },
    {
     "name": "stdout",
     "output_type": "stream",
     "text": [
      "T Loss: 0.1615 V Loss: 0.2366 V MCRMSE: 0.2378\n",
      "Epoch 91\n"
     ]
    },
    {
     "name": "stderr",
     "output_type": "stream",
     "text": [
      "100%|██████████| 108/108 [00:06<00:00, 16.73it/s]\n",
      "100%|██████████| 21/21 [00:00<00:00, 47.27it/s]\n",
      "  2%|▏         | 2/108 [00:00<00:06, 16.82it/s]"
     ]
    },
    {
     "name": "stdout",
     "output_type": "stream",
     "text": [
      "T Loss: 0.1620 V Loss: 0.2358 V MCRMSE: 0.2374\n",
      "Epoch 92\n"
     ]
    },
    {
     "name": "stderr",
     "output_type": "stream",
     "text": [
      "100%|██████████| 108/108 [00:06<00:00, 16.65it/s]\n",
      "100%|██████████| 21/21 [00:00<00:00, 46.46it/s]\n",
      "  2%|▏         | 2/108 [00:00<00:06, 16.70it/s]"
     ]
    },
    {
     "name": "stdout",
     "output_type": "stream",
     "text": [
      "T Loss: 0.1609 V Loss: 0.2355 V MCRMSE: 0.2371\n",
      "Epoch 93\n"
     ]
    },
    {
     "name": "stderr",
     "output_type": "stream",
     "text": [
      "100%|██████████| 108/108 [00:06<00:00, 16.65it/s]\n",
      "100%|██████████| 21/21 [00:00<00:00, 47.06it/s]\n",
      "  2%|▏         | 2/108 [00:00<00:06, 16.73it/s]"
     ]
    },
    {
     "name": "stdout",
     "output_type": "stream",
     "text": [
      "T Loss: 0.1594 V Loss: 0.2353 V MCRMSE: 0.2372\n",
      "Epoch 94\n"
     ]
    },
    {
     "name": "stderr",
     "output_type": "stream",
     "text": [
      "100%|██████████| 108/108 [00:06<00:00, 16.74it/s]\n",
      "100%|██████████| 21/21 [00:00<00:00, 47.63it/s]\n",
      "  2%|▏         | 2/108 [00:00<00:06, 16.85it/s]"
     ]
    },
    {
     "name": "stdout",
     "output_type": "stream",
     "text": [
      "T Loss: 0.1598 V Loss: 0.2383 V MCRMSE: 0.2398\n",
      "Epoch 95\n"
     ]
    },
    {
     "name": "stderr",
     "output_type": "stream",
     "text": [
      "100%|██████████| 108/108 [00:06<00:00, 16.77it/s]\n",
      "100%|██████████| 21/21 [00:00<00:00, 47.37it/s]\n",
      "  2%|▏         | 2/108 [00:00<00:06, 16.70it/s]"
     ]
    },
    {
     "name": "stdout",
     "output_type": "stream",
     "text": [
      "T Loss: 0.1597 V Loss: 0.2373 V MCRMSE: 0.2390\n",
      "Epoch 96\n"
     ]
    },
    {
     "name": "stderr",
     "output_type": "stream",
     "text": [
      "100%|██████████| 108/108 [00:06<00:00, 16.73it/s]\n",
      "100%|██████████| 21/21 [00:00<00:00, 47.19it/s]\n",
      "  2%|▏         | 2/108 [00:00<00:06, 16.82it/s]"
     ]
    },
    {
     "name": "stdout",
     "output_type": "stream",
     "text": [
      "T Loss: 0.1589 V Loss: 0.2342 V MCRMSE: 0.2359\n",
      "Epoch 97\n"
     ]
    },
    {
     "name": "stderr",
     "output_type": "stream",
     "text": [
      "100%|██████████| 108/108 [00:06<00:00, 16.76it/s]\n",
      "100%|██████████| 21/21 [00:00<00:00, 47.31it/s]\n",
      "  2%|▏         | 2/108 [00:00<00:06, 16.96it/s]"
     ]
    },
    {
     "name": "stdout",
     "output_type": "stream",
     "text": [
      "T Loss: 0.1586 V Loss: 0.2355 V MCRMSE: 0.2371\n",
      "Epoch 98\n"
     ]
    },
    {
     "name": "stderr",
     "output_type": "stream",
     "text": [
      "100%|██████████| 108/108 [00:06<00:00, 16.74it/s]\n",
      "100%|██████████| 21/21 [00:00<00:00, 47.60it/s]\n",
      "  2%|▏         | 2/108 [00:00<00:06, 16.98it/s]"
     ]
    },
    {
     "name": "stdout",
     "output_type": "stream",
     "text": [
      "T Loss: 0.1590 V Loss: 0.2359 V MCRMSE: 0.2373\n",
      "Epoch 99\n"
     ]
    },
    {
     "name": "stderr",
     "output_type": "stream",
     "text": [
      "100%|██████████| 108/108 [00:06<00:00, 16.85it/s]\n",
      "100%|██████████| 21/21 [00:00<00:00, 46.99it/s]"
     ]
    },
    {
     "name": "stdout",
     "output_type": "stream",
     "text": [
      "T Loss: 0.1579 V Loss: 0.2363 V MCRMSE: 0.2381\n"
     ]
    },
    {
     "name": "stderr",
     "output_type": "stream",
     "text": [
      "\n"
     ]
    }
   ],
   "source": [
    "best_state_fold0 = train_fold(model, loader_train, loader_valid, optimizer, criterion, 100, device)"
   ]
  },
  {
   "cell_type": "code",
   "execution_count": null,
   "metadata": {},
   "outputs": [],
   "source": [
    "train = pd.read_json(\"data/train.json\", lines=True)\n",
    "cond = train.SN_filter == 1"
   ]
  },
  {
   "cell_type": "code",
   "execution_count": null,
   "metadata": {},
   "outputs": [],
   "source": [
    "tr1 = train.loc[cond]\n",
    "tr2 = train.loc[~cond]"
   ]
  },
  {
   "cell_type": "code",
   "execution_count": null,
   "metadata": {},
   "outputs": [],
   "source": [
    "e1 = np.vstack(tr1[\"reactivity_error\"].values)\n",
    "e2 = np.vstack(tr1[\"deg_error_Mg_50C\"].values)\n",
    "e3 = np.vstack(tr1[\"deg_error_Mg_pH10\"].values)"
   ]
  },
  {
   "cell_type": "code",
   "execution_count": null,
   "metadata": {},
   "outputs": [],
   "source": [
    "pd.Series(e1.flatten()).describe()"
   ]
  },
  {
   "cell_type": "code",
   "execution_count": null,
   "metadata": {},
   "outputs": [],
   "source": [
    "pd.Series(e2.flatten()).describe()"
   ]
  },
  {
   "cell_type": "code",
   "execution_count": null,
   "metadata": {},
   "outputs": [],
   "source": [
    "pd.Series(e3.flatten()).describe()"
   ]
  },
  {
   "cell_type": "code",
   "execution_count": null,
   "metadata": {},
   "outputs": [],
   "source": [
    "(e1 > 0.5).sum()"
   ]
  },
  {
   "cell_type": "code",
   "execution_count": null,
   "metadata": {},
   "outputs": [],
   "source": [
    "pd.Series(e1.mean(1).flatten()).describe()"
   ]
  },
  {
   "cell_type": "code",
   "execution_count": null,
   "metadata": {},
   "outputs": [],
   "source": [
    "pd.Series(e2.mean(1).flatten()).describe()"
   ]
  },
  {
   "cell_type": "code",
   "execution_count": null,
   "metadata": {},
   "outputs": [],
   "source": [
    "pd.Series(e3.mean(1).flatten()).describe()"
   ]
  },
  {
   "cell_type": "code",
   "execution_count": 84,
   "metadata": {},
   "outputs": [
    {
     "data": {
      "text/plain": [
       "(1589, 68, 3)"
      ]
     },
     "execution_count": 84,
     "metadata": {},
     "output_type": "execute_result"
    }
   ],
   "source": [
    "e = np.dstack((e1, e2, e3))\n",
    "e.shape"
   ]
  },
  {
   "cell_type": "code",
   "execution_count": 85,
   "metadata": {},
   "outputs": [
    {
     "data": {
      "text/plain": [
       "count    1589.000000\n",
       "mean        0.103780\n",
       "std         0.065435\n",
       "min         0.024189\n",
       "25%         0.063739\n",
       "50%         0.083505\n",
       "75%         0.118433\n",
       "max         0.598469\n",
       "dtype: float64"
      ]
     },
     "execution_count": 85,
     "metadata": {},
     "output_type": "execute_result"
    }
   ],
   "source": [
    "pd.Series(e.mean(1).mean(1)).describe()"
   ]
  },
  {
   "cell_type": "code",
   "execution_count": 86,
   "metadata": {},
   "outputs": [
    {
     "data": {
      "text/plain": [
       "count    1589.000000\n",
       "mean        5.402215\n",
       "std         2.524798\n",
       "min         0.993000\n",
       "25%         3.484000\n",
       "50%         5.222000\n",
       "75%         6.853000\n",
       "max        17.194000\n",
       "Name: signal_to_noise, dtype: float64"
      ]
     },
     "execution_count": 86,
     "metadata": {},
     "output_type": "execute_result"
    }
   ],
   "source": [
    "snr = tr1[\"signal_to_noise\"]\n",
    "snr.describe()"
   ]
  },
  {
   "cell_type": "code",
   "execution_count": 87,
   "metadata": {},
   "outputs": [
    {
     "data": {
      "text/plain": [
       "count       811.000000\n",
       "mean       8630.316650\n",
       "std       29131.240267\n",
       "min           0.034662\n",
       "25%           0.088635\n",
       "50%           0.195730\n",
       "75%           0.641706\n",
       "max      140637.240300\n",
       "dtype: float64"
      ]
     },
     "execution_count": 87,
     "metadata": {},
     "output_type": "execute_result"
    }
   ],
   "source": [
    "e1 = np.vstack(tr2[\"reactivity_error\"].values)\n",
    "e2 = np.vstack(tr2[\"deg_error_Mg_50C\"].values)\n",
    "e3 = np.vstack(tr2[\"deg_error_Mg_pH10\"].values)\n",
    "e = np.dstack((e1, e2, e3))\n",
    "pd.Series(e.mean(1).mean(1)).describe()"
   ]
  },
  {
   "cell_type": "code",
   "execution_count": null,
   "metadata": {},
   "outputs": [],
   "source": []
  },
  {
   "cell_type": "code",
   "execution_count": 89,
   "metadata": {},
   "outputs": [
    {
     "data": {
      "text/plain": [
       "211"
      ]
     },
     "execution_count": 89,
     "metadata": {},
     "output_type": "execute_result"
    }
   ],
   "source": [
    "e1 = np.vstack(train[\"reactivity_error\"].values)\n",
    "e2 = np.vstack(train[\"deg_error_Mg_50C\"].values)\n",
    "e3 = np.vstack(train[\"deg_error_Mg_pH10\"].values)\n",
    "e = np.dstack((e1, e2, e3))\n",
    "sum(e.mean(1).mean(1) > 0.6)"
   ]
  },
  {
   "cell_type": "code",
   "execution_count": null,
   "metadata": {},
   "outputs": [],
   "source": []
  }
 ],
 "metadata": {
  "kernelspec": {
   "display_name": "Python 3",
   "language": "python",
   "name": "python3"
  },
  "language_info": {
   "codemirror_mode": {
    "name": "ipython",
    "version": 3
   },
   "file_extension": ".py",
   "mimetype": "text/x-python",
   "name": "python",
   "nbconvert_exporter": "python",
   "pygments_lexer": "ipython3",
   "version": "3.8.3"
  }
 },
 "nbformat": 4,
 "nbformat_minor": 4
}
